{
 "cells": [
  {
   "cell_type": "code",
   "execution_count": 1,
   "metadata": {},
   "outputs": [],
   "source": [
    "import pandas as pd\n",
    "import numpy as np\n",
    "import os\n",
    "import datetime as dt\n",
    "import joblib\n",
    "\n",
    "import xgboost as xgb\n",
    "from sklearn.model_selection import TimeSeriesSplit, GridSearchCV"
   ]
  },
  {
   "cell_type": "markdown",
   "metadata": {},
   "source": [
    "### __Data prep__"
   ]
  },
  {
   "cell_type": "code",
   "execution_count": 2,
   "metadata": {},
   "outputs": [],
   "source": [
    "def time_columns(df):\n",
    "    \n",
    "    df.loc[:,\"minute\"] = df.index.minute\n",
    "    df[\"hour\"] = df.index.hour\n",
    "    df[\"weekday\"] = np.where(df.index.weekday < 5, 0, 1)\n",
    "    df[\"month\"] = df.index.month\n",
    "    df[\"year\"] = df.index.year\n",
    "\n",
    "    df['minute_sin'] = np.sin(2 * np.pi * df.loc[:,'minute']/60.0)\n",
    "    df['minute_cos'] = np.cos(2 * np.pi * df.loc[:,'minute']/60.0)\n",
    "\n",
    "    df['hour_sin'] = np.sin(2 * np.pi * df.loc[:,'hour']/24.0)\n",
    "    df['hour_cos'] = np.cos(2 * np.pi * df.loc[:,'hour']/24.0)\n",
    "    \n",
    "    df['weekday_sin'] = np.sin(2 * np.pi * df.loc[:,'weekday']/7.0)\n",
    "    \n",
    "    df['month_sin'] = np.sin(2 * np.pi * df.loc[:,'month']/12.0)\n",
    "    df['month_cos'] = np.cos(2 * np.pi * df.loc[:,'month']/12.0)\n",
    "    \n",
    "    df['year_sin'] = np.sin(2 * np.pi * df.loc[:,'year']/11.0)\n",
    "    df['year_cos'] = np.cos(2 * np.pi * df.loc[:,'year']/11.0)\n",
    "\n",
    "    df.drop(columns=[\"Price\", \"minute\", \"weekday\", \"hour\", \"month\"], inplace=True)\n",
    "    \n",
    "    return df"
   ]
  },
  {
   "cell_type": "code",
   "execution_count": 3,
   "metadata": {},
   "outputs": [],
   "source": [
    "def lag_horizon(df, lag, horizon):\n",
    "    '''\n",
    "    Returns dataset with additional features defined by lag and modified target defined by horizon\n",
    "    lag=integer of how far back time series should look\n",
    "    horizon=integer of how far into the future the model shall predict; horizon=0 means prediciton 1 step into future\n",
    "    '''\n",
    "    for i in range(1,lag+1):\n",
    "        df['lag{}'.format(i)] = df.CO2E_EMISSIONS_FACTOR.shift(i)\n",
    "    \n",
    "    for i in range(horizon+1,horizon+2):\n",
    "        df['horizon{}'.format(i-1)] = df.CO2E_EMISSIONS_FACTOR[lag+i:].shift(-i+1)\n",
    "        \n",
    "    return df"
   ]
  },
  {
   "cell_type": "code",
   "execution_count": 4,
   "metadata": {},
   "outputs": [
    {
     "name": "stdout",
     "output_type": "stream",
     "text": [
      "2009-09-01 01:05:00\n",
      "2019-08-01 03:55:00\n",
      "(807149, 27)\n"
     ]
    },
    {
     "data": {
      "text/html": [
       "<div>\n",
       "<style scoped>\n",
       "    .dataframe tbody tr th:only-of-type {\n",
       "        vertical-align: middle;\n",
       "    }\n",
       "\n",
       "    .dataframe tbody tr th {\n",
       "        vertical-align: top;\n",
       "    }\n",
       "\n",
       "    .dataframe thead th {\n",
       "        text-align: right;\n",
       "    }\n",
       "</style>\n",
       "<table border=\"1\" class=\"dataframe\">\n",
       "  <thead>\n",
       "    <tr style=\"text-align: right;\">\n",
       "      <th></th>\n",
       "      <th>CO2E_EMISSIONS_FACTOR</th>\n",
       "      <th>demand</th>\n",
       "      <th>demand_capacity</th>\n",
       "      <th>interconnector</th>\n",
       "      <th>year</th>\n",
       "      <th>minute_sin</th>\n",
       "      <th>minute_cos</th>\n",
       "      <th>hour_sin</th>\n",
       "      <th>hour_cos</th>\n",
       "      <th>weekday_sin</th>\n",
       "      <th>...</th>\n",
       "      <th>lag4</th>\n",
       "      <th>lag5</th>\n",
       "      <th>lag6</th>\n",
       "      <th>lag7</th>\n",
       "      <th>lag8</th>\n",
       "      <th>lag9</th>\n",
       "      <th>lag10</th>\n",
       "      <th>lag11</th>\n",
       "      <th>lag12</th>\n",
       "      <th>horizon0</th>\n",
       "    </tr>\n",
       "  </thead>\n",
       "  <tbody>\n",
       "    <tr>\n",
       "      <td>2009-09-01 01:05:00</td>\n",
       "      <td>0.980592</td>\n",
       "      <td>1540.46</td>\n",
       "      <td>0.561122</td>\n",
       "      <td>204.99</td>\n",
       "      <td>2009</td>\n",
       "      <td>0.500000</td>\n",
       "      <td>8.660254e-01</td>\n",
       "      <td>0.258819</td>\n",
       "      <td>0.965926</td>\n",
       "      <td>0.0</td>\n",
       "      <td>...</td>\n",
       "      <td>0.986980</td>\n",
       "      <td>0.976360</td>\n",
       "      <td>0.97636</td>\n",
       "      <td>0.97636</td>\n",
       "      <td>0.97636</td>\n",
       "      <td>0.975655</td>\n",
       "      <td>1.032780</td>\n",
       "      <td>0.976889</td>\n",
       "      <td>0.976360</td>\n",
       "      <td>0.980592</td>\n",
       "    </tr>\n",
       "    <tr>\n",
       "      <td>2009-09-01 01:10:00</td>\n",
       "      <td>1.154818</td>\n",
       "      <td>1499.28</td>\n",
       "      <td>0.545420</td>\n",
       "      <td>171.40</td>\n",
       "      <td>2009</td>\n",
       "      <td>0.866025</td>\n",
       "      <td>5.000000e-01</td>\n",
       "      <td>0.258819</td>\n",
       "      <td>0.965926</td>\n",
       "      <td>0.0</td>\n",
       "      <td>...</td>\n",
       "      <td>0.986980</td>\n",
       "      <td>0.986980</td>\n",
       "      <td>0.97636</td>\n",
       "      <td>0.97636</td>\n",
       "      <td>0.97636</td>\n",
       "      <td>0.976360</td>\n",
       "      <td>0.975655</td>\n",
       "      <td>1.032780</td>\n",
       "      <td>0.976889</td>\n",
       "      <td>1.154818</td>\n",
       "    </tr>\n",
       "    <tr>\n",
       "      <td>2009-09-01 01:15:00</td>\n",
       "      <td>0.976360</td>\n",
       "      <td>1509.50</td>\n",
       "      <td>0.550675</td>\n",
       "      <td>181.68</td>\n",
       "      <td>2009</td>\n",
       "      <td>1.000000</td>\n",
       "      <td>2.832769e-16</td>\n",
       "      <td>0.258819</td>\n",
       "      <td>0.965926</td>\n",
       "      <td>0.0</td>\n",
       "      <td>...</td>\n",
       "      <td>0.976360</td>\n",
       "      <td>0.986980</td>\n",
       "      <td>0.98698</td>\n",
       "      <td>0.97636</td>\n",
       "      <td>0.97636</td>\n",
       "      <td>0.976360</td>\n",
       "      <td>0.976360</td>\n",
       "      <td>0.975655</td>\n",
       "      <td>1.032780</td>\n",
       "      <td>0.976360</td>\n",
       "    </tr>\n",
       "    <tr>\n",
       "      <td>2009-09-01 01:20:00</td>\n",
       "      <td>0.976360</td>\n",
       "      <td>1504.69</td>\n",
       "      <td>0.548709</td>\n",
       "      <td>176.25</td>\n",
       "      <td>2009</td>\n",
       "      <td>0.866025</td>\n",
       "      <td>-5.000000e-01</td>\n",
       "      <td>0.258819</td>\n",
       "      <td>0.965926</td>\n",
       "      <td>0.0</td>\n",
       "      <td>...</td>\n",
       "      <td>0.871459</td>\n",
       "      <td>0.976360</td>\n",
       "      <td>0.98698</td>\n",
       "      <td>0.98698</td>\n",
       "      <td>0.97636</td>\n",
       "      <td>0.976360</td>\n",
       "      <td>0.976360</td>\n",
       "      <td>0.976360</td>\n",
       "      <td>0.975655</td>\n",
       "      <td>0.976360</td>\n",
       "    </tr>\n",
       "    <tr>\n",
       "      <td>2009-09-01 01:25:00</td>\n",
       "      <td>0.976360</td>\n",
       "      <td>1493.48</td>\n",
       "      <td>0.544586</td>\n",
       "      <td>166.35</td>\n",
       "      <td>2009</td>\n",
       "      <td>0.500000</td>\n",
       "      <td>-8.660254e-01</td>\n",
       "      <td>0.258819</td>\n",
       "      <td>0.965926</td>\n",
       "      <td>0.0</td>\n",
       "      <td>...</td>\n",
       "      <td>0.980592</td>\n",
       "      <td>0.871459</td>\n",
       "      <td>0.97636</td>\n",
       "      <td>0.98698</td>\n",
       "      <td>0.98698</td>\n",
       "      <td>0.976360</td>\n",
       "      <td>0.976360</td>\n",
       "      <td>0.976360</td>\n",
       "      <td>0.976360</td>\n",
       "      <td>0.976360</td>\n",
       "    </tr>\n",
       "  </tbody>\n",
       "</table>\n",
       "<p>5 rows × 27 columns</p>\n",
       "</div>"
      ],
      "text/plain": [
       "                     CO2E_EMISSIONS_FACTOR   demand  demand_capacity  \\\n",
       "2009-09-01 01:05:00               0.980592  1540.46         0.561122   \n",
       "2009-09-01 01:10:00               1.154818  1499.28         0.545420   \n",
       "2009-09-01 01:15:00               0.976360  1509.50         0.550675   \n",
       "2009-09-01 01:20:00               0.976360  1504.69         0.548709   \n",
       "2009-09-01 01:25:00               0.976360  1493.48         0.544586   \n",
       "\n",
       "                     interconnector  year  minute_sin    minute_cos  hour_sin  \\\n",
       "2009-09-01 01:05:00          204.99  2009    0.500000  8.660254e-01  0.258819   \n",
       "2009-09-01 01:10:00          171.40  2009    0.866025  5.000000e-01  0.258819   \n",
       "2009-09-01 01:15:00          181.68  2009    1.000000  2.832769e-16  0.258819   \n",
       "2009-09-01 01:20:00          176.25  2009    0.866025 -5.000000e-01  0.258819   \n",
       "2009-09-01 01:25:00          166.35  2009    0.500000 -8.660254e-01  0.258819   \n",
       "\n",
       "                     hour_cos  weekday_sin  ...      lag4      lag5     lag6  \\\n",
       "2009-09-01 01:05:00  0.965926          0.0  ...  0.986980  0.976360  0.97636   \n",
       "2009-09-01 01:10:00  0.965926          0.0  ...  0.986980  0.986980  0.97636   \n",
       "2009-09-01 01:15:00  0.965926          0.0  ...  0.976360  0.986980  0.98698   \n",
       "2009-09-01 01:20:00  0.965926          0.0  ...  0.871459  0.976360  0.98698   \n",
       "2009-09-01 01:25:00  0.965926          0.0  ...  0.980592  0.871459  0.97636   \n",
       "\n",
       "                        lag7     lag8      lag9     lag10     lag11     lag12  \\\n",
       "2009-09-01 01:05:00  0.97636  0.97636  0.975655  1.032780  0.976889  0.976360   \n",
       "2009-09-01 01:10:00  0.97636  0.97636  0.976360  0.975655  1.032780  0.976889   \n",
       "2009-09-01 01:15:00  0.97636  0.97636  0.976360  0.976360  0.975655  1.032780   \n",
       "2009-09-01 01:20:00  0.98698  0.97636  0.976360  0.976360  0.976360  0.975655   \n",
       "2009-09-01 01:25:00  0.98698  0.98698  0.976360  0.976360  0.976360  0.976360   \n",
       "\n",
       "                     horizon0  \n",
       "2009-09-01 01:05:00  0.980592  \n",
       "2009-09-01 01:10:00  1.154818  \n",
       "2009-09-01 01:15:00  0.976360  \n",
       "2009-09-01 01:20:00  0.976360  \n",
       "2009-09-01 01:25:00  0.976360  \n",
       "\n",
       "[5 rows x 27 columns]"
      ]
     },
     "execution_count": 4,
     "metadata": {},
     "output_type": "execute_result"
    }
   ],
   "source": [
    "file_path = '{}/nem-data/nemde_clean/df_DUID_CO2_mean.pkl'.format(os.environ['HOME'])\n",
    "df = pd.read_pickle(file_path)\n",
    "df = df.sort_index()\n",
    "df = df[df.index >= dt.datetime(2009,9,1,0,0,0)] #minimum time of interconncector\n",
    "\n",
    "demand = pd.read_csv('{}/nem-data/demand.csv'.format(os.environ['HOME']), index_col=-1, parse_dates=True)\n",
    "demand.drop(columns=[\"SETTLEMENTDATE\", \"I\", \"INTERVENTION\"], inplace=True)\n",
    "demand = demand[(demand.index >= df.index.min()) & (demand.index <= df.index.max())]\n",
    "\n",
    "assert demand.index.min() == df.index.min()\n",
    "assert demand.index.max() == df.index.max()\n",
    "\n",
    "demand = demand.groupby(demand.index).mean()\n",
    "\n",
    "df[\"demand\"] = demand.TOTALDEMAND\n",
    "df[\"demand_capacity\"] = demand.TOTALDEMAND/demand.AVAILABLEGENERATION\n",
    "\n",
    "interconnectors = pd.read_csv('{}/nem-data/interconnectors.csv'.format(os.environ['HOME']), index_col=-1, parse_dates=True)\n",
    "interconnectors.drop(columns=[\"SETTLEMENTDATE\", \"I\", \"INTERCONNECTORID\"], inplace=True)\n",
    "interconnectors = interconnectors[(interconnectors.index >= df.index.min()) & (interconnectors.index <= df.index.max())]\n",
    "\n",
    "assert interconnectors.index.min() == df.index.min()\n",
    "assert interconnectors.index.max() == df.index.max()\n",
    "\n",
    "interconnectors = interconnectors.groupby(interconnectors.index).mean()\n",
    "df[\"interconnector\"] = interconnectors.MWFLOW\n",
    "\n",
    "df = time_columns(df)\n",
    "df = lag_horizon(df, 12, 0)\n",
    "\n",
    "df.dropna(inplace=True)\n",
    "print(df.index.min())\n",
    "print(df.index.max())\n",
    "print(df.shape)\n",
    "df.head()"
   ]
  },
  {
   "cell_type": "markdown",
   "metadata": {},
   "source": [
    "### __Training__"
   ]
  },
  {
   "cell_type": "code",
   "execution_count": 5,
   "metadata": {},
   "outputs": [],
   "source": [
    "def rel_errors(model, X_train, y_train, X_test, y_test):\n",
    "\n",
    "    train_mae = (sum(abs(y_train - model.predict(X_train)))/len(y_train))/y_train.mean()\n",
    "    train_mape = (sum(abs(y_train - model.predict(X_train))*100)/len(y_train))/y_train.mean()\n",
    "\n",
    "    test_mae = (sum(abs(y_test - model.predict(X_test)))/len(y_test))/y_test.mean()\n",
    "    test_mape = (sum(abs(y_test - model.predict(X_test))*100)/len(y_test))/y_test.mean()\n",
    "\n",
    "    print(f\"rel_train_mae: {train_mae}\")\n",
    "    print(f\"rel_test_mae: {test_mae}\")\n",
    "    print(f\"rel_train_mape: {train_mape}\")\n",
    "    print(f\"rel_test_mape: {test_mape}\")"
   ]
  },
  {
   "cell_type": "code",
   "execution_count": 6,
   "metadata": {},
   "outputs": [],
   "source": [
    "def train_test_time_threshold(df, time_threshold, maximal_lag, horizon):\n",
    "    '''\n",
    "    Time series (ts) split function creates a train/test set under consideration of potential overlap between the two due to lag processing\n",
    "    X_train, y_train, X_test, y_test = ...\n",
    "    df=must contain target column as \"target\"; all other columns must be used as features\n",
    "    time_threshold=enter cut-off time as datetime format\n",
    "    maximal_lag=out of all lag feature engineering, enter the maximal lag number\n",
    "    '''\n",
    "   \n",
    "    time_threshold = dt.datetime(2017,5,31,0,0,0)\n",
    "    lag = 12\n",
    "\n",
    "    data_train = df[df.index < time_threshold]\n",
    "    #to avoid overlapping of train and test data, a gap of the maximal lag - 1 must be included between the two sets\n",
    "    data_test = df[df.index >= (time_threshold + (dt.timedelta(minutes = 5) * lag))]\n",
    "\n",
    "    assert data_train.index.max() < data_test.index.min()\n",
    "    \n",
    "    #returns in the sequence X_train, y_train, X_test, y_test\n",
    "    return (data_train.drop(columns=[f\"horizon{horizon}\",\"CO2E_EMISSIONS_FACTOR\"], axis=1), data_train[f\"horizon{horizon}\"],\n",
    "            data_test.drop(columns=[f\"horizon{horizon}\",\"CO2E_EMISSIONS_FACTOR\"], axis=1), data_test[f\"horizon{horizon}\"])"
   ]
  },
  {
   "cell_type": "markdown",
   "metadata": {},
   "source": [
    "### __complete__"
   ]
  },
  {
   "cell_type": "code",
   "execution_count": 7,
   "metadata": {},
   "outputs": [
    {
     "name": "stdout",
     "output_type": "stream",
     "text": [
      "2017-05-30 23:55:00\n",
      "2017-05-31 01:00:00\n"
     ]
    },
    {
     "name": "stderr",
     "output_type": "stream",
     "text": [
      "/home/bastian/Environment/DSR_portfolio/lib/python3.6/site-packages/xgboost/core.py:587: FutureWarning: Series.base is deprecated and will be removed in a future version\n",
      "  if getattr(data, 'base', None) is not None and \\\n",
      "/home/bastian/Environment/DSR_portfolio/lib/python3.6/site-packages/xgboost/core.py:588: FutureWarning: Series.base is deprecated and will be removed in a future version\n",
      "  data.base is not None and isinstance(data, np.ndarray) \\\n"
     ]
    },
    {
     "name": "stdout",
     "output_type": "stream",
     "text": [
      "[19:41:42] WARNING: /workspace/src/objective/regression_obj.cu:152: reg:linear is now deprecated in favor of reg:squarederror.\n",
      "rel_train_mae: 0.277358387034119\n",
      "rel_test_mae: 0.3886060873081645\n",
      "rel_train_mape: 27.735838703454107\n",
      "rel_test_mape: 38.860608730854615\n"
     ]
    }
   ],
   "source": [
    "X_train, y_train, X_test, y_test = train_test_time_threshold(df,dt.datetime(2017,5,31,0,0,0),12,0)\n",
    "\n",
    "print(X_train.index.max())\n",
    "print(X_test.index.min())\n",
    "\n",
    "model = xgb.XGBRegressor(max_depth=5,\n",
    "                         learning_rate=0.1,\n",
    "                         num_estimators=100,\n",
    "                         n_jobs=7,\n",
    "                         reg_alpha=0.05,\n",
    "                         reg_lambda=0,\n",
    "                        )\n",
    "\n",
    "model.fit(X_train, y_train)\n",
    "\n",
    "rel_errors(model,X_train, y_train, X_test, y_test)"
   ]
  },
  {
   "cell_type": "code",
   "execution_count": 8,
   "metadata": {},
   "outputs": [],
   "source": [
    "from sklearn.metrics import r2_score"
   ]
  },
  {
   "cell_type": "code",
   "execution_count": 9,
   "metadata": {},
   "outputs": [
    {
     "data": {
      "text/plain": [
       "0.3048867022362307"
      ]
     },
     "execution_count": 9,
     "metadata": {},
     "output_type": "execute_result"
    }
   ],
   "source": [
    "r2_score(y_test, model.predict(X_test))"
   ]
  },
  {
   "cell_type": "code",
   "execution_count": 12,
   "metadata": {},
   "outputs": [],
   "source": [
    "import seaborn as sns"
   ]
  },
  {
   "cell_type": "code",
   "execution_count": 15,
   "metadata": {},
   "outputs": [
    {
     "data": {
      "text/plain": [
       "<matplotlib.axes._subplots.AxesSubplot at 0x7f89f120ec50>"
      ]
     },
     "execution_count": 15,
     "metadata": {},
     "output_type": "execute_result"
    },
    {
     "data": {
      "image/png": "[encoded data removed]",
      "text/plain": [
       "<Figure size 432x288 with 1 Axes>"
      ]
     },
     "metadata": {
      "needs_background": "light"
     },
     "output_type": "display_data"
    }
   ],
   "source": [
    "sns.lineplot(y_test.index[:300],y_test.iloc[:300], label=\"test\")\n",
    "sns.lineplot(y_test.index[:300],model.predict(X_test)[:300], label=\"pred\")"
   ]
  },
  {
   "cell_type": "markdown",
   "metadata": {},
   "source": [
    "### __without lag1__"
   ]
  },
  {
   "cell_type": "code",
   "execution_count": 20,
   "metadata": {},
   "outputs": [
    {
     "name": "stdout",
     "output_type": "stream",
     "text": [
      "2017-05-30 23:55:00\n",
      "2017-05-31 01:00:00\n",
      "[17:06:34] WARNING: /workspace/src/objective/regression_obj.cu:152: reg:linear is now deprecated in favor of reg:squarederror.\n",
      "rel_train_mae: 0.29682926393319453\n",
      "rel_test_mae: 0.4101835470535101\n",
      "rel_train_mape: 29.682926393358308\n",
      "rel_test_mape: 41.01835470539043\n"
     ]
    }
   ],
   "source": [
    "X_train, y_train, X_test, y_test = train_test_time_threshold(df,dt.datetime(2017,5,31,0,0,0),12,0)\n",
    "X_train.drop(columns=\"lag1\", inplace=True)\n",
    "X_test.drop(columns=\"lag1\", inplace=True)\n",
    "\n",
    "\n",
    "print(X_train.index.max())\n",
    "print(X_test.index.min())\n",
    "\n",
    "model = xgb.XGBRegressor(max_depth=5,\n",
    "                         learning_rate=0.1,\n",
    "                         num_estimators=100,\n",
    "                         n_jobs=7,\n",
    "                         reg_alpha=0.05,\n",
    "                         reg_lambda=0,\n",
    "                        )\n",
    "\n",
    "model.fit(X_train, y_train)\n",
    "\n",
    "rel_errors(model,X_train, y_train, X_test, y_test)"
   ]
  },
  {
   "cell_type": "markdown",
   "metadata": {},
   "source": [
    "### __only lag1__"
   ]
  },
  {
   "cell_type": "code",
   "execution_count": 38,
   "metadata": {},
   "outputs": [
    {
     "name": "stdout",
     "output_type": "stream",
     "text": [
      "2017-05-30 23:55:00\n",
      "2017-05-31 01:00:00\n"
     ]
    },
    {
     "name": "stderr",
     "output_type": "stream",
     "text": [
      "/home/bastian/Environment/DSR_portfolio/lib/python3.6/site-packages/xgboost/core.py:587: FutureWarning: Series.base is deprecated and will be removed in a future version\n",
      "  if getattr(data, 'base', None) is not None and \\\n",
      "/home/bastian/Environment/DSR_portfolio/lib/python3.6/site-packages/xgboost/core.py:588: FutureWarning: Series.base is deprecated and will be removed in a future version\n",
      "  data.base is not None and isinstance(data, np.ndarray) \\\n"
     ]
    },
    {
     "name": "stdout",
     "output_type": "stream",
     "text": [
      "[19:53:04] WARNING: /workspace/src/objective/regression_obj.cu:152: reg:linear is now deprecated in favor of reg:squarederror.\n",
      "rel_train_mae: 0.290709847713657\n",
      "rel_test_mae: 0.4098684186253851\n",
      "rel_train_mape: 29.07098477140962\n",
      "rel_test_mape: 40.98684186257749\n"
     ]
    }
   ],
   "source": [
    "X_train, y_train, X_test, y_test = train_test_time_threshold(df,dt.datetime(2017,5,31,0,0,0),12,0)\n",
    "X_train.drop(columns=[\"lag2\",\"lag3\",\"lag4\",\"lag5\",\"lag6\",\"lag7\",\"lag8\",\"lag9\",\"lag10\",\"lag11\",\"lag12\"], inplace=True)\n",
    "X_test.drop(columns=[\"lag2\",\"lag3\",\"lag4\",\"lag5\",\"lag6\",\"lag7\",\"lag8\",\"lag9\",\"lag10\",\"lag11\",\"lag12\"], inplace=True)\n",
    "\n",
    "\n",
    "print(X_train.index.max())\n",
    "print(X_test.index.min())\n",
    "\n",
    "model = xgb.XGBRegressor(max_depth=5,\n",
    "                         learning_rate=0.1,\n",
    "                         num_estimators=100,\n",
    "                         n_jobs=7,\n",
    "                         reg_alpha=0.05,\n",
    "                         reg_lambda=0,\n",
    "                        )\n",
    "\n",
    "model.fit(X_train, y_train)\n",
    "\n",
    "rel_errors(model,X_train, y_train, X_test, y_test)"
   ]
  },
  {
   "cell_type": "code",
   "execution_count": 39,
   "metadata": {},
   "outputs": [
    {
     "data": {
      "text/html": [
       "<div>\n",
       "<style scoped>\n",
       "    .dataframe tbody tr th:only-of-type {\n",
       "        vertical-align: middle;\n",
       "    }\n",
       "\n",
       "    .dataframe tbody tr th {\n",
       "        vertical-align: top;\n",
       "    }\n",
       "\n",
       "    .dataframe thead th {\n",
       "        text-align: right;\n",
       "    }\n",
       "</style>\n",
       "<table border=\"1\" class=\"dataframe\">\n",
       "  <thead>\n",
       "    <tr style=\"text-align: right;\">\n",
       "      <th></th>\n",
       "      <th>demand</th>\n",
       "      <th>demand_capacity</th>\n",
       "      <th>interconnector</th>\n",
       "      <th>year</th>\n",
       "      <th>minute_sin</th>\n",
       "      <th>minute_cos</th>\n",
       "      <th>hour_sin</th>\n",
       "      <th>hour_cos</th>\n",
       "      <th>weekday_sin</th>\n",
       "      <th>month_sin</th>\n",
       "      <th>month_cos</th>\n",
       "      <th>year_sin</th>\n",
       "      <th>year_cos</th>\n",
       "      <th>lag1</th>\n",
       "    </tr>\n",
       "  </thead>\n",
       "  <tbody>\n",
       "    <tr>\n",
       "      <td>2009-09-01 01:05:00</td>\n",
       "      <td>1540.46</td>\n",
       "      <td>0.561122</td>\n",
       "      <td>204.99</td>\n",
       "      <td>2009</td>\n",
       "      <td>0.500000</td>\n",
       "      <td>8.660254e-01</td>\n",
       "      <td>0.258819</td>\n",
       "      <td>0.965926</td>\n",
       "      <td>0.0</td>\n",
       "      <td>-1.0</td>\n",
       "      <td>-1.836970e-16</td>\n",
       "      <td>-0.75575</td>\n",
       "      <td>-0.654861</td>\n",
       "      <td>0.871459</td>\n",
       "    </tr>\n",
       "    <tr>\n",
       "      <td>2009-09-01 01:10:00</td>\n",
       "      <td>1499.28</td>\n",
       "      <td>0.545420</td>\n",
       "      <td>171.40</td>\n",
       "      <td>2009</td>\n",
       "      <td>0.866025</td>\n",
       "      <td>5.000000e-01</td>\n",
       "      <td>0.258819</td>\n",
       "      <td>0.965926</td>\n",
       "      <td>0.0</td>\n",
       "      <td>-1.0</td>\n",
       "      <td>-1.836970e-16</td>\n",
       "      <td>-0.75575</td>\n",
       "      <td>-0.654861</td>\n",
       "      <td>0.980592</td>\n",
       "    </tr>\n",
       "    <tr>\n",
       "      <td>2009-09-01 01:15:00</td>\n",
       "      <td>1509.50</td>\n",
       "      <td>0.550675</td>\n",
       "      <td>181.68</td>\n",
       "      <td>2009</td>\n",
       "      <td>1.000000</td>\n",
       "      <td>2.832769e-16</td>\n",
       "      <td>0.258819</td>\n",
       "      <td>0.965926</td>\n",
       "      <td>0.0</td>\n",
       "      <td>-1.0</td>\n",
       "      <td>-1.836970e-16</td>\n",
       "      <td>-0.75575</td>\n",
       "      <td>-0.654861</td>\n",
       "      <td>1.154818</td>\n",
       "    </tr>\n",
       "    <tr>\n",
       "      <td>2009-09-01 01:20:00</td>\n",
       "      <td>1504.69</td>\n",
       "      <td>0.548709</td>\n",
       "      <td>176.25</td>\n",
       "      <td>2009</td>\n",
       "      <td>0.866025</td>\n",
       "      <td>-5.000000e-01</td>\n",
       "      <td>0.258819</td>\n",
       "      <td>0.965926</td>\n",
       "      <td>0.0</td>\n",
       "      <td>-1.0</td>\n",
       "      <td>-1.836970e-16</td>\n",
       "      <td>-0.75575</td>\n",
       "      <td>-0.654861</td>\n",
       "      <td>0.976360</td>\n",
       "    </tr>\n",
       "    <tr>\n",
       "      <td>2009-09-01 01:25:00</td>\n",
       "      <td>1493.48</td>\n",
       "      <td>0.544586</td>\n",
       "      <td>166.35</td>\n",
       "      <td>2009</td>\n",
       "      <td>0.500000</td>\n",
       "      <td>-8.660254e-01</td>\n",
       "      <td>0.258819</td>\n",
       "      <td>0.965926</td>\n",
       "      <td>0.0</td>\n",
       "      <td>-1.0</td>\n",
       "      <td>-1.836970e-16</td>\n",
       "      <td>-0.75575</td>\n",
       "      <td>-0.654861</td>\n",
       "      <td>0.976360</td>\n",
       "    </tr>\n",
       "  </tbody>\n",
       "</table>\n",
       "</div>"
      ],
      "text/plain": [
       "                      demand  demand_capacity  interconnector  year  \\\n",
       "2009-09-01 01:05:00  1540.46         0.561122          204.99  2009   \n",
       "2009-09-01 01:10:00  1499.28         0.545420          171.40  2009   \n",
       "2009-09-01 01:15:00  1509.50         0.550675          181.68  2009   \n",
       "2009-09-01 01:20:00  1504.69         0.548709          176.25  2009   \n",
       "2009-09-01 01:25:00  1493.48         0.544586          166.35  2009   \n",
       "\n",
       "                     minute_sin    minute_cos  hour_sin  hour_cos  \\\n",
       "2009-09-01 01:05:00    0.500000  8.660254e-01  0.258819  0.965926   \n",
       "2009-09-01 01:10:00    0.866025  5.000000e-01  0.258819  0.965926   \n",
       "2009-09-01 01:15:00    1.000000  2.832769e-16  0.258819  0.965926   \n",
       "2009-09-01 01:20:00    0.866025 -5.000000e-01  0.258819  0.965926   \n",
       "2009-09-01 01:25:00    0.500000 -8.660254e-01  0.258819  0.965926   \n",
       "\n",
       "                     weekday_sin  month_sin     month_cos  year_sin  year_cos  \\\n",
       "2009-09-01 01:05:00          0.0       -1.0 -1.836970e-16  -0.75575 -0.654861   \n",
       "2009-09-01 01:10:00          0.0       -1.0 -1.836970e-16  -0.75575 -0.654861   \n",
       "2009-09-01 01:15:00          0.0       -1.0 -1.836970e-16  -0.75575 -0.654861   \n",
       "2009-09-01 01:20:00          0.0       -1.0 -1.836970e-16  -0.75575 -0.654861   \n",
       "2009-09-01 01:25:00          0.0       -1.0 -1.836970e-16  -0.75575 -0.654861   \n",
       "\n",
       "                         lag1  \n",
       "2009-09-01 01:05:00  0.871459  \n",
       "2009-09-01 01:10:00  0.980592  \n",
       "2009-09-01 01:15:00  1.154818  \n",
       "2009-09-01 01:20:00  0.976360  \n",
       "2009-09-01 01:25:00  0.976360  "
      ]
     },
     "execution_count": 39,
     "metadata": {},
     "output_type": "execute_result"
    }
   ],
   "source": [
    "X_train.head()"
   ]
  },
  {
   "cell_type": "code",
   "execution_count": 25,
   "metadata": {},
   "outputs": [
    {
     "data": {
      "text/plain": [
       "<matplotlib.axes._subplots.AxesSubplot at 0x7f89f5ddca90>"
      ]
     },
     "execution_count": 25,
     "metadata": {},
     "output_type": "execute_result"
    },
    {
     "data": {
      "image/png": "[encoded data removed]",
      "text/plain": [
       "<Figure size 432x288 with 1 Axes>"
      ]
     },
     "metadata": {
      "needs_background": "light"
     },
     "output_type": "display_data"
    }
   ],
   "source": [
    "import seaborn as sns\n",
    "\n",
    "sns.lineplot(y_test.index[:50],y_test.iloc[:50], label=\"test\")\n",
    "sns.lineplot(y_test.index[:50],model.predict(X_test)[:50], label=\"pred\")"
   ]
  },
  {
   "cell_type": "markdown",
   "metadata": {},
   "source": [
    "### __horizon 12__"
   ]
  },
  {
   "cell_type": "code",
   "execution_count": 23,
   "metadata": {},
   "outputs": [
    {
     "data": {
      "text/plain": [
       "<matplotlib.axes._subplots.AxesSubplot at 0x7f89f98e8668>"
      ]
     },
     "execution_count": 23,
     "metadata": {},
     "output_type": "execute_result"
    },
    {
     "data": {
      "image/png": "[encoded data removed]",
      "text/plain": [
       "<Figure size 432x288 with 1 Axes>"
      ]
     },
     "metadata": {
      "needs_background": "light"
     },
     "output_type": "display_data"
    }
   ],
   "source": [
    "sns.scatterplot(y_test.iloc[:300], model.predict(X_test)[:300])"
   ]
  },
  {
   "cell_type": "code",
   "execution_count": 35,
   "metadata": {},
   "outputs": [
    {
     "data": {
      "text/html": [
       "<div>\n",
       "<style scoped>\n",
       "    .dataframe tbody tr th:only-of-type {\n",
       "        vertical-align: middle;\n",
       "    }\n",
       "\n",
       "    .dataframe tbody tr th {\n",
       "        vertical-align: top;\n",
       "    }\n",
       "\n",
       "    .dataframe thead th {\n",
       "        text-align: right;\n",
       "    }\n",
       "</style>\n",
       "<table border=\"1\" class=\"dataframe\">\n",
       "  <thead>\n",
       "    <tr style=\"text-align: right;\">\n",
       "      <th></th>\n",
       "      <th>Aze</th>\n",
       "    </tr>\n",
       "  </thead>\n",
       "  <tbody>\n",
       "    <tr>\n",
       "      <td>0</td>\n",
       "      <td>415884.449888</td>\n",
       "    </tr>\n",
       "    <tr>\n",
       "      <td>1</td>\n",
       "      <td>409030.314108</td>\n",
       "    </tr>\n",
       "    <tr>\n",
       "      <td>2</td>\n",
       "      <td>405383.092802</td>\n",
       "    </tr>\n",
       "    <tr>\n",
       "      <td>3</td>\n",
       "      <td>403051.091312</td>\n",
       "    </tr>\n",
       "    <tr>\n",
       "      <td>4</td>\n",
       "      <td>401545.094969</td>\n",
       "    </tr>\n",
       "    <tr>\n",
       "      <td>5</td>\n",
       "      <td>400276.523250</td>\n",
       "    </tr>\n",
       "    <tr>\n",
       "      <td>6</td>\n",
       "      <td>398646.697336</td>\n",
       "    </tr>\n",
       "    <tr>\n",
       "      <td>7</td>\n",
       "      <td>397317.891754</td>\n",
       "    </tr>\n",
       "    <tr>\n",
       "      <td>8</td>\n",
       "      <td>396482.350294</td>\n",
       "    </tr>\n",
       "    <tr>\n",
       "      <td>9</td>\n",
       "      <td>395537.781380</td>\n",
       "    </tr>\n",
       "    <tr>\n",
       "      <td>10</td>\n",
       "      <td>394853.511578</td>\n",
       "    </tr>\n",
       "    <tr>\n",
       "      <td>11</td>\n",
       "      <td>394387.912910</td>\n",
       "    </tr>\n",
       "  </tbody>\n",
       "</table>\n",
       "</div>"
      ],
      "text/plain": [
       "              Aze\n",
       "0   415884.449888\n",
       "1   409030.314108\n",
       "2   405383.092802\n",
       "3   403051.091312\n",
       "4   401545.094969\n",
       "5   400276.523250\n",
       "6   398646.697336\n",
       "7   397317.891754\n",
       "8   396482.350294\n",
       "9   395537.781380\n",
       "10  394853.511578\n",
       "11  394387.912910"
      ]
     },
     "execution_count": 35,
     "metadata": {},
     "output_type": "execute_result"
    }
   ],
   "source": [
    "d = np.array([np.correlate(df.CO2E_EMISSIONS_FACTOR, df.lag1),\n",
    "np.correlate(df.CO2E_EMISSIONS_FACTOR, df.lag2),\n",
    "np.correlate(df.CO2E_EMISSIONS_FACTOR, df.lag3),\n",
    "np.correlate(df.CO2E_EMISSIONS_FACTOR, df.lag4),\n",
    "np.correlate(df.CO2E_EMISSIONS_FACTOR, df.lag5),\n",
    "np.correlate(df.CO2E_EMISSIONS_FACTOR, df.lag6),\n",
    "np.correlate(df.CO2E_EMISSIONS_FACTOR, df.lag7),\n",
    "np.correlate(df.CO2E_EMISSIONS_FACTOR, df.lag8),\n",
    "np.correlate(df.CO2E_EMISSIONS_FACTOR, df.lag9),\n",
    "np.correlate(df.CO2E_EMISSIONS_FACTOR, df.lag10),\n",
    "np.correlate(df.CO2E_EMISSIONS_FACTOR, df.lag11),\n",
    "np.correlate(df.CO2E_EMISSIONS_FACTOR, df.lag12)])\n",
    "\n",
    "d.reshape(-1)\n",
    "d.shape\n",
    "\n",
    "e = pd.DataFrame(d, columns=[\"Aze\"])\n",
    "e"
   ]
  },
  {
   "cell_type": "code",
   "execution_count": 36,
   "metadata": {},
   "outputs": [
    {
     "data": {
      "text/plain": [
       "<matplotlib.axes._subplots.AxesSubplot at 0x7f725f946278>"
      ]
     },
     "execution_count": 36,
     "metadata": {},
     "output_type": "execute_result"
    },
    {
     "data": {
      "image/png": "[encoded data removed]",
      "text/plain": [
       "<Figure size 432x288 with 1 Axes>"
      ]
     },
     "metadata": {
      "needs_background": "light"
     },
     "output_type": "display_data"
    }
   ],
   "source": [
    "sns.barplot(x=e.index, y=e[\"Aze\"])"
   ]
  },
  {
   "cell_type": "code",
   "execution_count": 9,
   "metadata": {},
   "outputs": [
    {
     "data": {
      "text/plain": [
       "array([1, 2, 4])"
      ]
     },
     "execution_count": 9,
     "metadata": {},
     "output_type": "execute_result"
    }
   ],
   "source": [
    "a"
   ]
  },
  {
   "cell_type": "code",
   "execution_count": null,
   "metadata": {},
   "outputs": [],
   "source": []
  }
 ],
 "metadata": {
  "kernelspec": {
   "display_name": "Python 3",
   "language": "python",
   "name": "python3"
  },
  "language_info": {
   "codemirror_mode": {
    "name": "ipython",
    "version": 3
   },
   "file_extension": ".py",
   "mimetype": "text/x-python",
   "name": "python",
   "nbconvert_exporter": "python",
   "pygments_lexer": "ipython3",
   "version": "3.6.8"
  }
 },
 "nbformat": 4,
 "nbformat_minor": 4
}
