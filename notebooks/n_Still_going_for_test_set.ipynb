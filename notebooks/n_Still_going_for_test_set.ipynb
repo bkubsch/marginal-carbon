{
 "cells": [
  {
   "cell_type": "markdown",
   "metadata": {},
   "source": [
    "# __For the sake of completeness...__"
   ]
  },
  {
   "cell_type": "markdown",
   "metadata": {},
   "source": [
    "...let's perform the whole train / test procedure onto our train and test sets. Remember that the training / validation sets which involved all our time features including lags and which was devoid of any non-time features performed among the best. Its performance was equivalent to the train / validation set including all time and non-time features. Yet, to keep overfitting at a minimum it is best to go for the training set with less features in case of equivalent performances."
   ]
  },
  {
   "cell_type": "code",
   "execution_count": 1,
   "metadata": {},
   "outputs": [],
   "source": [
    "import pandas as pd\n",
    "import numpy as np\n",
    "\n",
    "import joblib\n",
    "import xgboost as xgb\n",
    "\n",
    "import seaborn as sns\n",
    "import matplotlib.pyplot as plt\n",
    "import matplotlib.dates as mdates"
   ]
  },
  {
   "cell_type": "markdown",
   "metadata": {},
   "source": [
    "__Remember that we saved our test set after data imputation. So in terms of processing we will have to add all time features before attempting predictions on it. Also let's have a look at it again:__"
   ]
  },
  {
   "cell_type": "code",
   "execution_count": 2,
   "metadata": {},
   "outputs": [],
   "source": [
    "train = pd.read_pickle('../../data/train.pkl')\n",
    "test = pd.read_pickle('../../data/test.pkl')"
   ]
  },
  {
   "cell_type": "code",
   "execution_count": 3,
   "metadata": {},
   "outputs": [
    {
     "data": {
      "text/html": [
       "<div>\n",
       "<style scoped>\n",
       "    .dataframe tbody tr th:only-of-type {\n",
       "        vertical-align: middle;\n",
       "    }\n",
       "\n",
       "    .dataframe tbody tr th {\n",
       "        vertical-align: top;\n",
       "    }\n",
       "\n",
       "    .dataframe thead th {\n",
       "        text-align: right;\n",
       "    }\n",
       "</style>\n",
       "<table border=\"1\" class=\"dataframe\">\n",
       "  <thead>\n",
       "    <tr style=\"text-align: right;\">\n",
       "      <th></th>\n",
       "      <th>CO2E_EMISSIONS_FACTOR</th>\n",
       "    </tr>\n",
       "  </thead>\n",
       "  <tbody>\n",
       "    <tr>\n",
       "      <th>2009-07-01 04:00:00</th>\n",
       "      <td>0.991217</td>\n",
       "    </tr>\n",
       "    <tr>\n",
       "      <th>2009-07-01 04:05:00</th>\n",
       "      <td>0.000000</td>\n",
       "    </tr>\n",
       "    <tr>\n",
       "      <th>2009-07-01 04:10:00</th>\n",
       "      <td>0.000000</td>\n",
       "    </tr>\n",
       "    <tr>\n",
       "      <th>2009-07-01 04:15:00</th>\n",
       "      <td>0.991217</td>\n",
       "    </tr>\n",
       "    <tr>\n",
       "      <th>2009-07-01 04:20:00</th>\n",
       "      <td>1.025701</td>\n",
       "    </tr>\n",
       "  </tbody>\n",
       "</table>\n",
       "</div>"
      ],
      "text/plain": [
       "                     CO2E_EMISSIONS_FACTOR\n",
       "2009-07-01 04:00:00               0.991217\n",
       "2009-07-01 04:05:00               0.000000\n",
       "2009-07-01 04:10:00               0.000000\n",
       "2009-07-01 04:15:00               0.991217\n",
       "2009-07-01 04:20:00               1.025701"
      ]
     },
     "execution_count": 3,
     "metadata": {},
     "output_type": "execute_result"
    }
   ],
   "source": [
    "train.drop(columns='Price', inplace=True)\n",
    "train.head()"
   ]
  },
  {
   "cell_type": "code",
   "execution_count": 4,
   "metadata": {},
   "outputs": [
    {
     "data": {
      "text/html": [
       "<div>\n",
       "<style scoped>\n",
       "    .dataframe tbody tr th:only-of-type {\n",
       "        vertical-align: middle;\n",
       "    }\n",
       "\n",
       "    .dataframe tbody tr th {\n",
       "        vertical-align: top;\n",
       "    }\n",
       "\n",
       "    .dataframe thead th {\n",
       "        text-align: right;\n",
       "    }\n",
       "</style>\n",
       "<table border=\"1\" class=\"dataframe\">\n",
       "  <thead>\n",
       "    <tr style=\"text-align: right;\">\n",
       "      <th></th>\n",
       "      <th>CO2E_EMISSIONS_FACTOR</th>\n",
       "    </tr>\n",
       "  </thead>\n",
       "  <tbody>\n",
       "    <tr>\n",
       "      <th>2018-06-01 00:00:00</th>\n",
       "      <td>0.605679</td>\n",
       "    </tr>\n",
       "    <tr>\n",
       "      <th>2018-06-01 00:05:00</th>\n",
       "      <td>0.912643</td>\n",
       "    </tr>\n",
       "    <tr>\n",
       "      <th>2018-06-01 00:10:00</th>\n",
       "      <td>0.605679</td>\n",
       "    </tr>\n",
       "    <tr>\n",
       "      <th>2018-06-01 00:15:00</th>\n",
       "      <td>0.912643</td>\n",
       "    </tr>\n",
       "    <tr>\n",
       "      <th>2018-06-01 00:20:00</th>\n",
       "      <td>0.908305</td>\n",
       "    </tr>\n",
       "  </tbody>\n",
       "</table>\n",
       "</div>"
      ],
      "text/plain": [
       "                     CO2E_EMISSIONS_FACTOR\n",
       "2018-06-01 00:00:00               0.605679\n",
       "2018-06-01 00:05:00               0.912643\n",
       "2018-06-01 00:10:00               0.605679\n",
       "2018-06-01 00:15:00               0.912643\n",
       "2018-06-01 00:20:00               0.908305"
      ]
     },
     "execution_count": 4,
     "metadata": {},
     "output_type": "execute_result"
    }
   ],
   "source": [
    "test.drop(columns='Price', inplace=True)\n",
    "test.head()"
   ]
  },
  {
   "cell_type": "code",
   "execution_count": 5,
   "metadata": {},
   "outputs": [],
   "source": [
    "assert train.index.max() < test.index.min()"
   ]
  },
  {
   "cell_type": "markdown",
   "metadata": {},
   "source": [
    "__Wasn't there something else about the test set?__"
   ]
  },
  {
   "cell_type": "code",
   "execution_count": 6,
   "metadata": {},
   "outputs": [
    {
     "data": {
      "image/png": "[encoded data removed]",
      "text/plain": [
       "<Figure size 432x288 with 2 Axes>"
      ]
     },
     "metadata": {
      "needs_background": "light"
     },
     "output_type": "display_data"
    },
    {
     "data": {
      "text/plain": [
       "<Figure size 864x360 with 0 Axes>"
      ]
     },
     "metadata": {},
     "output_type": "display_data"
    }
   ],
   "source": [
    "fig = sns.heatmap(test.isnull())\n",
    "plt.figure(figsize=(12,5));"
   ]
  },
  {
   "cell_type": "markdown",
   "metadata": {},
   "source": [
    "__Right, we could not quite fill in two very big gaps of 1 month periods each time. Refresh your memory by refering back to the notebook 'data imputation' if you need to.__\n",
    "\n",
    "The first gap is not a problem, as we can cut it straight out without further considerations. This also takes care of data leakage from our training / validation set into our test set (refer to notebook 'grid search'). Here, we will also just drop the 2nd 1 month bundle of missing data. This is not quite accurate as this is going to introduce some inaccuracies around that NaN region in terms of our lagging features. But considering the massive size of our test set (+120.000 samples), we will consider that negligible here."
   ]
  },
  {
   "cell_type": "code",
   "execution_count": 7,
   "metadata": {},
   "outputs": [],
   "source": [
    "def time_columns(df):\n",
    "    \n",
    "    df = df.copy()\n",
    "    \n",
    "    df.loc[:,'minute'] = df.index.minute\n",
    "    df['hour'] = df.index.hour\n",
    "    df['weekday'] = np.where(df.index.weekday < 5, 0, 1)\n",
    "    df['month'] = df.index.month\n",
    "    df['year'] = df.index.year\n",
    "\n",
    "    df['minute_sin'] = np.sin(2 * np.pi * df.loc[:,'minute']/60)\n",
    "    df['minute_cos'] = np.cos(2 * np.pi * df.loc[:,'minute']/60)\n",
    "\n",
    "    df['hour_sin'] = np.sin(2 * np.pi * df.loc[:,'hour']/24)\n",
    "    df['hour_cos'] = np.cos(2 * np.pi * df.loc[:,'hour']/24)\n",
    "    \n",
    "    df['month_sin'] = np.sin(2 * np.pi * df.loc[:,'month']/12)\n",
    "    df['month_cos'] = np.cos(2 * np.pi * df.loc[:,'month']/12)\n",
    "    \n",
    "    df.drop(columns=['minute', 'hour', 'month'], inplace=True)\n",
    "    \n",
    "    return df"
   ]
  },
  {
   "cell_type": "code",
   "execution_count": 8,
   "metadata": {},
   "outputs": [],
   "source": [
    "def lag_horizon(df, lag, horizon):\n",
    "    '''\n",
    "    Returns dataset with additional features defined by lag and modified target defined by horizon\n",
    "    lag=integer of how far back time series should look\n",
    "    horizon=integer of how far into the future the model shall predict; horizon=0 means prediciton 1 step into future\n",
    "    '''\n",
    "    df = df.copy()\n",
    "    \n",
    "    for i in range(1,lag+1):\n",
    "        df[f'lag{i}'] = df['CO2E_EMISSIONS_FACTOR'].shift(i)\n",
    "    \n",
    "    for i in range(1,horizon+2):\n",
    "        df[f'horizon{i-1}'] = df['CO2E_EMISSIONS_FACTOR'][lag:]\n",
    "        \n",
    "    return df"
   ]
  },
  {
   "cell_type": "code",
   "execution_count": 9,
   "metadata": {},
   "outputs": [],
   "source": [
    "def errors(model, X_train, y_train, X_test, y_test):\n",
    "\n",
    "    train_mae = (sum(abs(y_train - model.predict(X_train)))/len(y_train))\n",
    "    train_mape = (sum(abs((y_train - model.predict(X_train))/y_train)))*(100/len(y_train))\n",
    "    train_smape = sum(abs(y_train - model.predict(X_train)))/sum(y_train + model.predict(X_train))\n",
    "\n",
    "    test_mae = (sum(abs(y_test - model.predict(X_test)))/len(y_test))\n",
    "    test_mape = (sum(abs((y_test - model.predict(X_test))/y_test)))*(100/len(y_test))\n",
    "    test_smape = sum(abs(y_test - model.predict(X_test)))/sum(y_test + model.predict(X_test))\n",
    "\n",
    "    print(f'train_MAE: {train_mae}')\n",
    "    print(f'test_MAE: {test_mae}')\n",
    "    \n",
    "    print(f'train_MAPE: {train_mape}')\n",
    "    print(f'test_MAPE: {test_mape}')\n",
    "    \n",
    "    print(f'train_SMAPE: {train_smape}')\n",
    "    print(f'test_SMAPE: {test_smape}')"
   ]
  },
  {
   "cell_type": "markdown",
   "metadata": {},
   "source": [
    "### __Addition of time features into train and test sets__"
   ]
  },
  {
   "cell_type": "code",
   "execution_count": 10,
   "metadata": {},
   "outputs": [
    {
     "data": {
      "text/plain": [
       "Index(['CO2E_EMISSIONS_FACTOR', 'weekday', 'year', 'minute_sin', 'minute_cos',\n",
       "       'hour_sin', 'hour_cos', 'month_sin', 'month_cos', 'lag1', 'lag2',\n",
       "       'lag3', 'lag4', 'lag5', 'lag6', 'lag7', 'lag8', 'lag9', 'lag10',\n",
       "       'lag11', 'lag12', 'horizon0'],\n",
       "      dtype='object')"
      ]
     },
     "execution_count": 10,
     "metadata": {},
     "output_type": "execute_result"
    }
   ],
   "source": [
    "train = time_columns(train)\n",
    "train = lag_horizon(train, 12, 0)\n",
    "train.columns"
   ]
  },
  {
   "cell_type": "code",
   "execution_count": 11,
   "metadata": {},
   "outputs": [],
   "source": [
    "# we have to drop any NaNs that emerged while introducing the lagging features (refer to previous notebook)\n",
    "\n",
    "train.dropna(inplace=True)"
   ]
  },
  {
   "cell_type": "code",
   "execution_count": 12,
   "metadata": {},
   "outputs": [
    {
     "data": {
      "text/plain": [
       "Index(['CO2E_EMISSIONS_FACTOR', 'weekday', 'year', 'minute_sin', 'minute_cos',\n",
       "       'hour_sin', 'hour_cos', 'month_sin', 'month_cos', 'lag1', 'lag2',\n",
       "       'lag3', 'lag4', 'lag5', 'lag6', 'lag7', 'lag8', 'lag9', 'lag10',\n",
       "       'lag11', 'lag12', 'horizon0'],\n",
       "      dtype='object')"
      ]
     },
     "execution_count": 12,
     "metadata": {},
     "output_type": "execute_result"
    }
   ],
   "source": [
    "test = time_columns(test)\n",
    "test = lag_horizon(test, 12, 0)\n",
    "test.columns"
   ]
  },
  {
   "cell_type": "code",
   "execution_count": 13,
   "metadata": {},
   "outputs": [],
   "source": [
    "# here, we do not only loose any NaNs from time feature intro but also the ones from the 2 1 month gaps\n",
    "\n",
    "test.dropna(inplace=True)"
   ]
  },
  {
   "cell_type": "markdown",
   "metadata": {},
   "source": [
    "### __Splitting train and test sets into features and target__"
   ]
  },
  {
   "cell_type": "code",
   "execution_count": 14,
   "metadata": {},
   "outputs": [],
   "source": [
    "X_train = train.drop(columns=['CO2E_EMISSIONS_FACTOR', 'horizon0'])\n",
    "y_train = train.CO2E_EMISSIONS_FACTOR"
   ]
  },
  {
   "cell_type": "code",
   "execution_count": 15,
   "metadata": {},
   "outputs": [],
   "source": [
    "X_test = test.drop(columns=['CO2E_EMISSIONS_FACTOR', 'horizon0'])\n",
    "y_test = test.CO2E_EMISSIONS_FACTOR"
   ]
  },
  {
   "cell_type": "code",
   "execution_count": 16,
   "metadata": {},
   "outputs": [
    {
     "name": "stdout",
     "output_type": "stream",
     "text": [
      "<class 'pandas.core.frame.DataFrame'>\n",
      "DatetimeIndex: 105478 entries, 2018-06-01 01:00:00 to 2019-08-01 03:55:00\n",
      "Data columns (total 20 columns):\n",
      "weekday       105478 non-null int64\n",
      "year          105478 non-null int64\n",
      "minute_sin    105478 non-null float64\n",
      "minute_cos    105478 non-null float64\n",
      "hour_sin      105478 non-null float64\n",
      "hour_cos      105478 non-null float64\n",
      "month_sin     105478 non-null float64\n",
      "month_cos     105478 non-null float64\n",
      "lag1          105478 non-null float64\n",
      "lag2          105478 non-null float64\n",
      "lag3          105478 non-null float64\n",
      "lag4          105478 non-null float64\n",
      "lag5          105478 non-null float64\n",
      "lag6          105478 non-null float64\n",
      "lag7          105478 non-null float64\n",
      "lag8          105478 non-null float64\n",
      "lag9          105478 non-null float64\n",
      "lag10         105478 non-null float64\n",
      "lag11         105478 non-null float64\n",
      "lag12         105478 non-null float64\n",
      "dtypes: float64(18), int64(2)\n",
      "memory usage: 16.9 MB\n"
     ]
    }
   ],
   "source": [
    "X_test.info()"
   ]
  },
  {
   "cell_type": "markdown",
   "metadata": {},
   "source": [
    "### __Model training__"
   ]
  },
  {
   "cell_type": "markdown",
   "metadata": {},
   "source": [
    "We now train an xgboost tree with our entire training dataset. Note that in the train / validation trials, the models were always only trained with a subset of the training set."
   ]
  },
  {
   "cell_type": "code",
   "execution_count": 19,
   "metadata": {},
   "outputs": [
    {
     "name": "stdout",
     "output_type": "stream",
     "text": [
      "[17:05:50] WARNING: /workspace/src/objective/regression_obj.cu:152: reg:linear is now deprecated in favor of reg:squarederror.\n"
     ]
    },
    {
     "data": {
      "text/plain": [
       "XGBRegressor(base_score=0.5, booster='gbtree', colsample_bylevel=1,\n",
       "             colsample_bynode=1, colsample_bytree=1, gamma=0,\n",
       "             importance_type='gain', learning_rate=0.1, max_delta_step=0,\n",
       "             max_depth=5, min_child_weight=1, missing=None, n_estimators=100,\n",
       "             n_jobs=7, nthread=None, num_estimators=100, objective='reg:linear',\n",
       "             random_state=0, reg_alpha=0.05, reg_lambda=0, scale_pos_weight=1,\n",
       "             seed=None, silent=None, subsample=1, verbosity=1)"
      ]
     },
     "execution_count": 19,
     "metadata": {},
     "output_type": "execute_result"
    }
   ],
   "source": [
    "model = xgb.XGBRegressor(max_depth=5,\n",
    "                         learning_rate=0.1,\n",
    "                         num_estimators=100,\n",
    "                         n_jobs=7,\n",
    "                         reg_alpha=0.05,\n",
    "                         reg_lambda=0,\n",
    "                        )\n",
    "\n",
    "model.fit(X_train, y_train)"
   ]
  },
  {
   "cell_type": "markdown",
   "metadata": {},
   "source": [
    "### __Let's see how all that will work out here:__"
   ]
  },
  {
   "cell_type": "code",
   "execution_count": 20,
   "metadata": {},
   "outputs": [
    {
     "name": "stdout",
     "output_type": "stream",
     "text": [
      "train_MAE: 0.1990048307092955\n",
      "test_MAE: 0.23168326956281773\n",
      "train_MAPE: inf\n",
      "test_MAPE: inf\n",
      "train_SMAPE: 0.14420805534854753\n",
      "test_SMAPE: 0.20058151424324855\n"
     ]
    }
   ],
   "source": [
    "errors(model, X_train, y_train, X_test, y_test)"
   ]
  },
  {
   "cell_type": "markdown",
   "metadata": {},
   "source": [
    "__We get similar error metrics with our train / test set as we got for our train validation set for the same set of features. Overfitting is slightly increased but still moderate.__"
   ]
  },
  {
   "cell_type": "code",
   "execution_count": 22,
   "metadata": {},
   "outputs": [
    {
     "data": {
      "image/png": "[encoded data removed]",
      "text/plain": [
       "<Figure size 432x288 with 1 Axes>"
      ]
     },
     "metadata": {
      "needs_background": "light"
     },
     "output_type": "display_data"
    }
   ],
   "source": [
    "fig = plt.plot_date(y_test.index[:30], y_test.iloc[:30], linestyle='solid', marker=None, color='darkblue', label=\"actual\")\n",
    "fig = plt.plot_date(y_test.index[:30], model.predict(X_test)[:30], linestyle='solid', marker=None, color='darkorange', label=\"forecast\")\n",
    "plt.legend(fontsize=15)\n",
    "\n",
    "plt.xlabel(\"Time of Day\", labelpad=15, fontsize=15, fontweight='bold')\n",
    "plt.ylabel(\"t CO2-e / MWh\", labelpad=15, fontsize=15, fontweight='bold')\n",
    "\n",
    "date_format = mdates.DateFormatter('%H:%M')\n",
    "plt.gca().xaxis.set_major_formatter(date_format)\n",
    "\n",
    "plt.style.use('seaborn')"
   ]
  },
  {
   "cell_type": "markdown",
   "metadata": {},
   "source": [
    "__Not surprsingly, we do get the same qualitative outcome as with our train / validation that we do cannot actually forecast any values but rather our algorithm learned to look back onto the previous value to make its predictions.__"
   ]
  },
  {
   "cell_type": "code",
   "execution_count": null,
   "metadata": {},
   "outputs": [],
   "source": []
  }
 ],
 "metadata": {
  "kernelspec": {
   "display_name": "dsr_teaching",
   "language": "python",
   "name": "dsr_teaching"
  },
  "language_info": {
   "codemirror_mode": {
    "name": "ipython",
    "version": 3
   },
   "file_extension": ".py",
   "mimetype": "text/x-python",
   "name": "python",
   "nbconvert_exporter": "python",
   "pygments_lexer": "ipython3",
   "version": "3.6.9"
  }
 },
 "nbformat": 4,
 "nbformat_minor": 4
}
