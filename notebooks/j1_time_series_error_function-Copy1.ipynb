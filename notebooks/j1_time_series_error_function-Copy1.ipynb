{
 "cells": [
  {
   "cell_type": "markdown",
   "metadata": {},
   "source": [
    "## __Error metrics for time series data__\n",
    "\n",
    "Any data science project relies heavily on the metric - time series is no different.  \n",
    "\n",
    "See [Another look at measures of forecast accuracy - Hyndman](https://robjhyndman.com/publications/another-look-at-measures-of-forecast-accuracy/) for a detailed look at the topic."
   ]
  },
  {
   "cell_type": "markdown",
   "metadata": {},
   "source": [
    "### __Mean Absolute Error (MAE)__\n",
    "\n",
    "Has the advantage of being in the same units as the data, eaisly interpretable\n",
    "\n",
    "Disadvantage of not allowing comparison between different time series"
   ]
  },
  {
   "cell_type": "markdown",
   "metadata": {},
   "source": [
    "$MAE = \\frac{\\sum\\limits_{t=1}^n | F_t - A_t |}{n} $\n",
    "\n",
    "$F_t$: forecast value <br/>\n",
    "$A_t$: actual value <br/>\n",
    "$n$: sample size"
   ]
  },
  {
   "cell_type": "markdown",
   "metadata": {},
   "source": [
    "### __Mean Absolute Percentage Error (MAPE)__\n",
    "\n",
    "Allows comparison between different time series.\n",
    "\n",
    "Disadvantage of being undefined at y=0, unsymmetric around 0"
   ]
  },
  {
   "cell_type": "markdown",
   "metadata": {},
   "source": [
    "$MAPE = \\frac{100 \\%}{n}\\sum\\limits_{t=1}^n \\frac{A_t - F_t}{A_t}$\n",
    "\n",
    "$F_t$: forecast value <br/>\n",
    "$A_t$: actual value <br/>\n",
    "$n$: sample size"
   ]
  },
  {
   "cell_type": "markdown",
   "metadata": {},
   "source": [
    "### __Symmetric Mean Absolute Percentage Error (SMAPE)__"
   ]
  },
  {
   "cell_type": "markdown",
   "metadata": {},
   "source": [
    "$SMAPE = \\frac{\\sum\\limits_{t=1}^n | F_t - A_t |}{\\sum\\limits_{t=1}^n (A_t + F_t)}$\n",
    "\n",
    "$F_t$: forecast value <br/>\n",
    "$A_t$: actual value <br/>\n",
    "$n$: sample size"
   ]
  },
  {
   "cell_type": "markdown",
   "metadata": {},
   "source": [
    "### __Mean Absolute Scaled Error (MASE)__\n",
    "\n",
    "Scaling by the error of another (naive) forecast -> good method to compare baseline forecasts with more sophisticated ones\n",
    "\n",
    "$> 1$ if the forecast is better than the naive"
   ]
  },
  {
   "cell_type": "markdown",
   "metadata": {},
   "source": [
    "$MASE = \\frac{\\frac{1}{J}\\sum\\limits_{j} | \\epsilon_j | }{\\frac{1}{T-1} \\sum\\limits_{t=2}^T | Y_t - Y_{t-1} | }$\n",
    "<br/>\n",
    "<br/>\n",
    "$e_j$: forecast error of naive forecast for given period <br/>\n",
    "$J$: number of forecasts <br/>"
   ]
  },
  {
   "cell_type": "markdown",
   "metadata": {},
   "source": [
    "__Let's write a function which we can use to analyse our forecast performance:__"
   ]
  },
  {
   "cell_type": "code",
   "execution_count": 1,
   "metadata": {},
   "outputs": [],
   "source": [
    "def errors(model, X_train, y_train, X_test, y_test):\n",
    "\n",
    "    train_mae = (sum(abs(y_train - model.predict(X_train)))/len(y_train))\n",
    "    train_mape = (sum(abs((y_train - model.predict(X_train))/y_train)))*(100/len(y_train))\n",
    "    train_smape = sum(abs(y_train - model.predict(X_train)))/sum(y_train + model.predict(X_train))\n",
    "\n",
    "    test_mae = (sum(abs(y_test - model.predict(X_test)))/len(y_test))\n",
    "    test_mape = (sum(abs((y_test - model.predict(X_test))/y_test)))*(100/len(y_test))\n",
    "    test_smape = sum(abs(y_test - model.predict(X_test)))/sum(y_test + model.predict(X_test))\n",
    "\n",
    "    print(f'train_MAE: {train_mae}')\n",
    "    print(f'test_MAE: {test_mae}')\n",
    "    \n",
    "    print(f'train_MAPE: {train_mape}')\n",
    "    print(f'test_MAPE: {test_mape}')\n",
    "    \n",
    "    print(f'train_SMAPE: {train_smape}')\n",
    "    print(f'test_SMAPE: {test_smape}')"
   ]
  }
 ],
 "metadata": {
  "kernelspec": {
   "display_name": "smc",
   "language": "python",
   "name": "smc"
  },
  "language_info": {
   "codemirror_mode": {
    "name": "ipython",
    "version": 3
   },
   "file_extension": ".py",
   "mimetype": "text/x-python",
   "name": "python",
   "nbconvert_exporter": "python",
   "pygments_lexer": "ipython3",
   "version": "3.6.9"
  }
 },
 "nbformat": 4,
 "nbformat_minor": 4
}
