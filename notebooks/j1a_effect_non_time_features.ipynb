{
 "cells": [
  {
   "cell_type": "markdown",
   "metadata": {},
   "source": [
    "## __Forecast of marginal CO2 emissions: effect of lagging and non-time series features__"
   ]
  },
  {
   "cell_type": "code",
   "execution_count": 2,
   "metadata": {},
   "outputs": [],
   "source": [
    "import pandas as pd\n",
    "import numpy as np\n",
    "import os\n",
    "import datetime as dt\n",
    "import joblib\n",
    "\n",
    "import xgboost as xgb\n",
    "from sklearn.model_selection import TimeSeriesSplit, GridSearchCV"
   ]
  },
  {
   "cell_type": "code",
   "execution_count": 3,
   "metadata": {},
   "outputs": [],
   "source": [
    "file_path = '../../big_data/df_clean_interconnectors.pkl'\n",
    "df = pd.read_pickle(file_path)"
   ]
  },
  {
   "cell_type": "markdown",
   "metadata": {},
   "source": [
    "__It is crucial for xgboost to not encounter any NaN values. Let's see:__"
   ]
  },
  {
   "cell_type": "code",
   "execution_count": 4,
   "metadata": {},
   "outputs": [
    {
     "data": {
      "text/plain": [
       "CO2E_EMISSIONS_FACTOR    False\n",
       "weekday                  False\n",
       "year                     False\n",
       "minute_sin               False\n",
       "minute_cos               False\n",
       "hour_sin                 False\n",
       "hour_cos                 False\n",
       "month_sin                False\n",
       "month_cos                False\n",
       "lag1                     False\n",
       "lag2                     False\n",
       "lag3                     False\n",
       "lag4                     False\n",
       "lag5                     False\n",
       "lag6                     False\n",
       "lag7                     False\n",
       "lag8                     False\n",
       "lag9                     False\n",
       "lag10                    False\n",
       "lag11                    False\n",
       "lag12                    False\n",
       "horizon0                 False\n",
       "demand                   False\n",
       "demand_capacity          False\n",
       "interconnector           False\n",
       "dtype: bool"
      ]
     },
     "execution_count": 4,
     "metadata": {},
     "output_type": "execute_result"
    }
   ],
   "source": [
    "df.isna().any()"
   ]
  },
  {
   "cell_type": "code",
   "execution_count": 5,
   "metadata": {},
   "outputs": [
    {
     "data": {
      "text/plain": [
       "(920160, 25)"
      ]
     },
     "execution_count": 5,
     "metadata": {},
     "output_type": "execute_result"
    }
   ],
   "source": [
    "df.shape"
   ]
  },
  {
   "cell_type": "code",
   "execution_count": 6,
   "metadata": {},
   "outputs": [
    {
     "data": {
      "text/html": [
       "<div>\n",
       "<style scoped>\n",
       "    .dataframe tbody tr th:only-of-type {\n",
       "        vertical-align: middle;\n",
       "    }\n",
       "\n",
       "    .dataframe tbody tr th {\n",
       "        vertical-align: top;\n",
       "    }\n",
       "\n",
       "    .dataframe thead th {\n",
       "        text-align: right;\n",
       "    }\n",
       "</style>\n",
       "<table border=\"1\" class=\"dataframe\">\n",
       "  <thead>\n",
       "    <tr style=\"text-align: right;\">\n",
       "      <th></th>\n",
       "      <th>CO2E_EMISSIONS_FACTOR</th>\n",
       "      <th>weekday</th>\n",
       "      <th>year</th>\n",
       "      <th>minute_sin</th>\n",
       "      <th>minute_cos</th>\n",
       "      <th>hour_sin</th>\n",
       "      <th>hour_cos</th>\n",
       "      <th>month_sin</th>\n",
       "      <th>month_cos</th>\n",
       "      <th>lag1</th>\n",
       "      <th>...</th>\n",
       "      <th>lag7</th>\n",
       "      <th>lag8</th>\n",
       "      <th>lag9</th>\n",
       "      <th>lag10</th>\n",
       "      <th>lag11</th>\n",
       "      <th>lag12</th>\n",
       "      <th>horizon0</th>\n",
       "      <th>demand</th>\n",
       "      <th>demand_capacity</th>\n",
       "      <th>interconnector</th>\n",
       "    </tr>\n",
       "  </thead>\n",
       "  <tbody>\n",
       "    <tr>\n",
       "      <th>2009-09-01 00:00:00</th>\n",
       "      <td>0.986067</td>\n",
       "      <td>0</td>\n",
       "      <td>2009</td>\n",
       "      <td>0.000000</td>\n",
       "      <td>1.000000e+00</td>\n",
       "      <td>0.0</td>\n",
       "      <td>1.0</td>\n",
       "      <td>-1.0</td>\n",
       "      <td>-1.836970e-16</td>\n",
       "      <td>1.032780</td>\n",
       "      <td>...</td>\n",
       "      <td>0.938327</td>\n",
       "      <td>0.912643</td>\n",
       "      <td>0.798310</td>\n",
       "      <td>0.980592</td>\n",
       "      <td>0.473708</td>\n",
       "      <td>0.971761</td>\n",
       "      <td>0.986067</td>\n",
       "      <td>1667.12</td>\n",
       "      <td>0.603199</td>\n",
       "      <td>302.86</td>\n",
       "    </tr>\n",
       "    <tr>\n",
       "      <th>2009-09-01 00:05:00</th>\n",
       "      <td>0.976360</td>\n",
       "      <td>0</td>\n",
       "      <td>2009</td>\n",
       "      <td>0.500000</td>\n",
       "      <td>8.660254e-01</td>\n",
       "      <td>0.0</td>\n",
       "      <td>1.0</td>\n",
       "      <td>-1.0</td>\n",
       "      <td>-1.836970e-16</td>\n",
       "      <td>0.986067</td>\n",
       "      <td>...</td>\n",
       "      <td>0.908518</td>\n",
       "      <td>0.938327</td>\n",
       "      <td>0.912643</td>\n",
       "      <td>0.798310</td>\n",
       "      <td>0.980592</td>\n",
       "      <td>0.473708</td>\n",
       "      <td>0.976360</td>\n",
       "      <td>1657.52</td>\n",
       "      <td>0.599962</td>\n",
       "      <td>300.00</td>\n",
       "    </tr>\n",
       "    <tr>\n",
       "      <th>2009-09-01 00:10:00</th>\n",
       "      <td>0.976889</td>\n",
       "      <td>0</td>\n",
       "      <td>2009</td>\n",
       "      <td>0.866025</td>\n",
       "      <td>5.000000e-01</td>\n",
       "      <td>0.0</td>\n",
       "      <td>1.0</td>\n",
       "      <td>-1.0</td>\n",
       "      <td>-1.836970e-16</td>\n",
       "      <td>0.976360</td>\n",
       "      <td>...</td>\n",
       "      <td>0.971761</td>\n",
       "      <td>0.908518</td>\n",
       "      <td>0.938327</td>\n",
       "      <td>0.912643</td>\n",
       "      <td>0.798310</td>\n",
       "      <td>0.980592</td>\n",
       "      <td>0.976889</td>\n",
       "      <td>1650.15</td>\n",
       "      <td>0.596877</td>\n",
       "      <td>290.52</td>\n",
       "    </tr>\n",
       "    <tr>\n",
       "      <th>2009-09-01 00:15:00</th>\n",
       "      <td>1.032780</td>\n",
       "      <td>0</td>\n",
       "      <td>2009</td>\n",
       "      <td>1.000000</td>\n",
       "      <td>2.832769e-16</td>\n",
       "      <td>0.0</td>\n",
       "      <td>1.0</td>\n",
       "      <td>-1.0</td>\n",
       "      <td>-1.836970e-16</td>\n",
       "      <td>0.976889</td>\n",
       "      <td>...</td>\n",
       "      <td>0.980592</td>\n",
       "      <td>0.971761</td>\n",
       "      <td>0.908518</td>\n",
       "      <td>0.938327</td>\n",
       "      <td>0.912643</td>\n",
       "      <td>0.798310</td>\n",
       "      <td>1.032780</td>\n",
       "      <td>1630.66</td>\n",
       "      <td>0.589438</td>\n",
       "      <td>260.75</td>\n",
       "    </tr>\n",
       "    <tr>\n",
       "      <th>2009-09-01 00:20:00</th>\n",
       "      <td>0.975655</td>\n",
       "      <td>0</td>\n",
       "      <td>2009</td>\n",
       "      <td>0.866025</td>\n",
       "      <td>-5.000000e-01</td>\n",
       "      <td>0.0</td>\n",
       "      <td>1.0</td>\n",
       "      <td>-1.0</td>\n",
       "      <td>-1.836970e-16</td>\n",
       "      <td>1.032780</td>\n",
       "      <td>...</td>\n",
       "      <td>0.903942</td>\n",
       "      <td>0.980592</td>\n",
       "      <td>0.971761</td>\n",
       "      <td>0.908518</td>\n",
       "      <td>0.938327</td>\n",
       "      <td>0.912643</td>\n",
       "      <td>0.975655</td>\n",
       "      <td>1628.96</td>\n",
       "      <td>0.587282</td>\n",
       "      <td>256.98</td>\n",
       "    </tr>\n",
       "  </tbody>\n",
       "</table>\n",
       "<p>5 rows × 25 columns</p>\n",
       "</div>"
      ],
      "text/plain": [
       "                     CO2E_EMISSIONS_FACTOR  weekday  year  minute_sin  \\\n",
       "2009-09-01 00:00:00               0.986067        0  2009    0.000000   \n",
       "2009-09-01 00:05:00               0.976360        0  2009    0.500000   \n",
       "2009-09-01 00:10:00               0.976889        0  2009    0.866025   \n",
       "2009-09-01 00:15:00               1.032780        0  2009    1.000000   \n",
       "2009-09-01 00:20:00               0.975655        0  2009    0.866025   \n",
       "\n",
       "                       minute_cos  hour_sin  hour_cos  month_sin  \\\n",
       "2009-09-01 00:00:00  1.000000e+00       0.0       1.0       -1.0   \n",
       "2009-09-01 00:05:00  8.660254e-01       0.0       1.0       -1.0   \n",
       "2009-09-01 00:10:00  5.000000e-01       0.0       1.0       -1.0   \n",
       "2009-09-01 00:15:00  2.832769e-16       0.0       1.0       -1.0   \n",
       "2009-09-01 00:20:00 -5.000000e-01       0.0       1.0       -1.0   \n",
       "\n",
       "                        month_cos      lag1  ...      lag7      lag8  \\\n",
       "2009-09-01 00:00:00 -1.836970e-16  1.032780  ...  0.938327  0.912643   \n",
       "2009-09-01 00:05:00 -1.836970e-16  0.986067  ...  0.908518  0.938327   \n",
       "2009-09-01 00:10:00 -1.836970e-16  0.976360  ...  0.971761  0.908518   \n",
       "2009-09-01 00:15:00 -1.836970e-16  0.976889  ...  0.980592  0.971761   \n",
       "2009-09-01 00:20:00 -1.836970e-16  1.032780  ...  0.903942  0.980592   \n",
       "\n",
       "                         lag9     lag10     lag11     lag12  horizon0  \\\n",
       "2009-09-01 00:00:00  0.798310  0.980592  0.473708  0.971761  0.986067   \n",
       "2009-09-01 00:05:00  0.912643  0.798310  0.980592  0.473708  0.976360   \n",
       "2009-09-01 00:10:00  0.938327  0.912643  0.798310  0.980592  0.976889   \n",
       "2009-09-01 00:15:00  0.908518  0.938327  0.912643  0.798310  1.032780   \n",
       "2009-09-01 00:20:00  0.971761  0.908518  0.938327  0.912643  0.975655   \n",
       "\n",
       "                      demand  demand_capacity  interconnector  \n",
       "2009-09-01 00:00:00  1667.12         0.603199          302.86  \n",
       "2009-09-01 00:05:00  1657.52         0.599962          300.00  \n",
       "2009-09-01 00:10:00  1650.15         0.596877          290.52  \n",
       "2009-09-01 00:15:00  1630.66         0.589438          260.75  \n",
       "2009-09-01 00:20:00  1628.96         0.587282          256.98  \n",
       "\n",
       "[5 rows x 25 columns]"
      ]
     },
     "execution_count": 6,
     "metadata": {},
     "output_type": "execute_result"
    }
   ],
   "source": [
    "df.head()"
   ]
  },
  {
   "cell_type": "code",
   "execution_count": 7,
   "metadata": {},
   "outputs": [],
   "source": [
    "def train_validation_ts(df, relative_train, maximal_lag, horizon):\n",
    "    '''\n",
    "    Time series (ts) split function creates a train/test set under consideration of potential overlap between the two due to lag processing\n",
    "    X_train, y_train, X_test, y_test = ...\n",
    "    df=must contain target column as \"target\"; all other columns must be used as features\n",
    "    percentage_train=how much of the total dataset shall be used for training; must be added between 0 - 1\n",
    "    maximal_lag=out of all lag feature engineering, enter the maximal lag number\n",
    "    '''\n",
    "    k = int(df.shape[0] * relative_train)\n",
    "    data_train = df.iloc[:k,:]\n",
    "    #to avoid overlapping of train and test data, a gap of the maximal lag - 1 must be included between the two sets\n",
    "    data_test = df.iloc[k+maximal_lag:,:]\n",
    "    \n",
    "    assert data_train.index.max() < data_test.index.min()\n",
    "    \n",
    "    #returns in the sequence X_train, y_train, X_test, y_test\n",
    "    return (data_train.drop(columns=[f\"horizon{horizon}\",\"CO2E_EMISSIONS_FACTOR\"], axis=1), data_train[f\"horizon{horizon}\"],\n",
    "            data_test.drop(columns=[f\"horizon{horizon}\",\"CO2E_EMISSIONS_FACTOR\"], axis=1), data_test[f\"horizon{horizon}\"])"
   ]
  },
  {
   "cell_type": "code",
   "execution_count": 8,
   "metadata": {},
   "outputs": [],
   "source": [
    "def errors(model, X_train, y_train, X_test, y_test):\n",
    "\n",
    "    train_mae = (sum(abs(y_train - model.predict(X_train)))/len(y_train))\n",
    "    train_mape = (sum(abs((y_train - model.predict(X_train))/y_train)))*(100/len(y_train))\n",
    "    train_smape = sum(abs(y_train - model.predict(X_train)))/sum(y_train + model.predict(X_train))\n",
    "\n",
    "    test_mae = (sum(abs(y_test - model.predict(X_test)))/len(y_test))\n",
    "    test_mape = (sum(abs((y_test - model.predict(X_test))/y_test)))*(100/len(y_test))\n",
    "    test_smape = sum(abs(y_test - model.predict(X_test)))/sum(y_test + model.predict(X_test))\n",
    "\n",
    "    print(f'train_MAE: {train_mae}')\n",
    "    print(f'test_MAE: {test_mae}')\n",
    "    \n",
    "    print(f'train_MAPE: {train_mape}')\n",
    "    print(f'test_MAPE: {test_mape}')\n",
    "    \n",
    "    print(f'train_SMAPE: {train_smape}')\n",
    "    print(f'test_SMAPE: {test_smape}')"
   ]
  },
  {
   "cell_type": "markdown",
   "metadata": {},
   "source": [
    "### __Training with no demand and interconncetors__"
   ]
  },
  {
   "cell_type": "code",
   "execution_count": 9,
   "metadata": {},
   "outputs": [
    {
     "name": "stderr",
     "output_type": "stream",
     "text": [
      "/home/user/venvs/smc/lib/python3.6/site-packages/xgboost/core.py:587: FutureWarning: Series.base is deprecated and will be removed in a future version\n",
      "  if getattr(data, 'base', None) is not None and \\\n",
      "/home/user/venvs/smc/lib/python3.6/site-packages/xgboost/core.py:588: FutureWarning: Series.base is deprecated and will be removed in a future version\n",
      "  data.base is not None and isinstance(data, np.ndarray) \\\n"
     ]
    },
    {
     "name": "stdout",
     "output_type": "stream",
     "text": [
      "[15:21:49] WARNING: /workspace/src/objective/regression_obj.cu:152: reg:linear is now deprecated in favor of reg:squarederror.\n",
      "train_MAE: 0.19634647785729523\n",
      "test_MAE: 0.2079189048272252\n",
      "train_MAPE: inf\n",
      "test_MAPE: inf\n",
      "train_SMAPE: 0.13949958875843474\n",
      "test_SMAPE: 0.16148983467267983\n"
     ]
    }
   ],
   "source": [
    "df1 = df.drop(columns=[\"demand\", \"demand_capacity\", \"interconnector\"])\n",
    "\n",
    "X_train1, y_train1, X_val1, y_val1 = train_validation_ts(df1, 0.8, 12, 0)\n",
    "\n",
    "model1 = xgb.XGBRegressor(max_depth=5,\n",
    "                         learning_rate=0.1,\n",
    "                         num_estimators=100,\n",
    "                         n_jobs=7,\n",
    "                         reg_alpha=0.05,\n",
    "                         reg_lambda=0,\n",
    "                        )\n",
    "\n",
    "model1.fit(X_train1, y_train1)\n",
    "\n",
    "errors(model1,X_train1, y_train1, X_val1, y_val1)"
   ]
  },
  {
   "cell_type": "markdown",
   "metadata": {},
   "source": [
    "### __Training with demand__"
   ]
  },
  {
   "cell_type": "code",
   "execution_count": 11,
   "metadata": {},
   "outputs": [
    {
     "name": "stdout",
     "output_type": "stream",
     "text": [
      "[15:23:24] WARNING: /workspace/src/objective/regression_obj.cu:152: reg:linear is now deprecated in favor of reg:squarederror.\n",
      "train_MAE: 0.19614051542470323\n",
      "test_MAE: 0.2077163555725931\n",
      "train_MAPE: inf\n",
      "test_MAPE: inf\n",
      "train_SMAPE: 0.13935325194307954\n",
      "test_SMAPE: 0.16126737874512465\n"
     ]
    }
   ],
   "source": [
    "df2 = df.drop(columns=\"interconnector\")\n",
    "\n",
    "X_train2, y_train2, X_val2, y_val2 = train_validation_ts(df2, 0.8, 12, 0)\n",
    "\n",
    "model2 = xgb.XGBRegressor(max_depth=5,\n",
    "                         learning_rate=0.1,\n",
    "                         num_estimators=100,\n",
    "                         n_jobs=7,\n",
    "                         reg_alpha=0.05,\n",
    "                         reg_lambda=0,\n",
    "                        )\n",
    "\n",
    "model2.fit(X_train2, y_train2)\n",
    "\n",
    "errors(model2, X_train2, y_train2, X_val2, y_val2)"
   ]
  },
  {
   "cell_type": "markdown",
   "metadata": {},
   "source": [
    "### __Training with interconnectors__"
   ]
  },
  {
   "cell_type": "code",
   "execution_count": 15,
   "metadata": {},
   "outputs": [
    {
     "name": "stdout",
     "output_type": "stream",
     "text": [
      "[15:26:19] WARNING: /workspace/src/objective/regression_obj.cu:152: reg:linear is now deprecated in favor of reg:squarederror.\n",
      "train_MAE: 0.1963061202823627\n",
      "test_MAE: 0.2083725963713885\n",
      "train_MAPE: inf\n",
      "test_MAPE: inf\n",
      "train_SMAPE: 0.13947091972861783\n",
      "test_SMAPE: 0.16224841562813572\n"
     ]
    }
   ],
   "source": [
    "df3 = df.drop(columns=[\"demand\", \"demand_capacity\"])\n",
    "\n",
    "X_train3, y_train3, X_val3, y_val3 = train_validation_ts(df3, 0.8, 12, 0)\n",
    "\n",
    "model3 = xgb.XGBRegressor(max_depth=5,\n",
    "                         learning_rate=0.1,\n",
    "                         num_estimators=100,\n",
    "                         n_jobs=7,\n",
    "                         reg_alpha=0.05,\n",
    "                         reg_lambda=0,\n",
    "                        )\n",
    "\n",
    "model3.fit(X_train3, y_train3)\n",
    "\n",
    "errors(model3, X_train3, y_train3, X_val3, y_val3)"
   ]
  },
  {
   "cell_type": "markdown",
   "metadata": {},
   "source": [
    "### __Training with demand and interconnectors__"
   ]
  },
  {
   "cell_type": "code",
   "execution_count": 16,
   "metadata": {},
   "outputs": [
    {
     "name": "stdout",
     "output_type": "stream",
     "text": [
      "Index(['weekday', 'year', 'minute_sin', 'minute_cos', 'hour_sin', 'hour_cos',\n",
      "       'month_sin', 'month_cos', 'lag1', 'lag2', 'lag3', 'lag4', 'lag5',\n",
      "       'lag6', 'lag7', 'lag8', 'lag9', 'lag10', 'lag11', 'lag12', 'demand',\n",
      "       'demand_capacity', 'interconnector'],\n",
      "      dtype='object')\n",
      "Index(['weekday', 'year', 'minute_sin', 'minute_cos', 'hour_sin', 'hour_cos',\n",
      "       'month_sin', 'month_cos', 'lag1', 'lag2', 'lag3', 'lag4', 'lag5',\n",
      "       'lag6', 'lag7', 'lag8', 'lag9', 'lag10', 'lag11', 'lag12', 'demand',\n",
      "       'demand_capacity', 'interconnector'],\n",
      "      dtype='object')\n",
      "2016-08-30 23:55:00\n",
      "2016-08-31 01:00:00\n",
      "[15:27:01] WARNING: /workspace/src/objective/regression_obj.cu:152: reg:linear is now deprecated in favor of reg:squarederror.\n",
      "train_MAE: 0.1960687095270836\n",
      "test_MAE: 0.2078975412755377\n",
      "train_MAPE: inf\n",
      "test_MAPE: inf\n",
      "train_SMAPE: 0.13930223810527195\n",
      "test_SMAPE: 0.1614946632702779\n"
     ]
    }
   ],
   "source": [
    "X_train, y_train, X_val, y_val = train_validation_ts(df, 0.8, 12, 0)\n",
    "\n",
    "print(X_train.columns)\n",
    "print(X_val.columns)\n",
    "\n",
    "print(X_train.index.max())\n",
    "print(X_val.index.min())\n",
    "\n",
    "model = xgb.XGBRegressor(max_depth=5,\n",
    "                         learning_rate=0.1,\n",
    "                         num_estimators=100,\n",
    "                         n_jobs=7,\n",
    "                         reg_alpha=0.05,\n",
    "                         reg_lambda=0,\n",
    "                        )\n",
    "\n",
    "model.fit(X_train, y_train)\n",
    "\n",
    "errors(model, X_train, y_train, X_val, y_val)"
   ]
  },
  {
   "cell_type": "code",
   "execution_count": null,
   "metadata": {},
   "outputs": [],
   "source": []
  },
  {
   "cell_type": "code",
   "execution_count": null,
   "metadata": {},
   "outputs": [],
   "source": []
  },
  {
   "cell_type": "code",
   "execution_count": 29,
   "metadata": {},
   "outputs": [],
   "source": [
    "def plot_feature_importances(rf, cols, model_dir):\n",
    "    importances = pd.DataFrame()\n",
    "    importances.loc[:, 'importances'] = rf.feature_importances_\n",
    "    importances.loc[:, 'features'] = cols\n",
    "    importances.sort_values('importances', inplace=True)\n",
    "    f, a = plt.subplots()\n",
    "    importances.plot(ax=a, kind='bar', x='features', y='importances')\n",
    "    plt.gcf().subplots_adjust(bottom=0.3)\n",
    "    f.savefig(os.path.join(model_dir, 'importances.png'))"
   ]
  },
  {
   "cell_type": "code",
   "execution_count": 30,
   "metadata": {},
   "outputs": [
    {
     "ename": "NameError",
     "evalue": "name 'plt' is not defined",
     "output_type": "error",
     "traceback": [
      "\u001b[0;31m---------------------------------------------------------------------------\u001b[0m",
      "\u001b[0;31mNameError\u001b[0m                                 Traceback (most recent call last)",
      "\u001b[0;32m<ipython-input-30-1fa0245dbccb>\u001b[0m in \u001b[0;36m<module>\u001b[0;34m\u001b[0m\n\u001b[0;32m----> 1\u001b[0;31m \u001b[0mplot_feature_importances\u001b[0m\u001b[0;34m(\u001b[0m\u001b[0mmodel5\u001b[0m\u001b[0;34m,\u001b[0m \u001b[0mdf5\u001b[0m\u001b[0;34m.\u001b[0m\u001b[0miloc\u001b[0m\u001b[0;34m[\u001b[0m\u001b[0;34m:\u001b[0m\u001b[0;34m,\u001b[0m\u001b[0;36m1\u001b[0m\u001b[0;34m:\u001b[0m\u001b[0;34m]\u001b[0m\u001b[0;34m,\u001b[0m\u001b[0;34m'{}/nem-data/trainings/'\u001b[0m\u001b[0;34m.\u001b[0m\u001b[0mformat\u001b[0m\u001b[0;34m(\u001b[0m\u001b[0mos\u001b[0m\u001b[0;34m.\u001b[0m\u001b[0menviron\u001b[0m\u001b[0;34m[\u001b[0m\u001b[0;34m'HOME'\u001b[0m\u001b[0;34m]\u001b[0m\u001b[0;34m)\u001b[0m\u001b[0;34m)\u001b[0m\u001b[0;34m\u001b[0m\u001b[0;34m\u001b[0m\u001b[0m\n\u001b[0m",
      "\u001b[0;32m<ipython-input-29-89b843bbf98f>\u001b[0m in \u001b[0;36mplot_feature_importances\u001b[0;34m(rf, cols, model_dir)\u001b[0m\n\u001b[1;32m      4\u001b[0m     \u001b[0mimportances\u001b[0m\u001b[0;34m.\u001b[0m\u001b[0mloc\u001b[0m\u001b[0;34m[\u001b[0m\u001b[0;34m:\u001b[0m\u001b[0;34m,\u001b[0m \u001b[0;34m'features'\u001b[0m\u001b[0;34m]\u001b[0m \u001b[0;34m=\u001b[0m \u001b[0mcols\u001b[0m\u001b[0;34m\u001b[0m\u001b[0;34m\u001b[0m\u001b[0m\n\u001b[1;32m      5\u001b[0m     \u001b[0mimportances\u001b[0m\u001b[0;34m.\u001b[0m\u001b[0msort_values\u001b[0m\u001b[0;34m(\u001b[0m\u001b[0;34m'importances'\u001b[0m\u001b[0;34m,\u001b[0m \u001b[0minplace\u001b[0m\u001b[0;34m=\u001b[0m\u001b[0;32mTrue\u001b[0m\u001b[0;34m)\u001b[0m\u001b[0;34m\u001b[0m\u001b[0;34m\u001b[0m\u001b[0m\n\u001b[0;32m----> 6\u001b[0;31m     \u001b[0mf\u001b[0m\u001b[0;34m,\u001b[0m \u001b[0ma\u001b[0m \u001b[0;34m=\u001b[0m \u001b[0mplt\u001b[0m\u001b[0;34m.\u001b[0m\u001b[0msubplots\u001b[0m\u001b[0;34m(\u001b[0m\u001b[0;34m)\u001b[0m\u001b[0;34m\u001b[0m\u001b[0;34m\u001b[0m\u001b[0m\n\u001b[0m\u001b[1;32m      7\u001b[0m     \u001b[0mimportances\u001b[0m\u001b[0;34m.\u001b[0m\u001b[0mplot\u001b[0m\u001b[0;34m(\u001b[0m\u001b[0max\u001b[0m\u001b[0;34m=\u001b[0m\u001b[0ma\u001b[0m\u001b[0;34m,\u001b[0m \u001b[0mkind\u001b[0m\u001b[0;34m=\u001b[0m\u001b[0;34m'bar'\u001b[0m\u001b[0;34m,\u001b[0m \u001b[0mx\u001b[0m\u001b[0;34m=\u001b[0m\u001b[0;34m'features'\u001b[0m\u001b[0;34m,\u001b[0m \u001b[0my\u001b[0m\u001b[0;34m=\u001b[0m\u001b[0;34m'importances'\u001b[0m\u001b[0;34m)\u001b[0m\u001b[0;34m\u001b[0m\u001b[0;34m\u001b[0m\u001b[0m\n\u001b[1;32m      8\u001b[0m     \u001b[0mplt\u001b[0m\u001b[0;34m.\u001b[0m\u001b[0mgcf\u001b[0m\u001b[0;34m(\u001b[0m\u001b[0;34m)\u001b[0m\u001b[0;34m.\u001b[0m\u001b[0msubplots_adjust\u001b[0m\u001b[0;34m(\u001b[0m\u001b[0mbottom\u001b[0m\u001b[0;34m=\u001b[0m\u001b[0;36m0.3\u001b[0m\u001b[0;34m)\u001b[0m\u001b[0;34m\u001b[0m\u001b[0;34m\u001b[0m\u001b[0m\n",
      "\u001b[0;31mNameError\u001b[0m: name 'plt' is not defined"
     ]
    }
   ],
   "source": [
    "plot_feature_importances(model5, df5.iloc[:,1:],'{}/nem-data/trainings/'.format(os.environ['HOME']))"
   ]
  },
  {
   "cell_type": "code",
   "execution_count": null,
   "metadata": {},
   "outputs": [],
   "source": [
    "model5.feature_importances_"
   ]
  }
 ],
 "metadata": {
  "kernelspec": {
   "display_name": "smc",
   "language": "python",
   "name": "smc"
  },
  "language_info": {
   "codemirror_mode": {
    "name": "ipython",
    "version": 3
   },
   "file_extension": ".py",
   "mimetype": "text/x-python",
   "name": "python",
   "nbconvert_exporter": "python",
   "pygments_lexer": "ipython3",
   "version": "3.6.9"
  }
 },
 "nbformat": 4,
 "nbformat_minor": 4
}
