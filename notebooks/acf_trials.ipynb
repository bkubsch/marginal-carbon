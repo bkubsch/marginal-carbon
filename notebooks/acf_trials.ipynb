{
 "cells": [
  {
   "cell_type": "code",
   "execution_count": 2,
   "metadata": {},
   "outputs": [],
   "source": [
    "import pandas as pd\n",
    "import os\n",
    "import datetime as dt\n",
    "\n",
    "import statsmodels.api as sm\n",
    "#from statsmodels.tsa.stattools import acovf, acf, pacf, pacf_yw, pacf_ols\n",
    "from statsmodels.graphics.tsaplots import plot_acf, plot_pacf"
   ]
  },
  {
   "cell_type": "code",
   "execution_count": 5,
   "metadata": {},
   "outputs": [
    {
     "name": "stdout",
     "output_type": "stream",
     "text": [
      "(911171, 3)\n"
     ]
    },
    {
     "data": {
      "text/html": [
       "<div>\n",
       "<style scoped>\n",
       "    .dataframe tbody tr th:only-of-type {\n",
       "        vertical-align: middle;\n",
       "    }\n",
       "\n",
       "    .dataframe tbody tr th {\n",
       "        vertical-align: top;\n",
       "    }\n",
       "\n",
       "    .dataframe thead th {\n",
       "        text-align: right;\n",
       "    }\n",
       "</style>\n",
       "<table border=\"1\" class=\"dataframe\">\n",
       "  <thead>\n",
       "    <tr style=\"text-align: right;\">\n",
       "      <th></th>\n",
       "      <th>Price</th>\n",
       "      <th>CO2E_EMISSIONS_FACTOR</th>\n",
       "      <th>CO2_group</th>\n",
       "    </tr>\n",
       "    <tr>\n",
       "      <th>PeriodID</th>\n",
       "      <th></th>\n",
       "      <th></th>\n",
       "      <th></th>\n",
       "    </tr>\n",
       "  </thead>\n",
       "  <tbody>\n",
       "    <tr>\n",
       "      <td>2018-07-31 23:55:00</td>\n",
       "      <td>70.70204</td>\n",
       "      <td>0.910143</td>\n",
       "      <td>0.89508</td>\n",
       "    </tr>\n",
       "    <tr>\n",
       "      <td>2018-07-31 23:50:00</td>\n",
       "      <td>69.24109</td>\n",
       "      <td>0.728114</td>\n",
       "      <td>0.59672</td>\n",
       "    </tr>\n",
       "    <tr>\n",
       "      <td>2018-07-31 23:45:00</td>\n",
       "      <td>69.94850</td>\n",
       "      <td>0.910143</td>\n",
       "      <td>0.89508</td>\n",
       "    </tr>\n",
       "    <tr>\n",
       "      <td>2018-07-31 23:40:00</td>\n",
       "      <td>74.04497</td>\n",
       "      <td>0.908305</td>\n",
       "      <td>0.89508</td>\n",
       "    </tr>\n",
       "    <tr>\n",
       "      <td>2018-07-31 23:35:00</td>\n",
       "      <td>76.44245</td>\n",
       "      <td>0.971761</td>\n",
       "      <td>0.89508</td>\n",
       "    </tr>\n",
       "  </tbody>\n",
       "</table>\n",
       "</div>"
      ],
      "text/plain": [
       "                        Price  CO2E_EMISSIONS_FACTOR CO2_group\n",
       "PeriodID                                                      \n",
       "2018-07-31 23:55:00  70.70204               0.910143   0.89508\n",
       "2018-07-31 23:50:00  69.24109               0.728114   0.59672\n",
       "2018-07-31 23:45:00  69.94850               0.910143   0.89508\n",
       "2018-07-31 23:40:00  74.04497               0.908305   0.89508\n",
       "2018-07-31 23:35:00  76.44245               0.971761   0.89508"
      ]
     },
     "execution_count": 5,
     "metadata": {},
     "output_type": "execute_result"
    }
   ],
   "source": [
    "file_path = '{}/nem-data/nemde_clean/df_DUID_CO2_price.pkl'.format(os.environ['HOME'])\n",
    "df_DUID_CO2_price = pd.read_pickle(file_path)\n",
    "print(df_DUID_CO2_price.shape)\n",
    "df_DUID_CO2_price.head()"
   ]
  },
  {
   "cell_type": "code",
   "execution_count": 6,
   "metadata": {},
   "outputs": [
    {
     "data": {
      "text/html": [
       "<div>\n",
       "<style scoped>\n",
       "    .dataframe tbody tr th:only-of-type {\n",
       "        vertical-align: middle;\n",
       "    }\n",
       "\n",
       "    .dataframe tbody tr th {\n",
       "        vertical-align: top;\n",
       "    }\n",
       "\n",
       "    .dataframe thead th {\n",
       "        text-align: right;\n",
       "    }\n",
       "</style>\n",
       "<table border=\"1\" class=\"dataframe\">\n",
       "  <thead>\n",
       "    <tr style=\"text-align: right;\">\n",
       "      <th></th>\n",
       "      <th>Price</th>\n",
       "      <th>CO2E_EMISSIONS_FACTOR</th>\n",
       "      <th>CO2_group</th>\n",
       "    </tr>\n",
       "    <tr>\n",
       "      <th>PeriodID</th>\n",
       "      <th></th>\n",
       "      <th></th>\n",
       "      <th></th>\n",
       "    </tr>\n",
       "  </thead>\n",
       "  <tbody>\n",
       "    <tr>\n",
       "      <td>2018-05-31 23:55:00</td>\n",
       "      <td>72.54360</td>\n",
       "      <td>0.605537</td>\n",
       "      <td>0.59672</td>\n",
       "    </tr>\n",
       "    <tr>\n",
       "      <td>2018-05-31 23:50:00</td>\n",
       "      <td>70.32848</td>\n",
       "      <td>0.912643</td>\n",
       "      <td>0.89508</td>\n",
       "    </tr>\n",
       "    <tr>\n",
       "      <td>2018-05-31 23:45:00</td>\n",
       "      <td>72.52576</td>\n",
       "      <td>0.908518</td>\n",
       "      <td>0.89508</td>\n",
       "    </tr>\n",
       "    <tr>\n",
       "      <td>2018-05-31 23:40:00</td>\n",
       "      <td>82.87810</td>\n",
       "      <td>0.608429</td>\n",
       "      <td>0.59672</td>\n",
       "    </tr>\n",
       "    <tr>\n",
       "      <td>2018-05-31 23:35:00</td>\n",
       "      <td>135.00004</td>\n",
       "      <td>0.694855</td>\n",
       "      <td>0.59672</td>\n",
       "    </tr>\n",
       "  </tbody>\n",
       "</table>\n",
       "</div>"
      ],
      "text/plain": [
       "                         Price  CO2E_EMISSIONS_FACTOR CO2_group\n",
       "PeriodID                                                       \n",
       "2018-05-31 23:55:00   72.54360               0.605537   0.59672\n",
       "2018-05-31 23:50:00   70.32848               0.912643   0.89508\n",
       "2018-05-31 23:45:00   72.52576               0.908518   0.89508\n",
       "2018-05-31 23:40:00   82.87810               0.608429   0.59672\n",
       "2018-05-31 23:35:00  135.00004               0.694855   0.59672"
      ]
     },
     "execution_count": 6,
     "metadata": {},
     "output_type": "execute_result"
    }
   ],
   "source": [
    "df_DUID_CO2_price1 = df_DUID_CO2_price[(df_DUID_CO2_price.index > dt.datetime(2017,1,1)) &\n",
    "                                       (df_DUID_CO2_price.index < dt.datetime(2018,6,1))]\n",
    "df_DUID_CO2_price1.head()"
   ]
  },
  {
   "cell_type": "code",
   "execution_count": 23,
   "metadata": {},
   "outputs": [
    {
     "data": {
      "image/png": "[encoded data removed]",
      "text/plain": [
       "<Figure size 432x288 with 1 Axes>"
      ]
     },
     "metadata": {
      "needs_background": "light"
     },
     "output_type": "display_data"
    }
   ],
   "source": [
    "plot_acf(df_DUID_CO2_price1.CO2E_EMISSIONS_FACTOR,lags=10000);"
   ]
  },
  {
   "cell_type": "code",
   "execution_count": 9,
   "metadata": {},
   "outputs": [
    {
     "data": {
      "image/png": "[encoded data removed]",
      "text/plain": [
       "<Figure size 432x288 with 1 Axes>"
      ]
     },
     "metadata": {
      "needs_background": "light"
     },
     "output_type": "display_data"
    }
   ],
   "source": [
    "plot_pacf(df_DUID_CO2_price1.CO2E_EMISSIONS_FACTOR,lags=100);"
   ]
  },
  {
   "cell_type": "code",
   "execution_count": 8,
   "metadata": {},
   "outputs": [
    {
     "data": {
      "text/html": [
       "<div>\n",
       "<style scoped>\n",
       "    .dataframe tbody tr th:only-of-type {\n",
       "        vertical-align: middle;\n",
       "    }\n",
       "\n",
       "    .dataframe tbody tr th {\n",
       "        vertical-align: top;\n",
       "    }\n",
       "\n",
       "    .dataframe thead th {\n",
       "        text-align: right;\n",
       "    }\n",
       "</style>\n",
       "<table border=\"1\" class=\"dataframe\">\n",
       "  <thead>\n",
       "    <tr style=\"text-align: right;\">\n",
       "      <th></th>\n",
       "      <th>Price</th>\n",
       "      <th>CO2E_EMISSIONS_FACTOR</th>\n",
       "      <th>CO2_group</th>\n",
       "    </tr>\n",
       "    <tr>\n",
       "      <th>PeriodID</th>\n",
       "      <th></th>\n",
       "      <th></th>\n",
       "      <th></th>\n",
       "    </tr>\n",
       "  </thead>\n",
       "  <tbody>\n",
       "    <tr>\n",
       "      <td>2018-05-31 23:55:00</td>\n",
       "      <td>72.54360</td>\n",
       "      <td>0.605537</td>\n",
       "      <td>0.59672</td>\n",
       "    </tr>\n",
       "    <tr>\n",
       "      <td>2018-05-31 23:50:00</td>\n",
       "      <td>70.32848</td>\n",
       "      <td>0.912643</td>\n",
       "      <td>0.89508</td>\n",
       "    </tr>\n",
       "    <tr>\n",
       "      <td>2018-05-31 23:45:00</td>\n",
       "      <td>72.52576</td>\n",
       "      <td>0.908518</td>\n",
       "      <td>0.89508</td>\n",
       "    </tr>\n",
       "    <tr>\n",
       "      <td>2018-05-31 23:40:00</td>\n",
       "      <td>82.87810</td>\n",
       "      <td>0.608429</td>\n",
       "      <td>0.59672</td>\n",
       "    </tr>\n",
       "    <tr>\n",
       "      <td>2018-05-31 23:35:00</td>\n",
       "      <td>135.00004</td>\n",
       "      <td>0.694855</td>\n",
       "      <td>0.59672</td>\n",
       "    </tr>\n",
       "  </tbody>\n",
       "</table>\n",
       "</div>"
      ],
      "text/plain": [
       "                         Price  CO2E_EMISSIONS_FACTOR CO2_group\n",
       "PeriodID                                                       \n",
       "2018-05-31 23:55:00   72.54360               0.605537   0.59672\n",
       "2018-05-31 23:50:00   70.32848               0.912643   0.89508\n",
       "2018-05-31 23:45:00   72.52576               0.908518   0.89508\n",
       "2018-05-31 23:40:00   82.87810               0.608429   0.59672\n",
       "2018-05-31 23:35:00  135.00004               0.694855   0.59672"
      ]
     },
     "execution_count": 8,
     "metadata": {},
     "output_type": "execute_result"
    }
   ],
   "source": [
    "df_DUID_CO2_price2 = df_DUID_CO2_price[(df_DUID_CO2_price.index > dt.datetime(2018,5,15)) &\n",
    "                                       (df_DUID_CO2_price.index < dt.datetime(2018,6,1))]\n",
    "df_DUID_CO2_price2.head()"
   ]
  },
  {
   "cell_type": "code",
   "execution_count": null,
   "metadata": {},
   "outputs": [],
   "source": []
  }
 ],
 "metadata": {
  "kernelspec": {
   "display_name": "Python 3",
   "language": "python",
   "name": "python3"
  },
  "language_info": {
   "codemirror_mode": {
    "name": "ipython",
    "version": 3
   },
   "file_extension": ".py",
   "mimetype": "text/x-python",
   "name": "python",
   "nbconvert_exporter": "python",
   "pygments_lexer": "ipython3",
   "version": "3.6.8"
  }
 },
 "nbformat": 4,
 "nbformat_minor": 4
}
