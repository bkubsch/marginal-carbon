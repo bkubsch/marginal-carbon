{
 "cells": [
  {
   "cell_type": "markdown",
   "metadata": {},
   "source": [
    "# __Clean dataset for dispatch prices__"
   ]
  },
  {
   "cell_type": "code",
   "execution_count": 35,
   "metadata": {},
   "outputs": [],
   "source": [
    "import pandas as pd\n",
    "import datetime as dt\n",
    "import pytz\n",
    "import os"
   ]
  },
  {
   "cell_type": "markdown",
   "metadata": {},
   "source": [
    "## __Load filtered and concatenated dataframe__"
   ]
  },
  {
   "cell_type": "code",
   "execution_count": 36,
   "metadata": {},
   "outputs": [],
   "source": [
    "def mod_concat_NEMDE(file_path):\n",
    "    df = pd.read_pickle(file_path)\n",
    "    df.drop(columns=[\"BandNo\",\"RRNBandPrice\",\"BandCost\"], inplace=True)\n",
    "    df = df.set_index('PeriodID', drop=True)\n",
    "    df.index = pd.to_datetime(df.index).tz_localize(None)\n",
    "    df[[\"Price\", \"Increase\"]] = df[[\"Price\", \"Increase\"]].astype(float)\n",
    "    df.sort_index(inplace=True, ascending=True)\n",
    "    df.index = df.index - dt.timedelta(minutes=5)\n",
    "    df.rename(columns={\"Unit\":\"DUID\"}, inplace=True)\n",
    "    assert df[\"Price\"].dtype == float\n",
    "    assert df[\"Increase\"].dtype == float\n",
    "    assert not df.isna().any().any()\n",
    "    return df"
   ]
  },
  {
   "cell_type": "markdown",
   "metadata": {},
   "source": [
    "### __Loading dataset__"
   ]
  },
  {
   "cell_type": "code",
   "execution_count": 37,
   "metadata": {},
   "outputs": [],
   "source": [
    "file = '../../big_data/concat_for_energy_SA1.pkl'\n",
    "\n",
    "df = mod_concat_NEMDE(file)"
   ]
  },
  {
   "cell_type": "code",
   "execution_count": 38,
   "metadata": {},
   "outputs": [
    {
     "name": "stdout",
     "output_type": "stream",
     "text": [
      "(6482840, 6)\n"
     ]
    },
    {
     "data": {
      "text/html": [
       "<div>\n",
       "<style scoped>\n",
       "    .dataframe tbody tr th:only-of-type {\n",
       "        vertical-align: middle;\n",
       "    }\n",
       "\n",
       "    .dataframe tbody tr th {\n",
       "        vertical-align: top;\n",
       "    }\n",
       "\n",
       "    .dataframe thead th {\n",
       "        text-align: right;\n",
       "    }\n",
       "</style>\n",
       "<table border=\"1\" class=\"dataframe\">\n",
       "  <thead>\n",
       "    <tr style=\"text-align: right;\">\n",
       "      <th></th>\n",
       "      <th>RegionID</th>\n",
       "      <th>Market</th>\n",
       "      <th>Price</th>\n",
       "      <th>DUID</th>\n",
       "      <th>DispatchedMarket</th>\n",
       "      <th>Increase</th>\n",
       "    </tr>\n",
       "    <tr>\n",
       "      <th>PeriodID</th>\n",
       "      <th></th>\n",
       "      <th></th>\n",
       "      <th></th>\n",
       "      <th></th>\n",
       "      <th></th>\n",
       "      <th></th>\n",
       "    </tr>\n",
       "  </thead>\n",
       "  <tbody>\n",
       "    <tr>\n",
       "      <th>2009-07-01 04:00:00</th>\n",
       "      <td>SA1</td>\n",
       "      <td>Energy</td>\n",
       "      <td>1.35918</td>\n",
       "      <td>ER02</td>\n",
       "      <td>ENOF</td>\n",
       "      <td>-0.08861</td>\n",
       "    </tr>\n",
       "    <tr>\n",
       "      <th>2009-07-01 04:00:00</th>\n",
       "      <td>SA1</td>\n",
       "      <td>Energy</td>\n",
       "      <td>1.35918</td>\n",
       "      <td>ER03</td>\n",
       "      <td>ENOF</td>\n",
       "      <td>-0.08861</td>\n",
       "    </tr>\n",
       "    <tr>\n",
       "      <th>2009-07-01 04:00:00</th>\n",
       "      <td>SA1</td>\n",
       "      <td>Energy</td>\n",
       "      <td>1.35918</td>\n",
       "      <td>ER04</td>\n",
       "      <td>ENOF</td>\n",
       "      <td>-0.08861</td>\n",
       "    </tr>\n",
       "    <tr>\n",
       "      <th>2009-07-01 04:00:00</th>\n",
       "      <td>SA1</td>\n",
       "      <td>Energy</td>\n",
       "      <td>1.35918</td>\n",
       "      <td>ENOF,YWPS2,2,YWPS3,2</td>\n",
       "      <td>tbslack1</td>\n",
       "      <td>185.75049</td>\n",
       "    </tr>\n",
       "    <tr>\n",
       "      <th>2009-07-01 04:00:00</th>\n",
       "      <td>SA1</td>\n",
       "      <td>Energy</td>\n",
       "      <td>1.35918</td>\n",
       "      <td>ER01</td>\n",
       "      <td>ENOF</td>\n",
       "      <td>-0.08861</td>\n",
       "    </tr>\n",
       "  </tbody>\n",
       "</table>\n",
       "</div>"
      ],
      "text/plain": [
       "                    RegionID  Market    Price                  DUID  \\\n",
       "PeriodID                                                              \n",
       "2009-07-01 04:00:00      SA1  Energy  1.35918                  ER02   \n",
       "2009-07-01 04:00:00      SA1  Energy  1.35918                  ER03   \n",
       "2009-07-01 04:00:00      SA1  Energy  1.35918                  ER04   \n",
       "2009-07-01 04:00:00      SA1  Energy  1.35918  ENOF,YWPS2,2,YWPS3,2   \n",
       "2009-07-01 04:00:00      SA1  Energy  1.35918                  ER01   \n",
       "\n",
       "                    DispatchedMarket   Increase  \n",
       "PeriodID                                         \n",
       "2009-07-01 04:00:00             ENOF   -0.08861  \n",
       "2009-07-01 04:00:00             ENOF   -0.08861  \n",
       "2009-07-01 04:00:00             ENOF   -0.08861  \n",
       "2009-07-01 04:00:00         tbslack1  185.75049  \n",
       "2009-07-01 04:00:00             ENOF   -0.08861  "
      ]
     },
     "execution_count": 38,
     "metadata": {},
     "output_type": "execute_result"
    }
   ],
   "source": [
    "print(df.shape)\n",
    "df.head()"
   ]
  },
  {
   "cell_type": "markdown",
   "metadata": {},
   "source": [
    "the head of the table already suggests redundancy of lines per dispatch event (here: 4 lines for 03:55)"
   ]
  },
  {
   "cell_type": "markdown",
   "metadata": {},
   "source": [
    "### __Analyses on electricity prices__"
   ]
  },
  {
   "cell_type": "markdown",
   "metadata": {},
   "source": [
    "since we have redundancy in lines per dispatch event, do all of them comprise the same price info?"
   ]
  },
  {
   "cell_type": "code",
   "execution_count": 39,
   "metadata": {},
   "outputs": [
    {
     "name": "stdout",
     "output_type": "stream",
     "text": [
      "The number of time periods is 1043372. The distribution of number of prices is:\n"
     ]
    },
    {
     "data": {
      "text/plain": [
       "1    1043366\n",
       "2          6\n",
       "Name: Price, dtype: int64"
      ]
     },
     "execution_count": 39,
     "metadata": {},
     "output_type": "execute_result"
    }
   ],
   "source": [
    "df_price = df.groupby(\"PeriodID\").agg({\"Price\" : \"nunique\"})\n",
    "print(\"The number of time periods is {}. The distribution of number of prices is:\".format(df_price.shape[0]))\n",
    "df_price.Price.value_counts()"
   ]
  },
  {
   "cell_type": "code",
   "execution_count": 40,
   "metadata": {},
   "outputs": [
    {
     "data": {
      "text/html": [
       "<div>\n",
       "<style scoped>\n",
       "    .dataframe tbody tr th:only-of-type {\n",
       "        vertical-align: middle;\n",
       "    }\n",
       "\n",
       "    .dataframe tbody tr th {\n",
       "        vertical-align: top;\n",
       "    }\n",
       "\n",
       "    .dataframe thead th {\n",
       "        text-align: right;\n",
       "    }\n",
       "</style>\n",
       "<table border=\"1\" class=\"dataframe\">\n",
       "  <thead>\n",
       "    <tr style=\"text-align: right;\">\n",
       "      <th></th>\n",
       "      <th>Price</th>\n",
       "    </tr>\n",
       "    <tr>\n",
       "      <th>PeriodID</th>\n",
       "      <th></th>\n",
       "    </tr>\n",
       "  </thead>\n",
       "  <tbody>\n",
       "    <tr>\n",
       "      <th>2015-02-22 23:30:00</th>\n",
       "      <td>2</td>\n",
       "    </tr>\n",
       "    <tr>\n",
       "      <th>2015-05-01 08:40:00</th>\n",
       "      <td>2</td>\n",
       "    </tr>\n",
       "    <tr>\n",
       "      <th>2016-10-31 20:30:00</th>\n",
       "      <td>2</td>\n",
       "    </tr>\n",
       "    <tr>\n",
       "      <th>2019-01-24 19:45:00</th>\n",
       "      <td>2</td>\n",
       "    </tr>\n",
       "    <tr>\n",
       "      <th>2019-01-25 11:20:00</th>\n",
       "      <td>2</td>\n",
       "    </tr>\n",
       "    <tr>\n",
       "      <th>2019-01-25 13:05:00</th>\n",
       "      <td>2</td>\n",
       "    </tr>\n",
       "  </tbody>\n",
       "</table>\n",
       "</div>"
      ],
      "text/plain": [
       "                     Price\n",
       "PeriodID                  \n",
       "2015-02-22 23:30:00      2\n",
       "2015-05-01 08:40:00      2\n",
       "2016-10-31 20:30:00      2\n",
       "2019-01-24 19:45:00      2\n",
       "2019-01-25 11:20:00      2\n",
       "2019-01-25 13:05:00      2"
      ]
     },
     "execution_count": 40,
     "metadata": {},
     "output_type": "execute_result"
    }
   ],
   "source": [
    "df_price.loc[df_price.Price == 2]"
   ]
  },
  {
   "cell_type": "markdown",
   "metadata": {},
   "source": [
    "A few dispatch time points are inconsistent in their price information among their redundant lines; this is not sensible which is why\n",
    "more analyses is performed in the following cells using the dispatch times from above"
   ]
  },
  {
   "cell_type": "code",
   "execution_count": 41,
   "metadata": {},
   "outputs": [
    {
     "data": {
      "text/html": [
       "<div>\n",
       "<style scoped>\n",
       "    .dataframe tbody tr th:only-of-type {\n",
       "        vertical-align: middle;\n",
       "    }\n",
       "\n",
       "    .dataframe tbody tr th {\n",
       "        vertical-align: top;\n",
       "    }\n",
       "\n",
       "    .dataframe thead th {\n",
       "        text-align: right;\n",
       "    }\n",
       "</style>\n",
       "<table border=\"1\" class=\"dataframe\">\n",
       "  <thead>\n",
       "    <tr style=\"text-align: right;\">\n",
       "      <th></th>\n",
       "      <th>Price</th>\n",
       "    </tr>\n",
       "    <tr>\n",
       "      <th>PeriodID</th>\n",
       "      <th></th>\n",
       "    </tr>\n",
       "  </thead>\n",
       "  <tbody>\n",
       "    <tr>\n",
       "      <th>2019-01-25 13:05:00</th>\n",
       "      <td>30</td>\n",
       "    </tr>\n",
       "    <tr>\n",
       "      <th>2019-01-25 11:20:00</th>\n",
       "      <td>41</td>\n",
       "    </tr>\n",
       "    <tr>\n",
       "      <th>2019-01-24 19:45:00</th>\n",
       "      <td>13</td>\n",
       "    </tr>\n",
       "    <tr>\n",
       "      <th>2016-10-31 20:30:00</th>\n",
       "      <td>15</td>\n",
       "    </tr>\n",
       "    <tr>\n",
       "      <th>2015-05-01 08:40:00</th>\n",
       "      <td>41</td>\n",
       "    </tr>\n",
       "    <tr>\n",
       "      <th>2015-02-22 23:30:00</th>\n",
       "      <td>8</td>\n",
       "    </tr>\n",
       "  </tbody>\n",
       "</table>\n",
       "</div>"
      ],
      "text/plain": [
       "                     Price\n",
       "PeriodID                  \n",
       "2019-01-25 13:05:00     30\n",
       "2019-01-25 11:20:00     41\n",
       "2019-01-24 19:45:00     13\n",
       "2016-10-31 20:30:00     15\n",
       "2015-05-01 08:40:00     41\n",
       "2015-02-22 23:30:00      8"
      ]
     },
     "execution_count": 41,
     "metadata": {},
     "output_type": "execute_result"
    }
   ],
   "source": [
    "# checking for the degree of redundancyof the above-detected dispatch time points\n",
    "\n",
    "df_price_timeslots = df.groupby(\"PeriodID\").agg({\"Price\" : \"count\"}).sort_values(by=\"PeriodID\", ascending=False)\n",
    "\n",
    "df_price_timeslots[(df_price_timeslots.index == dt.datetime(2015,2,22,23,30,0)) | \n",
    "   (df_price_timeslots.index == dt.datetime(2015,5,1,8,40,0)) | \n",
    "   (df_price_timeslots.index == dt.datetime(2016,10,31,20,30,0)) |\n",
    "    (df_price_timeslots.index == dt.datetime(2019,1,24,19,45,0)) |\n",
    "    (df_price_timeslots.index == dt.datetime(2019,1,25,11,20,0)) |\n",
    "    (df_price_timeslots.index == dt.datetime(2019,1,25,13,5,0))]"
   ]
  },
  {
   "cell_type": "code",
   "execution_count": 42,
   "metadata": {},
   "outputs": [
    {
     "data": {
      "text/html": [
       "<div>\n",
       "<style scoped>\n",
       "    .dataframe tbody tr th:only-of-type {\n",
       "        vertical-align: middle;\n",
       "    }\n",
       "\n",
       "    .dataframe tbody tr th {\n",
       "        vertical-align: top;\n",
       "    }\n",
       "\n",
       "    .dataframe thead tr th {\n",
       "        text-align: left;\n",
       "    }\n",
       "\n",
       "    .dataframe thead tr:last-of-type th {\n",
       "        text-align: right;\n",
       "    }\n",
       "</style>\n",
       "<table border=\"1\" class=\"dataframe\">\n",
       "  <thead>\n",
       "    <tr>\n",
       "      <th></th>\n",
       "      <th colspan=\"2\" halign=\"left\">Price</th>\n",
       "    </tr>\n",
       "    <tr>\n",
       "      <th></th>\n",
       "      <th>min</th>\n",
       "      <th>max</th>\n",
       "    </tr>\n",
       "    <tr>\n",
       "      <th>PeriodID</th>\n",
       "      <th></th>\n",
       "      <th></th>\n",
       "    </tr>\n",
       "  </thead>\n",
       "  <tbody>\n",
       "    <tr>\n",
       "      <th>2015-02-22 23:30:00</th>\n",
       "      <td>9.759107e+04</td>\n",
       "      <td>3.681001e+05</td>\n",
       "    </tr>\n",
       "    <tr>\n",
       "      <th>2015-05-01 08:40:00</th>\n",
       "      <td>7.029670e+01</td>\n",
       "      <td>7.209740e+01</td>\n",
       "    </tr>\n",
       "    <tr>\n",
       "      <th>2016-10-31 20:30:00</th>\n",
       "      <td>9.598007e+01</td>\n",
       "      <td>5.092297e+05</td>\n",
       "    </tr>\n",
       "    <tr>\n",
       "      <th>2019-01-24 19:45:00</th>\n",
       "      <td>1.042383e+06</td>\n",
       "      <td>2.175000e+06</td>\n",
       "    </tr>\n",
       "    <tr>\n",
       "      <th>2019-01-25 11:20:00</th>\n",
       "      <td>1.186552e+04</td>\n",
       "      <td>1.204058e+04</td>\n",
       "    </tr>\n",
       "    <tr>\n",
       "      <th>2019-01-25 13:05:00</th>\n",
       "      <td>1.224543e+02</td>\n",
       "      <td>1.401126e+02</td>\n",
       "    </tr>\n",
       "  </tbody>\n",
       "</table>\n",
       "</div>"
      ],
      "text/plain": [
       "                            Price              \n",
       "                              min           max\n",
       "PeriodID                                       \n",
       "2015-02-22 23:30:00  9.759107e+04  3.681001e+05\n",
       "2015-05-01 08:40:00  7.029670e+01  7.209740e+01\n",
       "2016-10-31 20:30:00  9.598007e+01  5.092297e+05\n",
       "2019-01-24 19:45:00  1.042383e+06  2.175000e+06\n",
       "2019-01-25 11:20:00  1.186552e+04  1.204058e+04\n",
       "2019-01-25 13:05:00  1.224543e+02  1.401126e+02"
      ]
     },
     "execution_count": 42,
     "metadata": {},
     "output_type": "execute_result"
    }
   ],
   "source": [
    "# checking for whether these dispatch time points feature priced outside the possible price range (see README.md)\n",
    "\n",
    "df_price_outliers = df[(df.index == dt.datetime(2015,2,22,23,30,0)) | \n",
    "   (df.index == dt.datetime(2015,5,1,8,40,0)) | \n",
    "   (df.index == dt.datetime(2016,10,31,20,30,0)) |\n",
    "    (df.index == dt.datetime(2019,1,24,19,45,0)) |\n",
    "    (df.index == dt.datetime(2019,1,25,11,20,0)) |\n",
    "    (df.index == dt.datetime(2019,1,25,13,5,0))]\n",
    "\n",
    "df_price_outliers.groupby('PeriodID').agg({'Price' : ['min', 'max']})"
   ]
  },
  {
   "cell_type": "code",
   "execution_count": 43,
   "metadata": {},
   "outputs": [
    {
     "data": {
      "text/html": [
       "<div>\n",
       "<style scoped>\n",
       "    .dataframe tbody tr th:only-of-type {\n",
       "        vertical-align: middle;\n",
       "    }\n",
       "\n",
       "    .dataframe tbody tr th {\n",
       "        vertical-align: top;\n",
       "    }\n",
       "\n",
       "    .dataframe thead th {\n",
       "        text-align: right;\n",
       "    }\n",
       "</style>\n",
       "<table border=\"1\" class=\"dataframe\">\n",
       "  <thead>\n",
       "    <tr style=\"text-align: right;\">\n",
       "      <th></th>\n",
       "      <th>RegionID</th>\n",
       "      <th>Market</th>\n",
       "      <th>Price</th>\n",
       "      <th>DUID</th>\n",
       "      <th>DispatchedMarket</th>\n",
       "      <th>Increase</th>\n",
       "    </tr>\n",
       "    <tr>\n",
       "      <th>PeriodID</th>\n",
       "      <th></th>\n",
       "      <th></th>\n",
       "      <th></th>\n",
       "      <th></th>\n",
       "      <th></th>\n",
       "      <th></th>\n",
       "    </tr>\n",
       "  </thead>\n",
       "  <tbody>\n",
       "    <tr>\n",
       "      <th>2016-10-31 20:30:00</th>\n",
       "      <td>SA1</td>\n",
       "      <td>Energy</td>\n",
       "      <td>509229.65442</td>\n",
       "      <td>ENOF,STAN-1,4,STAN-3,4</td>\n",
       "      <td>tbslack2</td>\n",
       "      <td>44.73047</td>\n",
       "    </tr>\n",
       "    <tr>\n",
       "      <th>2016-10-31 20:30:00</th>\n",
       "      <td>SA1</td>\n",
       "      <td>Energy</td>\n",
       "      <td>95.98007</td>\n",
       "      <td>TORRB1</td>\n",
       "      <td>R5MI</td>\n",
       "      <td>-1.00000</td>\n",
       "    </tr>\n",
       "    <tr>\n",
       "      <th>2016-10-31 20:30:00</th>\n",
       "      <td>SA1</td>\n",
       "      <td>Energy</td>\n",
       "      <td>95.98007</td>\n",
       "      <td>W/HOE#1</td>\n",
       "      <td>R5MI</td>\n",
       "      <td>1.00000</td>\n",
       "    </tr>\n",
       "    <tr>\n",
       "      <th>2016-10-31 20:30:00</th>\n",
       "      <td>SA1</td>\n",
       "      <td>Energy</td>\n",
       "      <td>95.98007</td>\n",
       "      <td>GORDON</td>\n",
       "      <td>R6SE</td>\n",
       "      <td>2.00000</td>\n",
       "    </tr>\n",
       "    <tr>\n",
       "      <th>2016-10-31 20:30:00</th>\n",
       "      <td>SA1</td>\n",
       "      <td>Energy</td>\n",
       "      <td>95.98007</td>\n",
       "      <td>ENOF,TORRB1,4,TORRB4,4</td>\n",
       "      <td>tbslack1</td>\n",
       "      <td>10.00000</td>\n",
       "    </tr>\n",
       "    <tr>\n",
       "      <th>2016-10-31 20:30:00</th>\n",
       "      <td>SA1</td>\n",
       "      <td>Energy</td>\n",
       "      <td>95.98007</td>\n",
       "      <td>ENOF,TORRB1,4,TORRB3,4</td>\n",
       "      <td>tbslack1</td>\n",
       "      <td>20.00000</td>\n",
       "    </tr>\n",
       "    <tr>\n",
       "      <th>2016-10-31 20:30:00</th>\n",
       "      <td>SA1</td>\n",
       "      <td>Energy</td>\n",
       "      <td>95.98007</td>\n",
       "      <td>ENOF,TORRB1,4,TORRB2,4</td>\n",
       "      <td>tbslack1</td>\n",
       "      <td>20.00000</td>\n",
       "    </tr>\n",
       "    <tr>\n",
       "      <th>2016-10-31 20:30:00</th>\n",
       "      <td>SA1</td>\n",
       "      <td>Energy</td>\n",
       "      <td>95.98007</td>\n",
       "      <td>ENOF,TORRA4,4,TORRB1,4</td>\n",
       "      <td>tbslack2</td>\n",
       "      <td>10.00000</td>\n",
       "    </tr>\n",
       "    <tr>\n",
       "      <th>2016-10-31 20:30:00</th>\n",
       "      <td>SA1</td>\n",
       "      <td>Energy</td>\n",
       "      <td>95.98007</td>\n",
       "      <td>TORRB1</td>\n",
       "      <td>R6SE</td>\n",
       "      <td>-2.00000</td>\n",
       "    </tr>\n",
       "    <tr>\n",
       "      <th>2016-10-31 20:30:00</th>\n",
       "      <td>SA1</td>\n",
       "      <td>Energy</td>\n",
       "      <td>95.98007</td>\n",
       "      <td>ENOF,TORRA3,4,TORRB1,4</td>\n",
       "      <td>tbslack2</td>\n",
       "      <td>10.00000</td>\n",
       "    </tr>\n",
       "    <tr>\n",
       "      <th>2016-10-31 20:30:00</th>\n",
       "      <td>SA1</td>\n",
       "      <td>Energy</td>\n",
       "      <td>95.98007</td>\n",
       "      <td>TORRB1</td>\n",
       "      <td>ENOF</td>\n",
       "      <td>1.00000</td>\n",
       "    </tr>\n",
       "    <tr>\n",
       "      <th>2016-10-31 20:30:00</th>\n",
       "      <td>SA1</td>\n",
       "      <td>Energy</td>\n",
       "      <td>509229.65442</td>\n",
       "      <td>V_S_NIL_ROCOF</td>\n",
       "      <td>GenericConstraintSurplus</td>\n",
       "      <td>1.03915</td>\n",
       "    </tr>\n",
       "    <tr>\n",
       "      <th>2016-10-31 20:30:00</th>\n",
       "      <td>SA1</td>\n",
       "      <td>Energy</td>\n",
       "      <td>509229.65442</td>\n",
       "      <td>ENOF,STAN-3,4,STAN-4,4</td>\n",
       "      <td>tbslack1</td>\n",
       "      <td>35.78437</td>\n",
       "    </tr>\n",
       "    <tr>\n",
       "      <th>2016-10-31 20:30:00</th>\n",
       "      <td>SA1</td>\n",
       "      <td>Energy</td>\n",
       "      <td>509229.65442</td>\n",
       "      <td>ENOF,STAN-2,4,STAN-3,4</td>\n",
       "      <td>tbslack2</td>\n",
       "      <td>44.73047</td>\n",
       "    </tr>\n",
       "    <tr>\n",
       "      <th>2016-10-31 20:30:00</th>\n",
       "      <td>SA1</td>\n",
       "      <td>Energy</td>\n",
       "      <td>509229.65442</td>\n",
       "      <td>STAN-3</td>\n",
       "      <td>ENOF</td>\n",
       "      <td>0.89461</td>\n",
       "    </tr>\n",
       "  </tbody>\n",
       "</table>\n",
       "</div>"
      ],
      "text/plain": [
       "                    RegionID  Market         Price                    DUID  \\\n",
       "PeriodID                                                                     \n",
       "2016-10-31 20:30:00      SA1  Energy  509229.65442  ENOF,STAN-1,4,STAN-3,4   \n",
       "2016-10-31 20:30:00      SA1  Energy      95.98007                  TORRB1   \n",
       "2016-10-31 20:30:00      SA1  Energy      95.98007                 W/HOE#1   \n",
       "2016-10-31 20:30:00      SA1  Energy      95.98007                  GORDON   \n",
       "2016-10-31 20:30:00      SA1  Energy      95.98007  ENOF,TORRB1,4,TORRB4,4   \n",
       "2016-10-31 20:30:00      SA1  Energy      95.98007  ENOF,TORRB1,4,TORRB3,4   \n",
       "2016-10-31 20:30:00      SA1  Energy      95.98007  ENOF,TORRB1,4,TORRB2,4   \n",
       "2016-10-31 20:30:00      SA1  Energy      95.98007  ENOF,TORRA4,4,TORRB1,4   \n",
       "2016-10-31 20:30:00      SA1  Energy      95.98007                  TORRB1   \n",
       "2016-10-31 20:30:00      SA1  Energy      95.98007  ENOF,TORRA3,4,TORRB1,4   \n",
       "2016-10-31 20:30:00      SA1  Energy      95.98007                  TORRB1   \n",
       "2016-10-31 20:30:00      SA1  Energy  509229.65442           V_S_NIL_ROCOF   \n",
       "2016-10-31 20:30:00      SA1  Energy  509229.65442  ENOF,STAN-3,4,STAN-4,4   \n",
       "2016-10-31 20:30:00      SA1  Energy  509229.65442  ENOF,STAN-2,4,STAN-3,4   \n",
       "2016-10-31 20:30:00      SA1  Energy  509229.65442                  STAN-3   \n",
       "\n",
       "                             DispatchedMarket  Increase  \n",
       "PeriodID                                                 \n",
       "2016-10-31 20:30:00                  tbslack2  44.73047  \n",
       "2016-10-31 20:30:00                      R5MI  -1.00000  \n",
       "2016-10-31 20:30:00                      R5MI   1.00000  \n",
       "2016-10-31 20:30:00                      R6SE   2.00000  \n",
       "2016-10-31 20:30:00                  tbslack1  10.00000  \n",
       "2016-10-31 20:30:00                  tbslack1  20.00000  \n",
       "2016-10-31 20:30:00                  tbslack1  20.00000  \n",
       "2016-10-31 20:30:00                  tbslack2  10.00000  \n",
       "2016-10-31 20:30:00                      R6SE  -2.00000  \n",
       "2016-10-31 20:30:00                  tbslack2  10.00000  \n",
       "2016-10-31 20:30:00                      ENOF   1.00000  \n",
       "2016-10-31 20:30:00  GenericConstraintSurplus   1.03915  \n",
       "2016-10-31 20:30:00                  tbslack1  35.78437  \n",
       "2016-10-31 20:30:00                  tbslack2  44.73047  \n",
       "2016-10-31 20:30:00                      ENOF   0.89461  "
      ]
     },
     "execution_count": 43,
     "metadata": {},
     "output_type": "execute_result"
    }
   ],
   "source": [
    "df[df.index == dt.datetime(2016,10,31,20,30,0)]"
   ]
  },
  {
   "cell_type": "markdown",
   "metadata": {},
   "source": [
    "Where there is ambigious pricing among redundant lines per dispatch time point (see table above), we will use the price minimum, minimizing deviation errors (deviations with maximal price are off by one order of magnitude)"
   ]
  },
  {
   "cell_type": "code",
   "execution_count": 44,
   "metadata": {},
   "outputs": [
    {
     "data": {
      "text/html": [
       "<div>\n",
       "<style scoped>\n",
       "    .dataframe tbody tr th:only-of-type {\n",
       "        vertical-align: middle;\n",
       "    }\n",
       "\n",
       "    .dataframe tbody tr th {\n",
       "        vertical-align: top;\n",
       "    }\n",
       "\n",
       "    .dataframe thead th {\n",
       "        text-align: right;\n",
       "    }\n",
       "</style>\n",
       "<table border=\"1\" class=\"dataframe\">\n",
       "  <thead>\n",
       "    <tr style=\"text-align: right;\">\n",
       "      <th></th>\n",
       "      <th>Price</th>\n",
       "    </tr>\n",
       "    <tr>\n",
       "      <th>PeriodID</th>\n",
       "      <th></th>\n",
       "    </tr>\n",
       "  </thead>\n",
       "  <tbody>\n",
       "    <tr>\n",
       "      <th>2009-07-01 04:00:00</th>\n",
       "      <td>1.35918</td>\n",
       "    </tr>\n",
       "    <tr>\n",
       "      <th>2009-07-01 04:05:00</th>\n",
       "      <td>-0.00006</td>\n",
       "    </tr>\n",
       "    <tr>\n",
       "      <th>2009-07-01 04:10:00</th>\n",
       "      <td>-0.00006</td>\n",
       "    </tr>\n",
       "    <tr>\n",
       "      <th>2009-07-01 04:15:00</th>\n",
       "      <td>1.44014</td>\n",
       "    </tr>\n",
       "    <tr>\n",
       "      <th>2009-07-01 04:20:00</th>\n",
       "      <td>1.75480</td>\n",
       "    </tr>\n",
       "    <tr>\n",
       "      <th>...</th>\n",
       "      <td>...</td>\n",
       "    </tr>\n",
       "    <tr>\n",
       "      <th>2019-08-01 03:35:00</th>\n",
       "      <td>84.78346</td>\n",
       "    </tr>\n",
       "    <tr>\n",
       "      <th>2019-08-01 03:40:00</th>\n",
       "      <td>84.78689</td>\n",
       "    </tr>\n",
       "    <tr>\n",
       "      <th>2019-08-01 03:45:00</th>\n",
       "      <td>85.14416</td>\n",
       "    </tr>\n",
       "    <tr>\n",
       "      <th>2019-08-01 03:50:00</th>\n",
       "      <td>79.17710</td>\n",
       "    </tr>\n",
       "    <tr>\n",
       "      <th>2019-08-01 03:55:00</th>\n",
       "      <td>79.52391</td>\n",
       "    </tr>\n",
       "  </tbody>\n",
       "</table>\n",
       "<p>1043372 rows × 1 columns</p>\n",
       "</div>"
      ],
      "text/plain": [
       "                        Price\n",
       "PeriodID                     \n",
       "2009-07-01 04:00:00   1.35918\n",
       "2009-07-01 04:05:00  -0.00006\n",
       "2009-07-01 04:10:00  -0.00006\n",
       "2009-07-01 04:15:00   1.44014\n",
       "2009-07-01 04:20:00   1.75480\n",
       "...                       ...\n",
       "2019-08-01 03:35:00  84.78346\n",
       "2019-08-01 03:40:00  84.78689\n",
       "2019-08-01 03:45:00  85.14416\n",
       "2019-08-01 03:50:00  79.17710\n",
       "2019-08-01 03:55:00  79.52391\n",
       "\n",
       "[1043372 rows x 1 columns]"
      ]
     },
     "execution_count": 44,
     "metadata": {},
     "output_type": "execute_result"
    }
   ],
   "source": [
    "# ensuring that each dispatch time point features a unique price tag\n",
    "\n",
    "df_group_price_unique = df.groupby(\"PeriodID\").agg({\"Price\":\"min\"}).sort_values(by=\"PeriodID\", ascending=True)\n",
    "df_group_price_unique"
   ]
  },
  {
   "cell_type": "code",
   "execution_count": 45,
   "metadata": {},
   "outputs": [
    {
     "data": {
      "text/plain": [
       "1    1043372\n",
       "Name: Price, dtype: int64"
      ]
     },
     "execution_count": 45,
     "metadata": {},
     "output_type": "execute_result"
    }
   ],
   "source": [
    "df_group_price_unique.groupby(df_group_price_unique.index).agg({\"Price\":\"nunique\"}).Price.value_counts()"
   ]
  },
  {
   "cell_type": "markdown",
   "metadata": {},
   "source": [
    "### __Check if \"Price\" in df_group_price_unique is dispatch price__"
   ]
  },
  {
   "cell_type": "markdown",
   "metadata": {},
   "source": [
    "The information from the website from where we scraped our data previoulsy is sparse. We can only assume that the price from the dataframe above is the dispatch price. To really make sure of that, in the following the price information gets compared to the price information of yet another table which indeed contains the price info (dispatch_price.csv)."
   ]
  },
  {
   "cell_type": "code",
   "execution_count": 46,
   "metadata": {},
   "outputs": [],
   "source": [
    "# dispatch_price.csv table provided by Adam only until 31st of July 2018, hence we shorten our dataframe to that point\n",
    "\n",
    "df = df.loc[df.index < dt.datetime(2018,8,1), :]"
   ]
  },
  {
   "cell_type": "code",
   "execution_count": 47,
   "metadata": {},
   "outputs": [
    {
     "name": "stdout",
     "output_type": "stream",
     "text": [
      "The number of time periods is 955536.\n"
     ]
    },
    {
     "data": {
      "text/html": [
       "<div>\n",
       "<style scoped>\n",
       "    .dataframe tbody tr th:only-of-type {\n",
       "        vertical-align: middle;\n",
       "    }\n",
       "\n",
       "    .dataframe tbody tr th {\n",
       "        vertical-align: top;\n",
       "    }\n",
       "\n",
       "    .dataframe thead th {\n",
       "        text-align: right;\n",
       "    }\n",
       "</style>\n",
       "<table border=\"1\" class=\"dataframe\">\n",
       "  <thead>\n",
       "    <tr style=\"text-align: right;\">\n",
       "      <th></th>\n",
       "      <th>RRP SA1</th>\n",
       "    </tr>\n",
       "    <tr>\n",
       "      <th>tempus_interval_time</th>\n",
       "      <th></th>\n",
       "    </tr>\n",
       "  </thead>\n",
       "  <tbody>\n",
       "    <tr>\n",
       "      <th>2009-07-01 04:00:00</th>\n",
       "      <td>1.35918</td>\n",
       "    </tr>\n",
       "    <tr>\n",
       "      <th>2009-07-01 04:05:00</th>\n",
       "      <td>-0.00006</td>\n",
       "    </tr>\n",
       "    <tr>\n",
       "      <th>2009-07-01 04:10:00</th>\n",
       "      <td>-0.00006</td>\n",
       "    </tr>\n",
       "    <tr>\n",
       "      <th>2009-07-01 04:15:00</th>\n",
       "      <td>1.44014</td>\n",
       "    </tr>\n",
       "    <tr>\n",
       "      <th>2009-07-01 04:20:00</th>\n",
       "      <td>1.75480</td>\n",
       "    </tr>\n",
       "  </tbody>\n",
       "</table>\n",
       "</div>"
      ],
      "text/plain": [
       "                      RRP SA1\n",
       "tempus_interval_time         \n",
       "2009-07-01 04:00:00   1.35918\n",
       "2009-07-01 04:05:00  -0.00006\n",
       "2009-07-01 04:10:00  -0.00006\n",
       "2009-07-01 04:15:00   1.44014\n",
       "2009-07-01 04:20:00   1.75480"
      ]
     },
     "execution_count": 47,
     "metadata": {},
     "output_type": "execute_result"
    }
   ],
   "source": [
    "df_dispatch = pd.read_csv('../../big_data/dispatch_price.csv', index_col = 0, parse_dates=True)\n",
    "df_dispatch.sort_index(ascending=True, inplace=True)\n",
    "df_dispatch = df_dispatch.loc[(df_dispatch.index <= df.index.max()) &\n",
    "                              (df_dispatch.index >= df.index.min()), :][['RRP SA1']]\n",
    "assert df_dispatch[\"RRP SA1\"].dtype == float\n",
    "assert df_dispatch.index.min() == df.index.min()\n",
    "assert df_dispatch.index.max() == df.index.max()\n",
    "print(\"The number of time periods is {}.\".format(df_dispatch.shape[0]))\n",
    "df_dispatch.head()"
   ]
  },
  {
   "cell_type": "code",
   "execution_count": 48,
   "metadata": {},
   "outputs": [
    {
     "name": "stdout",
     "output_type": "stream",
     "text": [
      "(946847, 2)\n"
     ]
    },
    {
     "data": {
      "text/html": [
       "<div>\n",
       "<style scoped>\n",
       "    .dataframe tbody tr th:only-of-type {\n",
       "        vertical-align: middle;\n",
       "    }\n",
       "\n",
       "    .dataframe tbody tr th {\n",
       "        vertical-align: top;\n",
       "    }\n",
       "\n",
       "    .dataframe thead th {\n",
       "        text-align: right;\n",
       "    }\n",
       "</style>\n",
       "<table border=\"1\" class=\"dataframe\">\n",
       "  <thead>\n",
       "    <tr style=\"text-align: right;\">\n",
       "      <th></th>\n",
       "      <th>Price</th>\n",
       "      <th>RRP SA1</th>\n",
       "    </tr>\n",
       "  </thead>\n",
       "  <tbody>\n",
       "    <tr>\n",
       "      <th>2009-07-01 04:00:00</th>\n",
       "      <td>1.35918</td>\n",
       "      <td>1.35918</td>\n",
       "    </tr>\n",
       "    <tr>\n",
       "      <th>2009-07-01 04:05:00</th>\n",
       "      <td>-0.00006</td>\n",
       "      <td>-0.00006</td>\n",
       "    </tr>\n",
       "    <tr>\n",
       "      <th>2009-07-01 04:10:00</th>\n",
       "      <td>-0.00006</td>\n",
       "      <td>-0.00006</td>\n",
       "    </tr>\n",
       "    <tr>\n",
       "      <th>2009-07-01 04:15:00</th>\n",
       "      <td>1.44014</td>\n",
       "      <td>1.44014</td>\n",
       "    </tr>\n",
       "    <tr>\n",
       "      <th>2009-07-01 04:20:00</th>\n",
       "      <td>1.75480</td>\n",
       "      <td>1.75480</td>\n",
       "    </tr>\n",
       "  </tbody>\n",
       "</table>\n",
       "</div>"
      ],
      "text/plain": [
       "                       Price  RRP SA1\n",
       "2009-07-01 04:00:00  1.35918  1.35918\n",
       "2009-07-01 04:05:00 -0.00006 -0.00006\n",
       "2009-07-01 04:10:00 -0.00006 -0.00006\n",
       "2009-07-01 04:15:00  1.44014  1.44014\n",
       "2009-07-01 04:20:00  1.75480  1.75480"
      ]
     },
     "execution_count": 48,
     "metadata": {},
     "output_type": "execute_result"
    }
   ],
   "source": [
    "df_join = df_group_price_unique.join(df_dispatch, how='inner')\n",
    "print(df_join.shape)\n",
    "df_join.head()"
   ]
  },
  {
   "cell_type": "code",
   "execution_count": 49,
   "metadata": {},
   "outputs": [
    {
     "data": {
      "text/plain": [
       "Price      False\n",
       "RRP SA1    False\n",
       "dtype: bool"
      ]
     },
     "execution_count": 49,
     "metadata": {},
     "output_type": "execute_result"
    }
   ],
   "source": [
    "df_join.all()"
   ]
  },
  {
   "cell_type": "code",
   "execution_count": 50,
   "metadata": {},
   "outputs": [
    {
     "name": "stdout",
     "output_type": "stream",
     "text": [
      "<class 'pandas.core.frame.DataFrame'>\n",
      "DatetimeIndex: 946847 entries, 2009-07-01 04:00:00 to 2018-07-31 23:55:00\n",
      "Data columns (total 2 columns):\n",
      "Price      946847 non-null float64\n",
      "RRP SA1    946847 non-null float64\n",
      "dtypes: float64(2)\n",
      "memory usage: 21.7 MB\n"
     ]
    }
   ],
   "source": [
    "df_join.info()"
   ]
  },
  {
   "cell_type": "code",
   "execution_count": 51,
   "metadata": {},
   "outputs": [
    {
     "name": "stdout",
     "output_type": "stream",
     "text": [
      "The percentage of mismatching dispatch prices from MMSDM and NEMDE is 0.41 %.\n"
     ]
    }
   ],
   "source": [
    "print(\"The percentage of mismatching dispatch prices from MMSDM and NEMDE is {} %.\".format(round(((sum(abs((df_join[\"Price\"] - df_join[\"RRP SA1\"])\\\n",
    "                                                                                  /df_join[\"RRP SA1\"]) > 0.000001)/df_join.shape[0])*100),2)))"
   ]
  },
  {
   "cell_type": "markdown",
   "metadata": {},
   "source": [
    "The price information from both tables are in good agreement with each other. It can be savely concluded from here that the price info from our scraped and saved table contains the actual dispatch prices."
   ]
  },
  {
   "cell_type": "markdown",
   "metadata": {},
   "source": [
    "### __Let's look how big the price mismatches found between the tables are__"
   ]
  },
  {
   "cell_type": "code",
   "execution_count": 52,
   "metadata": {},
   "outputs": [
    {
     "name": "stdout",
     "output_type": "stream",
     "text": [
      "min     1.010000e-03\n",
      "max     2.099937e+06\n",
      "mean    8.595737e+03\n",
      "dtype: float64\n",
      "(3919, 2)\n"
     ]
    },
    {
     "data": {
      "text/html": [
       "<div>\n",
       "<style scoped>\n",
       "    .dataframe tbody tr th:only-of-type {\n",
       "        vertical-align: middle;\n",
       "    }\n",
       "\n",
       "    .dataframe tbody tr th {\n",
       "        vertical-align: top;\n",
       "    }\n",
       "\n",
       "    .dataframe thead th {\n",
       "        text-align: right;\n",
       "    }\n",
       "</style>\n",
       "<table border=\"1\" class=\"dataframe\">\n",
       "  <thead>\n",
       "    <tr style=\"text-align: right;\">\n",
       "      <th></th>\n",
       "      <th>Price</th>\n",
       "      <th>RRP SA1</th>\n",
       "    </tr>\n",
       "  </thead>\n",
       "  <tbody>\n",
       "    <tr>\n",
       "      <th>2009-09-11 19:20:00</th>\n",
       "      <td>89871.44194</td>\n",
       "      <td>10000.00000</td>\n",
       "    </tr>\n",
       "    <tr>\n",
       "      <th>2009-09-11 19:25:00</th>\n",
       "      <td>22836.25512</td>\n",
       "      <td>10000.00000</td>\n",
       "    </tr>\n",
       "    <tr>\n",
       "      <th>2009-11-03 15:30:00</th>\n",
       "      <td>0.00000</td>\n",
       "      <td>0.11566</td>\n",
       "    </tr>\n",
       "    <tr>\n",
       "      <th>2010-02-09 16:10:00</th>\n",
       "      <td>14555.63082</td>\n",
       "      <td>10000.00000</td>\n",
       "    </tr>\n",
       "    <tr>\n",
       "      <th>2010-02-09 16:15:00</th>\n",
       "      <td>67111.08534</td>\n",
       "      <td>10000.00000</td>\n",
       "    </tr>\n",
       "  </tbody>\n",
       "</table>\n",
       "</div>"
      ],
      "text/plain": [
       "                           Price      RRP SA1\n",
       "2009-09-11 19:20:00  89871.44194  10000.00000\n",
       "2009-09-11 19:25:00  22836.25512  10000.00000\n",
       "2009-11-03 15:30:00      0.00000      0.11566\n",
       "2010-02-09 16:10:00  14555.63082  10000.00000\n",
       "2010-02-09 16:15:00  67111.08534  10000.00000"
      ]
     },
     "execution_count": 52,
     "metadata": {},
     "output_type": "execute_result"
    }
   ],
   "source": [
    "df_join_mismatch = df_join.loc[abs((df_join[\"Price\"] - df_join[\"RRP SA1\"])/df_join[\"RRP SA1\"]) > 0.000001, :]\n",
    "print((abs(df_join_mismatch[\"Price\"] - df_join_mismatch[\"RRP SA1\"])).agg([\"min\", \"max\", \"mean\"]))\n",
    "print(df_join_mismatch.shape)\n",
    "df_join_mismatch.head()"
   ]
  },
  {
   "cell_type": "code",
   "execution_count": 56,
   "metadata": {},
   "outputs": [
    {
     "data": {
      "text/plain": [
       "<Figure size 432x288 with 0 Axes>"
      ]
     },
     "execution_count": 56,
     "metadata": {},
     "output_type": "execute_result"
    },
    {
     "data": {
      "image/png": "[encoded data removed]",
      "text/plain": [
       "<Figure size 432x288 with 1 Axes>"
      ]
     },
     "metadata": {
      "needs_background": "light"
     },
     "output_type": "display_data"
    },
    {
     "data": {
      "text/plain": [
       "<Figure size 432x288 with 0 Axes>"
      ]
     },
     "metadata": {},
     "output_type": "display_data"
    }
   ],
   "source": [
    "import matplotlib.pyplot as plt\n",
    "import seaborn as sns\n",
    "\n",
    "fig = sns.distplot(df_join_mismatch.Price, bins=10000)\n",
    "fig.set_xscale(\"log\")\n",
    "plt.figure()"
   ]
  },
  {
   "cell_type": "code",
   "execution_count": 54,
   "metadata": {},
   "outputs": [
    {
     "data": {
      "text/plain": [
       "3919"
      ]
     },
     "execution_count": 54,
     "metadata": {},
     "output_type": "execute_result"
    }
   ],
   "source": [
    "len(df_join_mismatch)"
   ]
  },
  {
   "cell_type": "markdown",
   "metadata": {},
   "source": [
    "Note that in the following notebook, we will restrict any dispatch prices in our price column to what is allowed by the energy market (see README)."
   ]
  },
  {
   "cell_type": "markdown",
   "metadata": {},
   "source": [
    "### __Checking of price range__"
   ]
  },
  {
   "cell_type": "markdown",
   "metadata": {},
   "source": [
    "According to the rule set of the Australian energy market, the bidding price range is restricted within a specific limit (see README). Hence, we assume that any price values outside this range are outliers which were not actually reflecting the price of a specific point of time.\n",
    "\n",
    "We want to restrict all price values to the allowed limit of the Australian energy market. FOr the sake of efficiency, we will do that in a later stage when we have compressed our dataframe further."
   ]
  },
  {
   "cell_type": "code",
   "execution_count": 55,
   "metadata": {},
   "outputs": [
    {
     "name": "stdout",
     "output_type": "stream",
     "text": [
      "-26801.01057\n",
      "2100000.0\n"
     ]
    }
   ],
   "source": [
    "print(df.Price.min())\n",
    "print(df.Price.max())"
   ]
  },
  {
   "cell_type": "markdown",
   "metadata": {},
   "source": [
    "Above we can see that there are outlier price values present. We will change that in the next notebook on a compressed file-"
   ]
  }
 ],
 "metadata": {
  "kernelspec": {
   "display_name": "smc",
   "language": "python",
   "name": "smc"
  },
  "language_info": {
   "codemirror_mode": {
    "name": "ipython",
    "version": 3
   },
   "file_extension": ".py",
   "mimetype": "text/x-python",
   "name": "python",
   "nbconvert_exporter": "python",
   "pygments_lexer": "ipython3",
   "version": "3.6.9"
  }
 },
 "nbformat": 4,
 "nbformat_minor": 4
}
