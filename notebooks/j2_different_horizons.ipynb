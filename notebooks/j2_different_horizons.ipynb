{
 "cells": [
  {
   "cell_type": "markdown",
   "metadata": {},
   "source": [
    "# __How far shall we forecast into the future?__"
   ]
  },
  {
   "cell_type": "markdown",
   "metadata": {},
   "source": [
    "In order to find that out we will forecast for different horizon values."
   ]
  },
  {
   "cell_type": "code",
   "execution_count": 1,
   "metadata": {},
   "outputs": [],
   "source": [
    "import pandas as pd\n",
    "import numpy as np\n",
    "import os\n",
    "import datetime as dt\n",
    "\n",
    "import seaborn as sns\n",
    "import matplotlib.pyplot as plt\n",
    "from pylab import rcParams\n",
    "\n",
    "import xgboost as xgb\n",
    "from sklearn.model_selection import TimeSeriesSplit, GridSearchCV\n",
    "\n",
    "import warnings\n",
    "warnings.simplefilter('ignore')"
   ]
  },
  {
   "cell_type": "markdown",
   "metadata": {},
   "source": [
    "### __For that, we prepare the corresponding table__"
   ]
  },
  {
   "cell_type": "code",
   "execution_count": 2,
   "metadata": {},
   "outputs": [
    {
     "data": {
      "text/html": [
       "<div>\n",
       "<style scoped>\n",
       "    .dataframe tbody tr th:only-of-type {\n",
       "        vertical-align: middle;\n",
       "    }\n",
       "\n",
       "    .dataframe tbody tr th {\n",
       "        vertical-align: top;\n",
       "    }\n",
       "\n",
       "    .dataframe thead th {\n",
       "        text-align: right;\n",
       "    }\n",
       "</style>\n",
       "<table border=\"1\" class=\"dataframe\">\n",
       "  <thead>\n",
       "    <tr style=\"text-align: right;\">\n",
       "      <th></th>\n",
       "      <th>CO2E_EMISSIONS_FACTOR</th>\n",
       "    </tr>\n",
       "  </thead>\n",
       "  <tbody>\n",
       "    <tr>\n",
       "      <th>2009-07-01 04:00:00</th>\n",
       "      <td>0.991217</td>\n",
       "    </tr>\n",
       "    <tr>\n",
       "      <th>2009-07-01 04:05:00</th>\n",
       "      <td>0.000000</td>\n",
       "    </tr>\n",
       "    <tr>\n",
       "      <th>2009-07-01 04:10:00</th>\n",
       "      <td>0.000000</td>\n",
       "    </tr>\n",
       "    <tr>\n",
       "      <th>2009-07-01 04:15:00</th>\n",
       "      <td>0.991217</td>\n",
       "    </tr>\n",
       "    <tr>\n",
       "      <th>2009-07-01 04:20:00</th>\n",
       "      <td>1.025701</td>\n",
       "    </tr>\n",
       "  </tbody>\n",
       "</table>\n",
       "</div>"
      ],
      "text/plain": [
       "                     CO2E_EMISSIONS_FACTOR\n",
       "2009-07-01 04:00:00               0.991217\n",
       "2009-07-01 04:05:00               0.000000\n",
       "2009-07-01 04:10:00               0.000000\n",
       "2009-07-01 04:15:00               0.991217\n",
       "2009-07-01 04:20:00               1.025701"
      ]
     },
     "execution_count": 2,
     "metadata": {},
     "output_type": "execute_result"
    }
   ],
   "source": [
    "file_path = '../../data/train.pkl'\n",
    "df = pd.read_pickle(file_path)\n",
    "df.drop(columns='Price', inplace=True)\n",
    "\n",
    "df.head()"
   ]
  },
  {
   "cell_type": "markdown",
   "metadata": {},
   "source": [
    "__We will have to perform add time and non-time features again.__"
   ]
  },
  {
   "cell_type": "markdown",
   "metadata": {},
   "source": [
    "### __Dataframe preparation__"
   ]
  },
  {
   "cell_type": "markdown",
   "metadata": {},
   "source": [
    "__Load demand table__"
   ]
  },
  {
   "cell_type": "code",
   "execution_count": 3,
   "metadata": {},
   "outputs": [
    {
     "data": {
      "text/html": [
       "<div>\n",
       "<style scoped>\n",
       "    .dataframe tbody tr th:only-of-type {\n",
       "        vertical-align: middle;\n",
       "    }\n",
       "\n",
       "    .dataframe tbody tr th {\n",
       "        vertical-align: top;\n",
       "    }\n",
       "\n",
       "    .dataframe thead th {\n",
       "        text-align: right;\n",
       "    }\n",
       "</style>\n",
       "<table border=\"1\" class=\"dataframe\">\n",
       "  <thead>\n",
       "    <tr style=\"text-align: right;\">\n",
       "      <th></th>\n",
       "      <th>TOTALDEMAND</th>\n",
       "      <th>AVAILABLEGENERATION</th>\n",
       "    </tr>\n",
       "    <tr>\n",
       "      <th>start-of-interval</th>\n",
       "      <th></th>\n",
       "      <th></th>\n",
       "    </tr>\n",
       "  </thead>\n",
       "  <tbody>\n",
       "    <tr>\n",
       "      <th>2009-07-01 04:00:00</th>\n",
       "      <td>1004.32</td>\n",
       "      <td>3043.771</td>\n",
       "    </tr>\n",
       "    <tr>\n",
       "      <th>2009-07-01 04:05:00</th>\n",
       "      <td>1007.58</td>\n",
       "      <td>3043.694</td>\n",
       "    </tr>\n",
       "    <tr>\n",
       "      <th>2009-07-01 04:10:00</th>\n",
       "      <td>1019.33</td>\n",
       "      <td>3045.307</td>\n",
       "    </tr>\n",
       "    <tr>\n",
       "      <th>2009-07-01 04:15:00</th>\n",
       "      <td>1025.24</td>\n",
       "      <td>3045.436</td>\n",
       "    </tr>\n",
       "    <tr>\n",
       "      <th>2009-07-01 04:20:00</th>\n",
       "      <td>1050.50</td>\n",
       "      <td>3043.964</td>\n",
       "    </tr>\n",
       "  </tbody>\n",
       "</table>\n",
       "</div>"
      ],
      "text/plain": [
       "                     TOTALDEMAND  AVAILABLEGENERATION\n",
       "start-of-interval                                    \n",
       "2009-07-01 04:00:00      1004.32             3043.771\n",
       "2009-07-01 04:05:00      1007.58             3043.694\n",
       "2009-07-01 04:10:00      1019.33             3045.307\n",
       "2009-07-01 04:15:00      1025.24             3045.436\n",
       "2009-07-01 04:20:00      1050.50             3043.964"
      ]
     },
     "execution_count": 3,
     "metadata": {},
     "output_type": "execute_result"
    }
   ],
   "source": [
    "demand = pd.read_csv('../../big_data/demand.csv', index_col=-1, parse_dates=True)\n",
    "demand.drop(columns=[\"SETTLEMENTDATE\", \"I\", \"INTERVENTION\"], inplace=True)\n",
    "demand = demand[(demand.index >= df.index.min()) & (demand.index <= df.index.max())]\n",
    "\n",
    "assert demand.index.min() == df.index.min()\n",
    "assert demand.index.max() == df.index.max()\n",
    "\n",
    "demand.head()"
   ]
  },
  {
   "cell_type": "markdown",
   "metadata": {},
   "source": [
    "__Add demand coluomn__"
   ]
  },
  {
   "cell_type": "code",
   "execution_count": 4,
   "metadata": {},
   "outputs": [
    {
     "name": "stdout",
     "output_type": "stream",
     "text": [
      "(937968, 3)\n"
     ]
    },
    {
     "data": {
      "text/html": [
       "<div>\n",
       "<style scoped>\n",
       "    .dataframe tbody tr th:only-of-type {\n",
       "        vertical-align: middle;\n",
       "    }\n",
       "\n",
       "    .dataframe tbody tr th {\n",
       "        vertical-align: top;\n",
       "    }\n",
       "\n",
       "    .dataframe thead th {\n",
       "        text-align: right;\n",
       "    }\n",
       "</style>\n",
       "<table border=\"1\" class=\"dataframe\">\n",
       "  <thead>\n",
       "    <tr style=\"text-align: right;\">\n",
       "      <th></th>\n",
       "      <th>CO2E_EMISSIONS_FACTOR</th>\n",
       "      <th>demand</th>\n",
       "      <th>demand_capacity</th>\n",
       "    </tr>\n",
       "  </thead>\n",
       "  <tbody>\n",
       "    <tr>\n",
       "      <th>2009-07-01 04:00:00</th>\n",
       "      <td>0.991217</td>\n",
       "      <td>1004.32</td>\n",
       "      <td>0.329959</td>\n",
       "    </tr>\n",
       "    <tr>\n",
       "      <th>2009-07-01 04:05:00</th>\n",
       "      <td>0.000000</td>\n",
       "      <td>1007.58</td>\n",
       "      <td>0.331039</td>\n",
       "    </tr>\n",
       "    <tr>\n",
       "      <th>2009-07-01 04:10:00</th>\n",
       "      <td>0.000000</td>\n",
       "      <td>1019.33</td>\n",
       "      <td>0.334722</td>\n",
       "    </tr>\n",
       "    <tr>\n",
       "      <th>2009-07-01 04:15:00</th>\n",
       "      <td>0.991217</td>\n",
       "      <td>1025.24</td>\n",
       "      <td>0.336648</td>\n",
       "    </tr>\n",
       "    <tr>\n",
       "      <th>2009-07-01 04:20:00</th>\n",
       "      <td>1.025701</td>\n",
       "      <td>1050.50</td>\n",
       "      <td>0.345109</td>\n",
       "    </tr>\n",
       "  </tbody>\n",
       "</table>\n",
       "</div>"
      ],
      "text/plain": [
       "                     CO2E_EMISSIONS_FACTOR   demand  demand_capacity\n",
       "2009-07-01 04:00:00               0.991217  1004.32         0.329959\n",
       "2009-07-01 04:05:00               0.000000  1007.58         0.331039\n",
       "2009-07-01 04:10:00               0.000000  1019.33         0.334722\n",
       "2009-07-01 04:15:00               0.991217  1025.24         0.336648\n",
       "2009-07-01 04:20:00               1.025701  1050.50         0.345109"
      ]
     },
     "execution_count": 4,
     "metadata": {},
     "output_type": "execute_result"
    }
   ],
   "source": [
    "demand = demand.groupby(demand.index).mean()\n",
    "\n",
    "df[\"demand\"] = demand.TOTALDEMAND\n",
    "df[\"demand_capacity\"] = demand.TOTALDEMAND/demand.AVAILABLEGENERATION\n",
    "\n",
    "print(df.shape)\n",
    "df.head()"
   ]
  },
  {
   "cell_type": "markdown",
   "metadata": {},
   "source": [
    "__Load interconnector table__"
   ]
  },
  {
   "cell_type": "code",
   "execution_count": 5,
   "metadata": {},
   "outputs": [
    {
     "ename": "AssertionError",
     "evalue": "",
     "output_type": "error",
     "traceback": [
      "\u001b[0;31m---------------------------------------------------------------------------\u001b[0m",
      "\u001b[0;31mAssertionError\u001b[0m                            Traceback (most recent call last)",
      "\u001b[0;32m<ipython-input-5-91b34a12454f>\u001b[0m in \u001b[0;36m<module>\u001b[0;34m\u001b[0m\n\u001b[1;32m      3\u001b[0m \u001b[0minterconnectors\u001b[0m \u001b[0;34m=\u001b[0m \u001b[0minterconnectors\u001b[0m\u001b[0;34m[\u001b[0m\u001b[0;34m(\u001b[0m\u001b[0minterconnectors\u001b[0m\u001b[0;34m.\u001b[0m\u001b[0mindex\u001b[0m \u001b[0;34m>=\u001b[0m \u001b[0mdf\u001b[0m\u001b[0;34m.\u001b[0m\u001b[0mindex\u001b[0m\u001b[0;34m.\u001b[0m\u001b[0mmin\u001b[0m\u001b[0;34m(\u001b[0m\u001b[0;34m)\u001b[0m\u001b[0;34m)\u001b[0m \u001b[0;34m&\u001b[0m \u001b[0;34m(\u001b[0m\u001b[0minterconnectors\u001b[0m\u001b[0;34m.\u001b[0m\u001b[0mindex\u001b[0m \u001b[0;34m<=\u001b[0m \u001b[0mdf\u001b[0m\u001b[0;34m.\u001b[0m\u001b[0mindex\u001b[0m\u001b[0;34m.\u001b[0m\u001b[0mmax\u001b[0m\u001b[0;34m(\u001b[0m\u001b[0;34m)\u001b[0m\u001b[0;34m)\u001b[0m\u001b[0;34m]\u001b[0m\u001b[0;34m\u001b[0m\u001b[0;34m\u001b[0m\u001b[0m\n\u001b[1;32m      4\u001b[0m \u001b[0;34m\u001b[0m\u001b[0m\n\u001b[0;32m----> 5\u001b[0;31m \u001b[0;32massert\u001b[0m \u001b[0minterconnectors\u001b[0m\u001b[0;34m.\u001b[0m\u001b[0mindex\u001b[0m\u001b[0;34m.\u001b[0m\u001b[0mmin\u001b[0m\u001b[0;34m(\u001b[0m\u001b[0;34m)\u001b[0m \u001b[0;34m==\u001b[0m \u001b[0mdf\u001b[0m\u001b[0;34m.\u001b[0m\u001b[0mindex\u001b[0m\u001b[0;34m.\u001b[0m\u001b[0mmin\u001b[0m\u001b[0;34m(\u001b[0m\u001b[0;34m)\u001b[0m\u001b[0;34m\u001b[0m\u001b[0;34m\u001b[0m\u001b[0m\n\u001b[0m\u001b[1;32m      6\u001b[0m \u001b[0;32massert\u001b[0m \u001b[0minterconnectors\u001b[0m\u001b[0;34m.\u001b[0m\u001b[0mindex\u001b[0m\u001b[0;34m.\u001b[0m\u001b[0mmax\u001b[0m\u001b[0;34m(\u001b[0m\u001b[0;34m)\u001b[0m \u001b[0;34m==\u001b[0m \u001b[0mdf\u001b[0m\u001b[0;34m.\u001b[0m\u001b[0mindex\u001b[0m\u001b[0;34m.\u001b[0m\u001b[0mmax\u001b[0m\u001b[0;34m(\u001b[0m\u001b[0;34m)\u001b[0m\u001b[0;34m\u001b[0m\u001b[0;34m\u001b[0m\u001b[0m\n\u001b[1;32m      7\u001b[0m \u001b[0;34m\u001b[0m\u001b[0m\n",
      "\u001b[0;31mAssertionError\u001b[0m: "
     ]
    }
   ],
   "source": [
    "interconnectors = pd.read_csv('../../big_data/interconnectors.csv', index_col=-1, parse_dates=True)\n",
    "interconnectors.drop(columns=[\"SETTLEMENTDATE\", \"I\", \"INTERCONNECTORID\"], inplace=True)\n",
    "interconnectors = interconnectors[(interconnectors.index >= df.index.min()) & (interconnectors.index <= df.index.max())]\n",
    "\n",
    "assert interconnectors.index.min() == df.index.min()\n",
    "assert interconnectors.index.max() == df.index.max()\n",
    "\n",
    "interconnectors.head()"
   ]
  },
  {
   "cell_type": "markdown",
   "metadata": {},
   "source": [
    "__Add interconnector table__"
   ]
  },
  {
   "cell_type": "code",
   "execution_count": 6,
   "metadata": {},
   "outputs": [
    {
     "name": "stdout",
     "output_type": "stream",
     "text": [
      "(920160, 1)\n"
     ]
    },
    {
     "data": {
      "text/html": [
       "<div>\n",
       "<style scoped>\n",
       "    .dataframe tbody tr th:only-of-type {\n",
       "        vertical-align: middle;\n",
       "    }\n",
       "\n",
       "    .dataframe tbody tr th {\n",
       "        vertical-align: top;\n",
       "    }\n",
       "\n",
       "    .dataframe thead th {\n",
       "        text-align: right;\n",
       "    }\n",
       "</style>\n",
       "<table border=\"1\" class=\"dataframe\">\n",
       "  <thead>\n",
       "    <tr style=\"text-align: right;\">\n",
       "      <th></th>\n",
       "      <th>CO2E_EMISSIONS_FACTOR</th>\n",
       "      <th>demand</th>\n",
       "      <th>demand_capacity</th>\n",
       "      <th>interconnector</th>\n",
       "    </tr>\n",
       "  </thead>\n",
       "  <tbody>\n",
       "    <tr>\n",
       "      <th>2009-07-01 04:00:00</th>\n",
       "      <td>0.991217</td>\n",
       "      <td>1004.32</td>\n",
       "      <td>0.329959</td>\n",
       "      <td>NaN</td>\n",
       "    </tr>\n",
       "    <tr>\n",
       "      <th>2009-07-01 04:05:00</th>\n",
       "      <td>0.000000</td>\n",
       "      <td>1007.58</td>\n",
       "      <td>0.331039</td>\n",
       "      <td>NaN</td>\n",
       "    </tr>\n",
       "    <tr>\n",
       "      <th>2009-07-01 04:10:00</th>\n",
       "      <td>0.000000</td>\n",
       "      <td>1019.33</td>\n",
       "      <td>0.334722</td>\n",
       "      <td>NaN</td>\n",
       "    </tr>\n",
       "    <tr>\n",
       "      <th>2009-07-01 04:15:00</th>\n",
       "      <td>0.991217</td>\n",
       "      <td>1025.24</td>\n",
       "      <td>0.336648</td>\n",
       "      <td>NaN</td>\n",
       "    </tr>\n",
       "    <tr>\n",
       "      <th>2009-07-01 04:20:00</th>\n",
       "      <td>1.025701</td>\n",
       "      <td>1050.50</td>\n",
       "      <td>0.345109</td>\n",
       "      <td>NaN</td>\n",
       "    </tr>\n",
       "  </tbody>\n",
       "</table>\n",
       "</div>"
      ],
      "text/plain": [
       "                     CO2E_EMISSIONS_FACTOR   demand  demand_capacity  \\\n",
       "2009-07-01 04:00:00               0.991217  1004.32         0.329959   \n",
       "2009-07-01 04:05:00               0.000000  1007.58         0.331039   \n",
       "2009-07-01 04:10:00               0.000000  1019.33         0.334722   \n",
       "2009-07-01 04:15:00               0.991217  1025.24         0.336648   \n",
       "2009-07-01 04:20:00               1.025701  1050.50         0.345109   \n",
       "\n",
       "                     interconnector  \n",
       "2009-07-01 04:00:00             NaN  \n",
       "2009-07-01 04:05:00             NaN  \n",
       "2009-07-01 04:10:00             NaN  \n",
       "2009-07-01 04:15:00             NaN  \n",
       "2009-07-01 04:20:00             NaN  "
      ]
     },
     "execution_count": 6,
     "metadata": {},
     "output_type": "execute_result"
    }
   ],
   "source": [
    "interconnectors = interconnectors.groupby(interconnectors.index).mean()\n",
    "print(interconnectors.shape)\n",
    "df[\"interconnector\"] = interconnectors.MWFLOW\n",
    "df.head()"
   ]
  },
  {
   "cell_type": "code",
   "execution_count": 7,
   "metadata": {},
   "outputs": [
    {
     "data": {
      "text/plain": [
       "CO2E_EMISSIONS_FACTOR    False\n",
       "demand                   False\n",
       "demand_capacity          False\n",
       "interconnector            True\n",
       "dtype: bool"
      ]
     },
     "execution_count": 7,
     "metadata": {},
     "output_type": "execute_result"
    }
   ],
   "source": [
    "df.isna().any()"
   ]
  },
  {
   "cell_type": "markdown",
   "metadata": {},
   "source": [
    "__Again, we apply dropna to just for the shorter time period of interconnectors.__"
   ]
  },
  {
   "cell_type": "code",
   "execution_count": 8,
   "metadata": {},
   "outputs": [],
   "source": [
    "df.dropna(inplace=True)"
   ]
  },
  {
   "cell_type": "code",
   "execution_count": 9,
   "metadata": {},
   "outputs": [
    {
     "data": {
      "text/plain": [
       "CO2E_EMISSIONS_FACTOR    False\n",
       "demand                   False\n",
       "demand_capacity          False\n",
       "interconnector           False\n",
       "dtype: bool"
      ]
     },
     "execution_count": 9,
     "metadata": {},
     "output_type": "execute_result"
    }
   ],
   "source": [
    "df.isna().any()"
   ]
  },
  {
   "cell_type": "markdown",
   "metadata": {},
   "source": [
    "### __Data preparation and training for horizon = 12 (1h forecast)__"
   ]
  },
  {
   "cell_type": "markdown",
   "metadata": {},
   "source": [
    "#### __Data preparation__"
   ]
  },
  {
   "cell_type": "code",
   "execution_count": 10,
   "metadata": {},
   "outputs": [],
   "source": [
    "def time_columns(df):\n",
    "    \n",
    "    df.loc[:,'minute'] = df.index.minute\n",
    "    df['hour'] = df.index.hour\n",
    "    df['weekday'] = np.where(df.index.weekday < 5, 0, 1)\n",
    "    df['month'] = df.index.month\n",
    "    df['year'] = df.index.year\n",
    "\n",
    "    df['minute_sin'] = np.sin(2 * np.pi * df.loc[:,'minute']/60)\n",
    "    df['minute_cos'] = np.cos(2 * np.pi * df.loc[:,'minute']/60)\n",
    "\n",
    "    df['hour_sin'] = np.sin(2 * np.pi * df.loc[:,'hour']/24)\n",
    "    df['hour_cos'] = np.cos(2 * np.pi * df.loc[:,'hour']/24)\n",
    "    \n",
    "    df['month_sin'] = np.sin(2 * np.pi * df.loc[:,'month']/12)\n",
    "    df['month_cos'] = np.cos(2 * np.pi * df.loc[:,'month']/12)\n",
    "    \n",
    "    df.drop(columns=['minute', 'hour', 'month'], inplace=True)\n",
    "    \n",
    "    return df"
   ]
  },
  {
   "cell_type": "code",
   "execution_count": 11,
   "metadata": {},
   "outputs": [],
   "source": [
    "def lag_horizon(df, lag, horizon):\n",
    "    '''\n",
    "    Returns dataset with additional features defined by lag and modified target defined by horizon\n",
    "    lag=integer of how far back time series should look\n",
    "    horizon=integer of how far into the future the model shall predict; horizon=0 means prediciton 1 step into future\n",
    "    '''\n",
    "    for i in range(1,lag+1):\n",
    "        df['lag{}'.format(i)] = df.CO2E_EMISSIONS_FACTOR.shift(i)\n",
    "    \n",
    "    for i in range(horizon+1,horizon+2):\n",
    "        df['horizon{}'.format(i-1)] = df.CO2E_EMISSIONS_FACTOR[lag+i:].shift(-i+1)\n",
    "        \n",
    "    return df"
   ]
  },
  {
   "cell_type": "code",
   "execution_count": 12,
   "metadata": {},
   "outputs": [
    {
     "name": "stdout",
     "output_type": "stream",
     "text": [
      "Index(['CO2E_EMISSIONS_FACTOR', 'demand', 'demand_capacity', 'interconnector',\n",
      "       'weekday', 'year', 'minute_sin', 'minute_cos', 'hour_sin', 'hour_cos',\n",
      "       'month_sin', 'month_cos', 'lag1', 'lag2', 'lag3', 'lag4', 'lag5',\n",
      "       'lag6', 'lag7', 'lag8', 'lag9', 'lag10', 'lag11', 'lag12', 'horizon12'],\n",
      "      dtype='object')\n"
     ]
    },
    {
     "data": {
      "text/html": [
       "<div>\n",
       "<style scoped>\n",
       "    .dataframe tbody tr th:only-of-type {\n",
       "        vertical-align: middle;\n",
       "    }\n",
       "\n",
       "    .dataframe tbody tr th {\n",
       "        vertical-align: top;\n",
       "    }\n",
       "\n",
       "    .dataframe thead th {\n",
       "        text-align: right;\n",
       "    }\n",
       "</style>\n",
       "<table border=\"1\" class=\"dataframe\">\n",
       "  <thead>\n",
       "    <tr style=\"text-align: right;\">\n",
       "      <th></th>\n",
       "      <th>CO2E_EMISSIONS_FACTOR</th>\n",
       "      <th>demand</th>\n",
       "      <th>demand_capacity</th>\n",
       "      <th>interconnector</th>\n",
       "      <th>weekday</th>\n",
       "      <th>year</th>\n",
       "      <th>minute_sin</th>\n",
       "      <th>minute_cos</th>\n",
       "      <th>hour_sin</th>\n",
       "      <th>hour_cos</th>\n",
       "      <th>...</th>\n",
       "      <th>lag4</th>\n",
       "      <th>lag5</th>\n",
       "      <th>lag6</th>\n",
       "      <th>lag7</th>\n",
       "      <th>lag8</th>\n",
       "      <th>lag9</th>\n",
       "      <th>lag10</th>\n",
       "      <th>lag11</th>\n",
       "      <th>lag12</th>\n",
       "      <th>horizon12</th>\n",
       "    </tr>\n",
       "  </thead>\n",
       "  <tbody>\n",
       "    <tr>\n",
       "      <th>2009-09-01 00:00:00</th>\n",
       "      <td>0.986067</td>\n",
       "      <td>1667.12</td>\n",
       "      <td>0.603199</td>\n",
       "      <td>302.86</td>\n",
       "      <td>0</td>\n",
       "      <td>2009</td>\n",
       "      <td>0.000000</td>\n",
       "      <td>1.000000e+00</td>\n",
       "      <td>0.0</td>\n",
       "      <td>1.0</td>\n",
       "      <td>...</td>\n",
       "      <td>NaN</td>\n",
       "      <td>NaN</td>\n",
       "      <td>NaN</td>\n",
       "      <td>NaN</td>\n",
       "      <td>NaN</td>\n",
       "      <td>NaN</td>\n",
       "      <td>NaN</td>\n",
       "      <td>NaN</td>\n",
       "      <td>NaN</td>\n",
       "      <td>NaN</td>\n",
       "    </tr>\n",
       "    <tr>\n",
       "      <th>2009-09-01 00:05:00</th>\n",
       "      <td>0.976360</td>\n",
       "      <td>1657.52</td>\n",
       "      <td>0.599962</td>\n",
       "      <td>300.00</td>\n",
       "      <td>0</td>\n",
       "      <td>2009</td>\n",
       "      <td>0.500000</td>\n",
       "      <td>8.660254e-01</td>\n",
       "      <td>0.0</td>\n",
       "      <td>1.0</td>\n",
       "      <td>...</td>\n",
       "      <td>NaN</td>\n",
       "      <td>NaN</td>\n",
       "      <td>NaN</td>\n",
       "      <td>NaN</td>\n",
       "      <td>NaN</td>\n",
       "      <td>NaN</td>\n",
       "      <td>NaN</td>\n",
       "      <td>NaN</td>\n",
       "      <td>NaN</td>\n",
       "      <td>NaN</td>\n",
       "    </tr>\n",
       "    <tr>\n",
       "      <th>2009-09-01 00:10:00</th>\n",
       "      <td>0.976889</td>\n",
       "      <td>1650.15</td>\n",
       "      <td>0.596877</td>\n",
       "      <td>290.52</td>\n",
       "      <td>0</td>\n",
       "      <td>2009</td>\n",
       "      <td>0.866025</td>\n",
       "      <td>5.000000e-01</td>\n",
       "      <td>0.0</td>\n",
       "      <td>1.0</td>\n",
       "      <td>...</td>\n",
       "      <td>NaN</td>\n",
       "      <td>NaN</td>\n",
       "      <td>NaN</td>\n",
       "      <td>NaN</td>\n",
       "      <td>NaN</td>\n",
       "      <td>NaN</td>\n",
       "      <td>NaN</td>\n",
       "      <td>NaN</td>\n",
       "      <td>NaN</td>\n",
       "      <td>NaN</td>\n",
       "    </tr>\n",
       "    <tr>\n",
       "      <th>2009-09-01 00:15:00</th>\n",
       "      <td>1.032780</td>\n",
       "      <td>1630.66</td>\n",
       "      <td>0.589438</td>\n",
       "      <td>260.75</td>\n",
       "      <td>0</td>\n",
       "      <td>2009</td>\n",
       "      <td>1.000000</td>\n",
       "      <td>2.832769e-16</td>\n",
       "      <td>0.0</td>\n",
       "      <td>1.0</td>\n",
       "      <td>...</td>\n",
       "      <td>NaN</td>\n",
       "      <td>NaN</td>\n",
       "      <td>NaN</td>\n",
       "      <td>NaN</td>\n",
       "      <td>NaN</td>\n",
       "      <td>NaN</td>\n",
       "      <td>NaN</td>\n",
       "      <td>NaN</td>\n",
       "      <td>NaN</td>\n",
       "      <td>NaN</td>\n",
       "    </tr>\n",
       "    <tr>\n",
       "      <th>2009-09-01 00:20:00</th>\n",
       "      <td>0.975655</td>\n",
       "      <td>1628.96</td>\n",
       "      <td>0.587282</td>\n",
       "      <td>256.98</td>\n",
       "      <td>0</td>\n",
       "      <td>2009</td>\n",
       "      <td>0.866025</td>\n",
       "      <td>-5.000000e-01</td>\n",
       "      <td>0.0</td>\n",
       "      <td>1.0</td>\n",
       "      <td>...</td>\n",
       "      <td>0.986067</td>\n",
       "      <td>NaN</td>\n",
       "      <td>NaN</td>\n",
       "      <td>NaN</td>\n",
       "      <td>NaN</td>\n",
       "      <td>NaN</td>\n",
       "      <td>NaN</td>\n",
       "      <td>NaN</td>\n",
       "      <td>NaN</td>\n",
       "      <td>NaN</td>\n",
       "    </tr>\n",
       "  </tbody>\n",
       "</table>\n",
       "<p>5 rows × 25 columns</p>\n",
       "</div>"
      ],
      "text/plain": [
       "                     CO2E_EMISSIONS_FACTOR   demand  demand_capacity  \\\n",
       "2009-09-01 00:00:00               0.986067  1667.12         0.603199   \n",
       "2009-09-01 00:05:00               0.976360  1657.52         0.599962   \n",
       "2009-09-01 00:10:00               0.976889  1650.15         0.596877   \n",
       "2009-09-01 00:15:00               1.032780  1630.66         0.589438   \n",
       "2009-09-01 00:20:00               0.975655  1628.96         0.587282   \n",
       "\n",
       "                     interconnector  weekday  year  minute_sin    minute_cos  \\\n",
       "2009-09-01 00:00:00          302.86        0  2009    0.000000  1.000000e+00   \n",
       "2009-09-01 00:05:00          300.00        0  2009    0.500000  8.660254e-01   \n",
       "2009-09-01 00:10:00          290.52        0  2009    0.866025  5.000000e-01   \n",
       "2009-09-01 00:15:00          260.75        0  2009    1.000000  2.832769e-16   \n",
       "2009-09-01 00:20:00          256.98        0  2009    0.866025 -5.000000e-01   \n",
       "\n",
       "                     hour_sin  hour_cos  ...      lag4  lag5  lag6  lag7  \\\n",
       "2009-09-01 00:00:00       0.0       1.0  ...       NaN   NaN   NaN   NaN   \n",
       "2009-09-01 00:05:00       0.0       1.0  ...       NaN   NaN   NaN   NaN   \n",
       "2009-09-01 00:10:00       0.0       1.0  ...       NaN   NaN   NaN   NaN   \n",
       "2009-09-01 00:15:00       0.0       1.0  ...       NaN   NaN   NaN   NaN   \n",
       "2009-09-01 00:20:00       0.0       1.0  ...  0.986067   NaN   NaN   NaN   \n",
       "\n",
       "                     lag8  lag9  lag10  lag11  lag12  horizon12  \n",
       "2009-09-01 00:00:00   NaN   NaN    NaN    NaN    NaN        NaN  \n",
       "2009-09-01 00:05:00   NaN   NaN    NaN    NaN    NaN        NaN  \n",
       "2009-09-01 00:10:00   NaN   NaN    NaN    NaN    NaN        NaN  \n",
       "2009-09-01 00:15:00   NaN   NaN    NaN    NaN    NaN        NaN  \n",
       "2009-09-01 00:20:00   NaN   NaN    NaN    NaN    NaN        NaN  \n",
       "\n",
       "[5 rows x 25 columns]"
      ]
     },
     "execution_count": 12,
     "metadata": {},
     "output_type": "execute_result"
    }
   ],
   "source": [
    "df = time_columns(df)\n",
    "df_1h = lag_horizon(df, 12, 12)\n",
    "print(df_1h.columns)\n",
    "df_1h.head()"
   ]
  },
  {
   "cell_type": "code",
   "execution_count": 13,
   "metadata": {},
   "outputs": [
    {
     "data": {
      "text/plain": [
       "CO2E_EMISSIONS_FACTOR    False\n",
       "demand                   False\n",
       "demand_capacity          False\n",
       "interconnector           False\n",
       "weekday                  False\n",
       "year                     False\n",
       "minute_sin               False\n",
       "minute_cos               False\n",
       "hour_sin                 False\n",
       "hour_cos                 False\n",
       "month_sin                False\n",
       "month_cos                False\n",
       "lag1                      True\n",
       "lag2                      True\n",
       "lag3                      True\n",
       "lag4                      True\n",
       "lag5                      True\n",
       "lag6                      True\n",
       "lag7                      True\n",
       "lag8                      True\n",
       "lag9                      True\n",
       "lag10                     True\n",
       "lag11                     True\n",
       "lag12                     True\n",
       "horizon12                 True\n",
       "dtype: bool"
      ]
     },
     "execution_count": 13,
     "metadata": {},
     "output_type": "execute_result"
    }
   ],
   "source": [
    "df_1h.isna().any()"
   ]
  },
  {
   "cell_type": "code",
   "execution_count": 14,
   "metadata": {},
   "outputs": [
    {
     "data": {
      "text/plain": [
       "CO2E_EMISSIONS_FACTOR    False\n",
       "demand                   False\n",
       "demand_capacity          False\n",
       "interconnector           False\n",
       "weekday                  False\n",
       "year                     False\n",
       "minute_sin               False\n",
       "minute_cos               False\n",
       "hour_sin                 False\n",
       "hour_cos                 False\n",
       "month_sin                False\n",
       "month_cos                False\n",
       "lag1                     False\n",
       "lag2                     False\n",
       "lag3                     False\n",
       "lag4                     False\n",
       "lag5                     False\n",
       "lag6                     False\n",
       "lag7                     False\n",
       "lag8                     False\n",
       "lag9                     False\n",
       "lag10                    False\n",
       "lag11                    False\n",
       "lag12                    False\n",
       "horizon12                False\n",
       "dtype: bool"
      ]
     },
     "execution_count": 14,
     "metadata": {},
     "output_type": "execute_result"
    }
   ],
   "source": [
    "df_1h.dropna(inplace=True)\n",
    "df_1h.isna().any()"
   ]
  },
  {
   "cell_type": "markdown",
   "metadata": {},
   "source": [
    "### __Training__"
   ]
  },
  {
   "cell_type": "code",
   "execution_count": 15,
   "metadata": {},
   "outputs": [],
   "source": [
    "def train_validation_ts(df, relative_train, maximal_lag, horizon):\n",
    "    '''\n",
    "    Time series (ts) split function creates a train/test set under consideration of potential overlap between the two due to lag processing\n",
    "    X_train, y_train, X_test, y_test = ...\n",
    "    df=must contain target column as \"target\"; all other columns must be used as features\n",
    "    percentage_train=how much of the total dataset shall be used for training; must be added between 0 - 1\n",
    "    maximal_lag=out of all lag feature engineering, enter the maximal lag number\n",
    "    '''\n",
    "    k = int(df.shape[0] * relative_train)\n",
    "    data_train = df.iloc[:k,:]\n",
    "    #to avoid overlapping of train and test data, a gap of the maximal lag - 1 must be included between the two sets\n",
    "    data_test = df.iloc[k+maximal_lag:,:]\n",
    "    \n",
    "    assert data_train.index.max() < data_test.index.min()\n",
    "    \n",
    "    #returns in the sequence X_train, y_train, X_test, y_test\n",
    "    return (data_train.drop(columns=[f\"horizon{horizon}\",\"CO2E_EMISSIONS_FACTOR\"], axis=1), data_train[f\"horizon{horizon}\"],\n",
    "            data_test.drop(columns=[f\"horizon{horizon}\",\"CO2E_EMISSIONS_FACTOR\"], axis=1), data_test[f\"horizon{horizon}\"])"
   ]
  },
  {
   "cell_type": "code",
   "execution_count": 16,
   "metadata": {},
   "outputs": [],
   "source": [
    "def errors(model, X_train, y_train, X_test, y_test):\n",
    "\n",
    "    train_mae = (sum(abs(y_train - model.predict(X_train)))/len(y_train))\n",
    "    train_mape = (sum(abs((y_train - model.predict(X_train))/y_train)))*(100/len(y_train))\n",
    "    train_smape = sum(abs(y_train - model.predict(X_train)))/sum(y_train + model.predict(X_train))\n",
    "\n",
    "    test_mae = (sum(abs(y_test - model.predict(X_test)))/len(y_test))\n",
    "    test_mape = (sum(abs((y_test - model.predict(X_test))/y_test)))*(100/len(y_test))\n",
    "    test_smape = sum(abs(y_test - model.predict(X_test)))/sum(y_test + model.predict(X_test))\n",
    "\n",
    "    print(f'train_MAE: {train_mae}')\n",
    "    print(f'test_MAE: {test_mae}')\n",
    "    \n",
    "    print(f'train_MAPE: {train_mape}')\n",
    "    print(f'test_MAPE: {test_mape}')\n",
    "    \n",
    "    print(f'train_SMAPE: {train_smape}')\n",
    "    print(f'test_SMAPE: {test_smape}')"
   ]
  },
  {
   "cell_type": "code",
   "execution_count": 17,
   "metadata": {},
   "outputs": [
    {
     "name": "stdout",
     "output_type": "stream",
     "text": [
      "[16:09:41] WARNING: /workspace/src/objective/regression_obj.cu:152: reg:linear is now deprecated in favor of reg:squarederror.\n",
      "train_MAE: 0.23333682990532875\n",
      "test_MAE: 0.24013341852479317\n",
      "train_MAPE: inf\n",
      "test_MAPE: inf\n",
      "train_SMAPE: 0.16578312136574902\n",
      "test_SMAPE: 0.18145604440734112\n"
     ]
    }
   ],
   "source": [
    "X_train_1h, y_train_1h, X_val_1h, y_val_1h = train_validation_ts(df_1h, 0.8, 12, 12)\n",
    "\n",
    "model = xgb.XGBRegressor(max_depth=5,\n",
    "                         learning_rate=0.1,\n",
    "                         num_estimators=100,\n",
    "                         n_jobs=7,\n",
    "                         reg_alpha=0.05,\n",
    "                         reg_lambda=0,\n",
    "                        )\n",
    "\n",
    "model.fit(X_train_1h, y_train_1h)\n",
    "\n",
    "errors(model,X_train_1h, y_train_1h, X_val_1h, y_val_1h)"
   ]
  },
  {
   "cell_type": "markdown",
   "metadata": {},
   "source": [
    "## __Data preparation and training for horizon = 24 (2h forecast)__"
   ]
  },
  {
   "cell_type": "code",
   "execution_count": 18,
   "metadata": {},
   "outputs": [
    {
     "name": "stdout",
     "output_type": "stream",
     "text": [
      "Index(['CO2E_EMISSIONS_FACTOR', 'demand', 'demand_capacity', 'interconnector',\n",
      "       'weekday', 'year', 'minute_sin', 'minute_cos', 'hour_sin', 'hour_cos',\n",
      "       'month_sin', 'month_cos', 'lag1', 'lag2', 'lag3', 'lag4', 'lag5',\n",
      "       'lag6', 'lag7', 'lag8', 'lag9', 'lag10', 'lag11', 'lag12', 'horizon12',\n",
      "       'horizon24'],\n",
      "      dtype='object')\n"
     ]
    },
    {
     "data": {
      "text/html": [
       "<div>\n",
       "<style scoped>\n",
       "    .dataframe tbody tr th:only-of-type {\n",
       "        vertical-align: middle;\n",
       "    }\n",
       "\n",
       "    .dataframe tbody tr th {\n",
       "        vertical-align: top;\n",
       "    }\n",
       "\n",
       "    .dataframe thead th {\n",
       "        text-align: right;\n",
       "    }\n",
       "</style>\n",
       "<table border=\"1\" class=\"dataframe\">\n",
       "  <thead>\n",
       "    <tr style=\"text-align: right;\">\n",
       "      <th></th>\n",
       "      <th>CO2E_EMISSIONS_FACTOR</th>\n",
       "      <th>demand</th>\n",
       "      <th>demand_capacity</th>\n",
       "      <th>interconnector</th>\n",
       "      <th>weekday</th>\n",
       "      <th>year</th>\n",
       "      <th>minute_sin</th>\n",
       "      <th>minute_cos</th>\n",
       "      <th>hour_sin</th>\n",
       "      <th>hour_cos</th>\n",
       "      <th>...</th>\n",
       "      <th>lag5</th>\n",
       "      <th>lag6</th>\n",
       "      <th>lag7</th>\n",
       "      <th>lag8</th>\n",
       "      <th>lag9</th>\n",
       "      <th>lag10</th>\n",
       "      <th>lag11</th>\n",
       "      <th>lag12</th>\n",
       "      <th>horizon12</th>\n",
       "      <th>horizon24</th>\n",
       "    </tr>\n",
       "  </thead>\n",
       "  <tbody>\n",
       "    <tr>\n",
       "      <th>2009-09-01 02:05:00</th>\n",
       "      <td>0.973187</td>\n",
       "      <td>1350.13</td>\n",
       "      <td>0.506240</td>\n",
       "      <td>179.13</td>\n",
       "      <td>0</td>\n",
       "      <td>2009</td>\n",
       "      <td>0.500000</td>\n",
       "      <td>8.660254e-01</td>\n",
       "      <td>0.5</td>\n",
       "      <td>0.866025</td>\n",
       "      <td>...</td>\n",
       "      <td>NaN</td>\n",
       "      <td>NaN</td>\n",
       "      <td>NaN</td>\n",
       "      <td>NaN</td>\n",
       "      <td>NaN</td>\n",
       "      <td>NaN</td>\n",
       "      <td>NaN</td>\n",
       "      <td>NaN</td>\n",
       "      <td>1.010055</td>\n",
       "      <td>NaN</td>\n",
       "    </tr>\n",
       "    <tr>\n",
       "      <th>2009-09-01 02:10:00</th>\n",
       "      <td>0.973187</td>\n",
       "      <td>1359.79</td>\n",
       "      <td>0.509407</td>\n",
       "      <td>198.52</td>\n",
       "      <td>0</td>\n",
       "      <td>2009</td>\n",
       "      <td>0.866025</td>\n",
       "      <td>5.000000e-01</td>\n",
       "      <td>0.5</td>\n",
       "      <td>0.866025</td>\n",
       "      <td>...</td>\n",
       "      <td>NaN</td>\n",
       "      <td>NaN</td>\n",
       "      <td>NaN</td>\n",
       "      <td>NaN</td>\n",
       "      <td>NaN</td>\n",
       "      <td>NaN</td>\n",
       "      <td>NaN</td>\n",
       "      <td>NaN</td>\n",
       "      <td>1.024770</td>\n",
       "      <td>NaN</td>\n",
       "    </tr>\n",
       "    <tr>\n",
       "      <th>2009-09-01 02:15:00</th>\n",
       "      <td>0.946617</td>\n",
       "      <td>1323.90</td>\n",
       "      <td>0.497420</td>\n",
       "      <td>227.60</td>\n",
       "      <td>0</td>\n",
       "      <td>2009</td>\n",
       "      <td>1.000000</td>\n",
       "      <td>2.832769e-16</td>\n",
       "      <td>0.5</td>\n",
       "      <td>0.866025</td>\n",
       "      <td>...</td>\n",
       "      <td>NaN</td>\n",
       "      <td>NaN</td>\n",
       "      <td>NaN</td>\n",
       "      <td>NaN</td>\n",
       "      <td>NaN</td>\n",
       "      <td>NaN</td>\n",
       "      <td>NaN</td>\n",
       "      <td>NaN</td>\n",
       "      <td>0.984948</td>\n",
       "      <td>NaN</td>\n",
       "    </tr>\n",
       "    <tr>\n",
       "      <th>2009-09-01 02:20:00</th>\n",
       "      <td>0.912643</td>\n",
       "      <td>1350.34</td>\n",
       "      <td>0.507537</td>\n",
       "      <td>208.13</td>\n",
       "      <td>0</td>\n",
       "      <td>2009</td>\n",
       "      <td>0.866025</td>\n",
       "      <td>-5.000000e-01</td>\n",
       "      <td>0.5</td>\n",
       "      <td>0.866025</td>\n",
       "      <td>...</td>\n",
       "      <td>NaN</td>\n",
       "      <td>NaN</td>\n",
       "      <td>NaN</td>\n",
       "      <td>NaN</td>\n",
       "      <td>NaN</td>\n",
       "      <td>NaN</td>\n",
       "      <td>NaN</td>\n",
       "      <td>NaN</td>\n",
       "      <td>0.947127</td>\n",
       "      <td>NaN</td>\n",
       "    </tr>\n",
       "    <tr>\n",
       "      <th>2009-09-01 02:25:00</th>\n",
       "      <td>0.908305</td>\n",
       "      <td>1323.32</td>\n",
       "      <td>0.496485</td>\n",
       "      <td>240.26</td>\n",
       "      <td>0</td>\n",
       "      <td>2009</td>\n",
       "      <td>0.500000</td>\n",
       "      <td>-8.660254e-01</td>\n",
       "      <td>0.5</td>\n",
       "      <td>0.866025</td>\n",
       "      <td>...</td>\n",
       "      <td>NaN</td>\n",
       "      <td>NaN</td>\n",
       "      <td>NaN</td>\n",
       "      <td>NaN</td>\n",
       "      <td>NaN</td>\n",
       "      <td>NaN</td>\n",
       "      <td>NaN</td>\n",
       "      <td>NaN</td>\n",
       "      <td>0.908518</td>\n",
       "      <td>NaN</td>\n",
       "    </tr>\n",
       "  </tbody>\n",
       "</table>\n",
       "<p>5 rows × 26 columns</p>\n",
       "</div>"
      ],
      "text/plain": [
       "                     CO2E_EMISSIONS_FACTOR   demand  demand_capacity  \\\n",
       "2009-09-01 02:05:00               0.973187  1350.13         0.506240   \n",
       "2009-09-01 02:10:00               0.973187  1359.79         0.509407   \n",
       "2009-09-01 02:15:00               0.946617  1323.90         0.497420   \n",
       "2009-09-01 02:20:00               0.912643  1350.34         0.507537   \n",
       "2009-09-01 02:25:00               0.908305  1323.32         0.496485   \n",
       "\n",
       "                     interconnector  weekday  year  minute_sin    minute_cos  \\\n",
       "2009-09-01 02:05:00          179.13        0  2009    0.500000  8.660254e-01   \n",
       "2009-09-01 02:10:00          198.52        0  2009    0.866025  5.000000e-01   \n",
       "2009-09-01 02:15:00          227.60        0  2009    1.000000  2.832769e-16   \n",
       "2009-09-01 02:20:00          208.13        0  2009    0.866025 -5.000000e-01   \n",
       "2009-09-01 02:25:00          240.26        0  2009    0.500000 -8.660254e-01   \n",
       "\n",
       "                     hour_sin  hour_cos  ...  lag5  lag6  lag7  lag8  lag9  \\\n",
       "2009-09-01 02:05:00       0.5  0.866025  ...   NaN   NaN   NaN   NaN   NaN   \n",
       "2009-09-01 02:10:00       0.5  0.866025  ...   NaN   NaN   NaN   NaN   NaN   \n",
       "2009-09-01 02:15:00       0.5  0.866025  ...   NaN   NaN   NaN   NaN   NaN   \n",
       "2009-09-01 02:20:00       0.5  0.866025  ...   NaN   NaN   NaN   NaN   NaN   \n",
       "2009-09-01 02:25:00       0.5  0.866025  ...   NaN   NaN   NaN   NaN   NaN   \n",
       "\n",
       "                     lag10  lag11  lag12  horizon12  horizon24  \n",
       "2009-09-01 02:05:00    NaN    NaN    NaN   1.010055        NaN  \n",
       "2009-09-01 02:10:00    NaN    NaN    NaN   1.024770        NaN  \n",
       "2009-09-01 02:15:00    NaN    NaN    NaN   0.984948        NaN  \n",
       "2009-09-01 02:20:00    NaN    NaN    NaN   0.947127        NaN  \n",
       "2009-09-01 02:25:00    NaN    NaN    NaN   0.908518        NaN  \n",
       "\n",
       "[5 rows x 26 columns]"
      ]
     },
     "execution_count": 18,
     "metadata": {},
     "output_type": "execute_result"
    }
   ],
   "source": [
    "df_2h = lag_horizon(df, 12, 24)\n",
    "print(df_1h.columns)\n",
    "df_2h.head()"
   ]
  },
  {
   "cell_type": "code",
   "execution_count": 19,
   "metadata": {},
   "outputs": [
    {
     "data": {
      "text/plain": [
       "CO2E_EMISSIONS_FACTOR    False\n",
       "demand                   False\n",
       "demand_capacity          False\n",
       "interconnector           False\n",
       "weekday                  False\n",
       "year                     False\n",
       "minute_sin               False\n",
       "minute_cos               False\n",
       "hour_sin                 False\n",
       "hour_cos                 False\n",
       "month_sin                False\n",
       "month_cos                False\n",
       "lag1                     False\n",
       "lag2                     False\n",
       "lag3                     False\n",
       "lag4                     False\n",
       "lag5                     False\n",
       "lag6                     False\n",
       "lag7                     False\n",
       "lag8                     False\n",
       "lag9                     False\n",
       "lag10                    False\n",
       "lag11                    False\n",
       "lag12                    False\n",
       "horizon12                False\n",
       "horizon24                False\n",
       "dtype: bool"
      ]
     },
     "execution_count": 19,
     "metadata": {},
     "output_type": "execute_result"
    }
   ],
   "source": [
    "df_2h.dropna(inplace=True)\n",
    "df_2h.isna().any()"
   ]
  },
  {
   "cell_type": "code",
   "execution_count": 22,
   "metadata": {},
   "outputs": [
    {
     "name": "stdout",
     "output_type": "stream",
     "text": [
      "[16:12:07] WARNING: /workspace/src/objective/regression_obj.cu:152: reg:linear is now deprecated in favor of reg:squarederror.\n",
      "train_MAE: 0.23553157581533404\n",
      "test_MAE: 0.2428864894770213\n",
      "train_MAPE: inf\n",
      "test_MAPE: inf\n",
      "train_SMAPE: 0.16734495922048115\n",
      "test_SMAPE: 0.18314553596105415\n"
     ]
    }
   ],
   "source": [
    "X_train_2h, y_train_2h, X_val_2h, y_val_2h = train_validation_ts(df_2h, 0.8, 12, 24)\n",
    "\n",
    "model1 = xgb.XGBRegressor(max_depth=5,\n",
    "                         learning_rate=0.1,\n",
    "                         num_estimators=100,\n",
    "                         n_jobs=7,\n",
    "                         reg_alpha=0.05,\n",
    "                         reg_lambda=0,\n",
    "                        )\n",
    "\n",
    "model1.fit(X_train_2h, y_train_2h)\n",
    "\n",
    "errors(model1,X_train_2h, y_train_2h, X_val_2h, y_val_2h)"
   ]
  },
  {
   "cell_type": "markdown",
   "metadata": {},
   "source": [
    "__Even forecasts of up to 24h into the future seem possible with a decent accuracy. But are they really? Let's apply out trained models onto our test set and have a closer look a the outcome.__"
   ]
  },
  {
   "cell_type": "code",
   "execution_count": null,
   "metadata": {},
   "outputs": [],
   "source": []
  }
 ],
 "metadata": {
  "kernelspec": {
   "display_name": "dsr_teaching",
   "language": "python",
   "name": "dsr_teaching"
  },
  "language_info": {
   "codemirror_mode": {
    "name": "ipython",
    "version": 3
   },
   "file_extension": ".py",
   "mimetype": "text/x-python",
   "name": "python",
   "nbconvert_exporter": "python",
   "pygments_lexer": "ipython3",
   "version": "3.6.9"
  }
 },
 "nbformat": 4,
 "nbformat_minor": 4
}
