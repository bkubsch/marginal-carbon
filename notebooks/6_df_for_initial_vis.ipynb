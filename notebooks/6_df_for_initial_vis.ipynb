{
 "cells": [
  {
   "cell_type": "code",
   "execution_count": 8,
   "metadata": {},
   "outputs": [],
   "source": [
    "import pandas as pd\n",
    "import numpy as np\n",
    "import matplotlib.pyplot as plt\n",
    "import datetime as dt\n",
    "import seaborn as sns\n",
    "import os\n",
    "\n",
    "#from py_files.c_target_exploration import mod_concat_NEMDE\n",
    "#from py_files.d_concat_DUID_marginal_fuelsource import *"
   ]
  },
  {
   "cell_type": "code",
   "execution_count": 9,
   "metadata": {},
   "outputs": [],
   "source": [
    "file_path1 = '{}/nem-data/nemde_clean/df_DUID_CO2_mean.pkl'.format(os.environ['HOME'])\n",
    "file_path2 = '{}/nem-data/nemde_clean/df_DUID_CO2_sum.pkl'.format(os.environ['HOME'])"
   ]
  },
  {
   "cell_type": "code",
   "execution_count": 10,
   "metadata": {},
   "outputs": [],
   "source": [
    "def correct_timedelta(df, time_diff):\n",
    "    '''\n",
    "    df.index must be DateTimeIndex\n",
    "    Returns two lists\n",
    "    df=table_of_interest\n",
    "    col=\"column_of_interest\"\n",
    "    time_diff=time_diff in seconds as int\n",
    "    '''\n",
    "    lst = []\n",
    "    lst_i = []\n",
    "    \n",
    "    for i in range(1,df.shape[0]):\n",
    "        delta = abs(df.index[i] - df.index[i-1])\n",
    "        if int(delta.total_seconds()) != int(time_diff):\n",
    "            lst.append((\"from index {} on, it has been {} s or {} h.\".format(i,int(delta.total_seconds()),(int(delta.total_seconds()/3600)))))\n",
    "            lst_i.append((df.index[i],int(delta.total_seconds())))\n",
    "            \n",
    "    return lst, lst_i"
   ]
  },
  {
   "cell_type": "code",
   "execution_count": 24,
   "metadata": {},
   "outputs": [],
   "source": [
    "df_mean = pd.read_pickle(file_path1)\n",
    "df_sum = pd.read_pickle(file_path2)"
   ]
  },
  {
   "cell_type": "code",
   "execution_count": 25,
   "metadata": {},
   "outputs": [],
   "source": [
    "a1,b1 = correct_timedelta(df_mean, 300)\n",
    "a2,b2 = correct_timedelta(df_sum, 300)"
   ]
  },
  {
   "cell_type": "code",
   "execution_count": 26,
   "metadata": {},
   "outputs": [
    {
     "name": "stdout",
     "output_type": "stream",
     "text": [
      "0\n",
      "0\n"
     ]
    }
   ],
   "source": [
    "print(len(a1))\n",
    "print(len(a2))"
   ]
  },
  {
   "cell_type": "markdown",
   "metadata": {},
   "source": [
    "### __Visualise CO2 over price__"
   ]
  },
  {
   "cell_type": "code",
   "execution_count": 27,
   "metadata": {},
   "outputs": [
    {
     "name": "stdout",
     "output_type": "stream",
     "text": [
      "0.0\n",
      "1.4918\n",
      "0.0\n",
      "34.36431766999999\n"
     ]
    }
   ],
   "source": [
    "print(df_mean.CO2E_EMISSIONS_FACTOR.min())\n",
    "print(df_mean.CO2E_EMISSIONS_FACTOR.max())\n",
    "\n",
    "print(df_sum.CO2E_EMISSIONS_FACTOR.min())\n",
    "print(df_sum.CO2E_EMISSIONS_FACTOR.max())"
   ]
  },
  {
   "cell_type": "code",
   "execution_count": 28,
   "metadata": {},
   "outputs": [
    {
     "data": {
      "text/plain": [
       "[-1e-06,\n",
       " 0.16575477777777775,\n",
       " 0.33151055555555553,\n",
       " 0.4972663333333333,\n",
       " 0.663022111111111,\n",
       " 0.8287778888888887,\n",
       " 0.9945336666666665,\n",
       " 1.1602894444444443,\n",
       " 1.326045222222222]"
      ]
     },
     "execution_count": 28,
     "metadata": {},
     "output_type": "execute_result"
    }
   ],
   "source": [
    "bins_mean = list(np.linspace(df_mean.CO2E_EMISSIONS_FACTOR.min()-0.000001,\n",
    "                      df_mean.CO2E_EMISSIONS_FACTOR.max()+0.000001, \n",
    "                      10))\n",
    "type(bins_mean)\n",
    "group_names_mean = bins_mean[:-1]\n",
    "group_names_mean"
   ]
  },
  {
   "cell_type": "code",
   "execution_count": 29,
   "metadata": {},
   "outputs": [
    {
     "data": {
      "text/plain": [
       "[-1e-06,\n",
       " 0.16575477777777775,\n",
       " 0.33151055555555553,\n",
       " 0.4972663333333333,\n",
       " 0.663022111111111,\n",
       " 0.8287778888888887,\n",
       " 0.9945336666666665,\n",
       " 1.1602894444444443,\n",
       " 1.326045222222222,\n",
       " 1.491801]"
      ]
     },
     "execution_count": 29,
     "metadata": {},
     "output_type": "execute_result"
    }
   ],
   "source": [
    "bins_mean"
   ]
  },
  {
   "cell_type": "code",
   "execution_count": 30,
   "metadata": {},
   "outputs": [
    {
     "data": {
      "text/plain": [
       "[-1e-06,\n",
       " 3.8182567411111092,\n",
       " 7.636514482222219,\n",
       " 11.454772223333329,\n",
       " 15.273029964444438,\n",
       " 19.091287705555548,\n",
       " 22.909545446666655,\n",
       " 26.727803187777763,\n",
       " 30.546060928888874]"
      ]
     },
     "execution_count": 30,
     "metadata": {},
     "output_type": "execute_result"
    }
   ],
   "source": [
    "bins_sum = list(np.linspace(df_sum.CO2E_EMISSIONS_FACTOR.min()-0.000001,\n",
    "                      df_sum.CO2E_EMISSIONS_FACTOR.max()+0.000001, \n",
    "                      10))\n",
    "type(bins_sum)\n",
    "group_names_sum = bins_sum[:-1]\n",
    "group_names_sum"
   ]
  },
  {
   "cell_type": "code",
   "execution_count": 31,
   "metadata": {},
   "outputs": [],
   "source": [
    "df_mean[\"CO2_group\"] = pd.cut(df_mean.CO2E_EMISSIONS_FACTOR, bins_mean, labels=group_names_mean)"
   ]
  },
  {
   "cell_type": "code",
   "execution_count": 32,
   "metadata": {},
   "outputs": [],
   "source": [
    "df_sum[\"CO2_group\"] = pd.cut(df_sum.CO2E_EMISSIONS_FACTOR, bins_sum, labels=group_names_sum)"
   ]
  },
  {
   "cell_type": "code",
   "execution_count": 33,
   "metadata": {},
   "outputs": [
    {
     "data": {
      "text/html": [
       "<div>\n",
       "<style scoped>\n",
       "    .dataframe tbody tr th:only-of-type {\n",
       "        vertical-align: middle;\n",
       "    }\n",
       "\n",
       "    .dataframe tbody tr th {\n",
       "        vertical-align: top;\n",
       "    }\n",
       "\n",
       "    .dataframe thead th {\n",
       "        text-align: right;\n",
       "    }\n",
       "</style>\n",
       "<table border=\"1\" class=\"dataframe\">\n",
       "  <thead>\n",
       "    <tr style=\"text-align: right;\">\n",
       "      <th></th>\n",
       "      <th>Price</th>\n",
       "      <th>CO2E_EMISSIONS_FACTOR</th>\n",
       "      <th>CO2_group</th>\n",
       "    </tr>\n",
       "  </thead>\n",
       "  <tbody>\n",
       "    <tr>\n",
       "      <td>2019-08-01 03:55:00</td>\n",
       "      <td>79.52391</td>\n",
       "      <td>0.380340</td>\n",
       "      <td>0.331511</td>\n",
       "    </tr>\n",
       "    <tr>\n",
       "      <td>2019-08-01 03:50:00</td>\n",
       "      <td>79.17710</td>\n",
       "      <td>0.456409</td>\n",
       "      <td>0.331511</td>\n",
       "    </tr>\n",
       "    <tr>\n",
       "      <td>2019-08-01 03:45:00</td>\n",
       "      <td>85.14416</td>\n",
       "      <td>0.573436</td>\n",
       "      <td>0.497266</td>\n",
       "    </tr>\n",
       "    <tr>\n",
       "      <td>2019-08-01 03:40:00</td>\n",
       "      <td>84.78689</td>\n",
       "      <td>0.573436</td>\n",
       "      <td>0.497266</td>\n",
       "    </tr>\n",
       "    <tr>\n",
       "      <td>2019-08-01 03:35:00</td>\n",
       "      <td>84.78346</td>\n",
       "      <td>0.573436</td>\n",
       "      <td>0.497266</td>\n",
       "    </tr>\n",
       "  </tbody>\n",
       "</table>\n",
       "</div>"
      ],
      "text/plain": [
       "                        Price  CO2E_EMISSIONS_FACTOR CO2_group\n",
       "2019-08-01 03:55:00  79.52391               0.380340  0.331511\n",
       "2019-08-01 03:50:00  79.17710               0.456409  0.331511\n",
       "2019-08-01 03:45:00  85.14416               0.573436  0.497266\n",
       "2019-08-01 03:40:00  84.78689               0.573436  0.497266\n",
       "2019-08-01 03:35:00  84.78346               0.573436  0.497266"
      ]
     },
     "execution_count": 33,
     "metadata": {},
     "output_type": "execute_result"
    }
   ],
   "source": [
    "df_mean.head()"
   ]
  },
  {
   "cell_type": "code",
   "execution_count": 34,
   "metadata": {},
   "outputs": [
    {
     "data": {
      "text/html": [
       "<div>\n",
       "<style scoped>\n",
       "    .dataframe tbody tr th:only-of-type {\n",
       "        vertical-align: middle;\n",
       "    }\n",
       "\n",
       "    .dataframe tbody tr th {\n",
       "        vertical-align: top;\n",
       "    }\n",
       "\n",
       "    .dataframe thead th {\n",
       "        text-align: right;\n",
       "    }\n",
       "</style>\n",
       "<table border=\"1\" class=\"dataframe\">\n",
       "  <thead>\n",
       "    <tr style=\"text-align: right;\">\n",
       "      <th></th>\n",
       "      <th>Price</th>\n",
       "      <th>CO2E_EMISSIONS_FACTOR</th>\n",
       "      <th>CO2_group</th>\n",
       "    </tr>\n",
       "  </thead>\n",
       "  <tbody>\n",
       "    <tr>\n",
       "      <td>2019-08-01 03:55:00</td>\n",
       "      <td>79.52391</td>\n",
       "      <td>1.141021</td>\n",
       "      <td>-0.000001</td>\n",
       "    </tr>\n",
       "    <tr>\n",
       "      <td>2019-08-01 03:50:00</td>\n",
       "      <td>79.17710</td>\n",
       "      <td>2.282043</td>\n",
       "      <td>-0.000001</td>\n",
       "    </tr>\n",
       "    <tr>\n",
       "      <td>2019-08-01 03:45:00</td>\n",
       "      <td>85.14416</td>\n",
       "      <td>0.573436</td>\n",
       "      <td>-0.000001</td>\n",
       "    </tr>\n",
       "    <tr>\n",
       "      <td>2019-08-01 03:40:00</td>\n",
       "      <td>84.78689</td>\n",
       "      <td>0.573436</td>\n",
       "      <td>-0.000001</td>\n",
       "    </tr>\n",
       "    <tr>\n",
       "      <td>2019-08-01 03:35:00</td>\n",
       "      <td>84.78346</td>\n",
       "      <td>0.573436</td>\n",
       "      <td>-0.000001</td>\n",
       "    </tr>\n",
       "  </tbody>\n",
       "</table>\n",
       "</div>"
      ],
      "text/plain": [
       "                        Price  CO2E_EMISSIONS_FACTOR CO2_group\n",
       "2019-08-01 03:55:00  79.52391               1.141021 -0.000001\n",
       "2019-08-01 03:50:00  79.17710               2.282043 -0.000001\n",
       "2019-08-01 03:45:00  85.14416               0.573436 -0.000001\n",
       "2019-08-01 03:40:00  84.78689               0.573436 -0.000001\n",
       "2019-08-01 03:35:00  84.78346               0.573436 -0.000001"
      ]
     },
     "execution_count": 34,
     "metadata": {},
     "output_type": "execute_result"
    }
   ],
   "source": [
    "df_sum.head()"
   ]
  },
  {
   "cell_type": "code",
   "execution_count": 36,
   "metadata": {},
   "outputs": [
    {
     "name": "stdout",
     "output_type": "stream",
     "text": [
      "Price                    True\n",
      "CO2E_EMISSIONS_FACTOR    True\n",
      "CO2_group                True\n",
      "dtype: bool\n",
      "Price                    True\n",
      "CO2E_EMISSIONS_FACTOR    True\n",
      "CO2_group                True\n",
      "dtype: bool\n"
     ]
    }
   ],
   "source": [
    "print(df_mean.isna().any())\n",
    "print(df_sum.isna().any())"
   ]
  },
  {
   "cell_type": "code",
   "execution_count": 37,
   "metadata": {},
   "outputs": [
    {
     "name": "stdout",
     "output_type": "stream",
     "text": [
      "<class 'pandas.core.frame.DataFrame'>\n",
      "DatetimeIndex: 1060704 entries, 2019-08-01 03:55:00 to 2009-07-01 04:00:00\n",
      "Freq: -5T\n",
      "Data columns (total 3 columns):\n",
      "Price                    1043372 non-null float64\n",
      "CO2E_EMISSIONS_FACTOR    1006719 non-null float64\n",
      "CO2_group                1006719 non-null category\n",
      "dtypes: category(1), float64(2)\n",
      "memory usage: 25.3 MB\n"
     ]
    }
   ],
   "source": [
    "df_mean.info()"
   ]
  },
  {
   "cell_type": "code",
   "execution_count": 38,
   "metadata": {},
   "outputs": [
    {
     "name": "stdout",
     "output_type": "stream",
     "text": [
      "<class 'pandas.core.frame.DataFrame'>\n",
      "DatetimeIndex: 1060704 entries, 2019-08-01 03:55:00 to 2009-07-01 04:00:00\n",
      "Freq: -5T\n",
      "Data columns (total 3 columns):\n",
      "Price                    1043372 non-null float64\n",
      "CO2E_EMISSIONS_FACTOR    1043372 non-null float64\n",
      "CO2_group                1043372 non-null category\n",
      "dtypes: category(1), float64(2)\n",
      "memory usage: 25.3 MB\n"
     ]
    }
   ],
   "source": [
    "df_sum.info()"
   ]
  },
  {
   "cell_type": "code",
   "execution_count": 39,
   "metadata": {},
   "outputs": [
    {
     "data": {
      "text/html": [
       "<div>\n",
       "<style scoped>\n",
       "    .dataframe tbody tr th:only-of-type {\n",
       "        vertical-align: middle;\n",
       "    }\n",
       "\n",
       "    .dataframe tbody tr th {\n",
       "        vertical-align: top;\n",
       "    }\n",
       "\n",
       "    .dataframe thead th {\n",
       "        text-align: right;\n",
       "    }\n",
       "</style>\n",
       "<table border=\"1\" class=\"dataframe\">\n",
       "  <thead>\n",
       "    <tr style=\"text-align: right;\">\n",
       "      <th></th>\n",
       "      <th>Price</th>\n",
       "      <th>CO2E_EMISSIONS_FACTOR</th>\n",
       "    </tr>\n",
       "    <tr>\n",
       "      <th>CO2_group</th>\n",
       "      <th></th>\n",
       "      <th></th>\n",
       "    </tr>\n",
       "  </thead>\n",
       "  <tbody>\n",
       "    <tr>\n",
       "      <td>-0.000001</td>\n",
       "      <td>62.027631</td>\n",
       "      <td>0.002070</td>\n",
       "    </tr>\n",
       "    <tr>\n",
       "      <td>0.165755</td>\n",
       "      <td>58.476925</td>\n",
       "      <td>0.262639</td>\n",
       "    </tr>\n",
       "    <tr>\n",
       "      <td>0.331511</td>\n",
       "      <td>59.201440</td>\n",
       "      <td>0.455132</td>\n",
       "    </tr>\n",
       "    <tr>\n",
       "      <td>0.497266</td>\n",
       "      <td>76.091175</td>\n",
       "      <td>0.579199</td>\n",
       "    </tr>\n",
       "    <tr>\n",
       "      <td>0.663022</td>\n",
       "      <td>95.280861</td>\n",
       "      <td>0.705752</td>\n",
       "    </tr>\n",
       "  </tbody>\n",
       "</table>\n",
       "</div>"
      ],
      "text/plain": [
       "               Price  CO2E_EMISSIONS_FACTOR\n",
       "CO2_group                                  \n",
       "-0.000001  62.027631               0.002070\n",
       " 0.165755  58.476925               0.262639\n",
       " 0.331511  59.201440               0.455132\n",
       " 0.497266  76.091175               0.579199\n",
       " 0.663022  95.280861               0.705752"
      ]
     },
     "execution_count": 39,
     "metadata": {},
     "output_type": "execute_result"
    }
   ],
   "source": [
    "mean = df_mean.groupby(\"CO2_group\").mean()\n",
    "mean.head()"
   ]
  },
  {
   "cell_type": "code",
   "execution_count": 44,
   "metadata": {},
   "outputs": [],
   "source": [
    "#fig = sns.barplot(mean.index, mean.Price)\n",
    "#for i in fig.get_xticklabels():\n",
    "#    i.set_rotation(90)\n",
    "#plt.figure();"
   ]
  },
  {
   "cell_type": "code",
   "execution_count": 42,
   "metadata": {},
   "outputs": [
    {
     "data": {
      "image/png": "[encoded data removed]",
      "text/plain": [
       "<Figure size 432x288 with 1 Axes>"
      ]
     },
     "metadata": {
      "needs_background": "light"
     },
     "output_type": "display_data"
    },
    {
     "data": {
      "text/plain": [
       "<Figure size 432x288 with 0 Axes>"
      ]
     },
     "metadata": {},
     "output_type": "display_data"
    }
   ],
   "source": [
    "fig = sns.barplot(df_mean.CO2_group, df_mean.Price)\n",
    "for i in fig.get_xticklabels():\n",
    "    i.set_rotation(90)\n",
    "plt.figure();"
   ]
  },
  {
   "cell_type": "code",
   "execution_count": 43,
   "metadata": {},
   "outputs": [
    {
     "data": {
      "image/png": "[encoded data removed]",
      "text/plain": [
       "<Figure size 432x288 with 1 Axes>"
      ]
     },
     "metadata": {
      "needs_background": "light"
     },
     "output_type": "display_data"
    },
    {
     "data": {
      "text/plain": [
       "<Figure size 432x288 with 0 Axes>"
      ]
     },
     "metadata": {},
     "output_type": "display_data"
    }
   ],
   "source": [
    "fig = sns.barplot(df_sum.CO2_group, df_sum.Price)\n",
    "for i in fig.get_xticklabels():\n",
    "    i.set_rotation(90)\n",
    "plt.figure();"
   ]
  },
  {
   "cell_type": "code",
   "execution_count": null,
   "metadata": {},
   "outputs": [],
   "source": []
  }
 ],
 "metadata": {
  "kernelspec": {
   "display_name": "Python 3",
   "language": "python",
   "name": "python3"
  },
  "language_info": {
   "codemirror_mode": {
    "name": "ipython",
    "version": 3
   },
   "file_extension": ".py",
   "mimetype": "text/x-python",
   "name": "python",
   "nbconvert_exporter": "python",
   "pygments_lexer": "ipython3",
   "version": "3.6.8"
  }
 },
 "nbformat": 4,
 "nbformat_minor": 4
}
