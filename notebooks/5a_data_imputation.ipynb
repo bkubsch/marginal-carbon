{
 "cells": [
  {
   "cell_type": "markdown",
   "metadata": {},
   "source": [
    "# __Data imputation__"
   ]
  },
  {
   "cell_type": "markdown",
   "metadata": {},
   "source": [
    "### __Have we got what we think we have got?__"
   ]
  },
  {
   "cell_type": "markdown",
   "metadata": {},
   "source": [
    "According to the source of our data of CO2 emissions, they were to be dispatched every 5 mins. However, can we really be sure that that's the case over a period of about 10 years? We will find that out over the next couple of cells."
   ]
  },
  {
   "cell_type": "code",
   "execution_count": 85,
   "metadata": {},
   "outputs": [],
   "source": [
    "import numpy as np\n",
    "import pandas as pd\n",
    "import datetime as dt\n",
    "\n",
    "import seaborn as sns\n",
    "import matplotlib.pyplot as plt"
   ]
  },
  {
   "cell_type": "code",
   "execution_count": 78,
   "metadata": {},
   "outputs": [
    {
     "data": {
      "text/html": [
       "<div>\n",
       "<style scoped>\n",
       "    .dataframe tbody tr th:only-of-type {\n",
       "        vertical-align: middle;\n",
       "    }\n",
       "\n",
       "    .dataframe tbody tr th {\n",
       "        vertical-align: top;\n",
       "    }\n",
       "\n",
       "    .dataframe thead th {\n",
       "        text-align: right;\n",
       "    }\n",
       "</style>\n",
       "<table border=\"1\" class=\"dataframe\">\n",
       "  <thead>\n",
       "    <tr style=\"text-align: right;\">\n",
       "      <th></th>\n",
       "      <th>Price</th>\n",
       "      <th>CO2E_EMISSIONS_FACTOR</th>\n",
       "    </tr>\n",
       "    <tr>\n",
       "      <th>PeriodID</th>\n",
       "      <th></th>\n",
       "      <th></th>\n",
       "    </tr>\n",
       "  </thead>\n",
       "  <tbody>\n",
       "    <tr>\n",
       "      <th>2019-08-01 03:35:00</th>\n",
       "      <td>84.78346</td>\n",
       "      <td>0.573436</td>\n",
       "    </tr>\n",
       "    <tr>\n",
       "      <th>2019-08-01 03:40:00</th>\n",
       "      <td>84.78689</td>\n",
       "      <td>0.573436</td>\n",
       "    </tr>\n",
       "    <tr>\n",
       "      <th>2019-08-01 03:45:00</th>\n",
       "      <td>85.14416</td>\n",
       "      <td>0.573436</td>\n",
       "    </tr>\n",
       "    <tr>\n",
       "      <th>2019-08-01 03:50:00</th>\n",
       "      <td>79.17710</td>\n",
       "      <td>0.456409</td>\n",
       "    </tr>\n",
       "    <tr>\n",
       "      <th>2019-08-01 03:55:00</th>\n",
       "      <td>79.52391</td>\n",
       "      <td>0.380340</td>\n",
       "    </tr>\n",
       "  </tbody>\n",
       "</table>\n",
       "</div>"
      ],
      "text/plain": [
       "                        Price  CO2E_EMISSIONS_FACTOR\n",
       "PeriodID                                            \n",
       "2019-08-01 03:35:00  84.78346               0.573436\n",
       "2019-08-01 03:40:00  84.78689               0.573436\n",
       "2019-08-01 03:45:00  85.14416               0.573436\n",
       "2019-08-01 03:50:00  79.17710               0.456409\n",
       "2019-08-01 03:55:00  79.52391               0.380340"
      ]
     },
     "execution_count": 78,
     "metadata": {},
     "output_type": "execute_result"
    }
   ],
   "source": [
    "file_path = '../../big_data/df_DUID_price_range.pkl'\n",
    "df = pd.read_pickle(file_path)\n",
    "\n",
    "df.tail()"
   ]
  },
  {
   "cell_type": "code",
   "execution_count": 75,
   "metadata": {},
   "outputs": [],
   "source": [
    "def correct_timedelta(df, time_diff):\n",
    "    '''\n",
    "    df.index must be DateTimeIndex\n",
    "    Returns two lists\n",
    "    df=table_of_interest\n",
    "    col=\"column_of_interest\"\n",
    "    time_diff=time_diff in seconds as int\n",
    "    '''\n",
    "    lst_1 = []\n",
    "    lst_2 = []\n",
    "    \n",
    "    for i in range(1,df.shape[0]):\n",
    "        delta = abs(df.index[i] - df.index[i-1])\n",
    "        if int(delta.total_seconds()) != int(time_diff):\n",
    "            lst_1.append((f'At time stamp {df.index[i-1]}, the interval is {int(delta.total_seconds()/60)} min or {round(float(delta.total_seconds()/3600),2)} h.'))\n",
    "            lst_2.append((df.index[i-1], int(delta.total_seconds()/60)))\n",
    "            \n",
    "    return lst_1, lst_2\n"
   ]
  },
  {
   "cell_type": "code",
   "execution_count": 76,
   "metadata": {},
   "outputs": [],
   "source": [
    "l1, l2 = correct_timedelta(df, 300)"
   ]
  },
  {
   "cell_type": "code",
   "execution_count": 83,
   "metadata": {},
   "outputs": [
    {
     "data": {
      "text/plain": [
       "['At time stamp 2018-06-01 03:55:00, the interval is 43205 min or 720.08 h.',\n",
       " 'At time stamp 2018-08-18 11:45:00, the interval is 10 min or 0.17 h.',\n",
       " 'At time stamp 2018-08-18 13:40:00, the interval is 10 min or 0.17 h.',\n",
       " 'At time stamp 2018-09-14 10:50:00, the interval is 10 min or 0.17 h.',\n",
       " 'At time stamp 2018-11-01 03:55:00, the interval is 43205 min or 720.08 h.']"
      ]
     },
     "execution_count": 83,
     "metadata": {},
     "output_type": "execute_result"
    }
   ],
   "source": [
    "l1[-5:]"
   ]
  },
  {
   "cell_type": "markdown",
   "metadata": {},
   "source": [
    "## __Filling in the gaps__"
   ]
  },
  {
   "cell_type": "markdown",
   "metadata": {},
   "source": [
    "### __DateTimeIndex__"
   ]
  },
  {
   "cell_type": "markdown",
   "metadata": {},
   "source": [
    "Next, we will fill in the gaps of the DateTimeIndex. Note, that will leave us with NaN values in the remaining columns whereever datetimes are inserted into the index."
   ]
  },
  {
   "cell_type": "code",
   "execution_count": 44,
   "metadata": {},
   "outputs": [
    {
     "data": {
      "text/plain": [
       "1060704"
      ]
     },
     "execution_count": 44,
     "metadata": {},
     "output_type": "execute_result"
    }
   ],
   "source": [
    "#hypothetical number of 5min intervals given the max and min values of the df time range\n",
    "\n",
    "h = pd.date_range(start=df.index.min(), end=df.index.max(), freq=\"5min\")\n",
    "len(h)"
   ]
  },
  {
   "cell_type": "code",
   "execution_count": 45,
   "metadata": {},
   "outputs": [
    {
     "ename": "AssertionError",
     "evalue": "",
     "output_type": "error",
     "traceback": [
      "\u001b[0;31m---------------------------------------------------------------------------\u001b[0m",
      "\u001b[0;31mAssertionError\u001b[0m                            Traceback (most recent call last)",
      "\u001b[0;32m<ipython-input-45-a3caacfc82f1>\u001b[0m in \u001b[0;36m<module>\u001b[0;34m\u001b[0m\n\u001b[0;32m----> 1\u001b[0;31m \u001b[0;32massert\u001b[0m \u001b[0mabs\u001b[0m\u001b[0;34m(\u001b[0m\u001b[0mdf\u001b[0m\u001b[0;34m.\u001b[0m\u001b[0mshape\u001b[0m\u001b[0;34m[\u001b[0m\u001b[0;36m0\u001b[0m\u001b[0;34m]\u001b[0m \u001b[0;34m-\u001b[0m \u001b[0mlen\u001b[0m\u001b[0;34m(\u001b[0m\u001b[0mh\u001b[0m\u001b[0;34m)\u001b[0m\u001b[0;34m)\u001b[0m \u001b[0;34m<\u001b[0m \u001b[0;36m0.000001\u001b[0m\u001b[0;34m\u001b[0m\u001b[0;34m\u001b[0m\u001b[0m\n\u001b[0m",
      "\u001b[0;31mAssertionError\u001b[0m: "
     ]
    }
   ],
   "source": [
    "assert abs(df.shape[0] - len(h)) < 0.000001"
   ]
  },
  {
   "cell_type": "markdown",
   "metadata": {},
   "source": [
    "Here we clearly see that there is a mismatch between the hypothetical size of our time range if every 5 min interval was present and the size of our actual dataset."
   ]
  },
  {
   "cell_type": "markdown",
   "metadata": {},
   "source": [
    "__Filling in the DateTimeIndex:__"
   ]
  },
  {
   "cell_type": "code",
   "execution_count": 46,
   "metadata": {},
   "outputs": [
    {
     "name": "stdout",
     "output_type": "stream",
     "text": [
      "(1060704, 2)\n"
     ]
    },
    {
     "data": {
      "text/html": [
       "<div>\n",
       "<style scoped>\n",
       "    .dataframe tbody tr th:only-of-type {\n",
       "        vertical-align: middle;\n",
       "    }\n",
       "\n",
       "    .dataframe tbody tr th {\n",
       "        vertical-align: top;\n",
       "    }\n",
       "\n",
       "    .dataframe thead th {\n",
       "        text-align: right;\n",
       "    }\n",
       "</style>\n",
       "<table border=\"1\" class=\"dataframe\">\n",
       "  <thead>\n",
       "    <tr style=\"text-align: right;\">\n",
       "      <th></th>\n",
       "      <th>Price</th>\n",
       "      <th>CO2E_EMISSIONS_FACTOR</th>\n",
       "    </tr>\n",
       "  </thead>\n",
       "  <tbody>\n",
       "    <tr>\n",
       "      <th>2009-07-01 04:00:00</th>\n",
       "      <td>1.35918</td>\n",
       "      <td>0.991217</td>\n",
       "    </tr>\n",
       "    <tr>\n",
       "      <th>2009-07-01 04:05:00</th>\n",
       "      <td>-0.00006</td>\n",
       "      <td>0.000000</td>\n",
       "    </tr>\n",
       "    <tr>\n",
       "      <th>2009-07-01 04:10:00</th>\n",
       "      <td>-0.00006</td>\n",
       "      <td>0.000000</td>\n",
       "    </tr>\n",
       "    <tr>\n",
       "      <th>2009-07-01 04:15:00</th>\n",
       "      <td>1.44014</td>\n",
       "      <td>0.991217</td>\n",
       "    </tr>\n",
       "    <tr>\n",
       "      <th>2009-07-01 04:20:00</th>\n",
       "      <td>1.75480</td>\n",
       "      <td>1.025701</td>\n",
       "    </tr>\n",
       "  </tbody>\n",
       "</table>\n",
       "</div>"
      ],
      "text/plain": [
       "                       Price  CO2E_EMISSIONS_FACTOR\n",
       "2009-07-01 04:00:00  1.35918               0.991217\n",
       "2009-07-01 04:05:00 -0.00006               0.000000\n",
       "2009-07-01 04:10:00 -0.00006               0.000000\n",
       "2009-07-01 04:15:00  1.44014               0.991217\n",
       "2009-07-01 04:20:00  1.75480               1.025701"
      ]
     },
     "execution_count": 46,
     "metadata": {},
     "output_type": "execute_result"
    }
   ],
   "source": [
    "df = df.reindex(h)\n",
    "print(df.shape)\n",
    "df.head()"
   ]
  },
  {
   "cell_type": "code",
   "execution_count": 47,
   "metadata": {},
   "outputs": [
    {
     "data": {
      "text/plain": [
       "Price                    True\n",
       "CO2E_EMISSIONS_FACTOR    True\n",
       "dtype: bool"
      ]
     },
     "execution_count": 47,
     "metadata": {},
     "output_type": "execute_result"
    }
   ],
   "source": [
    "df = df.sort_index(ascending=True)\n",
    "df.isna().any()"
   ]
  },
  {
   "cell_type": "markdown",
   "metadata": {},
   "source": [
    "Note that we have only filled in the DateTimeIndex so far. Any other columns were affected by the introduction of NaN values where datetimes have been filled in. In the next step we will impute the data into the other columns. Let's discuss how we best do it with a time series."
   ]
  },
  {
   "cell_type": "markdown",
   "metadata": {},
   "source": [
    "### __Imputation of CO2 and price__"
   ]
  },
  {
   "cell_type": "markdown",
   "metadata": {},
   "source": [
    "Due to the nature of time series data, the imputation of missing values needs extra attention. The potential presence of time series trends and seasonality renders imputations using e.g. mean or median deduced from the entire dataset little useful. Instead, any imputation should rather consider the local value range around a NaN value. In the following, we will see one approach of how that works."
   ]
  },
  {
   "cell_type": "markdown",
   "metadata": {},
   "source": [
    "<img src=\"../images/time_series_imputation.jpg\"> <br/>\n",
    "source: https://www.hindawi.com/journals/mpe/2010/513810/fig9/"
   ]
  },
  {
   "cell_type": "code",
   "execution_count": 53,
   "metadata": {},
   "outputs": [
    {
     "data": {
      "image/png": "[encoded data removed]",
      "text/plain": [
       "<Figure size 432x288 with 2 Axes>"
      ]
     },
     "metadata": {
      "needs_background": "light"
     },
     "output_type": "display_data"
    },
    {
     "data": {
      "text/plain": [
       "<Figure size 864x360 with 0 Axes>"
      ]
     },
     "metadata": {},
     "output_type": "display_data"
    }
   ],
   "source": [
    "fig = sns.heatmap(df.isnull())\n",
    "plt.figure(figsize=(12,5));"
   ]
  },
  {
   "cell_type": "markdown",
   "metadata": {},
   "source": [
    "Due to the nature of energy generator dispatch (see presentation), it makes sense to impute the date for the marginal CO2 emissions and price according to typical data imputations if time series (see above)."
   ]
  },
  {
   "cell_type": "code",
   "execution_count": 54,
   "metadata": {},
   "outputs": [],
   "source": [
    "#we use the .rolling method to calculate the rolling mean composed of always 30 subsequent values\n",
    "#the .assign method adds a new column with our rolling mean to df_new, all of which we save in df_impute\n",
    "\n",
    "df_impute = df.assign(rolling_mean=df['CO2E_EMISSIONS_FACTOR'].rolling(window=30, min_periods=1).mean())"
   ]
  },
  {
   "cell_type": "code",
   "execution_count": 55,
   "metadata": {},
   "outputs": [
    {
     "data": {
      "text/html": [
       "<div>\n",
       "<style scoped>\n",
       "    .dataframe tbody tr th:only-of-type {\n",
       "        vertical-align: middle;\n",
       "    }\n",
       "\n",
       "    .dataframe tbody tr th {\n",
       "        vertical-align: top;\n",
       "    }\n",
       "\n",
       "    .dataframe thead th {\n",
       "        text-align: right;\n",
       "    }\n",
       "</style>\n",
       "<table border=\"1\" class=\"dataframe\">\n",
       "  <thead>\n",
       "    <tr style=\"text-align: right;\">\n",
       "      <th></th>\n",
       "      <th>Price</th>\n",
       "      <th>CO2E_EMISSIONS_FACTOR</th>\n",
       "      <th>rolling_mean</th>\n",
       "    </tr>\n",
       "  </thead>\n",
       "  <tbody>\n",
       "    <tr>\n",
       "      <th>2009-07-01 04:00:00</th>\n",
       "      <td>1.35918</td>\n",
       "      <td>0.991217</td>\n",
       "      <td>0.991217</td>\n",
       "    </tr>\n",
       "    <tr>\n",
       "      <th>2009-07-01 04:05:00</th>\n",
       "      <td>-0.00006</td>\n",
       "      <td>0.000000</td>\n",
       "      <td>0.495609</td>\n",
       "    </tr>\n",
       "    <tr>\n",
       "      <th>2009-07-01 04:10:00</th>\n",
       "      <td>-0.00006</td>\n",
       "      <td>0.000000</td>\n",
       "      <td>0.330406</td>\n",
       "    </tr>\n",
       "    <tr>\n",
       "      <th>2009-07-01 04:15:00</th>\n",
       "      <td>1.44014</td>\n",
       "      <td>0.991217</td>\n",
       "      <td>0.495609</td>\n",
       "    </tr>\n",
       "    <tr>\n",
       "      <th>2009-07-01 04:20:00</th>\n",
       "      <td>1.75480</td>\n",
       "      <td>1.025701</td>\n",
       "      <td>0.601627</td>\n",
       "    </tr>\n",
       "    <tr>\n",
       "      <th>2009-07-01 04:25:00</th>\n",
       "      <td>7.61813</td>\n",
       "      <td>0.910143</td>\n",
       "      <td>0.653046</td>\n",
       "    </tr>\n",
       "    <tr>\n",
       "      <th>2009-07-01 04:30:00</th>\n",
       "      <td>7.64337</td>\n",
       "      <td>0.910143</td>\n",
       "      <td>0.689775</td>\n",
       "    </tr>\n",
       "    <tr>\n",
       "      <th>2009-07-01 04:35:00</th>\n",
       "      <td>8.58237</td>\n",
       "      <td>0.910143</td>\n",
       "      <td>0.717321</td>\n",
       "    </tr>\n",
       "    <tr>\n",
       "      <th>2009-07-01 04:40:00</th>\n",
       "      <td>8.00976</td>\n",
       "      <td>0.910143</td>\n",
       "      <td>0.738745</td>\n",
       "    </tr>\n",
       "    <tr>\n",
       "      <th>2009-07-01 04:45:00</th>\n",
       "      <td>7.45648</td>\n",
       "      <td>1.027702</td>\n",
       "      <td>0.767641</td>\n",
       "    </tr>\n",
       "    <tr>\n",
       "      <th>2009-07-01 04:50:00</th>\n",
       "      <td>6.89581</td>\n",
       "      <td>1.012575</td>\n",
       "      <td>0.789908</td>\n",
       "    </tr>\n",
       "    <tr>\n",
       "      <th>2009-07-01 04:55:00</th>\n",
       "      <td>0.00012</td>\n",
       "      <td>NaN</td>\n",
       "      <td>0.789908</td>\n",
       "    </tr>\n",
       "    <tr>\n",
       "      <th>2009-07-01 05:00:00</th>\n",
       "      <td>-0.26740</td>\n",
       "      <td>1.024651</td>\n",
       "      <td>0.809470</td>\n",
       "    </tr>\n",
       "    <tr>\n",
       "      <th>2009-07-01 05:05:00</th>\n",
       "      <td>7.95003</td>\n",
       "      <td>0.957608</td>\n",
       "      <td>0.820865</td>\n",
       "    </tr>\n",
       "    <tr>\n",
       "      <th>2009-07-01 05:10:00</th>\n",
       "      <td>8.00326</td>\n",
       "      <td>0.990476</td>\n",
       "      <td>0.832980</td>\n",
       "    </tr>\n",
       "    <tr>\n",
       "      <th>2009-07-01 05:15:00</th>\n",
       "      <td>8.04017</td>\n",
       "      <td>0.990476</td>\n",
       "      <td>0.843480</td>\n",
       "    </tr>\n",
       "    <tr>\n",
       "      <th>2009-07-01 05:20:00</th>\n",
       "      <td>0.00000</td>\n",
       "      <td>0.000000</td>\n",
       "      <td>0.790762</td>\n",
       "    </tr>\n",
       "    <tr>\n",
       "      <th>2009-07-01 05:25:00</th>\n",
       "      <td>1.06980</td>\n",
       "      <td>0.910143</td>\n",
       "      <td>0.797785</td>\n",
       "    </tr>\n",
       "    <tr>\n",
       "      <th>2009-07-01 05:30:00</th>\n",
       "      <td>-42.59686</td>\n",
       "      <td>0.799232</td>\n",
       "      <td>0.797865</td>\n",
       "    </tr>\n",
       "    <tr>\n",
       "      <th>2009-07-01 05:35:00</th>\n",
       "      <td>-2.42020</td>\n",
       "      <td>1.154818</td>\n",
       "      <td>0.816652</td>\n",
       "    </tr>\n",
       "    <tr>\n",
       "      <th>2009-07-01 05:40:00</th>\n",
       "      <td>-25.32958</td>\n",
       "      <td>0.805229</td>\n",
       "      <td>0.816081</td>\n",
       "    </tr>\n",
       "    <tr>\n",
       "      <th>2009-07-01 05:45:00</th>\n",
       "      <td>0.00020</td>\n",
       "      <td>NaN</td>\n",
       "      <td>0.816081</td>\n",
       "    </tr>\n",
       "    <tr>\n",
       "      <th>2009-07-01 05:50:00</th>\n",
       "      <td>8.60081</td>\n",
       "      <td>0.966671</td>\n",
       "      <td>0.823252</td>\n",
       "    </tr>\n",
       "    <tr>\n",
       "      <th>2009-07-01 05:55:00</th>\n",
       "      <td>8.70381</td>\n",
       "      <td>0.964682</td>\n",
       "      <td>0.829680</td>\n",
       "    </tr>\n",
       "    <tr>\n",
       "      <th>2009-07-01 06:00:00</th>\n",
       "      <td>8.70865</td>\n",
       "      <td>0.966671</td>\n",
       "      <td>0.835637</td>\n",
       "    </tr>\n",
       "    <tr>\n",
       "      <th>2009-07-01 06:05:00</th>\n",
       "      <td>8.63840</td>\n",
       "      <td>1.056391</td>\n",
       "      <td>0.844835</td>\n",
       "    </tr>\n",
       "    <tr>\n",
       "      <th>2009-07-01 06:10:00</th>\n",
       "      <td>12.22003</td>\n",
       "      <td>NaN</td>\n",
       "      <td>0.844835</td>\n",
       "    </tr>\n",
       "    <tr>\n",
       "      <th>2009-07-01 06:15:00</th>\n",
       "      <td>11.60458</td>\n",
       "      <td>0.908305</td>\n",
       "      <td>0.847374</td>\n",
       "    </tr>\n",
       "    <tr>\n",
       "      <th>2009-07-01 06:20:00</th>\n",
       "      <td>0.36162</td>\n",
       "      <td>0.872190</td>\n",
       "      <td>0.848328</td>\n",
       "    </tr>\n",
       "    <tr>\n",
       "      <th>2009-07-01 06:25:00</th>\n",
       "      <td>-0.00012</td>\n",
       "      <td>0.000000</td>\n",
       "      <td>0.816908</td>\n",
       "    </tr>\n",
       "    <tr>\n",
       "      <th>2009-07-01 06:30:00</th>\n",
       "      <td>11.86709</td>\n",
       "      <td>0.908305</td>\n",
       "      <td>0.813838</td>\n",
       "    </tr>\n",
       "    <tr>\n",
       "      <th>2009-07-01 06:35:00</th>\n",
       "      <td>0.69239</td>\n",
       "      <td>0.912643</td>\n",
       "      <td>0.847639</td>\n",
       "    </tr>\n",
       "    <tr>\n",
       "      <th>2009-07-01 06:40:00</th>\n",
       "      <td>19.14128</td>\n",
       "      <td>0.776611</td>\n",
       "      <td>0.876403</td>\n",
       "    </tr>\n",
       "    <tr>\n",
       "      <th>2009-07-01 06:45:00</th>\n",
       "      <td>21.27455</td>\n",
       "      <td>0.971761</td>\n",
       "      <td>0.875682</td>\n",
       "    </tr>\n",
       "    <tr>\n",
       "      <th>2009-07-01 06:50:00</th>\n",
       "      <td>21.85970</td>\n",
       "      <td>0.872190</td>\n",
       "      <td>0.869996</td>\n",
       "    </tr>\n",
       "    <tr>\n",
       "      <th>2009-07-01 06:55:00</th>\n",
       "      <td>22.23756</td>\n",
       "      <td>0.971761</td>\n",
       "      <td>0.872279</td>\n",
       "    </tr>\n",
       "    <tr>\n",
       "      <th>2009-07-01 07:00:00</th>\n",
       "      <td>17.47474</td>\n",
       "      <td>0.912643</td>\n",
       "      <td>0.872371</td>\n",
       "    </tr>\n",
       "    <tr>\n",
       "      <th>2009-07-01 07:05:00</th>\n",
       "      <td>17.78064</td>\n",
       "      <td>0.912643</td>\n",
       "      <td>0.872464</td>\n",
       "    </tr>\n",
       "    <tr>\n",
       "      <th>2009-07-01 07:10:00</th>\n",
       "      <td>18.20474</td>\n",
       "      <td>0.971761</td>\n",
       "      <td>0.874746</td>\n",
       "    </tr>\n",
       "    <tr>\n",
       "      <th>2009-07-01 07:15:00</th>\n",
       "      <td>18.26035</td>\n",
       "      <td>0.980592</td>\n",
       "      <td>0.873001</td>\n",
       "    </tr>\n",
       "    <tr>\n",
       "      <th>2009-07-01 07:20:00</th>\n",
       "      <td>20.16782</td>\n",
       "      <td>0.447535</td>\n",
       "      <td>0.852074</td>\n",
       "    </tr>\n",
       "    <tr>\n",
       "      <th>2009-07-01 07:25:00</th>\n",
       "      <td>21.51431</td>\n",
       "      <td>0.908305</td>\n",
       "      <td>0.854082</td>\n",
       "    </tr>\n",
       "    <tr>\n",
       "      <th>2009-07-01 07:30:00</th>\n",
       "      <td>21.37126</td>\n",
       "      <td>NaN</td>\n",
       "      <td>0.847765</td>\n",
       "    </tr>\n",
       "    <tr>\n",
       "      <th>2009-07-01 07:35:00</th>\n",
       "      <td>21.83703</td>\n",
       "      <td>0.908305</td>\n",
       "      <td>0.845939</td>\n",
       "    </tr>\n",
       "    <tr>\n",
       "      <th>2009-07-01 07:40:00</th>\n",
       "      <td>22.75912</td>\n",
       "      <td>0.795774</td>\n",
       "      <td>0.838727</td>\n",
       "    </tr>\n",
       "    <tr>\n",
       "      <th>2009-07-01 07:45:00</th>\n",
       "      <td>22.47272</td>\n",
       "      <td>0.908305</td>\n",
       "      <td>0.835684</td>\n",
       "    </tr>\n",
       "    <tr>\n",
       "      <th>2009-07-01 07:50:00</th>\n",
       "      <td>23.69124</td>\n",
       "      <td>0.000000</td>\n",
       "      <td>0.835684</td>\n",
       "    </tr>\n",
       "    <tr>\n",
       "      <th>2009-07-01 07:55:00</th>\n",
       "      <td>22.91620</td>\n",
       "      <td>0.908305</td>\n",
       "      <td>0.835616</td>\n",
       "    </tr>\n",
       "    <tr>\n",
       "      <th>2009-07-01 08:00:00</th>\n",
       "      <td>21.79117</td>\n",
       "      <td>0.447535</td>\n",
       "      <td>0.822590</td>\n",
       "    </tr>\n",
       "    <tr>\n",
       "      <th>2009-07-01 08:05:00</th>\n",
       "      <td>22.66394</td>\n",
       "      <td>NaN</td>\n",
       "      <td>0.809812</td>\n",
       "    </tr>\n",
       "  </tbody>\n",
       "</table>\n",
       "</div>"
      ],
      "text/plain": [
       "                        Price  CO2E_EMISSIONS_FACTOR  rolling_mean\n",
       "2009-07-01 04:00:00   1.35918               0.991217      0.991217\n",
       "2009-07-01 04:05:00  -0.00006               0.000000      0.495609\n",
       "2009-07-01 04:10:00  -0.00006               0.000000      0.330406\n",
       "2009-07-01 04:15:00   1.44014               0.991217      0.495609\n",
       "2009-07-01 04:20:00   1.75480               1.025701      0.601627\n",
       "2009-07-01 04:25:00   7.61813               0.910143      0.653046\n",
       "2009-07-01 04:30:00   7.64337               0.910143      0.689775\n",
       "2009-07-01 04:35:00   8.58237               0.910143      0.717321\n",
       "2009-07-01 04:40:00   8.00976               0.910143      0.738745\n",
       "2009-07-01 04:45:00   7.45648               1.027702      0.767641\n",
       "2009-07-01 04:50:00   6.89581               1.012575      0.789908\n",
       "2009-07-01 04:55:00   0.00012                    NaN      0.789908\n",
       "2009-07-01 05:00:00  -0.26740               1.024651      0.809470\n",
       "2009-07-01 05:05:00   7.95003               0.957608      0.820865\n",
       "2009-07-01 05:10:00   8.00326               0.990476      0.832980\n",
       "2009-07-01 05:15:00   8.04017               0.990476      0.843480\n",
       "2009-07-01 05:20:00   0.00000               0.000000      0.790762\n",
       "2009-07-01 05:25:00   1.06980               0.910143      0.797785\n",
       "2009-07-01 05:30:00 -42.59686               0.799232      0.797865\n",
       "2009-07-01 05:35:00  -2.42020               1.154818      0.816652\n",
       "2009-07-01 05:40:00 -25.32958               0.805229      0.816081\n",
       "2009-07-01 05:45:00   0.00020                    NaN      0.816081\n",
       "2009-07-01 05:50:00   8.60081               0.966671      0.823252\n",
       "2009-07-01 05:55:00   8.70381               0.964682      0.829680\n",
       "2009-07-01 06:00:00   8.70865               0.966671      0.835637\n",
       "2009-07-01 06:05:00   8.63840               1.056391      0.844835\n",
       "2009-07-01 06:10:00  12.22003                    NaN      0.844835\n",
       "2009-07-01 06:15:00  11.60458               0.908305      0.847374\n",
       "2009-07-01 06:20:00   0.36162               0.872190      0.848328\n",
       "2009-07-01 06:25:00  -0.00012               0.000000      0.816908\n",
       "2009-07-01 06:30:00  11.86709               0.908305      0.813838\n",
       "2009-07-01 06:35:00   0.69239               0.912643      0.847639\n",
       "2009-07-01 06:40:00  19.14128               0.776611      0.876403\n",
       "2009-07-01 06:45:00  21.27455               0.971761      0.875682\n",
       "2009-07-01 06:50:00  21.85970               0.872190      0.869996\n",
       "2009-07-01 06:55:00  22.23756               0.971761      0.872279\n",
       "2009-07-01 07:00:00  17.47474               0.912643      0.872371\n",
       "2009-07-01 07:05:00  17.78064               0.912643      0.872464\n",
       "2009-07-01 07:10:00  18.20474               0.971761      0.874746\n",
       "2009-07-01 07:15:00  18.26035               0.980592      0.873001\n",
       "2009-07-01 07:20:00  20.16782               0.447535      0.852074\n",
       "2009-07-01 07:25:00  21.51431               0.908305      0.854082\n",
       "2009-07-01 07:30:00  21.37126                    NaN      0.847765\n",
       "2009-07-01 07:35:00  21.83703               0.908305      0.845939\n",
       "2009-07-01 07:40:00  22.75912               0.795774      0.838727\n",
       "2009-07-01 07:45:00  22.47272               0.908305      0.835684\n",
       "2009-07-01 07:50:00  23.69124               0.000000      0.835684\n",
       "2009-07-01 07:55:00  22.91620               0.908305      0.835616\n",
       "2009-07-01 08:00:00  21.79117               0.447535      0.822590\n",
       "2009-07-01 08:05:00  22.66394                    NaN      0.809812"
      ]
     },
     "execution_count": 55,
     "metadata": {},
     "output_type": "execute_result"
    }
   ],
   "source": [
    "df_impute.head(50)"
   ]
  },
  {
   "cell_type": "code",
   "execution_count": 56,
   "metadata": {},
   "outputs": [
    {
     "data": {
      "text/plain": [
       "Price                    True\n",
       "CO2E_EMISSIONS_FACTOR    True\n",
       "rolling_mean             True\n",
       "dtype: bool"
      ]
     },
     "execution_count": 56,
     "metadata": {},
     "output_type": "execute_result"
    }
   ],
   "source": [
    "df_impute.isna().any()"
   ]
  },
  {
   "cell_type": "code",
   "execution_count": 61,
   "metadata": {},
   "outputs": [],
   "source": [
    "#here we use the numpy.where() method to replace only NaNs with values from the rolling_mean column\n",
    "df_impute['CO2E_EMISSIONS_FACTOR'] = np.where(df_impute['CO2E_EMISSIONS_FACTOR'].isnull(),\\\n",
    "                                  df_impute['rolling_mean'], df_impute['CO2E_EMISSIONS_FACTOR'])\n",
    "\n",
    "df_impute.drop(columns='rolling_mean', inplace=True)"
   ]
  },
  {
   "cell_type": "code",
   "execution_count": 62,
   "metadata": {},
   "outputs": [
    {
     "data": {
      "text/plain": [
       "Price                    True\n",
       "CO2E_EMISSIONS_FACTOR    True\n",
       "dtype: bool"
      ]
     },
     "execution_count": 62,
     "metadata": {},
     "output_type": "execute_result"
    }
   ],
   "source": [
    "#let's see if everything worked\n",
    "df_impute.isna().any()"
   ]
  },
  {
   "cell_type": "markdown",
   "metadata": {},
   "source": [
    "__Oh, there are still NaN values present there. Lets have a closer look at that:__"
   ]
  },
  {
   "cell_type": "code",
   "execution_count": 66,
   "metadata": {},
   "outputs": [
    {
     "data": {
      "image/png": "[encoded data removed]",
      "text/plain": [
       "<Figure size 432x288 with 2 Axes>"
      ]
     },
     "metadata": {
      "needs_background": "light"
     },
     "output_type": "display_data"
    },
    {
     "data": {
      "text/plain": [
       "<Figure size 864x360 with 0 Axes>"
      ]
     },
     "metadata": {},
     "output_type": "display_data"
    }
   ],
   "source": [
    "fig = sns.heatmap(df_impute.isnull())\n",
    "plt.figure(figsize=(12,5));"
   ]
  },
  {
   "cell_type": "markdown",
   "metadata": {},
   "source": [
    "Notice above that our imputation only used 30 values to create a mean for imputation. These two gaps however comprise a whole month gap (see outcome of 'correct_timedelta above). Hence, they were not being filled. We will take care of that later.\n",
    "\n",
    "Now we have preprocessed our dataset to a degree that we can start to look for relevant features to train a model to forecast the marginal CO2 emissions. Before we do that, it is mandatory for us to split the set into train and test sets right away:"
   ]
  },
  {
   "cell_type": "code",
   "execution_count": 90,
   "metadata": {},
   "outputs": [],
   "source": [
    "#we have plenty of data; let's go and use a bit more than a year as our test and the remaing period as our training set\n",
    "#NOTE: time series forecasts request that any training is done on data that lie in the past relative to the test data\n",
    "\n",
    "train = df_impute[df_impute.index < dt.datetime(2018,6,1,0,0,0)]\n",
    "test = df_impute[df_impute.index >= (dt.datetime(2018,6,1,0,0,0))]"
   ]
  },
  {
   "cell_type": "markdown",
   "metadata": {},
   "source": [
    "For the training of a time series forecast it is necessary to train it with training data which lie in the relative past of the test data. Let's see if that holds true here. With the threshold chosen above, we do not have any NaN values in our train set and have to only consider it again when working with the testset."
   ]
  },
  {
   "cell_type": "code",
   "execution_count": 91,
   "metadata": {},
   "outputs": [
    {
     "name": "stdout",
     "output_type": "stream",
     "text": [
      "2009-07-01 04:00:00\n",
      "2018-05-31 23:55:00\n",
      "2018-06-01 00:00:00\n",
      "2019-08-01 03:55:00\n"
     ]
    }
   ],
   "source": [
    "print(train.index.min())\n",
    "print(train.index.max())\n",
    "\n",
    "print(test.index.min())\n",
    "print(test.index.max())"
   ]
  },
  {
   "cell_type": "code",
   "execution_count": 92,
   "metadata": {},
   "outputs": [],
   "source": [
    "assert train.index.max() < test.index.min()"
   ]
  },
  {
   "cell_type": "code",
   "execution_count": 97,
   "metadata": {},
   "outputs": [
    {
     "data": {
      "text/plain": [
       "False"
      ]
     },
     "execution_count": 97,
     "metadata": {},
     "output_type": "execute_result"
    }
   ],
   "source": [
    "train.CO2E_EMISSIONS_FACTOR.isna().any()"
   ]
  },
  {
   "cell_type": "markdown",
   "metadata": {},
   "source": [
    "__We got rid of all the NaN values in our CO2 emissions column!__"
   ]
  },
  {
   "cell_type": "code",
   "execution_count": 93,
   "metadata": {},
   "outputs": [],
   "source": [
    "train.to_pickle('../../data/train.pkl')\n",
    "test.to_pickle('../../data/test.pkl')"
   ]
  },
  {
   "cell_type": "code",
   "execution_count": null,
   "metadata": {},
   "outputs": [],
   "source": []
  }
 ],
 "metadata": {
  "kernelspec": {
   "display_name": "dsr_teaching",
   "language": "python",
   "name": "dsr_teaching"
  },
  "language_info": {
   "codemirror_mode": {
    "name": "ipython",
    "version": 3
   },
   "file_extension": ".py",
   "mimetype": "text/x-python",
   "name": "python",
   "nbconvert_exporter": "python",
   "pygments_lexer": "ipython3",
   "version": "3.6.9"
  }
 },
 "nbformat": 4,
 "nbformat_minor": 4
}
