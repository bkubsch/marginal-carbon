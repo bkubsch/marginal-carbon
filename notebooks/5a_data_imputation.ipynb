{
 "cells": [
  {
   "cell_type": "markdown",
   "metadata": {},
   "source": [
    "# __Data imputation__"
   ]
  },
  {
   "cell_type": "markdown",
   "metadata": {},
   "source": [
    "### __Have we got what we think we have got?__"
   ]
  },
  {
   "cell_type": "markdown",
   "metadata": {},
   "source": [
    "According to the source of our data of CO2 emissions, they were to be dispatched every 5 mins. However, can we really be sure that that's the case over a period of about 10 years? We will find that out over the next couple of cells."
   ]
  },
  {
   "cell_type": "code",
   "execution_count": 39,
   "metadata": {},
   "outputs": [],
   "source": [
    "import pandas as pd"
   ]
  },
  {
   "cell_type": "code",
   "execution_count": 40,
   "metadata": {},
   "outputs": [
    {
     "data": {
      "text/html": [
       "<div>\n",
       "<style scoped>\n",
       "    .dataframe tbody tr th:only-of-type {\n",
       "        vertical-align: middle;\n",
       "    }\n",
       "\n",
       "    .dataframe tbody tr th {\n",
       "        vertical-align: top;\n",
       "    }\n",
       "\n",
       "    .dataframe thead th {\n",
       "        text-align: right;\n",
       "    }\n",
       "</style>\n",
       "<table border=\"1\" class=\"dataframe\">\n",
       "  <thead>\n",
       "    <tr style=\"text-align: right;\">\n",
       "      <th></th>\n",
       "      <th>Price</th>\n",
       "      <th>CO2E_EMISSIONS_FACTOR</th>\n",
       "    </tr>\n",
       "    <tr>\n",
       "      <th>PeriodID</th>\n",
       "      <th></th>\n",
       "      <th></th>\n",
       "    </tr>\n",
       "  </thead>\n",
       "  <tbody>\n",
       "    <tr>\n",
       "      <th>2009-07-01 04:00:00</th>\n",
       "      <td>1.35918</td>\n",
       "      <td>0.991217</td>\n",
       "    </tr>\n",
       "    <tr>\n",
       "      <th>2009-07-01 04:05:00</th>\n",
       "      <td>-0.00006</td>\n",
       "      <td>0.000000</td>\n",
       "    </tr>\n",
       "    <tr>\n",
       "      <th>2009-07-01 04:10:00</th>\n",
       "      <td>-0.00006</td>\n",
       "      <td>0.000000</td>\n",
       "    </tr>\n",
       "    <tr>\n",
       "      <th>2009-07-01 04:15:00</th>\n",
       "      <td>1.44014</td>\n",
       "      <td>0.991217</td>\n",
       "    </tr>\n",
       "    <tr>\n",
       "      <th>2009-07-01 04:20:00</th>\n",
       "      <td>1.75480</td>\n",
       "      <td>1.025701</td>\n",
       "    </tr>\n",
       "  </tbody>\n",
       "</table>\n",
       "</div>"
      ],
      "text/plain": [
       "                       Price  CO2E_EMISSIONS_FACTOR\n",
       "PeriodID                                           \n",
       "2009-07-01 04:00:00  1.35918               0.991217\n",
       "2009-07-01 04:05:00 -0.00006               0.000000\n",
       "2009-07-01 04:10:00 -0.00006               0.000000\n",
       "2009-07-01 04:15:00  1.44014               0.991217\n",
       "2009-07-01 04:20:00  1.75480               1.025701"
      ]
     },
     "execution_count": 40,
     "metadata": {},
     "output_type": "execute_result"
    }
   ],
   "source": [
    "file_path = '../../big_data/df_DUID_price_range.pkl'\n",
    "df = pd.read_pickle(file_path)\n",
    "\n",
    "df.head()"
   ]
  },
  {
   "cell_type": "code",
   "execution_count": 41,
   "metadata": {},
   "outputs": [],
   "source": [
    "def correct_timedelta(df, time_diff):\n",
    "    '''\n",
    "    df.index must be DateTimeIndex\n",
    "    Returns two lists\n",
    "    df=table_of_interest\n",
    "    col=\"column_of_interest\"\n",
    "    time_diff=time_diff in seconds as int\n",
    "    '''\n",
    "    lst_1 = []\n",
    "    lst_2 = []\n",
    "    \n",
    "    for i in range(1,df.shape[0]):\n",
    "        delta = abs(df.index[i] - df.index[i-1])\n",
    "        if int(delta.total_seconds()) != int(time_diff):\n",
    "            lst_1.append((f'At time stamp {df.index[i-1]}, the interval is {int(delta.total_seconds()/60)} min or {round(float(delta.total_seconds()/3600),2)} h.'))\n",
    "            lst_2.append((df.index[i-1], int(delta.total_seconds()/60)))\n",
    "            \n",
    "    return lst_1, lst_2\n"
   ]
  },
  {
   "cell_type": "code",
   "execution_count": 42,
   "metadata": {},
   "outputs": [],
   "source": [
    "l1, l2 = correct_timedelta(df, 300)"
   ]
  },
  {
   "cell_type": "code",
   "execution_count": 43,
   "metadata": {},
   "outputs": [
    {
     "data": {
      "text/plain": [
       "['At time stamp 2009-08-17 02:50:00, the interval is 10 min or 0.17 h.',\n",
       " 'At time stamp 2009-08-17 03:25:00, the interval is 10 min or 0.17 h.',\n",
       " 'At time stamp 2009-08-19 16:55:00, the interval is 10 min or 0.17 h.',\n",
       " 'At time stamp 2009-09-02 04:35:00, the interval is 10 min or 0.17 h.',\n",
       " 'At time stamp 2009-09-03 03:55:00, the interval is 10 min or 0.17 h.',\n",
       " 'At time stamp 2009-09-03 04:10:00, the interval is 10 min or 0.17 h.',\n",
       " 'At time stamp 2009-09-04 02:15:00, the interval is 10 min or 0.17 h.',\n",
       " 'At time stamp 2009-09-04 02:50:00, the interval is 10 min or 0.17 h.',\n",
       " 'At time stamp 2009-09-04 04:20:00, the interval is 10 min or 0.17 h.',\n",
       " 'At time stamp 2009-09-13 04:20:00, the interval is 10 min or 0.17 h.',\n",
       " 'At time stamp 2009-09-13 04:40:00, the interval is 10 min or 0.17 h.',\n",
       " 'At time stamp 2010-01-23 14:20:00, the interval is 10 min or 0.17 h.',\n",
       " 'At time stamp 2010-03-30 02:55:00, the interval is 10 min or 0.17 h.',\n",
       " 'At time stamp 2010-09-18 06:00:00, the interval is 10 min or 0.17 h.',\n",
       " 'At time stamp 2010-12-12 04:50:00, the interval is 10 min or 0.17 h.',\n",
       " 'At time stamp 2010-12-14 13:20:00, the interval is 10 min or 0.17 h.',\n",
       " 'At time stamp 2013-08-07 12:10:00, the interval is 25 min or 0.42 h.',\n",
       " 'At time stamp 2013-11-03 03:20:00, the interval is 10 min or 0.17 h.',\n",
       " 'At time stamp 2016-01-23 11:25:00, the interval is 10 min or 0.17 h.',\n",
       " 'At time stamp 2016-03-22 13:15:00, the interval is 10 min or 0.17 h.']"
      ]
     },
     "execution_count": 43,
     "metadata": {},
     "output_type": "execute_result"
    }
   ],
   "source": [
    "l1[:20]"
   ]
  },
  {
   "cell_type": "markdown",
   "metadata": {},
   "source": [
    "## __Filling in the gaps__"
   ]
  },
  {
   "cell_type": "markdown",
   "metadata": {},
   "source": [
    "### __DateTimeIndex__"
   ]
  },
  {
   "cell_type": "markdown",
   "metadata": {},
   "source": [
    "Next, we will fill in the gaps of the DateTimeIndex. Note, that will leave us with NaN values in the remaining columns whereever datetimes are inserted into the index."
   ]
  },
  {
   "cell_type": "code",
   "execution_count": 44,
   "metadata": {},
   "outputs": [
    {
     "data": {
      "text/plain": [
       "1060704"
      ]
     },
     "execution_count": 44,
     "metadata": {},
     "output_type": "execute_result"
    }
   ],
   "source": [
    "#hypothetical number of 5min intervals given the max and min values of the df time range\n",
    "\n",
    "h = pd.date_range(start=df.index.min(), end=df.index.max(), freq=\"5min\")\n",
    "len(h)"
   ]
  },
  {
   "cell_type": "code",
   "execution_count": 45,
   "metadata": {},
   "outputs": [
    {
     "ename": "AssertionError",
     "evalue": "",
     "output_type": "error",
     "traceback": [
      "\u001b[0;31m---------------------------------------------------------------------------\u001b[0m",
      "\u001b[0;31mAssertionError\u001b[0m                            Traceback (most recent call last)",
      "\u001b[0;32m<ipython-input-45-a3caacfc82f1>\u001b[0m in \u001b[0;36m<module>\u001b[0;34m\u001b[0m\n\u001b[0;32m----> 1\u001b[0;31m \u001b[0;32massert\u001b[0m \u001b[0mabs\u001b[0m\u001b[0;34m(\u001b[0m\u001b[0mdf\u001b[0m\u001b[0;34m.\u001b[0m\u001b[0mshape\u001b[0m\u001b[0;34m[\u001b[0m\u001b[0;36m0\u001b[0m\u001b[0;34m]\u001b[0m \u001b[0;34m-\u001b[0m \u001b[0mlen\u001b[0m\u001b[0;34m(\u001b[0m\u001b[0mh\u001b[0m\u001b[0;34m)\u001b[0m\u001b[0;34m)\u001b[0m \u001b[0;34m<\u001b[0m \u001b[0;36m0.000001\u001b[0m\u001b[0;34m\u001b[0m\u001b[0;34m\u001b[0m\u001b[0m\n\u001b[0m",
      "\u001b[0;31mAssertionError\u001b[0m: "
     ]
    }
   ],
   "source": [
    "assert abs(df.shape[0] - len(h)) < 0.000001"
   ]
  },
  {
   "cell_type": "markdown",
   "metadata": {},
   "source": [
    "Here we clearly see that there is a mismatch between the hypothetical size of our time range if every 5 min interval was present and the size of our actual dataset."
   ]
  },
  {
   "cell_type": "markdown",
   "metadata": {},
   "source": [
    "__Filling in the DateTimeIndex:__"
   ]
  },
  {
   "cell_type": "code",
   "execution_count": 46,
   "metadata": {},
   "outputs": [
    {
     "name": "stdout",
     "output_type": "stream",
     "text": [
      "(1060704, 2)\n"
     ]
    },
    {
     "data": {
      "text/html": [
       "<div>\n",
       "<style scoped>\n",
       "    .dataframe tbody tr th:only-of-type {\n",
       "        vertical-align: middle;\n",
       "    }\n",
       "\n",
       "    .dataframe tbody tr th {\n",
       "        vertical-align: top;\n",
       "    }\n",
       "\n",
       "    .dataframe thead th {\n",
       "        text-align: right;\n",
       "    }\n",
       "</style>\n",
       "<table border=\"1\" class=\"dataframe\">\n",
       "  <thead>\n",
       "    <tr style=\"text-align: right;\">\n",
       "      <th></th>\n",
       "      <th>Price</th>\n",
       "      <th>CO2E_EMISSIONS_FACTOR</th>\n",
       "    </tr>\n",
       "  </thead>\n",
       "  <tbody>\n",
       "    <tr>\n",
       "      <th>2009-07-01 04:00:00</th>\n",
       "      <td>1.35918</td>\n",
       "      <td>0.991217</td>\n",
       "    </tr>\n",
       "    <tr>\n",
       "      <th>2009-07-01 04:05:00</th>\n",
       "      <td>-0.00006</td>\n",
       "      <td>0.000000</td>\n",
       "    </tr>\n",
       "    <tr>\n",
       "      <th>2009-07-01 04:10:00</th>\n",
       "      <td>-0.00006</td>\n",
       "      <td>0.000000</td>\n",
       "    </tr>\n",
       "    <tr>\n",
       "      <th>2009-07-01 04:15:00</th>\n",
       "      <td>1.44014</td>\n",
       "      <td>0.991217</td>\n",
       "    </tr>\n",
       "    <tr>\n",
       "      <th>2009-07-01 04:20:00</th>\n",
       "      <td>1.75480</td>\n",
       "      <td>1.025701</td>\n",
       "    </tr>\n",
       "  </tbody>\n",
       "</table>\n",
       "</div>"
      ],
      "text/plain": [
       "                       Price  CO2E_EMISSIONS_FACTOR\n",
       "2009-07-01 04:00:00  1.35918               0.991217\n",
       "2009-07-01 04:05:00 -0.00006               0.000000\n",
       "2009-07-01 04:10:00 -0.00006               0.000000\n",
       "2009-07-01 04:15:00  1.44014               0.991217\n",
       "2009-07-01 04:20:00  1.75480               1.025701"
      ]
     },
     "execution_count": 46,
     "metadata": {},
     "output_type": "execute_result"
    }
   ],
   "source": [
    "df = df.reindex(h)\n",
    "print(df.shape)\n",
    "df.head()"
   ]
  },
  {
   "cell_type": "code",
   "execution_count": 47,
   "metadata": {},
   "outputs": [
    {
     "data": {
      "text/plain": [
       "Price                    True\n",
       "CO2E_EMISSIONS_FACTOR    True\n",
       "dtype: bool"
      ]
     },
     "execution_count": 47,
     "metadata": {},
     "output_type": "execute_result"
    }
   ],
   "source": [
    "df = df.sort_index(ascending=True)\n",
    "df.isna().any()"
   ]
  },
  {
   "cell_type": "markdown",
   "metadata": {},
   "source": [
    "Note that we have only filled in the DateTimeIndex so far. Any other columns were affected by the introduction of NaN values where datetimes have been filled in. In the next step we will impute the data into the other columns. Let's discuss how we best do it with a time series."
   ]
  },
  {
   "cell_type": "code",
   "execution_count": null,
   "metadata": {},
   "outputs": [],
   "source": []
  }
 ],
 "metadata": {
  "kernelspec": {
   "display_name": "dsr_teaching",
   "language": "python",
   "name": "dsr_teaching"
  },
  "language_info": {
   "codemirror_mode": {
    "name": "ipython",
    "version": 3
   },
   "file_extension": ".py",
   "mimetype": "text/x-python",
   "name": "python",
   "nbconvert_exporter": "python",
   "pygments_lexer": "ipython3",
   "version": "3.6.9"
  }
 },
 "nbformat": 4,
 "nbformat_minor": 4
}
