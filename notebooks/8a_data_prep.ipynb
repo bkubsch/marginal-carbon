{
 "cells": [
  {
   "cell_type": "code",
   "execution_count": 152,
   "metadata": {},
   "outputs": [],
   "source": [
    "import pandas as pd\n",
    "import numpy as np\n",
    "import os\n",
    "import datetime as dt\n",
    "\n",
    "import seaborn as sns\n",
    "import matplotlib.pyplot as plt\n",
    "\n",
    "import warnings\n",
    "warnings.simplefilter('ignore')"
   ]
  },
  {
   "cell_type": "code",
   "execution_count": 153,
   "metadata": {},
   "outputs": [
    {
     "data": {
      "text/html": [
       "<div>\n",
       "<style scoped>\n",
       "    .dataframe tbody tr th:only-of-type {\n",
       "        vertical-align: middle;\n",
       "    }\n",
       "\n",
       "    .dataframe tbody tr th {\n",
       "        vertical-align: top;\n",
       "    }\n",
       "\n",
       "    .dataframe thead th {\n",
       "        text-align: right;\n",
       "    }\n",
       "</style>\n",
       "<table border=\"1\" class=\"dataframe\">\n",
       "  <thead>\n",
       "    <tr style=\"text-align: right;\">\n",
       "      <th></th>\n",
       "      <th>Price</th>\n",
       "      <th>CO2E_EMISSIONS_FACTOR</th>\n",
       "    </tr>\n",
       "  </thead>\n",
       "  <tbody>\n",
       "    <tr>\n",
       "      <td>2019-08-01 03:55:00</td>\n",
       "      <td>79.52391</td>\n",
       "      <td>0.380340</td>\n",
       "    </tr>\n",
       "    <tr>\n",
       "      <td>2019-08-01 03:50:00</td>\n",
       "      <td>79.17710</td>\n",
       "      <td>0.456409</td>\n",
       "    </tr>\n",
       "    <tr>\n",
       "      <td>2019-08-01 03:45:00</td>\n",
       "      <td>85.14416</td>\n",
       "      <td>0.573436</td>\n",
       "    </tr>\n",
       "    <tr>\n",
       "      <td>2019-08-01 03:40:00</td>\n",
       "      <td>84.78689</td>\n",
       "      <td>0.573436</td>\n",
       "    </tr>\n",
       "    <tr>\n",
       "      <td>2019-08-01 03:35:00</td>\n",
       "      <td>84.78346</td>\n",
       "      <td>0.573436</td>\n",
       "    </tr>\n",
       "  </tbody>\n",
       "</table>\n",
       "</div>"
      ],
      "text/plain": [
       "                        Price  CO2E_EMISSIONS_FACTOR\n",
       "2019-08-01 03:55:00  79.52391               0.380340\n",
       "2019-08-01 03:50:00  79.17710               0.456409\n",
       "2019-08-01 03:45:00  85.14416               0.573436\n",
       "2019-08-01 03:40:00  84.78689               0.573436\n",
       "2019-08-01 03:35:00  84.78346               0.573436"
      ]
     },
     "execution_count": 153,
     "metadata": {},
     "output_type": "execute_result"
    }
   ],
   "source": [
    "file_path = '{}/nem-data/nemde_clean/df_DUID_CO2_mean.pkl'.format(os.environ['HOME'])\n",
    "df_mean = pd.read_pickle(file_path)\n",
    "df_mean.head()"
   ]
  },
  {
   "cell_type": "code",
   "execution_count": 154,
   "metadata": {},
   "outputs": [
    {
     "name": "stdout",
     "output_type": "stream",
     "text": [
      "2017-01-01 00:05:00\n",
      "2019-08-01 03:55:00\n"
     ]
    },
    {
     "data": {
      "text/html": [
       "<div>\n",
       "<style scoped>\n",
       "    .dataframe tbody tr th:only-of-type {\n",
       "        vertical-align: middle;\n",
       "    }\n",
       "\n",
       "    .dataframe tbody tr th {\n",
       "        vertical-align: top;\n",
       "    }\n",
       "\n",
       "    .dataframe thead th {\n",
       "        text-align: right;\n",
       "    }\n",
       "</style>\n",
       "<table border=\"1\" class=\"dataframe\">\n",
       "  <thead>\n",
       "    <tr style=\"text-align: right;\">\n",
       "      <th></th>\n",
       "      <th>Price</th>\n",
       "      <th>CO2E_EMISSIONS_FACTOR</th>\n",
       "    </tr>\n",
       "  </thead>\n",
       "  <tbody>\n",
       "    <tr>\n",
       "      <td>2017-01-01 00:05:00</td>\n",
       "      <td>125.69000</td>\n",
       "      <td>0.473708</td>\n",
       "    </tr>\n",
       "    <tr>\n",
       "      <td>2017-01-01 00:10:00</td>\n",
       "      <td>216.49831</td>\n",
       "      <td>1.047576</td>\n",
       "    </tr>\n",
       "    <tr>\n",
       "      <td>2017-01-01 00:15:00</td>\n",
       "      <td>82.46039</td>\n",
       "      <td>1.093190</td>\n",
       "    </tr>\n",
       "    <tr>\n",
       "      <td>2017-01-01 00:20:00</td>\n",
       "      <td>79.99014</td>\n",
       "      <td>0.681150</td>\n",
       "    </tr>\n",
       "    <tr>\n",
       "      <td>2017-01-01 00:25:00</td>\n",
       "      <td>79.98988</td>\n",
       "      <td>0.708560</td>\n",
       "    </tr>\n",
       "  </tbody>\n",
       "</table>\n",
       "</div>"
      ],
      "text/plain": [
       "                         Price  CO2E_EMISSIONS_FACTOR\n",
       "2017-01-01 00:05:00  125.69000               0.473708\n",
       "2017-01-01 00:10:00  216.49831               1.047576\n",
       "2017-01-01 00:15:00   82.46039               1.093190\n",
       "2017-01-01 00:20:00   79.99014               0.681150\n",
       "2017-01-01 00:25:00   79.98988               0.708560"
      ]
     },
     "execution_count": 154,
     "metadata": {},
     "output_type": "execute_result"
    }
   ],
   "source": [
    "df_sub = df_mean[(df_mean.index > dt.datetime(2017,1,1))]\n",
    "print(df_sub.index.min())\n",
    "print(df_sub.index.max())\n",
    "df_sub = df_sub.sort_index()\n",
    "df_sub.head()"
   ]
  },
  {
   "cell_type": "code",
   "execution_count": 155,
   "metadata": {},
   "outputs": [
    {
     "data": {
      "image/png": "[encoded data removed]",
      "text/plain": [
       "<Figure size 432x288 with 2 Axes>"
      ]
     },
     "metadata": {
      "needs_background": "light"
     },
     "output_type": "display_data"
    },
    {
     "data": {
      "text/plain": [
       "<Figure size 720x216 with 0 Axes>"
      ]
     },
     "metadata": {},
     "output_type": "display_data"
    }
   ],
   "source": [
    "fig = sns.heatmap(df_sub.isna())\n",
    "plt.figure(figsize=(10,3));"
   ]
  },
  {
   "cell_type": "code",
   "execution_count": 158,
   "metadata": {},
   "outputs": [],
   "source": [
    "from sklearn.impute import SimpleImputer\n"
   ]
  },
  {
   "cell_type": "code",
   "execution_count": 88,
   "metadata": {},
   "outputs": [],
   "source": [
    "def time_columns(df):\n",
    "    \n",
    "    df.loc[:,\"minute\"] = df.index.minute\n",
    "    df[\"hour\"] = df.index.hour\n",
    "    df[\"weekday\"] = np.where(df.index.weekday < 5, 0, 1)\n",
    "    df[\"month\"] = df.index.month\n",
    "\n",
    "    df['minute_sin'] = np.sin(2 * np.pi * df.loc[:,'minute']/60.0)\n",
    "    df['minute_cos'] = np.cos(2 * np.pi * df.loc[:,'minute']/60.0)\n",
    "\n",
    "    df['hour_sin'] = np.sin(2 * np.pi * df.loc[:,'hour']/24.0)\n",
    "    df['hour_cos'] = np.cos(2 * np.pi * df.loc[:,'hour']/24.0)\n",
    "    \n",
    "    df['weekday_sin'] = np.sin(2 * np.pi * df.loc[:,'weekday']/7.0)\n",
    "    df['weekday_cos'] = np.cos(2 * np.pi * df.loc[:,'weekday']/7.0)\n",
    "    \n",
    "    df['month_sin'] = np.sin(2 * np.pi * df.loc[:,'month']/12.0)\n",
    "    df['month_cos'] = np.cos(2 * np.pi * df.loc[:,'month']/12.0)\n",
    "\n",
    "    df.drop(columns=[\"Price\", \"minute\", \"weekday\", \"hour\", \"month\"], inplace=True)\n",
    "    \n",
    "    return df"
   ]
  },
  {
   "cell_type": "code",
   "execution_count": 89,
   "metadata": {},
   "outputs": [],
   "source": [
    "def lag_horizon(df, lag, horizon):\n",
    "    '''\n",
    "    The function generates a feature column representing subsets of the target (CO2) of size lag\n",
    "    and associates it with a target column following the feature subset with gap = horizon\n",
    "    df=df with column \"CO2E_EMISSIONS_FACTOR\"\n",
    "    lag=integer\n",
    "    horizon=integer\n",
    "    '''\n",
    "    lst_l = []\n",
    "    lst_h = []\n",
    "    \n",
    "    [lst_l.append(list(k[i:i+lag])) for j,k in df.loc[:,[\"CO2E_EMISSIONS_FACTOR\"]].iteritems() for i in range(df.shape[0]-lag)]\n",
    "    [lst_l.append(np.nan) for i in range(df.shape[0]-lag,df.shape[0])]\n",
    "    \n",
    "    [lst_h.append(list(k[i+lag:i+lag+horizon])) for j,k in df.loc[:,[\"CO2E_EMISSIONS_FACTOR\"]].iteritems() for i in range(df.shape[0]-(lag-1)-horizon)]\n",
    "    [lst_h.append(np.nan) for i in range(df.shape[0]-(lag-1)-horizon,df.shape[0])]\n",
    "    \n",
    "    df[\"features\"] = np.array(lst_l)\n",
    "    df[\"features\"] = df[\"features\"].apply(lambda x: np.array(x))\n",
    "\n",
    "    df[\"target\"] = np.array(lst_h)\n",
    "    df[\"target\"] = df[\"target\"].apply(lambda x: np.array(x))\n",
    "        \n",
    "    return df"
   ]
  },
  {
   "cell_type": "code",
   "execution_count": 145,
   "metadata": {},
   "outputs": [],
   "source": [
    "df_sub = time_columns(df_sub)"
   ]
  },
  {
   "cell_type": "code",
   "execution_count": 146,
   "metadata": {},
   "outputs": [
    {
     "data": {
      "text/html": [
       "<div>\n",
       "<style scoped>\n",
       "    .dataframe tbody tr th:only-of-type {\n",
       "        vertical-align: middle;\n",
       "    }\n",
       "\n",
       "    .dataframe tbody tr th {\n",
       "        vertical-align: top;\n",
       "    }\n",
       "\n",
       "    .dataframe thead th {\n",
       "        text-align: right;\n",
       "    }\n",
       "</style>\n",
       "<table border=\"1\" class=\"dataframe\">\n",
       "  <thead>\n",
       "    <tr style=\"text-align: right;\">\n",
       "      <th></th>\n",
       "      <th>CO2E_EMISSIONS_FACTOR</th>\n",
       "      <th>minute_sin</th>\n",
       "      <th>minute_cos</th>\n",
       "      <th>hour_sin</th>\n",
       "      <th>hour_cos</th>\n",
       "      <th>weekday_sin</th>\n",
       "      <th>weekday_cos</th>\n",
       "      <th>month_sin</th>\n",
       "      <th>month_cos</th>\n",
       "    </tr>\n",
       "  </thead>\n",
       "  <tbody>\n",
       "    <tr>\n",
       "      <td>2017-01-01 00:05:00</td>\n",
       "      <td>0.473708</td>\n",
       "      <td>0.500000</td>\n",
       "      <td>8.660254e-01</td>\n",
       "      <td>0.0</td>\n",
       "      <td>1.0</td>\n",
       "      <td>0.781831</td>\n",
       "      <td>0.62349</td>\n",
       "      <td>0.5</td>\n",
       "      <td>0.866025</td>\n",
       "    </tr>\n",
       "    <tr>\n",
       "      <td>2017-01-01 00:10:00</td>\n",
       "      <td>1.047576</td>\n",
       "      <td>0.866025</td>\n",
       "      <td>5.000000e-01</td>\n",
       "      <td>0.0</td>\n",
       "      <td>1.0</td>\n",
       "      <td>0.781831</td>\n",
       "      <td>0.62349</td>\n",
       "      <td>0.5</td>\n",
       "      <td>0.866025</td>\n",
       "    </tr>\n",
       "    <tr>\n",
       "      <td>2017-01-01 00:15:00</td>\n",
       "      <td>1.093190</td>\n",
       "      <td>1.000000</td>\n",
       "      <td>2.832769e-16</td>\n",
       "      <td>0.0</td>\n",
       "      <td>1.0</td>\n",
       "      <td>0.781831</td>\n",
       "      <td>0.62349</td>\n",
       "      <td>0.5</td>\n",
       "      <td>0.866025</td>\n",
       "    </tr>\n",
       "    <tr>\n",
       "      <td>2017-01-01 00:20:00</td>\n",
       "      <td>0.681150</td>\n",
       "      <td>0.866025</td>\n",
       "      <td>-5.000000e-01</td>\n",
       "      <td>0.0</td>\n",
       "      <td>1.0</td>\n",
       "      <td>0.781831</td>\n",
       "      <td>0.62349</td>\n",
       "      <td>0.5</td>\n",
       "      <td>0.866025</td>\n",
       "    </tr>\n",
       "    <tr>\n",
       "      <td>2017-01-01 00:25:00</td>\n",
       "      <td>0.708560</td>\n",
       "      <td>0.500000</td>\n",
       "      <td>-8.660254e-01</td>\n",
       "      <td>0.0</td>\n",
       "      <td>1.0</td>\n",
       "      <td>0.781831</td>\n",
       "      <td>0.62349</td>\n",
       "      <td>0.5</td>\n",
       "      <td>0.866025</td>\n",
       "    </tr>\n",
       "  </tbody>\n",
       "</table>\n",
       "</div>"
      ],
      "text/plain": [
       "                     CO2E_EMISSIONS_FACTOR  minute_sin    minute_cos  \\\n",
       "2017-01-01 00:05:00               0.473708    0.500000  8.660254e-01   \n",
       "2017-01-01 00:10:00               1.047576    0.866025  5.000000e-01   \n",
       "2017-01-01 00:15:00               1.093190    1.000000  2.832769e-16   \n",
       "2017-01-01 00:20:00               0.681150    0.866025 -5.000000e-01   \n",
       "2017-01-01 00:25:00               0.708560    0.500000 -8.660254e-01   \n",
       "\n",
       "                     hour_sin  hour_cos  weekday_sin  weekday_cos  month_sin  \\\n",
       "2017-01-01 00:05:00       0.0       1.0     0.781831      0.62349        0.5   \n",
       "2017-01-01 00:10:00       0.0       1.0     0.781831      0.62349        0.5   \n",
       "2017-01-01 00:15:00       0.0       1.0     0.781831      0.62349        0.5   \n",
       "2017-01-01 00:20:00       0.0       1.0     0.781831      0.62349        0.5   \n",
       "2017-01-01 00:25:00       0.0       1.0     0.781831      0.62349        0.5   \n",
       "\n",
       "                     month_cos  \n",
       "2017-01-01 00:05:00   0.866025  \n",
       "2017-01-01 00:10:00   0.866025  \n",
       "2017-01-01 00:15:00   0.866025  \n",
       "2017-01-01 00:20:00   0.866025  \n",
       "2017-01-01 00:25:00   0.866025  "
      ]
     },
     "execution_count": 146,
     "metadata": {},
     "output_type": "execute_result"
    }
   ],
   "source": [
    "df_sub.head()"
   ]
  },
  {
   "cell_type": "code",
   "execution_count": 147,
   "metadata": {},
   "outputs": [],
   "source": [
    "df_sub = lag_horizon(df_sub, lag = 7, horizon = 3)"
   ]
  },
  {
   "cell_type": "code",
   "execution_count": 148,
   "metadata": {},
   "outputs": [
    {
     "data": {
      "text/html": [
       "<div>\n",
       "<style scoped>\n",
       "    .dataframe tbody tr th:only-of-type {\n",
       "        vertical-align: middle;\n",
       "    }\n",
       "\n",
       "    .dataframe tbody tr th {\n",
       "        vertical-align: top;\n",
       "    }\n",
       "\n",
       "    .dataframe thead th {\n",
       "        text-align: right;\n",
       "    }\n",
       "</style>\n",
       "<table border=\"1\" class=\"dataframe\">\n",
       "  <thead>\n",
       "    <tr style=\"text-align: right;\">\n",
       "      <th></th>\n",
       "      <th>CO2E_EMISSIONS_FACTOR</th>\n",
       "      <th>minute_sin</th>\n",
       "      <th>minute_cos</th>\n",
       "      <th>hour_sin</th>\n",
       "      <th>hour_cos</th>\n",
       "      <th>weekday_sin</th>\n",
       "      <th>weekday_cos</th>\n",
       "      <th>month_sin</th>\n",
       "      <th>month_cos</th>\n",
       "      <th>features</th>\n",
       "      <th>target</th>\n",
       "    </tr>\n",
       "  </thead>\n",
       "  <tbody>\n",
       "    <tr>\n",
       "      <td>2019-08-01 02:50:00</td>\n",
       "      <td>0.459168</td>\n",
       "      <td>-8.660254e-01</td>\n",
       "      <td>5.000000e-01</td>\n",
       "      <td>0.500000</td>\n",
       "      <td>0.866025</td>\n",
       "      <td>0.0</td>\n",
       "      <td>1.0</td>\n",
       "      <td>-0.866025</td>\n",
       "      <td>-0.5</td>\n",
       "      <td>[0.4591678, 0.0, 0.45640854, 0.57343625, 0.573...</td>\n",
       "      <td>[0.0, 0.57343625, 0.57343625]</td>\n",
       "    </tr>\n",
       "    <tr>\n",
       "      <td>2019-08-01 02:55:00</td>\n",
       "      <td>0.000000</td>\n",
       "      <td>-5.000000e-01</td>\n",
       "      <td>8.660254e-01</td>\n",
       "      <td>0.500000</td>\n",
       "      <td>0.866025</td>\n",
       "      <td>0.0</td>\n",
       "      <td>1.0</td>\n",
       "      <td>-0.866025</td>\n",
       "      <td>-0.5</td>\n",
       "      <td>[0.0, 0.45640854, 0.57343625, 0.57343625, 0.57...</td>\n",
       "      <td>[0.57343625, 0.57343625, 0.57343625]</td>\n",
       "    </tr>\n",
       "    <tr>\n",
       "      <td>2019-08-01 03:00:00</td>\n",
       "      <td>0.456409</td>\n",
       "      <td>0.000000e+00</td>\n",
       "      <td>1.000000e+00</td>\n",
       "      <td>0.707107</td>\n",
       "      <td>0.707107</td>\n",
       "      <td>0.0</td>\n",
       "      <td>1.0</td>\n",
       "      <td>-0.866025</td>\n",
       "      <td>-0.5</td>\n",
       "      <td>[0.45640854, 0.57343625, 0.57343625, 0.5734362...</td>\n",
       "      <td>[0.57343625, 0.57343625, 0.57343625]</td>\n",
       "    </tr>\n",
       "    <tr>\n",
       "      <td>2019-08-01 03:05:00</td>\n",
       "      <td>0.573436</td>\n",
       "      <td>5.000000e-01</td>\n",
       "      <td>8.660254e-01</td>\n",
       "      <td>0.707107</td>\n",
       "      <td>0.707107</td>\n",
       "      <td>0.0</td>\n",
       "      <td>1.0</td>\n",
       "      <td>-0.866025</td>\n",
       "      <td>-0.5</td>\n",
       "      <td>[0.57343625, 0.57343625, 0.57343625, 0.5734362...</td>\n",
       "      <td>[0.57343625, 0.57343625, 0.45640854]</td>\n",
       "    </tr>\n",
       "    <tr>\n",
       "      <td>2019-08-01 03:10:00</td>\n",
       "      <td>0.573436</td>\n",
       "      <td>8.660254e-01</td>\n",
       "      <td>5.000000e-01</td>\n",
       "      <td>0.707107</td>\n",
       "      <td>0.707107</td>\n",
       "      <td>0.0</td>\n",
       "      <td>1.0</td>\n",
       "      <td>-0.866025</td>\n",
       "      <td>-0.5</td>\n",
       "      <td>[0.57343625, 0.57343625, 0.57343625, 0.0, 0.57...</td>\n",
       "      <td>[0.57343625, 0.45640854, 0.38034045]</td>\n",
       "    </tr>\n",
       "    <tr>\n",
       "      <td>2019-08-01 03:15:00</td>\n",
       "      <td>0.573436</td>\n",
       "      <td>1.000000e+00</td>\n",
       "      <td>2.832769e-16</td>\n",
       "      <td>0.707107</td>\n",
       "      <td>0.707107</td>\n",
       "      <td>0.0</td>\n",
       "      <td>1.0</td>\n",
       "      <td>-0.866025</td>\n",
       "      <td>-0.5</td>\n",
       "      <td>[0.57343625, 0.57343625, 0.0, 0.57343625, 0.57...</td>\n",
       "      <td>NaN</td>\n",
       "    </tr>\n",
       "    <tr>\n",
       "      <td>2019-08-01 03:20:00</td>\n",
       "      <td>0.573436</td>\n",
       "      <td>8.660254e-01</td>\n",
       "      <td>-5.000000e-01</td>\n",
       "      <td>0.707107</td>\n",
       "      <td>0.707107</td>\n",
       "      <td>0.0</td>\n",
       "      <td>1.0</td>\n",
       "      <td>-0.866025</td>\n",
       "      <td>-0.5</td>\n",
       "      <td>[0.57343625, 0.0, 0.57343625, 0.57343625, 0.57...</td>\n",
       "      <td>NaN</td>\n",
       "    </tr>\n",
       "    <tr>\n",
       "      <td>2019-08-01 03:25:00</td>\n",
       "      <td>0.000000</td>\n",
       "      <td>5.000000e-01</td>\n",
       "      <td>-8.660254e-01</td>\n",
       "      <td>0.707107</td>\n",
       "      <td>0.707107</td>\n",
       "      <td>0.0</td>\n",
       "      <td>1.0</td>\n",
       "      <td>-0.866025</td>\n",
       "      <td>-0.5</td>\n",
       "      <td>NaN</td>\n",
       "      <td>NaN</td>\n",
       "    </tr>\n",
       "    <tr>\n",
       "      <td>2019-08-01 03:30:00</td>\n",
       "      <td>0.573436</td>\n",
       "      <td>5.665539e-16</td>\n",
       "      <td>-1.000000e+00</td>\n",
       "      <td>0.707107</td>\n",
       "      <td>0.707107</td>\n",
       "      <td>0.0</td>\n",
       "      <td>1.0</td>\n",
       "      <td>-0.866025</td>\n",
       "      <td>-0.5</td>\n",
       "      <td>NaN</td>\n",
       "      <td>NaN</td>\n",
       "    </tr>\n",
       "    <tr>\n",
       "      <td>2019-08-01 03:35:00</td>\n",
       "      <td>0.573436</td>\n",
       "      <td>-5.000000e-01</td>\n",
       "      <td>-8.660254e-01</td>\n",
       "      <td>0.707107</td>\n",
       "      <td>0.707107</td>\n",
       "      <td>0.0</td>\n",
       "      <td>1.0</td>\n",
       "      <td>-0.866025</td>\n",
       "      <td>-0.5</td>\n",
       "      <td>NaN</td>\n",
       "      <td>NaN</td>\n",
       "    </tr>\n",
       "    <tr>\n",
       "      <td>2019-08-01 03:40:00</td>\n",
       "      <td>0.573436</td>\n",
       "      <td>-8.660254e-01</td>\n",
       "      <td>-5.000000e-01</td>\n",
       "      <td>0.707107</td>\n",
       "      <td>0.707107</td>\n",
       "      <td>0.0</td>\n",
       "      <td>1.0</td>\n",
       "      <td>-0.866025</td>\n",
       "      <td>-0.5</td>\n",
       "      <td>NaN</td>\n",
       "      <td>NaN</td>\n",
       "    </tr>\n",
       "    <tr>\n",
       "      <td>2019-08-01 03:45:00</td>\n",
       "      <td>0.573436</td>\n",
       "      <td>-1.000000e+00</td>\n",
       "      <td>-1.836970e-16</td>\n",
       "      <td>0.707107</td>\n",
       "      <td>0.707107</td>\n",
       "      <td>0.0</td>\n",
       "      <td>1.0</td>\n",
       "      <td>-0.866025</td>\n",
       "      <td>-0.5</td>\n",
       "      <td>NaN</td>\n",
       "      <td>NaN</td>\n",
       "    </tr>\n",
       "    <tr>\n",
       "      <td>2019-08-01 03:50:00</td>\n",
       "      <td>0.456409</td>\n",
       "      <td>-8.660254e-01</td>\n",
       "      <td>5.000000e-01</td>\n",
       "      <td>0.707107</td>\n",
       "      <td>0.707107</td>\n",
       "      <td>0.0</td>\n",
       "      <td>1.0</td>\n",
       "      <td>-0.866025</td>\n",
       "      <td>-0.5</td>\n",
       "      <td>NaN</td>\n",
       "      <td>NaN</td>\n",
       "    </tr>\n",
       "    <tr>\n",
       "      <td>2019-08-01 03:55:00</td>\n",
       "      <td>0.380340</td>\n",
       "      <td>-5.000000e-01</td>\n",
       "      <td>8.660254e-01</td>\n",
       "      <td>0.707107</td>\n",
       "      <td>0.707107</td>\n",
       "      <td>0.0</td>\n",
       "      <td>1.0</td>\n",
       "      <td>-0.866025</td>\n",
       "      <td>-0.5</td>\n",
       "      <td>NaN</td>\n",
       "      <td>NaN</td>\n",
       "    </tr>\n",
       "  </tbody>\n",
       "</table>\n",
       "</div>"
      ],
      "text/plain": [
       "                     CO2E_EMISSIONS_FACTOR    minute_sin    minute_cos  \\\n",
       "2019-08-01 02:50:00               0.459168 -8.660254e-01  5.000000e-01   \n",
       "2019-08-01 02:55:00               0.000000 -5.000000e-01  8.660254e-01   \n",
       "2019-08-01 03:00:00               0.456409  0.000000e+00  1.000000e+00   \n",
       "2019-08-01 03:05:00               0.573436  5.000000e-01  8.660254e-01   \n",
       "2019-08-01 03:10:00               0.573436  8.660254e-01  5.000000e-01   \n",
       "2019-08-01 03:15:00               0.573436  1.000000e+00  2.832769e-16   \n",
       "2019-08-01 03:20:00               0.573436  8.660254e-01 -5.000000e-01   \n",
       "2019-08-01 03:25:00               0.000000  5.000000e-01 -8.660254e-01   \n",
       "2019-08-01 03:30:00               0.573436  5.665539e-16 -1.000000e+00   \n",
       "2019-08-01 03:35:00               0.573436 -5.000000e-01 -8.660254e-01   \n",
       "2019-08-01 03:40:00               0.573436 -8.660254e-01 -5.000000e-01   \n",
       "2019-08-01 03:45:00               0.573436 -1.000000e+00 -1.836970e-16   \n",
       "2019-08-01 03:50:00               0.456409 -8.660254e-01  5.000000e-01   \n",
       "2019-08-01 03:55:00               0.380340 -5.000000e-01  8.660254e-01   \n",
       "\n",
       "                     hour_sin  hour_cos  weekday_sin  weekday_cos  month_sin  \\\n",
       "2019-08-01 02:50:00  0.500000  0.866025          0.0          1.0  -0.866025   \n",
       "2019-08-01 02:55:00  0.500000  0.866025          0.0          1.0  -0.866025   \n",
       "2019-08-01 03:00:00  0.707107  0.707107          0.0          1.0  -0.866025   \n",
       "2019-08-01 03:05:00  0.707107  0.707107          0.0          1.0  -0.866025   \n",
       "2019-08-01 03:10:00  0.707107  0.707107          0.0          1.0  -0.866025   \n",
       "2019-08-01 03:15:00  0.707107  0.707107          0.0          1.0  -0.866025   \n",
       "2019-08-01 03:20:00  0.707107  0.707107          0.0          1.0  -0.866025   \n",
       "2019-08-01 03:25:00  0.707107  0.707107          0.0          1.0  -0.866025   \n",
       "2019-08-01 03:30:00  0.707107  0.707107          0.0          1.0  -0.866025   \n",
       "2019-08-01 03:35:00  0.707107  0.707107          0.0          1.0  -0.866025   \n",
       "2019-08-01 03:40:00  0.707107  0.707107          0.0          1.0  -0.866025   \n",
       "2019-08-01 03:45:00  0.707107  0.707107          0.0          1.0  -0.866025   \n",
       "2019-08-01 03:50:00  0.707107  0.707107          0.0          1.0  -0.866025   \n",
       "2019-08-01 03:55:00  0.707107  0.707107          0.0          1.0  -0.866025   \n",
       "\n",
       "                     month_cos  \\\n",
       "2019-08-01 02:50:00       -0.5   \n",
       "2019-08-01 02:55:00       -0.5   \n",
       "2019-08-01 03:00:00       -0.5   \n",
       "2019-08-01 03:05:00       -0.5   \n",
       "2019-08-01 03:10:00       -0.5   \n",
       "2019-08-01 03:15:00       -0.5   \n",
       "2019-08-01 03:20:00       -0.5   \n",
       "2019-08-01 03:25:00       -0.5   \n",
       "2019-08-01 03:30:00       -0.5   \n",
       "2019-08-01 03:35:00       -0.5   \n",
       "2019-08-01 03:40:00       -0.5   \n",
       "2019-08-01 03:45:00       -0.5   \n",
       "2019-08-01 03:50:00       -0.5   \n",
       "2019-08-01 03:55:00       -0.5   \n",
       "\n",
       "                                                              features  \\\n",
       "2019-08-01 02:50:00  [0.4591678, 0.0, 0.45640854, 0.57343625, 0.573...   \n",
       "2019-08-01 02:55:00  [0.0, 0.45640854, 0.57343625, 0.57343625, 0.57...   \n",
       "2019-08-01 03:00:00  [0.45640854, 0.57343625, 0.57343625, 0.5734362...   \n",
       "2019-08-01 03:05:00  [0.57343625, 0.57343625, 0.57343625, 0.5734362...   \n",
       "2019-08-01 03:10:00  [0.57343625, 0.57343625, 0.57343625, 0.0, 0.57...   \n",
       "2019-08-01 03:15:00  [0.57343625, 0.57343625, 0.0, 0.57343625, 0.57...   \n",
       "2019-08-01 03:20:00  [0.57343625, 0.0, 0.57343625, 0.57343625, 0.57...   \n",
       "2019-08-01 03:25:00                                                NaN   \n",
       "2019-08-01 03:30:00                                                NaN   \n",
       "2019-08-01 03:35:00                                                NaN   \n",
       "2019-08-01 03:40:00                                                NaN   \n",
       "2019-08-01 03:45:00                                                NaN   \n",
       "2019-08-01 03:50:00                                                NaN   \n",
       "2019-08-01 03:55:00                                                NaN   \n",
       "\n",
       "                                                   target  \n",
       "2019-08-01 02:50:00         [0.0, 0.57343625, 0.57343625]  \n",
       "2019-08-01 02:55:00  [0.57343625, 0.57343625, 0.57343625]  \n",
       "2019-08-01 03:00:00  [0.57343625, 0.57343625, 0.57343625]  \n",
       "2019-08-01 03:05:00  [0.57343625, 0.57343625, 0.45640854]  \n",
       "2019-08-01 03:10:00  [0.57343625, 0.45640854, 0.38034045]  \n",
       "2019-08-01 03:15:00                                   NaN  \n",
       "2019-08-01 03:20:00                                   NaN  \n",
       "2019-08-01 03:25:00                                   NaN  \n",
       "2019-08-01 03:30:00                                   NaN  \n",
       "2019-08-01 03:35:00                                   NaN  \n",
       "2019-08-01 03:40:00                                   NaN  \n",
       "2019-08-01 03:45:00                                   NaN  \n",
       "2019-08-01 03:50:00                                   NaN  \n",
       "2019-08-01 03:55:00                                   NaN  "
      ]
     },
     "execution_count": 148,
     "metadata": {},
     "output_type": "execute_result"
    }
   ],
   "source": [
    "df_sub.iloc[-14:]"
   ]
  },
  {
   "cell_type": "code",
   "execution_count": 149,
   "metadata": {},
   "outputs": [
    {
     "name": "stdout",
     "output_type": "stream",
     "text": [
      "<class 'numpy.ndarray'>\n",
      "<class 'numpy.ndarray'>\n"
     ]
    },
    {
     "data": {
      "text/plain": [
       "array([array([0.57343625, 0.57343625, 0.57343625, 0.        , 0.57343625,\n",
       "       0.57343625, 0.57343625])], dtype=object)"
      ]
     },
     "execution_count": 149,
     "metadata": {},
     "output_type": "execute_result"
    }
   ],
   "source": [
    "print(type(df_sub.iloc[-10:-9].target.values))\n",
    "print(type(df_sub.iloc[-10:-9].features.values))\n",
    "df_sub.iloc[-10:-9].features.values"
   ]
  },
  {
   "cell_type": "code",
   "execution_count": 150,
   "metadata": {},
   "outputs": [
    {
     "data": {
      "text/plain": [
       "CO2E_EMISSIONS_FACTOR    False\n",
       "minute_sin               False\n",
       "minute_cos               False\n",
       "hour_sin                 False\n",
       "hour_cos                 False\n",
       "weekday_sin              False\n",
       "weekday_cos              False\n",
       "month_sin                False\n",
       "month_cos                False\n",
       "features                  True\n",
       "target                    True\n",
       "dtype: bool"
      ]
     },
     "execution_count": 150,
     "metadata": {},
     "output_type": "execute_result"
    }
   ],
   "source": [
    "df_sub.isna().any()"
   ]
  },
  {
   "cell_type": "code",
   "execution_count": 151,
   "metadata": {},
   "outputs": [
    {
     "data": {
      "text/html": [
       "<div>\n",
       "<style scoped>\n",
       "    .dataframe tbody tr th:only-of-type {\n",
       "        vertical-align: middle;\n",
       "    }\n",
       "\n",
       "    .dataframe tbody tr th {\n",
       "        vertical-align: top;\n",
       "    }\n",
       "\n",
       "    .dataframe thead th {\n",
       "        text-align: right;\n",
       "    }\n",
       "</style>\n",
       "<table border=\"1\" class=\"dataframe\">\n",
       "  <thead>\n",
       "    <tr style=\"text-align: right;\">\n",
       "      <th></th>\n",
       "      <th>CO2E_EMISSIONS_FACTOR</th>\n",
       "      <th>minute_sin</th>\n",
       "      <th>minute_cos</th>\n",
       "      <th>hour_sin</th>\n",
       "      <th>hour_cos</th>\n",
       "      <th>weekday_sin</th>\n",
       "      <th>weekday_cos</th>\n",
       "      <th>month_sin</th>\n",
       "      <th>month_cos</th>\n",
       "      <th>features</th>\n",
       "      <th>target</th>\n",
       "    </tr>\n",
       "  </thead>\n",
       "  <tbody>\n",
       "    <tr>\n",
       "      <td>2018-06-15</td>\n",
       "      <td>-1.0</td>\n",
       "      <td>0.0</td>\n",
       "      <td>1.0</td>\n",
       "      <td>0.0</td>\n",
       "      <td>1.0</td>\n",
       "      <td>0.0</td>\n",
       "      <td>1.0</td>\n",
       "      <td>1.224647e-16</td>\n",
       "      <td>-1.0</td>\n",
       "      <td>[-1.0, -1.0, -1.0, -1.0, -1.0, -1.0, -1.0]</td>\n",
       "      <td>[-1.0, -1.0, -1.0]</td>\n",
       "    </tr>\n",
       "  </tbody>\n",
       "</table>\n",
       "</div>"
      ],
      "text/plain": [
       "            CO2E_EMISSIONS_FACTOR  minute_sin  minute_cos  hour_sin  hour_cos  \\\n",
       "2018-06-15                   -1.0         0.0         1.0       0.0       1.0   \n",
       "\n",
       "            weekday_sin  weekday_cos     month_sin  month_cos  \\\n",
       "2018-06-15          0.0          1.0  1.224647e-16       -1.0   \n",
       "\n",
       "                                              features              target  \n",
       "2018-06-15  [-1.0, -1.0, -1.0, -1.0, -1.0, -1.0, -1.0]  [-1.0, -1.0, -1.0]  "
      ]
     },
     "execution_count": 151,
     "metadata": {},
     "output_type": "execute_result"
    }
   ],
   "source": [
    "df_sub[df_sub.index == dt.datetime(2018,6,15)]"
   ]
  },
  {
   "cell_type": "code",
   "execution_count": null,
   "metadata": {},
   "outputs": [],
   "source": []
  },
  {
   "cell_type": "code",
   "execution_count": null,
   "metadata": {},
   "outputs": [],
   "source": []
  },
  {
   "cell_type": "code",
   "execution_count": null,
   "metadata": {},
   "outputs": [],
   "source": []
  },
  {
   "cell_type": "code",
   "execution_count": null,
   "metadata": {},
   "outputs": [],
   "source": []
  },
  {
   "cell_type": "code",
   "execution_count": null,
   "metadata": {},
   "outputs": [],
   "source": []
  },
  {
   "cell_type": "code",
   "execution_count": null,
   "metadata": {},
   "outputs": [],
   "source": []
  },
  {
   "cell_type": "code",
   "execution_count": null,
   "metadata": {},
   "outputs": [],
   "source": []
  },
  {
   "cell_type": "code",
   "execution_count": null,
   "metadata": {},
   "outputs": [],
   "source": []
  },
  {
   "cell_type": "code",
   "execution_count": null,
   "metadata": {},
   "outputs": [],
   "source": []
  },
  {
   "cell_type": "code",
   "execution_count": 65,
   "metadata": {},
   "outputs": [],
   "source": [
    "#from sklearn.model_selection import train_test_split"
   ]
  },
  {
   "cell_type": "code",
   "execution_count": 73,
   "metadata": {},
   "outputs": [],
   "source": [
    "#X = df_sub.drop(\"target\", axis=1)\n",
    "#y= df_sub[\"target\"]"
   ]
  },
  {
   "cell_type": "code",
   "execution_count": 74,
   "metadata": {},
   "outputs": [],
   "source": [
    "#X_train, X_test, y_train, y_test = train_test_split(X, y, test_size=0.33, random_state=42)"
   ]
  },
  {
   "cell_type": "code",
   "execution_count": null,
   "metadata": {},
   "outputs": [],
   "source": []
  },
  {
   "cell_type": "code",
   "execution_count": 125,
   "metadata": {},
   "outputs": [],
   "source": [
    "def train_test_ts(df, relative_train, maximal_lag):\n",
    "    '''\n",
    "    Time series (ts) split function creates a train/test set under consideration of potential overlap between the two due to lag processing\n",
    "    X_train, y_train, X_test, y_test = ...\n",
    "    df=must contain target column as \"target\"; all other columns must be used as features\n",
    "    percentage_train=how much of the total dataset shall be used for training; must be added between 0 - 1\n",
    "    maximal_lag=out of all lag feature engineering, enter the maximal lag number\n",
    "    '''\n",
    "    k = int(df.shape[0] * relative_train)\n",
    "    data_train = df.iloc[:k,:]\n",
    "    #to avoid overlapping of train and test data, a gap of the maximal lag - 1 must be included between the two sets\n",
    "    data_test = df.iloc[k+maximal_lag:,:]\n",
    "    \n",
    "    assert data_train.index.max() < data_test.index.min()\n",
    "    \n",
    "    #returns in the sequence X_train, y_train, X_test, y_test\n",
    "    return data_train.drop(\"target\", axis=1), data_train[\"target\"], data_test.drop(\"target\", axis=1), data_test[\"target\"] #y_test"
   ]
  },
  {
   "cell_type": "code",
   "execution_count": 120,
   "metadata": {},
   "outputs": [],
   "source": [
    "df = df_sub\n",
    "relative_train = 0.8\n",
    "maximal_lag = 7\n",
    "\n",
    "k = int(df.shape[0] * relative_train)\n",
    "data_train = df.iloc[:k,:]\n",
    "#to avoid overlapping of train and test data, a gap of the maximal lag - 1 must be included between the two sets\n",
    "data_test = df.iloc[k+maximal_lag:,:]"
   ]
  },
  {
   "cell_type": "code",
   "execution_count": 127,
   "metadata": {},
   "outputs": [
    {
     "name": "stdout",
     "output_type": "stream",
     "text": [
      "2019-01-24 17:30:00\n",
      "2019-01-24 18:10:00\n"
     ]
    },
    {
     "data": {
      "text/plain": [
       "True"
      ]
     },
     "execution_count": 127,
     "metadata": {},
     "output_type": "execute_result"
    }
   ],
   "source": [
    "print(data_train.index.max())\n",
    "print(data_test.index.min())\n",
    "data_train.index.max() < data_test.index.min()"
   ]
  },
  {
   "cell_type": "code",
   "execution_count": 128,
   "metadata": {},
   "outputs": [],
   "source": [
    "X_train, y_train, X_test, y_test = train_test_ts(df_sub, 0.8, 7)"
   ]
  },
  {
   "cell_type": "code",
   "execution_count": 129,
   "metadata": {},
   "outputs": [
    {
     "name": "stdout",
     "output_type": "stream",
     "text": [
      "217074\n",
      "(217074, 10)\n",
      "2017-01-01 00:05:00\n",
      "2019-01-24 17:30:00\n",
      "(217074,)\n",
      "2017-01-01 00:05:00\n",
      "2019-01-24 17:30:00\n"
     ]
    }
   ],
   "source": [
    "c = int(df_sub.shape[0] * 0.8)\n",
    "print(c)\n",
    "\n",
    "print(X_train.shape)\n",
    "print(X_train.index.min())\n",
    "print(X_train.index.max())\n",
    "\n",
    "print(y_train.shape)\n",
    "print(y_train.index.min())\n",
    "print(y_train.index.max())"
   ]
  },
  {
   "cell_type": "code",
   "execution_count": 130,
   "metadata": {},
   "outputs": [
    {
     "name": "stdout",
     "output_type": "stream",
     "text": [
      "54268\n",
      "(54262, 10)\n",
      "2019-01-24 18:10:00\n",
      "2019-08-01 03:55:00\n",
      "(54262,)\n",
      "2019-01-24 18:10:00\n",
      "2019-08-01 03:55:00\n"
     ]
    }
   ],
   "source": [
    "c = int(df_sub.shape[0] * (1-0.8))\n",
    "print(c)\n",
    "\n",
    "print(X_test.shape)\n",
    "print(X_test.index.min())\n",
    "print(X_test.index.max())\n",
    "\n",
    "print(y_test.shape)\n",
    "print(y_test.index.min())\n",
    "print(y_test.index.max())"
   ]
  },
  {
   "cell_type": "code",
   "execution_count": null,
   "metadata": {},
   "outputs": [],
   "source": []
  }
 ],
 "metadata": {
  "kernelspec": {
   "display_name": "Python 3",
   "language": "python",
   "name": "python3"
  },
  "language_info": {
   "codemirror_mode": {
    "name": "ipython",
    "version": 3
   },
   "file_extension": ".py",
   "mimetype": "text/x-python",
   "name": "python",
   "nbconvert_exporter": "python",
   "pygments_lexer": "ipython3",
   "version": "3.6.8"
  }
 },
 "nbformat": 4,
 "nbformat_minor": 4
}
