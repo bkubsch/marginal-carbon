{
 "cells": [
  {
   "cell_type": "markdown",
   "metadata": {},
   "source": [
    "### __Introduction of additional non-time features__"
   ]
  },
  {
   "cell_type": "markdown",
   "metadata": {},
   "source": [
    "In this notebook, we will introduce further features which are likely to impact the marginal CO2 emissions. These include the electricity demand as well as the available generation.\n",
    "Moreover, the energy flow from generators of outside South Australia (remember that we filtered for South Australia in notebook 3) is added as a feature."
   ]
  },
  {
   "cell_type": "code",
   "execution_count": 37,
   "metadata": {},
   "outputs": [],
   "source": [
    "import numpy as np\n",
    "import pandas as pd"
   ]
  },
  {
   "cell_type": "code",
   "execution_count": 38,
   "metadata": {},
   "outputs": [
    {
     "data": {
      "text/html": [
       "<div>\n",
       "<style scoped>\n",
       "    .dataframe tbody tr th:only-of-type {\n",
       "        vertical-align: middle;\n",
       "    }\n",
       "\n",
       "    .dataframe tbody tr th {\n",
       "        vertical-align: top;\n",
       "    }\n",
       "\n",
       "    .dataframe thead th {\n",
       "        text-align: right;\n",
       "    }\n",
       "</style>\n",
       "<table border=\"1\" class=\"dataframe\">\n",
       "  <thead>\n",
       "    <tr style=\"text-align: right;\">\n",
       "      <th></th>\n",
       "      <th>CO2E_EMISSIONS_FACTOR</th>\n",
       "      <th>weekday</th>\n",
       "      <th>year</th>\n",
       "      <th>minute_sin</th>\n",
       "      <th>minute_cos</th>\n",
       "      <th>hour_sin</th>\n",
       "      <th>hour_cos</th>\n",
       "      <th>month_sin</th>\n",
       "      <th>month_cos</th>\n",
       "      <th>lag1</th>\n",
       "      <th>...</th>\n",
       "      <th>lag4</th>\n",
       "      <th>lag5</th>\n",
       "      <th>lag6</th>\n",
       "      <th>lag7</th>\n",
       "      <th>lag8</th>\n",
       "      <th>lag9</th>\n",
       "      <th>lag10</th>\n",
       "      <th>lag11</th>\n",
       "      <th>lag12</th>\n",
       "      <th>horizon0</th>\n",
       "    </tr>\n",
       "  </thead>\n",
       "  <tbody>\n",
       "    <tr>\n",
       "      <th>2009-07-01 04:00:00</th>\n",
       "      <td>0.991217</td>\n",
       "      <td>0</td>\n",
       "      <td>2009</td>\n",
       "      <td>0.000000</td>\n",
       "      <td>1.000000e+00</td>\n",
       "      <td>0.866025</td>\n",
       "      <td>0.5</td>\n",
       "      <td>-0.5</td>\n",
       "      <td>-0.866025</td>\n",
       "      <td>NaN</td>\n",
       "      <td>...</td>\n",
       "      <td>NaN</td>\n",
       "      <td>NaN</td>\n",
       "      <td>NaN</td>\n",
       "      <td>NaN</td>\n",
       "      <td>NaN</td>\n",
       "      <td>NaN</td>\n",
       "      <td>NaN</td>\n",
       "      <td>NaN</td>\n",
       "      <td>NaN</td>\n",
       "      <td>NaN</td>\n",
       "    </tr>\n",
       "    <tr>\n",
       "      <th>2009-07-01 04:05:00</th>\n",
       "      <td>0.000000</td>\n",
       "      <td>0</td>\n",
       "      <td>2009</td>\n",
       "      <td>0.500000</td>\n",
       "      <td>8.660254e-01</td>\n",
       "      <td>0.866025</td>\n",
       "      <td>0.5</td>\n",
       "      <td>-0.5</td>\n",
       "      <td>-0.866025</td>\n",
       "      <td>0.991217</td>\n",
       "      <td>...</td>\n",
       "      <td>NaN</td>\n",
       "      <td>NaN</td>\n",
       "      <td>NaN</td>\n",
       "      <td>NaN</td>\n",
       "      <td>NaN</td>\n",
       "      <td>NaN</td>\n",
       "      <td>NaN</td>\n",
       "      <td>NaN</td>\n",
       "      <td>NaN</td>\n",
       "      <td>NaN</td>\n",
       "    </tr>\n",
       "    <tr>\n",
       "      <th>2009-07-01 04:10:00</th>\n",
       "      <td>0.000000</td>\n",
       "      <td>0</td>\n",
       "      <td>2009</td>\n",
       "      <td>0.866025</td>\n",
       "      <td>5.000000e-01</td>\n",
       "      <td>0.866025</td>\n",
       "      <td>0.5</td>\n",
       "      <td>-0.5</td>\n",
       "      <td>-0.866025</td>\n",
       "      <td>0.000000</td>\n",
       "      <td>...</td>\n",
       "      <td>NaN</td>\n",
       "      <td>NaN</td>\n",
       "      <td>NaN</td>\n",
       "      <td>NaN</td>\n",
       "      <td>NaN</td>\n",
       "      <td>NaN</td>\n",
       "      <td>NaN</td>\n",
       "      <td>NaN</td>\n",
       "      <td>NaN</td>\n",
       "      <td>NaN</td>\n",
       "    </tr>\n",
       "    <tr>\n",
       "      <th>2009-07-01 04:15:00</th>\n",
       "      <td>0.991217</td>\n",
       "      <td>0</td>\n",
       "      <td>2009</td>\n",
       "      <td>1.000000</td>\n",
       "      <td>2.832769e-16</td>\n",
       "      <td>0.866025</td>\n",
       "      <td>0.5</td>\n",
       "      <td>-0.5</td>\n",
       "      <td>-0.866025</td>\n",
       "      <td>0.000000</td>\n",
       "      <td>...</td>\n",
       "      <td>NaN</td>\n",
       "      <td>NaN</td>\n",
       "      <td>NaN</td>\n",
       "      <td>NaN</td>\n",
       "      <td>NaN</td>\n",
       "      <td>NaN</td>\n",
       "      <td>NaN</td>\n",
       "      <td>NaN</td>\n",
       "      <td>NaN</td>\n",
       "      <td>NaN</td>\n",
       "    </tr>\n",
       "    <tr>\n",
       "      <th>2009-07-01 04:20:00</th>\n",
       "      <td>1.025701</td>\n",
       "      <td>0</td>\n",
       "      <td>2009</td>\n",
       "      <td>0.866025</td>\n",
       "      <td>-5.000000e-01</td>\n",
       "      <td>0.866025</td>\n",
       "      <td>0.5</td>\n",
       "      <td>-0.5</td>\n",
       "      <td>-0.866025</td>\n",
       "      <td>0.991217</td>\n",
       "      <td>...</td>\n",
       "      <td>0.991217</td>\n",
       "      <td>NaN</td>\n",
       "      <td>NaN</td>\n",
       "      <td>NaN</td>\n",
       "      <td>NaN</td>\n",
       "      <td>NaN</td>\n",
       "      <td>NaN</td>\n",
       "      <td>NaN</td>\n",
       "      <td>NaN</td>\n",
       "      <td>NaN</td>\n",
       "    </tr>\n",
       "  </tbody>\n",
       "</table>\n",
       "<p>5 rows × 22 columns</p>\n",
       "</div>"
      ],
      "text/plain": [
       "                     CO2E_EMISSIONS_FACTOR  weekday  year  minute_sin  \\\n",
       "2009-07-01 04:00:00               0.991217        0  2009    0.000000   \n",
       "2009-07-01 04:05:00               0.000000        0  2009    0.500000   \n",
       "2009-07-01 04:10:00               0.000000        0  2009    0.866025   \n",
       "2009-07-01 04:15:00               0.991217        0  2009    1.000000   \n",
       "2009-07-01 04:20:00               1.025701        0  2009    0.866025   \n",
       "\n",
       "                       minute_cos  hour_sin  hour_cos  month_sin  month_cos  \\\n",
       "2009-07-01 04:00:00  1.000000e+00  0.866025       0.5       -0.5  -0.866025   \n",
       "2009-07-01 04:05:00  8.660254e-01  0.866025       0.5       -0.5  -0.866025   \n",
       "2009-07-01 04:10:00  5.000000e-01  0.866025       0.5       -0.5  -0.866025   \n",
       "2009-07-01 04:15:00  2.832769e-16  0.866025       0.5       -0.5  -0.866025   \n",
       "2009-07-01 04:20:00 -5.000000e-01  0.866025       0.5       -0.5  -0.866025   \n",
       "\n",
       "                         lag1  ...      lag4  lag5  lag6  lag7  lag8  lag9  \\\n",
       "2009-07-01 04:00:00       NaN  ...       NaN   NaN   NaN   NaN   NaN   NaN   \n",
       "2009-07-01 04:05:00  0.991217  ...       NaN   NaN   NaN   NaN   NaN   NaN   \n",
       "2009-07-01 04:10:00  0.000000  ...       NaN   NaN   NaN   NaN   NaN   NaN   \n",
       "2009-07-01 04:15:00  0.000000  ...       NaN   NaN   NaN   NaN   NaN   NaN   \n",
       "2009-07-01 04:20:00  0.991217  ...  0.991217   NaN   NaN   NaN   NaN   NaN   \n",
       "\n",
       "                     lag10  lag11  lag12  horizon0  \n",
       "2009-07-01 04:00:00    NaN    NaN    NaN       NaN  \n",
       "2009-07-01 04:05:00    NaN    NaN    NaN       NaN  \n",
       "2009-07-01 04:10:00    NaN    NaN    NaN       NaN  \n",
       "2009-07-01 04:15:00    NaN    NaN    NaN       NaN  \n",
       "2009-07-01 04:20:00    NaN    NaN    NaN       NaN  \n",
       "\n",
       "[5 rows x 22 columns]"
      ]
     },
     "execution_count": 38,
     "metadata": {},
     "output_type": "execute_result"
    }
   ],
   "source": [
    "df = pd.read_pickle('../../big_data/train_time_features.pkl')\n",
    "df.head()"
   ]
  },
  {
   "cell_type": "code",
   "execution_count": 39,
   "metadata": {},
   "outputs": [
    {
     "data": {
      "text/html": [
       "<div>\n",
       "<style scoped>\n",
       "    .dataframe tbody tr th:only-of-type {\n",
       "        vertical-align: middle;\n",
       "    }\n",
       "\n",
       "    .dataframe tbody tr th {\n",
       "        vertical-align: top;\n",
       "    }\n",
       "\n",
       "    .dataframe thead th {\n",
       "        text-align: right;\n",
       "    }\n",
       "</style>\n",
       "<table border=\"1\" class=\"dataframe\">\n",
       "  <thead>\n",
       "    <tr style=\"text-align: right;\">\n",
       "      <th></th>\n",
       "      <th>TOTALDEMAND</th>\n",
       "      <th>AVAILABLEGENERATION</th>\n",
       "    </tr>\n",
       "    <tr>\n",
       "      <th>start-of-interval</th>\n",
       "      <th></th>\n",
       "      <th></th>\n",
       "    </tr>\n",
       "  </thead>\n",
       "  <tbody>\n",
       "    <tr>\n",
       "      <th>2009-07-01 04:00:00</th>\n",
       "      <td>1004.32</td>\n",
       "      <td>3043.771</td>\n",
       "    </tr>\n",
       "    <tr>\n",
       "      <th>2009-07-01 04:05:00</th>\n",
       "      <td>1007.58</td>\n",
       "      <td>3043.694</td>\n",
       "    </tr>\n",
       "    <tr>\n",
       "      <th>2009-07-01 04:10:00</th>\n",
       "      <td>1019.33</td>\n",
       "      <td>3045.307</td>\n",
       "    </tr>\n",
       "    <tr>\n",
       "      <th>2009-07-01 04:15:00</th>\n",
       "      <td>1025.24</td>\n",
       "      <td>3045.436</td>\n",
       "    </tr>\n",
       "    <tr>\n",
       "      <th>2009-07-01 04:20:00</th>\n",
       "      <td>1050.50</td>\n",
       "      <td>3043.964</td>\n",
       "    </tr>\n",
       "  </tbody>\n",
       "</table>\n",
       "</div>"
      ],
      "text/plain": [
       "                     TOTALDEMAND  AVAILABLEGENERATION\n",
       "start-of-interval                                    \n",
       "2009-07-01 04:00:00      1004.32             3043.771\n",
       "2009-07-01 04:05:00      1007.58             3043.694\n",
       "2009-07-01 04:10:00      1019.33             3045.307\n",
       "2009-07-01 04:15:00      1025.24             3045.436\n",
       "2009-07-01 04:20:00      1050.50             3043.964"
      ]
     },
     "execution_count": 39,
     "metadata": {},
     "output_type": "execute_result"
    }
   ],
   "source": [
    "demand = pd.read_csv('../../big_data/demand.csv', index_col=-1, parse_dates=True)\n",
    "demand.drop(columns=[\"SETTLEMENTDATE\", \"I\", \"INTERVENTION\"], inplace=True)\n",
    "demand = demand[(demand.index >= df.index.min()) & (demand.index <= df.index.max())]\n",
    "\n",
    "assert demand.index.min() == df.index.min()\n",
    "assert demand.index.max() == df.index.max()\n",
    "\n",
    "demand.head()"
   ]
  },
  {
   "cell_type": "code",
   "execution_count": 40,
   "metadata": {},
   "outputs": [
    {
     "name": "stdout",
     "output_type": "stream",
     "text": [
      "2009-07-01 04:00:00\n",
      "2018-05-31 23:55:00\n",
      "2009-07-01 04:00:00\n",
      "2018-05-31 23:55:00\n"
     ]
    }
   ],
   "source": [
    "print(demand.index.min())\n",
    "print(demand.index.max())\n",
    "\n",
    "print(df.index.min())\n",
    "print(df.index.max())"
   ]
  },
  {
   "cell_type": "markdown",
   "metadata": {},
   "source": [
    "### __Checking for regular time granularity (5 min) in the demand dataset__"
   ]
  },
  {
   "cell_type": "markdown",
   "metadata": {},
   "source": [
    "In order to check if our demand dataset contains any gaps, we first generate a datarange reflecting the min and max values of the demand datetimeindex."
   ]
  },
  {
   "cell_type": "code",
   "execution_count": 41,
   "metadata": {},
   "outputs": [
    {
     "data": {
      "text/plain": [
       "937968"
      ]
     },
     "execution_count": 41,
     "metadata": {},
     "output_type": "execute_result"
    }
   ],
   "source": [
    "len(pd.date_range(start=demand.index.min(), end=demand.index.max(), freq=\"5min\"))"
   ]
  },
  {
   "cell_type": "code",
   "execution_count": 42,
   "metadata": {},
   "outputs": [
    {
     "name": "stdout",
     "output_type": "stream",
     "text": [
      "1    937968\n",
      "Name: TOTALDEMAND, dtype: int64\n",
      "1    937968\n",
      "Name: AVAILABLEGENERATION, dtype: int64\n"
     ]
    }
   ],
   "source": [
    "test = demand.groupby(demand.index).agg({\"TOTALDEMAND\": \"nunique\",\"AVAILABLEGENERATION\":\"nunique\"})\n",
    "print(test.TOTALDEMAND.value_counts()) \n",
    "print(test.AVAILABLEGENERATION.value_counts())\n",
    "\n",
    "#all TOTALDEMANDS and AVAILABLEGENERATION are unique"
   ]
  },
  {
   "cell_type": "markdown",
   "metadata": {},
   "source": [
    "The number of rows corresponds the the length of our hypothetical daterange (cell above). Hence we can conclude that no gaps are present in the dataset."
   ]
  },
  {
   "cell_type": "markdown",
   "metadata": {},
   "source": [
    "### __Addition of non-time features__"
   ]
  },
  {
   "cell_type": "markdown",
   "metadata": {},
   "source": [
    "Note that the feature of available generation is introduced in a feature-engineered fashion together with the total demand feature. In that way, it reflects how far the energy grid is used to capacity."
   ]
  },
  {
   "cell_type": "code",
   "execution_count": 43,
   "metadata": {},
   "outputs": [],
   "source": [
    "demand = demand.groupby(demand.index).mean()"
   ]
  },
  {
   "cell_type": "code",
   "execution_count": 44,
   "metadata": {},
   "outputs": [],
   "source": [
    "df[\"demand\"] = demand.TOTALDEMAND\n",
    "df[\"demand_capacity\"] = demand.TOTALDEMAND/demand.AVAILABLEGENERATION"
   ]
  },
  {
   "cell_type": "code",
   "execution_count": 45,
   "metadata": {},
   "outputs": [
    {
     "name": "stdout",
     "output_type": "stream",
     "text": [
      "(937968, 24)\n"
     ]
    },
    {
     "data": {
      "text/html": [
       "<div>\n",
       "<style scoped>\n",
       "    .dataframe tbody tr th:only-of-type {\n",
       "        vertical-align: middle;\n",
       "    }\n",
       "\n",
       "    .dataframe tbody tr th {\n",
       "        vertical-align: top;\n",
       "    }\n",
       "\n",
       "    .dataframe thead th {\n",
       "        text-align: right;\n",
       "    }\n",
       "</style>\n",
       "<table border=\"1\" class=\"dataframe\">\n",
       "  <thead>\n",
       "    <tr style=\"text-align: right;\">\n",
       "      <th></th>\n",
       "      <th>CO2E_EMISSIONS_FACTOR</th>\n",
       "      <th>weekday</th>\n",
       "      <th>year</th>\n",
       "      <th>minute_sin</th>\n",
       "      <th>minute_cos</th>\n",
       "      <th>hour_sin</th>\n",
       "      <th>hour_cos</th>\n",
       "      <th>month_sin</th>\n",
       "      <th>month_cos</th>\n",
       "      <th>lag1</th>\n",
       "      <th>...</th>\n",
       "      <th>lag6</th>\n",
       "      <th>lag7</th>\n",
       "      <th>lag8</th>\n",
       "      <th>lag9</th>\n",
       "      <th>lag10</th>\n",
       "      <th>lag11</th>\n",
       "      <th>lag12</th>\n",
       "      <th>horizon0</th>\n",
       "      <th>demand</th>\n",
       "      <th>demand_capacity</th>\n",
       "    </tr>\n",
       "  </thead>\n",
       "  <tbody>\n",
       "    <tr>\n",
       "      <th>2009-07-01 04:00:00</th>\n",
       "      <td>0.991217</td>\n",
       "      <td>0</td>\n",
       "      <td>2009</td>\n",
       "      <td>0.000000</td>\n",
       "      <td>1.000000e+00</td>\n",
       "      <td>0.866025</td>\n",
       "      <td>0.5</td>\n",
       "      <td>-0.5</td>\n",
       "      <td>-0.866025</td>\n",
       "      <td>NaN</td>\n",
       "      <td>...</td>\n",
       "      <td>NaN</td>\n",
       "      <td>NaN</td>\n",
       "      <td>NaN</td>\n",
       "      <td>NaN</td>\n",
       "      <td>NaN</td>\n",
       "      <td>NaN</td>\n",
       "      <td>NaN</td>\n",
       "      <td>NaN</td>\n",
       "      <td>1004.32</td>\n",
       "      <td>0.329959</td>\n",
       "    </tr>\n",
       "    <tr>\n",
       "      <th>2009-07-01 04:05:00</th>\n",
       "      <td>0.000000</td>\n",
       "      <td>0</td>\n",
       "      <td>2009</td>\n",
       "      <td>0.500000</td>\n",
       "      <td>8.660254e-01</td>\n",
       "      <td>0.866025</td>\n",
       "      <td>0.5</td>\n",
       "      <td>-0.5</td>\n",
       "      <td>-0.866025</td>\n",
       "      <td>0.991217</td>\n",
       "      <td>...</td>\n",
       "      <td>NaN</td>\n",
       "      <td>NaN</td>\n",
       "      <td>NaN</td>\n",
       "      <td>NaN</td>\n",
       "      <td>NaN</td>\n",
       "      <td>NaN</td>\n",
       "      <td>NaN</td>\n",
       "      <td>NaN</td>\n",
       "      <td>1007.58</td>\n",
       "      <td>0.331039</td>\n",
       "    </tr>\n",
       "    <tr>\n",
       "      <th>2009-07-01 04:10:00</th>\n",
       "      <td>0.000000</td>\n",
       "      <td>0</td>\n",
       "      <td>2009</td>\n",
       "      <td>0.866025</td>\n",
       "      <td>5.000000e-01</td>\n",
       "      <td>0.866025</td>\n",
       "      <td>0.5</td>\n",
       "      <td>-0.5</td>\n",
       "      <td>-0.866025</td>\n",
       "      <td>0.000000</td>\n",
       "      <td>...</td>\n",
       "      <td>NaN</td>\n",
       "      <td>NaN</td>\n",
       "      <td>NaN</td>\n",
       "      <td>NaN</td>\n",
       "      <td>NaN</td>\n",
       "      <td>NaN</td>\n",
       "      <td>NaN</td>\n",
       "      <td>NaN</td>\n",
       "      <td>1019.33</td>\n",
       "      <td>0.334722</td>\n",
       "    </tr>\n",
       "    <tr>\n",
       "      <th>2009-07-01 04:15:00</th>\n",
       "      <td>0.991217</td>\n",
       "      <td>0</td>\n",
       "      <td>2009</td>\n",
       "      <td>1.000000</td>\n",
       "      <td>2.832769e-16</td>\n",
       "      <td>0.866025</td>\n",
       "      <td>0.5</td>\n",
       "      <td>-0.5</td>\n",
       "      <td>-0.866025</td>\n",
       "      <td>0.000000</td>\n",
       "      <td>...</td>\n",
       "      <td>NaN</td>\n",
       "      <td>NaN</td>\n",
       "      <td>NaN</td>\n",
       "      <td>NaN</td>\n",
       "      <td>NaN</td>\n",
       "      <td>NaN</td>\n",
       "      <td>NaN</td>\n",
       "      <td>NaN</td>\n",
       "      <td>1025.24</td>\n",
       "      <td>0.336648</td>\n",
       "    </tr>\n",
       "    <tr>\n",
       "      <th>2009-07-01 04:20:00</th>\n",
       "      <td>1.025701</td>\n",
       "      <td>0</td>\n",
       "      <td>2009</td>\n",
       "      <td>0.866025</td>\n",
       "      <td>-5.000000e-01</td>\n",
       "      <td>0.866025</td>\n",
       "      <td>0.5</td>\n",
       "      <td>-0.5</td>\n",
       "      <td>-0.866025</td>\n",
       "      <td>0.991217</td>\n",
       "      <td>...</td>\n",
       "      <td>NaN</td>\n",
       "      <td>NaN</td>\n",
       "      <td>NaN</td>\n",
       "      <td>NaN</td>\n",
       "      <td>NaN</td>\n",
       "      <td>NaN</td>\n",
       "      <td>NaN</td>\n",
       "      <td>NaN</td>\n",
       "      <td>1050.50</td>\n",
       "      <td>0.345109</td>\n",
       "    </tr>\n",
       "  </tbody>\n",
       "</table>\n",
       "<p>5 rows × 24 columns</p>\n",
       "</div>"
      ],
      "text/plain": [
       "                     CO2E_EMISSIONS_FACTOR  weekday  year  minute_sin  \\\n",
       "2009-07-01 04:00:00               0.991217        0  2009    0.000000   \n",
       "2009-07-01 04:05:00               0.000000        0  2009    0.500000   \n",
       "2009-07-01 04:10:00               0.000000        0  2009    0.866025   \n",
       "2009-07-01 04:15:00               0.991217        0  2009    1.000000   \n",
       "2009-07-01 04:20:00               1.025701        0  2009    0.866025   \n",
       "\n",
       "                       minute_cos  hour_sin  hour_cos  month_sin  month_cos  \\\n",
       "2009-07-01 04:00:00  1.000000e+00  0.866025       0.5       -0.5  -0.866025   \n",
       "2009-07-01 04:05:00  8.660254e-01  0.866025       0.5       -0.5  -0.866025   \n",
       "2009-07-01 04:10:00  5.000000e-01  0.866025       0.5       -0.5  -0.866025   \n",
       "2009-07-01 04:15:00  2.832769e-16  0.866025       0.5       -0.5  -0.866025   \n",
       "2009-07-01 04:20:00 -5.000000e-01  0.866025       0.5       -0.5  -0.866025   \n",
       "\n",
       "                         lag1  ...  lag6  lag7  lag8  lag9  lag10  lag11  \\\n",
       "2009-07-01 04:00:00       NaN  ...   NaN   NaN   NaN   NaN    NaN    NaN   \n",
       "2009-07-01 04:05:00  0.991217  ...   NaN   NaN   NaN   NaN    NaN    NaN   \n",
       "2009-07-01 04:10:00  0.000000  ...   NaN   NaN   NaN   NaN    NaN    NaN   \n",
       "2009-07-01 04:15:00  0.000000  ...   NaN   NaN   NaN   NaN    NaN    NaN   \n",
       "2009-07-01 04:20:00  0.991217  ...   NaN   NaN   NaN   NaN    NaN    NaN   \n",
       "\n",
       "                     lag12  horizon0   demand  demand_capacity  \n",
       "2009-07-01 04:00:00    NaN       NaN  1004.32         0.329959  \n",
       "2009-07-01 04:05:00    NaN       NaN  1007.58         0.331039  \n",
       "2009-07-01 04:10:00    NaN       NaN  1019.33         0.334722  \n",
       "2009-07-01 04:15:00    NaN       NaN  1025.24         0.336648  \n",
       "2009-07-01 04:20:00    NaN       NaN  1050.50         0.345109  \n",
       "\n",
       "[5 rows x 24 columns]"
      ]
     },
     "execution_count": 45,
     "metadata": {},
     "output_type": "execute_result"
    }
   ],
   "source": [
    "print(df.shape)\n",
    "df.head()"
   ]
  },
  {
   "cell_type": "markdown",
   "metadata": {},
   "source": [
    "### __Addition of the interconnectors feature__"
   ]
  },
  {
   "cell_type": "markdown",
   "metadata": {},
   "source": [
    "This feature reflects how much electricity is being imported into the region of South Australia."
   ]
  },
  {
   "cell_type": "code",
   "execution_count": 46,
   "metadata": {},
   "outputs": [
    {
     "ename": "NameError",
     "evalue": "name 'df_mean2' is not defined",
     "output_type": "error",
     "traceback": [
      "\u001b[0;31m---------------------------------------------------------------------------\u001b[0m",
      "\u001b[0;31mNameError\u001b[0m                                 Traceback (most recent call last)",
      "\u001b[0;32m<ipython-input-46-046ddef80a95>\u001b[0m in \u001b[0;36m<module>\u001b[0;34m\u001b[0m\n\u001b[1;32m      3\u001b[0m \u001b[0minterconnectors\u001b[0m \u001b[0;34m=\u001b[0m \u001b[0minterconnectors\u001b[0m\u001b[0;34m[\u001b[0m\u001b[0;34m(\u001b[0m\u001b[0minterconnectors\u001b[0m\u001b[0;34m.\u001b[0m\u001b[0mindex\u001b[0m \u001b[0;34m>=\u001b[0m \u001b[0mdf\u001b[0m\u001b[0;34m.\u001b[0m\u001b[0mindex\u001b[0m\u001b[0;34m.\u001b[0m\u001b[0mmin\u001b[0m\u001b[0;34m(\u001b[0m\u001b[0;34m)\u001b[0m\u001b[0;34m)\u001b[0m \u001b[0;34m&\u001b[0m \u001b[0;34m(\u001b[0m\u001b[0minterconnectors\u001b[0m\u001b[0;34m.\u001b[0m\u001b[0mindex\u001b[0m \u001b[0;34m<=\u001b[0m \u001b[0mdf\u001b[0m\u001b[0;34m.\u001b[0m\u001b[0mindex\u001b[0m\u001b[0;34m.\u001b[0m\u001b[0mmax\u001b[0m\u001b[0;34m(\u001b[0m\u001b[0;34m)\u001b[0m\u001b[0;34m)\u001b[0m\u001b[0;34m]\u001b[0m\u001b[0;34m\u001b[0m\u001b[0;34m\u001b[0m\u001b[0m\n\u001b[1;32m      4\u001b[0m \u001b[0;34m\u001b[0m\u001b[0m\n\u001b[0;32m----> 5\u001b[0;31m \u001b[0;32massert\u001b[0m \u001b[0minterconnectors\u001b[0m\u001b[0;34m.\u001b[0m\u001b[0mindex\u001b[0m\u001b[0;34m.\u001b[0m\u001b[0mmin\u001b[0m\u001b[0;34m(\u001b[0m\u001b[0;34m)\u001b[0m \u001b[0;34m==\u001b[0m \u001b[0mdf_mean2\u001b[0m\u001b[0;34m.\u001b[0m\u001b[0mindex\u001b[0m\u001b[0;34m.\u001b[0m\u001b[0mmin\u001b[0m\u001b[0;34m(\u001b[0m\u001b[0;34m)\u001b[0m\u001b[0;34m\u001b[0m\u001b[0;34m\u001b[0m\u001b[0m\n\u001b[0m\u001b[1;32m      6\u001b[0m \u001b[0;32massert\u001b[0m \u001b[0minterconnectors\u001b[0m\u001b[0;34m.\u001b[0m\u001b[0mindex\u001b[0m\u001b[0;34m.\u001b[0m\u001b[0mmax\u001b[0m\u001b[0;34m(\u001b[0m\u001b[0;34m)\u001b[0m \u001b[0;34m==\u001b[0m \u001b[0mdf_mean2\u001b[0m\u001b[0;34m.\u001b[0m\u001b[0mindex\u001b[0m\u001b[0;34m.\u001b[0m\u001b[0mmax\u001b[0m\u001b[0;34m(\u001b[0m\u001b[0;34m)\u001b[0m\u001b[0;34m\u001b[0m\u001b[0;34m\u001b[0m\u001b[0m\n\u001b[1;32m      7\u001b[0m \u001b[0;34m\u001b[0m\u001b[0m\n",
      "\u001b[0;31mNameError\u001b[0m: name 'df_mean2' is not defined"
     ]
    }
   ],
   "source": [
    "interconnectors = pd.read_csv('../../big_data/interconnectors.csv', index_col=-1, parse_dates=True)\n",
    "interconnectors.drop(columns=[\"SETTLEMENTDATE\", \"I\", \"INTERCONNECTORID\"], inplace=True)\n",
    "interconnectors = interconnectors[(interconnectors.index >= df.index.min()) & (interconnectors.index <= df.index.max())]\n",
    "\n",
    "assert interconnectors.index.min() == df_mean2.index.min()\n",
    "assert interconnectors.index.max() == df_mean2.index.max()\n",
    "\n",
    "interconnectors.head()"
   ]
  },
  {
   "cell_type": "markdown",
   "metadata": {},
   "source": [
    "When trying to load the file together with our assertions, we get an error. That is due to that the interconncectors dataframe datetimeindex starts later.\n",
    "\n",
    "__Watch:__"
   ]
  },
  {
   "cell_type": "code",
   "execution_count": 47,
   "metadata": {},
   "outputs": [
    {
     "name": "stdout",
     "output_type": "stream",
     "text": [
      "(942201, 1)\n",
      "2009-09-01 00:00:00\n",
      "2018-05-31 23:55:00\n",
      "2009-07-01 04:00:00\n"
     ]
    }
   ],
   "source": [
    "print(interconnectors.shape)\n",
    "print(interconnectors.index.min())\n",
    "print(interconnectors.index.max())\n",
    "\n",
    "print(df.index.min())"
   ]
  },
  {
   "cell_type": "markdown",
   "metadata": {},
   "source": [
    "We will take care of that later as we delete all NaNs from our dataframe below."
   ]
  },
  {
   "cell_type": "code",
   "execution_count": 48,
   "metadata": {},
   "outputs": [
    {
     "data": {
      "text/plain": [
       "1    900648\n",
       "2     19512\n",
       "Name: MWFLOW, dtype: int64"
      ]
     },
     "execution_count": 48,
     "metadata": {},
     "output_type": "execute_result"
    }
   ],
   "source": [
    "interconnectors.groupby(interconnectors.index).agg({\"MWFLOW\":\"nunique\"}).MWFLOW.value_counts()"
   ]
  },
  {
   "cell_type": "code",
   "execution_count": 49,
   "metadata": {},
   "outputs": [
    {
     "data": {
      "text/plain": [
       "(920160, 1)"
      ]
     },
     "execution_count": 49,
     "metadata": {},
     "output_type": "execute_result"
    }
   ],
   "source": [
    "interconnectors = interconnectors.groupby(interconnectors.index).mean()\n",
    "interconnectors.shape"
   ]
  },
  {
   "cell_type": "code",
   "execution_count": 50,
   "metadata": {},
   "outputs": [
    {
     "data": {
      "text/html": [
       "<div>\n",
       "<style scoped>\n",
       "    .dataframe tbody tr th:only-of-type {\n",
       "        vertical-align: middle;\n",
       "    }\n",
       "\n",
       "    .dataframe tbody tr th {\n",
       "        vertical-align: top;\n",
       "    }\n",
       "\n",
       "    .dataframe thead th {\n",
       "        text-align: right;\n",
       "    }\n",
       "</style>\n",
       "<table border=\"1\" class=\"dataframe\">\n",
       "  <thead>\n",
       "    <tr style=\"text-align: right;\">\n",
       "      <th></th>\n",
       "      <th>CO2E_EMISSIONS_FACTOR</th>\n",
       "      <th>weekday</th>\n",
       "      <th>year</th>\n",
       "      <th>minute_sin</th>\n",
       "      <th>minute_cos</th>\n",
       "      <th>hour_sin</th>\n",
       "      <th>hour_cos</th>\n",
       "      <th>month_sin</th>\n",
       "      <th>month_cos</th>\n",
       "      <th>lag1</th>\n",
       "      <th>...</th>\n",
       "      <th>lag7</th>\n",
       "      <th>lag8</th>\n",
       "      <th>lag9</th>\n",
       "      <th>lag10</th>\n",
       "      <th>lag11</th>\n",
       "      <th>lag12</th>\n",
       "      <th>horizon0</th>\n",
       "      <th>demand</th>\n",
       "      <th>demand_capacity</th>\n",
       "      <th>interconnector</th>\n",
       "    </tr>\n",
       "  </thead>\n",
       "  <tbody>\n",
       "    <tr>\n",
       "      <th>2009-07-01 04:00:00</th>\n",
       "      <td>0.991217</td>\n",
       "      <td>0</td>\n",
       "      <td>2009</td>\n",
       "      <td>0.000000</td>\n",
       "      <td>1.000000e+00</td>\n",
       "      <td>0.866025</td>\n",
       "      <td>0.5</td>\n",
       "      <td>-0.5</td>\n",
       "      <td>-0.866025</td>\n",
       "      <td>NaN</td>\n",
       "      <td>...</td>\n",
       "      <td>NaN</td>\n",
       "      <td>NaN</td>\n",
       "      <td>NaN</td>\n",
       "      <td>NaN</td>\n",
       "      <td>NaN</td>\n",
       "      <td>NaN</td>\n",
       "      <td>NaN</td>\n",
       "      <td>1004.32</td>\n",
       "      <td>0.329959</td>\n",
       "      <td>NaN</td>\n",
       "    </tr>\n",
       "    <tr>\n",
       "      <th>2009-07-01 04:05:00</th>\n",
       "      <td>0.000000</td>\n",
       "      <td>0</td>\n",
       "      <td>2009</td>\n",
       "      <td>0.500000</td>\n",
       "      <td>8.660254e-01</td>\n",
       "      <td>0.866025</td>\n",
       "      <td>0.5</td>\n",
       "      <td>-0.5</td>\n",
       "      <td>-0.866025</td>\n",
       "      <td>0.991217</td>\n",
       "      <td>...</td>\n",
       "      <td>NaN</td>\n",
       "      <td>NaN</td>\n",
       "      <td>NaN</td>\n",
       "      <td>NaN</td>\n",
       "      <td>NaN</td>\n",
       "      <td>NaN</td>\n",
       "      <td>NaN</td>\n",
       "      <td>1007.58</td>\n",
       "      <td>0.331039</td>\n",
       "      <td>NaN</td>\n",
       "    </tr>\n",
       "    <tr>\n",
       "      <th>2009-07-01 04:10:00</th>\n",
       "      <td>0.000000</td>\n",
       "      <td>0</td>\n",
       "      <td>2009</td>\n",
       "      <td>0.866025</td>\n",
       "      <td>5.000000e-01</td>\n",
       "      <td>0.866025</td>\n",
       "      <td>0.5</td>\n",
       "      <td>-0.5</td>\n",
       "      <td>-0.866025</td>\n",
       "      <td>0.000000</td>\n",
       "      <td>...</td>\n",
       "      <td>NaN</td>\n",
       "      <td>NaN</td>\n",
       "      <td>NaN</td>\n",
       "      <td>NaN</td>\n",
       "      <td>NaN</td>\n",
       "      <td>NaN</td>\n",
       "      <td>NaN</td>\n",
       "      <td>1019.33</td>\n",
       "      <td>0.334722</td>\n",
       "      <td>NaN</td>\n",
       "    </tr>\n",
       "    <tr>\n",
       "      <th>2009-07-01 04:15:00</th>\n",
       "      <td>0.991217</td>\n",
       "      <td>0</td>\n",
       "      <td>2009</td>\n",
       "      <td>1.000000</td>\n",
       "      <td>2.832769e-16</td>\n",
       "      <td>0.866025</td>\n",
       "      <td>0.5</td>\n",
       "      <td>-0.5</td>\n",
       "      <td>-0.866025</td>\n",
       "      <td>0.000000</td>\n",
       "      <td>...</td>\n",
       "      <td>NaN</td>\n",
       "      <td>NaN</td>\n",
       "      <td>NaN</td>\n",
       "      <td>NaN</td>\n",
       "      <td>NaN</td>\n",
       "      <td>NaN</td>\n",
       "      <td>NaN</td>\n",
       "      <td>1025.24</td>\n",
       "      <td>0.336648</td>\n",
       "      <td>NaN</td>\n",
       "    </tr>\n",
       "    <tr>\n",
       "      <th>2009-07-01 04:20:00</th>\n",
       "      <td>1.025701</td>\n",
       "      <td>0</td>\n",
       "      <td>2009</td>\n",
       "      <td>0.866025</td>\n",
       "      <td>-5.000000e-01</td>\n",
       "      <td>0.866025</td>\n",
       "      <td>0.5</td>\n",
       "      <td>-0.5</td>\n",
       "      <td>-0.866025</td>\n",
       "      <td>0.991217</td>\n",
       "      <td>...</td>\n",
       "      <td>NaN</td>\n",
       "      <td>NaN</td>\n",
       "      <td>NaN</td>\n",
       "      <td>NaN</td>\n",
       "      <td>NaN</td>\n",
       "      <td>NaN</td>\n",
       "      <td>NaN</td>\n",
       "      <td>1050.50</td>\n",
       "      <td>0.345109</td>\n",
       "      <td>NaN</td>\n",
       "    </tr>\n",
       "  </tbody>\n",
       "</table>\n",
       "<p>5 rows × 25 columns</p>\n",
       "</div>"
      ],
      "text/plain": [
       "                     CO2E_EMISSIONS_FACTOR  weekday  year  minute_sin  \\\n",
       "2009-07-01 04:00:00               0.991217        0  2009    0.000000   \n",
       "2009-07-01 04:05:00               0.000000        0  2009    0.500000   \n",
       "2009-07-01 04:10:00               0.000000        0  2009    0.866025   \n",
       "2009-07-01 04:15:00               0.991217        0  2009    1.000000   \n",
       "2009-07-01 04:20:00               1.025701        0  2009    0.866025   \n",
       "\n",
       "                       minute_cos  hour_sin  hour_cos  month_sin  month_cos  \\\n",
       "2009-07-01 04:00:00  1.000000e+00  0.866025       0.5       -0.5  -0.866025   \n",
       "2009-07-01 04:05:00  8.660254e-01  0.866025       0.5       -0.5  -0.866025   \n",
       "2009-07-01 04:10:00  5.000000e-01  0.866025       0.5       -0.5  -0.866025   \n",
       "2009-07-01 04:15:00  2.832769e-16  0.866025       0.5       -0.5  -0.866025   \n",
       "2009-07-01 04:20:00 -5.000000e-01  0.866025       0.5       -0.5  -0.866025   \n",
       "\n",
       "                         lag1  ...  lag7  lag8  lag9  lag10  lag11  lag12  \\\n",
       "2009-07-01 04:00:00       NaN  ...   NaN   NaN   NaN    NaN    NaN    NaN   \n",
       "2009-07-01 04:05:00  0.991217  ...   NaN   NaN   NaN    NaN    NaN    NaN   \n",
       "2009-07-01 04:10:00  0.000000  ...   NaN   NaN   NaN    NaN    NaN    NaN   \n",
       "2009-07-01 04:15:00  0.000000  ...   NaN   NaN   NaN    NaN    NaN    NaN   \n",
       "2009-07-01 04:20:00  0.991217  ...   NaN   NaN   NaN    NaN    NaN    NaN   \n",
       "\n",
       "                     horizon0   demand  demand_capacity  interconnector  \n",
       "2009-07-01 04:00:00       NaN  1004.32         0.329959             NaN  \n",
       "2009-07-01 04:05:00       NaN  1007.58         0.331039             NaN  \n",
       "2009-07-01 04:10:00       NaN  1019.33         0.334722             NaN  \n",
       "2009-07-01 04:15:00       NaN  1025.24         0.336648             NaN  \n",
       "2009-07-01 04:20:00       NaN  1050.50         0.345109             NaN  \n",
       "\n",
       "[5 rows x 25 columns]"
      ]
     },
     "execution_count": 50,
     "metadata": {},
     "output_type": "execute_result"
    }
   ],
   "source": [
    "df[\"interconnector\"] = interconnectors.MWFLOW\n",
    "df.head()"
   ]
  },
  {
   "cell_type": "code",
   "execution_count": 51,
   "metadata": {},
   "outputs": [],
   "source": [
    "def correct_timedelta(df, time_diff):\n",
    "    '''\n",
    "    df.index must be DateTimeIndex\n",
    "    Returns two lists\n",
    "    df=table_of_interest\n",
    "    col=\"column_of_interest\"\n",
    "    time_diff=time_diff in seconds as int\n",
    "    '''\n",
    "    lst = []\n",
    "    lst_i = []\n",
    "    count = 0\n",
    "    for i in df.index:\n",
    "        count += 1\n",
    "        if count >= len(df):\n",
    "            break\n",
    "        delta = abs(df.index[count] - df.index[count-1])\n",
    "        if int(delta.total_seconds()) != int(time_diff):\n",
    "            lst.append((\"from index {} on, it has been {} s or {} h.\".format(count-1,int(delta.total_seconds()),(int(delta.total_seconds()/3600)))))\n",
    "            lst_i.append((df.index[count-1],int(delta.total_seconds())))\n",
    "    return lst, lst_i"
   ]
  },
  {
   "cell_type": "code",
   "execution_count": 52,
   "metadata": {},
   "outputs": [],
   "source": [
    "lst1, _ = correct_timedelta(df, 300)"
   ]
  },
  {
   "cell_type": "code",
   "execution_count": 53,
   "metadata": {},
   "outputs": [
    {
     "data": {
      "text/plain": [
       "0"
      ]
     },
     "execution_count": 53,
     "metadata": {},
     "output_type": "execute_result"
    }
   ],
   "source": [
    "len(lst1)"
   ]
  },
  {
   "cell_type": "code",
   "execution_count": 54,
   "metadata": {},
   "outputs": [
    {
     "name": "stdout",
     "output_type": "stream",
     "text": [
      "(937968, 25)\n"
     ]
    },
    {
     "data": {
      "text/plain": [
       "CO2E_EMISSIONS_FACTOR    False\n",
       "weekday                  False\n",
       "year                     False\n",
       "minute_sin               False\n",
       "minute_cos               False\n",
       "hour_sin                 False\n",
       "hour_cos                 False\n",
       "month_sin                False\n",
       "month_cos                False\n",
       "lag1                      True\n",
       "lag2                      True\n",
       "lag3                      True\n",
       "lag4                      True\n",
       "lag5                      True\n",
       "lag6                      True\n",
       "lag7                      True\n",
       "lag8                      True\n",
       "lag9                      True\n",
       "lag10                     True\n",
       "lag11                     True\n",
       "lag12                     True\n",
       "horizon0                  True\n",
       "demand                   False\n",
       "demand_capacity          False\n",
       "interconnector            True\n",
       "dtype: bool"
      ]
     },
     "execution_count": 54,
     "metadata": {},
     "output_type": "execute_result"
    }
   ],
   "source": [
    "print(df.shape)\n",
    "df.isna().any()"
   ]
  },
  {
   "cell_type": "markdown",
   "metadata": {},
   "source": [
    "In our current dataframe, we have a set of columns featuring NaN values. For the columns we created in the course of time feature engineering, we know that they sit either at the very beginning or very end of each respective column. Hence, considering our massive amount of data, it would be no harm to simply drop those values."
   ]
  },
  {
   "cell_type": "code",
   "execution_count": 55,
   "metadata": {},
   "outputs": [],
   "source": [
    "df.dropna(inplace=True)"
   ]
  },
  {
   "cell_type": "code",
   "execution_count": 57,
   "metadata": {},
   "outputs": [
    {
     "name": "stdout",
     "output_type": "stream",
     "text": [
      "(920160, 25)\n"
     ]
    },
    {
     "data": {
      "text/plain": [
       "CO2E_EMISSIONS_FACTOR    False\n",
       "weekday                  False\n",
       "year                     False\n",
       "minute_sin               False\n",
       "minute_cos               False\n",
       "hour_sin                 False\n",
       "hour_cos                 False\n",
       "month_sin                False\n",
       "month_cos                False\n",
       "lag1                     False\n",
       "lag2                     False\n",
       "lag3                     False\n",
       "lag4                     False\n",
       "lag5                     False\n",
       "lag6                     False\n",
       "lag7                     False\n",
       "lag8                     False\n",
       "lag9                     False\n",
       "lag10                    False\n",
       "lag11                    False\n",
       "lag12                    False\n",
       "horizon0                 False\n",
       "demand                   False\n",
       "demand_capacity          False\n",
       "interconnector           False\n",
       "dtype: bool"
      ]
     },
     "execution_count": 57,
     "metadata": {},
     "output_type": "execute_result"
    }
   ],
   "source": [
    "print(df.shape)\n",
    "df.isna().any()"
   ]
  },
  {
   "cell_type": "code",
   "execution_count": 58,
   "metadata": {},
   "outputs": [],
   "source": [
    "l1, l2 = correct_timedelta(df, 300)"
   ]
  },
  {
   "cell_type": "code",
   "execution_count": 59,
   "metadata": {},
   "outputs": [
    {
     "data": {
      "text/plain": [
       "[]"
      ]
     },
     "execution_count": 59,
     "metadata": {},
     "output_type": "execute_result"
    }
   ],
   "source": [
    "l1"
   ]
  },
  {
   "cell_type": "markdown",
   "metadata": {},
   "source": [
    "__After our dropna operation no DateTimeIndex gaps are present, suggesting that we indeed only dropped NaN values at the edges of the table (beginniung "
   ]
  },
  {
   "cell_type": "code",
   "execution_count": 55,
   "metadata": {},
   "outputs": [],
   "source": [
    "file_path = '../../big_data/df_clean_interconnectors.pkl'\n",
    "pd.to_pickle(df_clean, file_path)"
   ]
  },
  {
   "cell_type": "code",
   "execution_count": null,
   "metadata": {},
   "outputs": [],
   "source": []
  }
 ],
 "metadata": {
  "kernelspec": {
   "display_name": "dsr_teaching",
   "language": "python",
   "name": "dsr_teaching"
  },
  "language_info": {
   "codemirror_mode": {
    "name": "ipython",
    "version": 3
   },
   "file_extension": ".py",
   "mimetype": "text/x-python",
   "name": "python",
   "nbconvert_exporter": "python",
   "pygments_lexer": "ipython3",
   "version": "3.6.9"
  }
 },
 "nbformat": 4,
 "nbformat_minor": 4
}
