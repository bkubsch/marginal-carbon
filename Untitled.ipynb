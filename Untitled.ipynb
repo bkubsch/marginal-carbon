{
 "cells": [
  {
   "cell_type": "code",
   "execution_count": 1,
   "metadata": {},
   "outputs": [],
   "source": [
    "import pandas as pd\n",
    "import os\n",
    "import matplotlib.pyplot as plt\n",
    "import seaborn as sns\n",
    "\n",
    "from py_files.c_target_exploration import mod_concat_NEMDE\n",
    "from py_files.d_concat_DUID_marginal_fuelsource import *"
   ]
  },
  {
   "cell_type": "code",
   "execution_count": 2,
   "metadata": {},
   "outputs": [],
   "source": [
    "file_path = '{}/nem-data/nemde_clean/concat_for_energy_SA1.pkl'.format(os.environ['HOME'])\n",
    "df = mod_concat_NEMDE(file_path)"
   ]
  },
  {
   "cell_type": "code",
   "execution_count": 3,
   "metadata": {},
   "outputs": [
    {
     "data": {
      "text/html": [
       "<div>\n",
       "<style scoped>\n",
       "    .dataframe tbody tr th:only-of-type {\n",
       "        vertical-align: middle;\n",
       "    }\n",
       "\n",
       "    .dataframe tbody tr th {\n",
       "        vertical-align: top;\n",
       "    }\n",
       "\n",
       "    .dataframe thead th {\n",
       "        text-align: right;\n",
       "    }\n",
       "</style>\n",
       "<table border=\"1\" class=\"dataframe\">\n",
       "  <thead>\n",
       "    <tr style=\"text-align: right;\">\n",
       "      <th></th>\n",
       "      <th>RegionID</th>\n",
       "      <th>Market</th>\n",
       "      <th>Price</th>\n",
       "      <th>DUID</th>\n",
       "      <th>DispatchedMarket</th>\n",
       "      <th>Increase</th>\n",
       "    </tr>\n",
       "    <tr>\n",
       "      <th>PeriodID</th>\n",
       "      <th></th>\n",
       "      <th></th>\n",
       "      <th></th>\n",
       "      <th></th>\n",
       "      <th></th>\n",
       "      <th></th>\n",
       "    </tr>\n",
       "  </thead>\n",
       "  <tbody>\n",
       "    <tr>\n",
       "      <td>2018-07-31 23:55:00</td>\n",
       "      <td>SA1</td>\n",
       "      <td>Energy</td>\n",
       "      <td>70.70204</td>\n",
       "      <td>ER01</td>\n",
       "      <td>ENOF</td>\n",
       "      <td>0.34712</td>\n",
       "    </tr>\n",
       "    <tr>\n",
       "      <td>2018-07-31 23:55:00</td>\n",
       "      <td>SA1</td>\n",
       "      <td>Energy</td>\n",
       "      <td>70.70204</td>\n",
       "      <td>ER04</td>\n",
       "      <td>ENOF</td>\n",
       "      <td>0.31058</td>\n",
       "    </tr>\n",
       "    <tr>\n",
       "      <td>2018-07-31 23:55:00</td>\n",
       "      <td>SA1</td>\n",
       "      <td>Energy</td>\n",
       "      <td>70.70204</td>\n",
       "      <td>ER03</td>\n",
       "      <td>ENOF</td>\n",
       "      <td>0.34712</td>\n",
       "    </tr>\n",
       "    <tr>\n",
       "      <td>2018-07-31 23:55:00</td>\n",
       "      <td>SA1</td>\n",
       "      <td>Energy</td>\n",
       "      <td>70.70204</td>\n",
       "      <td>ER02</td>\n",
       "      <td>ENOF</td>\n",
       "      <td>0.31058</td>\n",
       "    </tr>\n",
       "    <tr>\n",
       "      <td>2018-07-31 23:50:00</td>\n",
       "      <td>SA1</td>\n",
       "      <td>Energy</td>\n",
       "      <td>69.24109</td>\n",
       "      <td>DEVILS_G</td>\n",
       "      <td>L5MI</td>\n",
       "      <td>-1.29132</td>\n",
       "    </tr>\n",
       "    <tr>\n",
       "      <td>...</td>\n",
       "      <td>...</td>\n",
       "      <td>...</td>\n",
       "      <td>...</td>\n",
       "      <td>...</td>\n",
       "      <td>...</td>\n",
       "      <td>...</td>\n",
       "    </tr>\n",
       "    <tr>\n",
       "      <td>2018-07-31 22:20:00</td>\n",
       "      <td>SA1</td>\n",
       "      <td>Energy</td>\n",
       "      <td>79.30359</td>\n",
       "      <td>ER03</td>\n",
       "      <td>ENOF</td>\n",
       "      <td>0.42336</td>\n",
       "    </tr>\n",
       "    <tr>\n",
       "      <td>2018-07-31 22:15:00</td>\n",
       "      <td>SA1</td>\n",
       "      <td>Energy</td>\n",
       "      <td>81.25001</td>\n",
       "      <td>TORRB3</td>\n",
       "      <td>R5MI</td>\n",
       "      <td>0.33333</td>\n",
       "    </tr>\n",
       "    <tr>\n",
       "      <td>2018-07-31 22:15:00</td>\n",
       "      <td>SA1</td>\n",
       "      <td>Energy</td>\n",
       "      <td>81.25001</td>\n",
       "      <td>TARONG#1</td>\n",
       "      <td>R5MI</td>\n",
       "      <td>-1.00000</td>\n",
       "    </tr>\n",
       "    <tr>\n",
       "      <td>2018-07-31 22:15:00</td>\n",
       "      <td>SA1</td>\n",
       "      <td>Energy</td>\n",
       "      <td>81.25001</td>\n",
       "      <td>TORRB3</td>\n",
       "      <td>ENOF</td>\n",
       "      <td>0.33333</td>\n",
       "    </tr>\n",
       "    <tr>\n",
       "      <td>2018-07-31 22:15:00</td>\n",
       "      <td>SA1</td>\n",
       "      <td>Energy</td>\n",
       "      <td>81.25001</td>\n",
       "      <td>TORRB2</td>\n",
       "      <td>ENOF</td>\n",
       "      <td>0.33333</td>\n",
       "    </tr>\n",
       "  </tbody>\n",
       "</table>\n",
       "<p>100 rows × 6 columns</p>\n",
       "</div>"
      ],
      "text/plain": [
       "                    RegionID  Market     Price      DUID DispatchedMarket  \\\n",
       "PeriodID                                                                    \n",
       "2018-07-31 23:55:00      SA1  Energy  70.70204      ER01             ENOF   \n",
       "2018-07-31 23:55:00      SA1  Energy  70.70204      ER04             ENOF   \n",
       "2018-07-31 23:55:00      SA1  Energy  70.70204      ER03             ENOF   \n",
       "2018-07-31 23:55:00      SA1  Energy  70.70204      ER02             ENOF   \n",
       "2018-07-31 23:50:00      SA1  Energy  69.24109  DEVILS_G             L5MI   \n",
       "...                      ...     ...       ...       ...              ...   \n",
       "2018-07-31 22:20:00      SA1  Energy  79.30359      ER03             ENOF   \n",
       "2018-07-31 22:15:00      SA1  Energy  81.25001    TORRB3             R5MI   \n",
       "2018-07-31 22:15:00      SA1  Energy  81.25001  TARONG#1             R5MI   \n",
       "2018-07-31 22:15:00      SA1  Energy  81.25001    TORRB3             ENOF   \n",
       "2018-07-31 22:15:00      SA1  Energy  81.25001    TORRB2             ENOF   \n",
       "\n",
       "                     Increase  \n",
       "PeriodID                       \n",
       "2018-07-31 23:55:00   0.34712  \n",
       "2018-07-31 23:55:00   0.31058  \n",
       "2018-07-31 23:55:00   0.34712  \n",
       "2018-07-31 23:55:00   0.31058  \n",
       "2018-07-31 23:50:00  -1.29132  \n",
       "...                       ...  \n",
       "2018-07-31 22:20:00   0.42336  \n",
       "2018-07-31 22:15:00   0.33333  \n",
       "2018-07-31 22:15:00  -1.00000  \n",
       "2018-07-31 22:15:00   0.33333  \n",
       "2018-07-31 22:15:00   0.33333  \n",
       "\n",
       "[100 rows x 6 columns]"
      ]
     },
     "execution_count": 3,
     "metadata": {},
     "output_type": "execute_result"
    }
   ],
   "source": [
    "df.head(100)"
   ]
  },
  {
   "cell_type": "code",
   "execution_count": 6,
   "metadata": {},
   "outputs": [
    {
     "data": {
      "text/plain": [
       "DatetimeIndex(['2018-07-31 23:55:00', '2018-07-31 23:55:00',\n",
       "               '2018-07-31 23:55:00', '2018-07-31 23:55:00',\n",
       "               '2018-07-31 23:50:00', '2018-07-31 23:50:00',\n",
       "               '2018-07-31 23:50:00', '2018-07-31 23:50:00',\n",
       "               '2018-07-31 23:50:00', '2018-07-31 23:50:00',\n",
       "               ...\n",
       "               '2009-07-01 04:10:00', '2009-07-01 04:10:00',\n",
       "               '2009-07-01 04:05:00', '2009-07-01 04:05:00',\n",
       "               '2009-07-01 04:00:00', '2009-07-01 04:00:00',\n",
       "               '2009-07-01 04:00:00', '2009-07-01 04:00:00',\n",
       "               '2009-07-01 04:00:00', '2009-07-01 04:00:00'],\n",
       "              dtype='datetime64[ns]', name='PeriodID', length=5951707, freq=None)"
      ]
     },
     "execution_count": 6,
     "metadata": {},
     "output_type": "execute_result"
    }
   ],
   "source": [
    "f = df.Price\n",
    "f.index"
   ]
  },
  {
   "cell_type": "code",
   "execution_count": 7,
   "metadata": {},
   "outputs": [
    {
     "data": {
      "text/html": [
       "<div>\n",
       "<style scoped>\n",
       "    .dataframe tbody tr th:only-of-type {\n",
       "        vertical-align: middle;\n",
       "    }\n",
       "\n",
       "    .dataframe tbody tr th {\n",
       "        vertical-align: top;\n",
       "    }\n",
       "\n",
       "    .dataframe thead th {\n",
       "        text-align: right;\n",
       "    }\n",
       "</style>\n",
       "<table border=\"1\" class=\"dataframe\">\n",
       "  <thead>\n",
       "    <tr style=\"text-align: right;\">\n",
       "      <th></th>\n",
       "      <th>RegionID</th>\n",
       "      <th>Market</th>\n",
       "      <th>Price</th>\n",
       "      <th>DUID</th>\n",
       "      <th>DispatchedMarket</th>\n",
       "      <th>Increase</th>\n",
       "    </tr>\n",
       "    <tr>\n",
       "      <th>PeriodID</th>\n",
       "      <th></th>\n",
       "      <th></th>\n",
       "      <th></th>\n",
       "      <th></th>\n",
       "      <th></th>\n",
       "      <th></th>\n",
       "    </tr>\n",
       "  </thead>\n",
       "  <tbody>\n",
       "  </tbody>\n",
       "</table>\n",
       "</div>"
      ],
      "text/plain": [
       "Empty DataFrame\n",
       "Columns: [RegionID, Market, Price, DUID, DispatchedMarket, Increase]\n",
       "Index: []"
      ]
     },
     "execution_count": 7,
     "metadata": {},
     "output_type": "execute_result"
    }
   ],
   "source": [
    "df[df.DUID == \"ENOF,YWPS1,6,YWPS2,5 \"]"
   ]
  },
  {
   "cell_type": "code",
   "execution_count": 8,
   "metadata": {},
   "outputs": [
    {
     "name": "stdout",
     "output_type": "stream",
     "text": [
      "(5951707, 6)\n",
      "<class 'pandas.core.frame.DataFrame'>\n",
      "DatetimeIndex: 5951707 entries, 2018-07-31 23:55:00 to 2009-07-01 04:00:00\n",
      "Data columns (total 6 columns):\n",
      "RegionID            object\n",
      "Market              object\n",
      "Price               float64\n",
      "DUID                object\n",
      "DispatchedMarket    object\n",
      "Increase            float64\n",
      "dtypes: float64(2), object(4)\n",
      "memory usage: 317.9+ MB\n"
     ]
    }
   ],
   "source": [
    "print(df.shape)\n",
    "df.info()"
   ]
  },
  {
   "cell_type": "code",
   "execution_count": 92,
   "metadata": {},
   "outputs": [
    {
     "data": {
      "text/html": [
       "<div>\n",
       "<style scoped>\n",
       "    .dataframe tbody tr th:only-of-type {\n",
       "        vertical-align: middle;\n",
       "    }\n",
       "\n",
       "    .dataframe tbody tr th {\n",
       "        vertical-align: top;\n",
       "    }\n",
       "\n",
       "    .dataframe thead th {\n",
       "        text-align: right;\n",
       "    }\n",
       "</style>\n",
       "<table border=\"1\" class=\"dataframe\">\n",
       "  <thead>\n",
       "    <tr style=\"text-align: right;\">\n",
       "      <th></th>\n",
       "      <th>DUID</th>\n",
       "      <th>GENSETID</th>\n",
       "      <th>REGIONID</th>\n",
       "      <th>CO2E_EMISSIONS_FACTOR</th>\n",
       "      <th>CO2E_ENERGY_SOURCE</th>\n",
       "      <th>CO2E_DATA_SOURCE</th>\n",
       "    </tr>\n",
       "  </thead>\n",
       "  <tbody>\n",
       "    <tr>\n",
       "      <td>0</td>\n",
       "      <td>AGLNOW1</td>\n",
       "      <td>AGLNOW1</td>\n",
       "      <td>NSW1</td>\n",
       "      <td>0.062000</td>\n",
       "      <td>Landfill biogas methane</td>\n",
       "      <td>NGA 2018</td>\n",
       "    </tr>\n",
       "    <tr>\n",
       "      <td>1</td>\n",
       "      <td>AGLSITA1</td>\n",
       "      <td>AGLSITA1</td>\n",
       "      <td>NSW1</td>\n",
       "      <td>0.062000</td>\n",
       "      <td>Landfill biogas methane</td>\n",
       "      <td>NGA 2018</td>\n",
       "    </tr>\n",
       "    <tr>\n",
       "      <td>2</td>\n",
       "      <td>APPIN</td>\n",
       "      <td>APPIN</td>\n",
       "      <td>NSW1</td>\n",
       "      <td>0.765000</td>\n",
       "      <td>Coal seam methane</td>\n",
       "      <td>NGA 2018</td>\n",
       "    </tr>\n",
       "    <tr>\n",
       "      <td>3</td>\n",
       "      <td>BDONGHYD</td>\n",
       "      <td>BDONGHYD</td>\n",
       "      <td>NSW1</td>\n",
       "      <td>0.000000</td>\n",
       "      <td>Hydro</td>\n",
       "      <td>ISP 2018</td>\n",
       "    </tr>\n",
       "    <tr>\n",
       "      <td>4</td>\n",
       "      <td>BERYLSF1</td>\n",
       "      <td>BERYLSF1</td>\n",
       "      <td>NSW1</td>\n",
       "      <td>0.000000</td>\n",
       "      <td>Solar</td>\n",
       "      <td>ISP 2018</td>\n",
       "    </tr>\n",
       "    <tr>\n",
       "      <td>5</td>\n",
       "      <td>BLOWERNG</td>\n",
       "      <td>BLOWERNG</td>\n",
       "      <td>NSW1</td>\n",
       "      <td>0.000000</td>\n",
       "      <td>Hydro</td>\n",
       "      <td>ISP 2018</td>\n",
       "    </tr>\n",
       "    <tr>\n",
       "      <td>6</td>\n",
       "      <td>BOCORWF1</td>\n",
       "      <td>BOCORWF1</td>\n",
       "      <td>NSW1</td>\n",
       "      <td>0.000000</td>\n",
       "      <td>Wind</td>\n",
       "      <td>ISP 2018</td>\n",
       "    </tr>\n",
       "    <tr>\n",
       "      <td>7</td>\n",
       "      <td>BODWF1</td>\n",
       "      <td>BODWF1</td>\n",
       "      <td>NSW1</td>\n",
       "      <td>0.000000</td>\n",
       "      <td>Wind</td>\n",
       "      <td>ISP 2018</td>\n",
       "    </tr>\n",
       "    <tr>\n",
       "      <td>8</td>\n",
       "      <td>BROKENH1</td>\n",
       "      <td>BROKENH1</td>\n",
       "      <td>NSW1</td>\n",
       "      <td>0.000000</td>\n",
       "      <td>Solar</td>\n",
       "      <td>ISP 2018</td>\n",
       "    </tr>\n",
       "    <tr>\n",
       "      <td>9</td>\n",
       "      <td>BROKENH1</td>\n",
       "      <td>BROKENH2</td>\n",
       "      <td>NSW1</td>\n",
       "      <td>0.000000</td>\n",
       "      <td>Solar</td>\n",
       "      <td>ISP 2018</td>\n",
       "    </tr>\n",
       "    <tr>\n",
       "      <td>10</td>\n",
       "      <td>BROWNMT</td>\n",
       "      <td>BROWNMT</td>\n",
       "      <td>NSW1</td>\n",
       "      <td>0.000000</td>\n",
       "      <td>Hydro</td>\n",
       "      <td>ISP 2018</td>\n",
       "    </tr>\n",
       "    <tr>\n",
       "      <td>11</td>\n",
       "      <td>BURRIN</td>\n",
       "      <td>BURRIN1</td>\n",
       "      <td>NSW1</td>\n",
       "      <td>0.000000</td>\n",
       "      <td>Hydro</td>\n",
       "      <td>ISP 2018</td>\n",
       "    </tr>\n",
       "    <tr>\n",
       "      <td>12</td>\n",
       "      <td>BW01</td>\n",
       "      <td>BW01</td>\n",
       "      <td>NSW1</td>\n",
       "      <td>0.912643</td>\n",
       "      <td>Black coal</td>\n",
       "      <td>ISP 2018</td>\n",
       "    </tr>\n",
       "    <tr>\n",
       "      <td>13</td>\n",
       "      <td>BW02</td>\n",
       "      <td>BW02</td>\n",
       "      <td>NSW1</td>\n",
       "      <td>0.912643</td>\n",
       "      <td>Black coal</td>\n",
       "      <td>ISP 2018</td>\n",
       "    </tr>\n",
       "    <tr>\n",
       "      <td>14</td>\n",
       "      <td>BW03</td>\n",
       "      <td>BW03</td>\n",
       "      <td>NSW1</td>\n",
       "      <td>0.912643</td>\n",
       "      <td>Black coal</td>\n",
       "      <td>ISP 2018</td>\n",
       "    </tr>\n",
       "    <tr>\n",
       "      <td>15</td>\n",
       "      <td>BW04</td>\n",
       "      <td>BW04</td>\n",
       "      <td>NSW1</td>\n",
       "      <td>0.912643</td>\n",
       "      <td>Black coal</td>\n",
       "      <td>ISP 2018</td>\n",
       "    </tr>\n",
       "    <tr>\n",
       "      <td>16</td>\n",
       "      <td>BWTR1</td>\n",
       "      <td>BWTR1</td>\n",
       "      <td>NSW1</td>\n",
       "      <td>0.018000</td>\n",
       "      <td>Bagasse</td>\n",
       "      <td>NGA 2018</td>\n",
       "    </tr>\n",
       "    <tr>\n",
       "      <td>17</td>\n",
       "      <td>CAPTL_WF</td>\n",
       "      <td>CAPTL_WF</td>\n",
       "      <td>NSW1</td>\n",
       "      <td>0.000000</td>\n",
       "      <td>Wind</td>\n",
       "      <td>ISP 2018</td>\n",
       "    </tr>\n",
       "    <tr>\n",
       "      <td>18</td>\n",
       "      <td>CESF1</td>\n",
       "      <td>CESF1</td>\n",
       "      <td>NSW1</td>\n",
       "      <td>0.000000</td>\n",
       "      <td>Solar</td>\n",
       "      <td>ISP 2018</td>\n",
       "    </tr>\n",
       "    <tr>\n",
       "      <td>19</td>\n",
       "      <td>CG1</td>\n",
       "      <td>CG1</td>\n",
       "      <td>NSW1</td>\n",
       "      <td>0.782560</td>\n",
       "      <td>Natural Gas (Pipeline)</td>\n",
       "      <td>ISP 2018</td>\n",
       "    </tr>\n",
       "    <tr>\n",
       "      <td>20</td>\n",
       "      <td>CG3</td>\n",
       "      <td>CG3</td>\n",
       "      <td>NSW1</td>\n",
       "      <td>0.782560</td>\n",
       "      <td>Natural Gas (Pipeline)</td>\n",
       "      <td>ISP 2018</td>\n",
       "    </tr>\n",
       "    <tr>\n",
       "      <td>21</td>\n",
       "      <td>COLEASF1</td>\n",
       "      <td>COLEASF1</td>\n",
       "      <td>NSW1</td>\n",
       "      <td>0.000000</td>\n",
       "      <td>Solar</td>\n",
       "      <td>ISP 2018</td>\n",
       "    </tr>\n",
       "    <tr>\n",
       "      <td>22</td>\n",
       "      <td>CONDONG1</td>\n",
       "      <td>CONDONG1</td>\n",
       "      <td>NSW1</td>\n",
       "      <td>0.018000</td>\n",
       "      <td>Bagasse</td>\n",
       "      <td>NGA 2018</td>\n",
       "    </tr>\n",
       "    <tr>\n",
       "      <td>23</td>\n",
       "      <td>COPTNHYD</td>\n",
       "      <td>COPTNHYD</td>\n",
       "      <td>NSW1</td>\n",
       "      <td>0.000000</td>\n",
       "      <td>Hydro</td>\n",
       "      <td>ISP 2018</td>\n",
       "    </tr>\n",
       "    <tr>\n",
       "      <td>24</td>\n",
       "      <td>CROOKWF2</td>\n",
       "      <td>CROOKWF2</td>\n",
       "      <td>NSW1</td>\n",
       "      <td>0.000000</td>\n",
       "      <td>Wind</td>\n",
       "      <td>ISP 2018</td>\n",
       "    </tr>\n",
       "    <tr>\n",
       "      <td>25</td>\n",
       "      <td>CULLRGWF</td>\n",
       "      <td>CULLRG01</td>\n",
       "      <td>NSW1</td>\n",
       "      <td>0.000000</td>\n",
       "      <td>Wind</td>\n",
       "      <td>ISP 2018</td>\n",
       "    </tr>\n",
       "    <tr>\n",
       "      <td>26</td>\n",
       "      <td>EASTCRK</td>\n",
       "      <td>EASTCRK</td>\n",
       "      <td>NSW1</td>\n",
       "      <td>0.062000</td>\n",
       "      <td>Landfill biogas methane</td>\n",
       "      <td>NGA 2018</td>\n",
       "    </tr>\n",
       "    <tr>\n",
       "      <td>27</td>\n",
       "      <td>ER01</td>\n",
       "      <td>ER01</td>\n",
       "      <td>NSW1</td>\n",
       "      <td>0.910143</td>\n",
       "      <td>Black coal</td>\n",
       "      <td>ISP 2018</td>\n",
       "    </tr>\n",
       "    <tr>\n",
       "      <td>28</td>\n",
       "      <td>ER02</td>\n",
       "      <td>ER02</td>\n",
       "      <td>NSW1</td>\n",
       "      <td>0.910143</td>\n",
       "      <td>Black coal</td>\n",
       "      <td>ISP 2018</td>\n",
       "    </tr>\n",
       "    <tr>\n",
       "      <td>29</td>\n",
       "      <td>ER03</td>\n",
       "      <td>ER03</td>\n",
       "      <td>NSW1</td>\n",
       "      <td>0.910143</td>\n",
       "      <td>Black coal</td>\n",
       "      <td>ISP 2018</td>\n",
       "    </tr>\n",
       "    <tr>\n",
       "      <td>30</td>\n",
       "      <td>ER04</td>\n",
       "      <td>ER04</td>\n",
       "      <td>NSW1</td>\n",
       "      <td>0.910143</td>\n",
       "      <td>Black coal</td>\n",
       "      <td>ISP 2018</td>\n",
       "    </tr>\n",
       "    <tr>\n",
       "      <td>31</td>\n",
       "      <td>ERNL1</td>\n",
       "      <td>ERNL1</td>\n",
       "      <td>NSW1</td>\n",
       "      <td>0.910143</td>\n",
       "      <td>Black coal</td>\n",
       "      <td>ISP 2018</td>\n",
       "    </tr>\n",
       "    <tr>\n",
       "      <td>32</td>\n",
       "      <td>FINLYSF1</td>\n",
       "      <td>FINLYSF1</td>\n",
       "      <td>NSW1</td>\n",
       "      <td>0.000000</td>\n",
       "      <td>Solar</td>\n",
       "      <td>Estimate - Other</td>\n",
       "    </tr>\n",
       "    <tr>\n",
       "      <td>33</td>\n",
       "      <td>GB01</td>\n",
       "      <td>GB01</td>\n",
       "      <td>NSW1</td>\n",
       "      <td>0.706000</td>\n",
       "      <td>Natural Gas (Pipeline)</td>\n",
       "      <td>NGA 2018</td>\n",
       "    </tr>\n",
       "    <tr>\n",
       "      <td>34</td>\n",
       "      <td>GLBWNHYD</td>\n",
       "      <td>GLBWNHYD</td>\n",
       "      <td>NSW1</td>\n",
       "      <td>0.000000</td>\n",
       "      <td>Hydro</td>\n",
       "      <td>ISP 2018</td>\n",
       "    </tr>\n",
       "    <tr>\n",
       "      <td>35</td>\n",
       "      <td>GLENNCRK</td>\n",
       "      <td>GLENNCRK</td>\n",
       "      <td>NSW1</td>\n",
       "      <td>0.716000</td>\n",
       "      <td>Coal mine waste gas</td>\n",
       "      <td>NGA 2018</td>\n",
       "    </tr>\n",
       "    <tr>\n",
       "      <td>36</td>\n",
       "      <td>GRANGEAV</td>\n",
       "      <td>GRANGEAV</td>\n",
       "      <td>NSW1</td>\n",
       "      <td>0.062000</td>\n",
       "      <td>Landfill biogas methane</td>\n",
       "      <td>NGA 2018</td>\n",
       "    </tr>\n",
       "    <tr>\n",
       "      <td>37</td>\n",
       "      <td>GRIFSF1</td>\n",
       "      <td>GRIFSF1</td>\n",
       "      <td>NSW1</td>\n",
       "      <td>0.000000</td>\n",
       "      <td>Solar</td>\n",
       "      <td>ISP 2018</td>\n",
       "    </tr>\n",
       "    <tr>\n",
       "      <td>38</td>\n",
       "      <td>GULLRSF1</td>\n",
       "      <td>GULLRSF1</td>\n",
       "      <td>NSW1</td>\n",
       "      <td>0.000000</td>\n",
       "      <td>Solar</td>\n",
       "      <td>ISP 2018</td>\n",
       "    </tr>\n",
       "    <tr>\n",
       "      <td>39</td>\n",
       "      <td>GULLRWF1</td>\n",
       "      <td>GULLRWF1</td>\n",
       "      <td>NSW1</td>\n",
       "      <td>0.000000</td>\n",
       "      <td>Wind</td>\n",
       "      <td>ISP 2018</td>\n",
       "    </tr>\n",
       "    <tr>\n",
       "      <td>40</td>\n",
       "      <td>GUNNING1</td>\n",
       "      <td>GUNNING1</td>\n",
       "      <td>NSW1</td>\n",
       "      <td>0.000000</td>\n",
       "      <td>Wind</td>\n",
       "      <td>ISP 2018</td>\n",
       "    </tr>\n",
       "    <tr>\n",
       "      <td>41</td>\n",
       "      <td>GUTHEGA</td>\n",
       "      <td>GUTHEGA</td>\n",
       "      <td>NSW1</td>\n",
       "      <td>0.000000</td>\n",
       "      <td>Hydro</td>\n",
       "      <td>ISP 2018</td>\n",
       "    </tr>\n",
       "    <tr>\n",
       "      <td>42</td>\n",
       "      <td>GUTHNL1</td>\n",
       "      <td>GUTHNL1</td>\n",
       "      <td>NSW1</td>\n",
       "      <td>0.000000</td>\n",
       "      <td>Hydro</td>\n",
       "      <td>ISP 2018</td>\n",
       "    </tr>\n",
       "    <tr>\n",
       "      <td>43</td>\n",
       "      <td>HUMENSW</td>\n",
       "      <td>HUMENSW1</td>\n",
       "      <td>NSW1</td>\n",
       "      <td>0.000000</td>\n",
       "      <td>Hydro</td>\n",
       "      <td>ISP 2018</td>\n",
       "    </tr>\n",
       "    <tr>\n",
       "      <td>44</td>\n",
       "      <td>HVGTS</td>\n",
       "      <td>GH01</td>\n",
       "      <td>NSW1</td>\n",
       "      <td>0.933004</td>\n",
       "      <td>Kerosene - non aviation</td>\n",
       "      <td>ISP 2018</td>\n",
       "    </tr>\n",
       "    <tr>\n",
       "      <td>45</td>\n",
       "      <td>HVGTS</td>\n",
       "      <td>GH02</td>\n",
       "      <td>NSW1</td>\n",
       "      <td>0.933004</td>\n",
       "      <td>Kerosene - non aviation</td>\n",
       "      <td>ISP 2018</td>\n",
       "    </tr>\n",
       "    <tr>\n",
       "      <td>46</td>\n",
       "      <td>JACKSGUL</td>\n",
       "      <td>JACKSGUL</td>\n",
       "      <td>NSW1</td>\n",
       "      <td>0.062000</td>\n",
       "      <td>Landfill biogas methane</td>\n",
       "      <td>NGA 2018</td>\n",
       "    </tr>\n",
       "    <tr>\n",
       "      <td>47</td>\n",
       "      <td>JNDABNE1</td>\n",
       "      <td>JNDABNE1</td>\n",
       "      <td>NSW1</td>\n",
       "      <td>0.000000</td>\n",
       "      <td>Hydro</td>\n",
       "      <td>ISP 2018</td>\n",
       "    </tr>\n",
       "    <tr>\n",
       "      <td>48</td>\n",
       "      <td>JOUNAMA1</td>\n",
       "      <td>JOUNAMA1</td>\n",
       "      <td>NSW1</td>\n",
       "      <td>0.000000</td>\n",
       "      <td>Hydro</td>\n",
       "      <td>ISP 2018</td>\n",
       "    </tr>\n",
       "    <tr>\n",
       "      <td>49</td>\n",
       "      <td>KEEPIT</td>\n",
       "      <td>KEEPIT</td>\n",
       "      <td>NSW1</td>\n",
       "      <td>0.000000</td>\n",
       "      <td>Hydro</td>\n",
       "      <td>ISP 2018</td>\n",
       "    </tr>\n",
       "  </tbody>\n",
       "</table>\n",
       "</div>"
      ],
      "text/plain": [
       "        DUID  GENSETID REGIONID  CO2E_EMISSIONS_FACTOR  \\\n",
       "0    AGLNOW1   AGLNOW1     NSW1               0.062000   \n",
       "1   AGLSITA1  AGLSITA1     NSW1               0.062000   \n",
       "2      APPIN     APPIN     NSW1               0.765000   \n",
       "3   BDONGHYD  BDONGHYD     NSW1               0.000000   \n",
       "4   BERYLSF1  BERYLSF1     NSW1               0.000000   \n",
       "5   BLOWERNG  BLOWERNG     NSW1               0.000000   \n",
       "6   BOCORWF1  BOCORWF1     NSW1               0.000000   \n",
       "7     BODWF1    BODWF1     NSW1               0.000000   \n",
       "8   BROKENH1  BROKENH1     NSW1               0.000000   \n",
       "9   BROKENH1  BROKENH2     NSW1               0.000000   \n",
       "10   BROWNMT   BROWNMT     NSW1               0.000000   \n",
       "11    BURRIN   BURRIN1     NSW1               0.000000   \n",
       "12      BW01      BW01     NSW1               0.912643   \n",
       "13      BW02      BW02     NSW1               0.912643   \n",
       "14      BW03      BW03     NSW1               0.912643   \n",
       "15      BW04      BW04     NSW1               0.912643   \n",
       "16     BWTR1     BWTR1     NSW1               0.018000   \n",
       "17  CAPTL_WF  CAPTL_WF     NSW1               0.000000   \n",
       "18     CESF1     CESF1     NSW1               0.000000   \n",
       "19       CG1       CG1     NSW1               0.782560   \n",
       "20       CG3       CG3     NSW1               0.782560   \n",
       "21  COLEASF1  COLEASF1     NSW1               0.000000   \n",
       "22  CONDONG1  CONDONG1     NSW1               0.018000   \n",
       "23  COPTNHYD  COPTNHYD     NSW1               0.000000   \n",
       "24  CROOKWF2  CROOKWF2     NSW1               0.000000   \n",
       "25  CULLRGWF  CULLRG01     NSW1               0.000000   \n",
       "26   EASTCRK   EASTCRK     NSW1               0.062000   \n",
       "27      ER01      ER01     NSW1               0.910143   \n",
       "28      ER02      ER02     NSW1               0.910143   \n",
       "29      ER03      ER03     NSW1               0.910143   \n",
       "30      ER04      ER04     NSW1               0.910143   \n",
       "31     ERNL1     ERNL1     NSW1               0.910143   \n",
       "32  FINLYSF1  FINLYSF1     NSW1               0.000000   \n",
       "33      GB01      GB01     NSW1               0.706000   \n",
       "34  GLBWNHYD  GLBWNHYD     NSW1               0.000000   \n",
       "35  GLENNCRK  GLENNCRK     NSW1               0.716000   \n",
       "36  GRANGEAV  GRANGEAV     NSW1               0.062000   \n",
       "37   GRIFSF1   GRIFSF1     NSW1               0.000000   \n",
       "38  GULLRSF1  GULLRSF1     NSW1               0.000000   \n",
       "39  GULLRWF1  GULLRWF1     NSW1               0.000000   \n",
       "40  GUNNING1  GUNNING1     NSW1               0.000000   \n",
       "41   GUTHEGA   GUTHEGA     NSW1               0.000000   \n",
       "42   GUTHNL1   GUTHNL1     NSW1               0.000000   \n",
       "43   HUMENSW  HUMENSW1     NSW1               0.000000   \n",
       "44     HVGTS      GH01     NSW1               0.933004   \n",
       "45     HVGTS      GH02     NSW1               0.933004   \n",
       "46  JACKSGUL  JACKSGUL     NSW1               0.062000   \n",
       "47  JNDABNE1  JNDABNE1     NSW1               0.000000   \n",
       "48  JOUNAMA1  JOUNAMA1     NSW1               0.000000   \n",
       "49    KEEPIT    KEEPIT     NSW1               0.000000   \n",
       "\n",
       "         CO2E_ENERGY_SOURCE  CO2E_DATA_SOURCE  \n",
       "0   Landfill biogas methane          NGA 2018  \n",
       "1   Landfill biogas methane          NGA 2018  \n",
       "2         Coal seam methane          NGA 2018  \n",
       "3                     Hydro          ISP 2018  \n",
       "4                     Solar          ISP 2018  \n",
       "5                     Hydro          ISP 2018  \n",
       "6                      Wind          ISP 2018  \n",
       "7                      Wind          ISP 2018  \n",
       "8                     Solar          ISP 2018  \n",
       "9                     Solar          ISP 2018  \n",
       "10                    Hydro          ISP 2018  \n",
       "11                    Hydro          ISP 2018  \n",
       "12               Black coal          ISP 2018  \n",
       "13               Black coal          ISP 2018  \n",
       "14               Black coal          ISP 2018  \n",
       "15               Black coal          ISP 2018  \n",
       "16                  Bagasse          NGA 2018  \n",
       "17                     Wind          ISP 2018  \n",
       "18                    Solar          ISP 2018  \n",
       "19   Natural Gas (Pipeline)          ISP 2018  \n",
       "20   Natural Gas (Pipeline)          ISP 2018  \n",
       "21                    Solar          ISP 2018  \n",
       "22                  Bagasse          NGA 2018  \n",
       "23                    Hydro          ISP 2018  \n",
       "24                     Wind          ISP 2018  \n",
       "25                     Wind          ISP 2018  \n",
       "26  Landfill biogas methane          NGA 2018  \n",
       "27               Black coal          ISP 2018  \n",
       "28               Black coal          ISP 2018  \n",
       "29               Black coal          ISP 2018  \n",
       "30               Black coal          ISP 2018  \n",
       "31               Black coal          ISP 2018  \n",
       "32                    Solar  Estimate - Other  \n",
       "33   Natural Gas (Pipeline)          NGA 2018  \n",
       "34                    Hydro          ISP 2018  \n",
       "35      Coal mine waste gas          NGA 2018  \n",
       "36  Landfill biogas methane          NGA 2018  \n",
       "37                    Solar          ISP 2018  \n",
       "38                    Solar          ISP 2018  \n",
       "39                     Wind          ISP 2018  \n",
       "40                     Wind          ISP 2018  \n",
       "41                    Hydro          ISP 2018  \n",
       "42                    Hydro          ISP 2018  \n",
       "43                    Hydro          ISP 2018  \n",
       "44  Kerosene - non aviation          ISP 2018  \n",
       "45  Kerosene - non aviation          ISP 2018  \n",
       "46  Landfill biogas methane          NGA 2018  \n",
       "47                    Hydro          ISP 2018  \n",
       "48                    Hydro          ISP 2018  \n",
       "49                    Hydro          ISP 2018  "
      ]
     },
     "execution_count": 92,
     "metadata": {},
     "output_type": "execute_result"
    }
   ],
   "source": [
    "file_path = '{}/Desktop/Portfolio_project/DUID_CO2.csv'.format(os.environ['HOME'])\n",
    "CO2_generators = pd.read_csv(file_path)\n",
    "CO2_generators.head(50)"
   ]
  },
  {
   "cell_type": "code",
   "execution_count": 94,
   "metadata": {},
   "outputs": [
    {
     "name": "stdout",
     "output_type": "stream",
     "text": [
      "The NEMDE_market_table uses 177 DUID items from the DUID CO2_generator column.\n",
      "The NEMDE_market_table uses 163 DUID items from the GENSETID CO2_generator column.\n",
      "The items ['MCKAY2', 'ANGAS2', 'ANGAS1'] from the GENSETID column should be added to the DUID column.\n"
     ]
    }
   ],
   "source": [
    "lst_diff = DUID_items(df, CO2_generators)"
   ]
  },
  {
   "cell_type": "code",
   "execution_count": 97,
   "metadata": {},
   "outputs": [
    {
     "name": "stdout",
     "output_type": "stream",
     "text": [
      "387\n"
     ]
    },
    {
     "data": {
      "text/html": [
       "<div>\n",
       "<style scoped>\n",
       "    .dataframe tbody tr th:only-of-type {\n",
       "        vertical-align: middle;\n",
       "    }\n",
       "\n",
       "    .dataframe tbody tr th {\n",
       "        vertical-align: top;\n",
       "    }\n",
       "\n",
       "    .dataframe thead th {\n",
       "        text-align: right;\n",
       "    }\n",
       "</style>\n",
       "<table border=\"1\" class=\"dataframe\">\n",
       "  <thead>\n",
       "    <tr style=\"text-align: right;\">\n",
       "      <th></th>\n",
       "      <th>DUID</th>\n",
       "      <th>CO2E_EMISSIONS_FACTOR</th>\n",
       "    </tr>\n",
       "  </thead>\n",
       "  <tbody>\n",
       "    <tr>\n",
       "      <td>95</td>\n",
       "      <td>EILDON2</td>\n",
       "      <td>0.000000</td>\n",
       "    </tr>\n",
       "    <tr>\n",
       "      <td>96</td>\n",
       "      <td>EILDON3</td>\n",
       "      <td>0.000000</td>\n",
       "    </tr>\n",
       "    <tr>\n",
       "      <td>97</td>\n",
       "      <td>EMERASF1</td>\n",
       "      <td>0.000000</td>\n",
       "    </tr>\n",
       "    <tr>\n",
       "      <td>98</td>\n",
       "      <td>ER01</td>\n",
       "      <td>0.910143</td>\n",
       "    </tr>\n",
       "    <tr>\n",
       "      <td>99</td>\n",
       "      <td>ER02</td>\n",
       "      <td>0.910143</td>\n",
       "    </tr>\n",
       "    <tr>\n",
       "      <td>100</td>\n",
       "      <td>ER03</td>\n",
       "      <td>0.910143</td>\n",
       "    </tr>\n",
       "    <tr>\n",
       "      <td>101</td>\n",
       "      <td>ER04</td>\n",
       "      <td>0.910143</td>\n",
       "    </tr>\n",
       "    <tr>\n",
       "      <td>102</td>\n",
       "      <td>ERNL1</td>\n",
       "      <td>0.910143</td>\n",
       "    </tr>\n",
       "    <tr>\n",
       "      <td>103</td>\n",
       "      <td>FINLYSF1</td>\n",
       "      <td>0.000000</td>\n",
       "    </tr>\n",
       "    <tr>\n",
       "      <td>104</td>\n",
       "      <td>FISHER</td>\n",
       "      <td>0.000000</td>\n",
       "    </tr>\n",
       "    <tr>\n",
       "      <td>105</td>\n",
       "      <td>GANNBG1</td>\n",
       "      <td>0.000000</td>\n",
       "    </tr>\n",
       "    <tr>\n",
       "      <td>106</td>\n",
       "      <td>GANNSF1</td>\n",
       "      <td>0.000000</td>\n",
       "    </tr>\n",
       "    <tr>\n",
       "      <td>107</td>\n",
       "      <td>GB01</td>\n",
       "      <td>0.706000</td>\n",
       "    </tr>\n",
       "    <tr>\n",
       "      <td>108</td>\n",
       "      <td>GERMCRK</td>\n",
       "      <td>0.062000</td>\n",
       "    </tr>\n",
       "    <tr>\n",
       "      <td>109</td>\n",
       "      <td>GLADNL1</td>\n",
       "      <td>0.971761</td>\n",
       "    </tr>\n",
       "  </tbody>\n",
       "</table>\n",
       "</div>"
      ],
      "text/plain": [
       "         DUID  CO2E_EMISSIONS_FACTOR\n",
       "95    EILDON2               0.000000\n",
       "96    EILDON3               0.000000\n",
       "97   EMERASF1               0.000000\n",
       "98       ER01               0.910143\n",
       "99       ER02               0.910143\n",
       "100      ER03               0.910143\n",
       "101      ER04               0.910143\n",
       "102     ERNL1               0.910143\n",
       "103  FINLYSF1               0.000000\n",
       "104    FISHER               0.000000\n",
       "105   GANNBG1               0.000000\n",
       "106   GANNSF1               0.000000\n",
       "107      GB01               0.706000\n",
       "108   GERMCRK               0.062000\n",
       "109   GLADNL1               0.971761"
      ]
     },
     "execution_count": 97,
     "metadata": {},
     "output_type": "execute_result"
    }
   ],
   "source": [
    "all_DUIDs = merge_DUID_GENSETID(CO2_generators, lst_diff)\n",
    "print(all_DUIDs.DUID.nunique())\n",
    "all_DUIDs.iloc[95:110]"
   ]
  },
  {
   "cell_type": "code",
   "execution_count": 103,
   "metadata": {},
   "outputs": [
    {
     "name": "stdout",
     "output_type": "stream",
     "text": [
      "(2886447, 3)\n"
     ]
    },
    {
     "data": {
      "text/html": [
       "<div>\n",
       "<style scoped>\n",
       "    .dataframe tbody tr th:only-of-type {\n",
       "        vertical-align: middle;\n",
       "    }\n",
       "\n",
       "    .dataframe tbody tr th {\n",
       "        vertical-align: top;\n",
       "    }\n",
       "\n",
       "    .dataframe thead th {\n",
       "        text-align: right;\n",
       "    }\n",
       "</style>\n",
       "<table border=\"1\" class=\"dataframe\">\n",
       "  <thead>\n",
       "    <tr style=\"text-align: right;\">\n",
       "      <th></th>\n",
       "      <th>Price</th>\n",
       "      <th>DUID</th>\n",
       "      <th>CO2E_EMISSIONS_FACTOR</th>\n",
       "    </tr>\n",
       "    <tr>\n",
       "      <th>PeriodID</th>\n",
       "      <th></th>\n",
       "      <th></th>\n",
       "      <th></th>\n",
       "    </tr>\n",
       "  </thead>\n",
       "  <tbody>\n",
       "    <tr>\n",
       "      <td>2018-07-31 23:55:00</td>\n",
       "      <td>70.70204</td>\n",
       "      <td>ER01</td>\n",
       "      <td>0.910143</td>\n",
       "    </tr>\n",
       "    <tr>\n",
       "      <td>2018-07-31 23:50:00</td>\n",
       "      <td>69.24109</td>\n",
       "      <td>ER01</td>\n",
       "      <td>0.910143</td>\n",
       "    </tr>\n",
       "    <tr>\n",
       "      <td>2018-07-31 23:50:00</td>\n",
       "      <td>69.24109</td>\n",
       "      <td>ER01</td>\n",
       "      <td>0.910143</td>\n",
       "    </tr>\n",
       "    <tr>\n",
       "      <td>2018-07-31 23:45:00</td>\n",
       "      <td>69.94850</td>\n",
       "      <td>ER01</td>\n",
       "      <td>0.910143</td>\n",
       "    </tr>\n",
       "    <tr>\n",
       "      <td>2018-07-31 23:15:00</td>\n",
       "      <td>47.00597</td>\n",
       "      <td>ER01</td>\n",
       "      <td>0.910143</td>\n",
       "    </tr>\n",
       "    <tr>\n",
       "      <td>...</td>\n",
       "      <td>...</td>\n",
       "      <td>...</td>\n",
       "      <td>...</td>\n",
       "    </tr>\n",
       "    <tr>\n",
       "      <td>NaT</td>\n",
       "      <td>NaN</td>\n",
       "      <td>YAWWF1</td>\n",
       "      <td>0.000000</td>\n",
       "    </tr>\n",
       "    <tr>\n",
       "      <td>NaT</td>\n",
       "      <td>NaN</td>\n",
       "      <td>YENDWF1</td>\n",
       "      <td>0.000000</td>\n",
       "    </tr>\n",
       "    <tr>\n",
       "      <td>NaT</td>\n",
       "      <td>NaN</td>\n",
       "      <td>YSWF1</td>\n",
       "      <td>0.000000</td>\n",
       "    </tr>\n",
       "    <tr>\n",
       "      <td>NaT</td>\n",
       "      <td>NaN</td>\n",
       "      <td>YWNGAHYD</td>\n",
       "      <td>0.000000</td>\n",
       "    </tr>\n",
       "    <tr>\n",
       "      <td>NaT</td>\n",
       "      <td>NaN</td>\n",
       "      <td>YWNL1</td>\n",
       "      <td>1.315515</td>\n",
       "    </tr>\n",
       "  </tbody>\n",
       "</table>\n",
       "<p>2886447 rows × 3 columns</p>\n",
       "</div>"
      ],
      "text/plain": [
       "                        Price      DUID  CO2E_EMISSIONS_FACTOR\n",
       "PeriodID                                                      \n",
       "2018-07-31 23:55:00  70.70204      ER01               0.910143\n",
       "2018-07-31 23:50:00  69.24109      ER01               0.910143\n",
       "2018-07-31 23:50:00  69.24109      ER01               0.910143\n",
       "2018-07-31 23:45:00  69.94850      ER01               0.910143\n",
       "2018-07-31 23:15:00  47.00597      ER01               0.910143\n",
       "...                       ...       ...                    ...\n",
       "NaT                       NaN    YAWWF1               0.000000\n",
       "NaT                       NaN   YENDWF1               0.000000\n",
       "NaT                       NaN     YSWF1               0.000000\n",
       "NaT                       NaN  YWNGAHYD               0.000000\n",
       "NaT                       NaN     YWNL1               1.315515\n",
       "\n",
       "[2886447 rows x 3 columns]"
      ]
     },
     "execution_count": 103,
     "metadata": {},
     "output_type": "execute_result"
    }
   ],
   "source": [
    "df_DUID_CO2_test1 = df.reset_index().merge(all_DUIDs, how=\"right\", on=\"DUID\").set_index(\"PeriodID\")\n",
    "df_DUID_CO2_test1 = df_DUID_CO2_test1.drop(columns=[\"RegionID\", \"Market\", \"DispatchedMarket\", \"Increase\"])\n",
    "print(df_DUID_CO2_test1.shape)\n",
    "df_DUID_CO2_test1"
   ]
  },
  {
   "cell_type": "code",
   "execution_count": null,
   "metadata": {},
   "outputs": [],
   "source": []
  },
  {
   "cell_type": "code",
   "execution_count": 102,
   "metadata": {},
   "outputs": [
    {
     "name": "stdout",
     "output_type": "stream",
     "text": [
      "(5951707, 3)\n"
     ]
    },
    {
     "data": {
      "text/html": [
       "<div>\n",
       "<style scoped>\n",
       "    .dataframe tbody tr th:only-of-type {\n",
       "        vertical-align: middle;\n",
       "    }\n",
       "\n",
       "    .dataframe tbody tr th {\n",
       "        vertical-align: top;\n",
       "    }\n",
       "\n",
       "    .dataframe thead th {\n",
       "        text-align: right;\n",
       "    }\n",
       "</style>\n",
       "<table border=\"1\" class=\"dataframe\">\n",
       "  <thead>\n",
       "    <tr style=\"text-align: right;\">\n",
       "      <th></th>\n",
       "      <th>Price</th>\n",
       "      <th>DUID</th>\n",
       "      <th>CO2E_EMISSIONS_FACTOR</th>\n",
       "    </tr>\n",
       "    <tr>\n",
       "      <th>PeriodID</th>\n",
       "      <th></th>\n",
       "      <th></th>\n",
       "      <th></th>\n",
       "    </tr>\n",
       "  </thead>\n",
       "  <tbody>\n",
       "    <tr>\n",
       "      <td>2018-07-31 23:55:00</td>\n",
       "      <td>70.70204</td>\n",
       "      <td>ER01</td>\n",
       "      <td>0.910143</td>\n",
       "    </tr>\n",
       "    <tr>\n",
       "      <td>2018-07-31 23:55:00</td>\n",
       "      <td>70.70204</td>\n",
       "      <td>ER04</td>\n",
       "      <td>0.910143</td>\n",
       "    </tr>\n",
       "    <tr>\n",
       "      <td>2018-07-31 23:55:00</td>\n",
       "      <td>70.70204</td>\n",
       "      <td>ER03</td>\n",
       "      <td>0.910143</td>\n",
       "    </tr>\n",
       "    <tr>\n",
       "      <td>2018-07-31 23:55:00</td>\n",
       "      <td>70.70204</td>\n",
       "      <td>ER02</td>\n",
       "      <td>0.910143</td>\n",
       "    </tr>\n",
       "    <tr>\n",
       "      <td>2018-07-31 23:50:00</td>\n",
       "      <td>69.24109</td>\n",
       "      <td>DEVILS_G</td>\n",
       "      <td>0.000000</td>\n",
       "    </tr>\n",
       "    <tr>\n",
       "      <td>...</td>\n",
       "      <td>...</td>\n",
       "      <td>...</td>\n",
       "      <td>...</td>\n",
       "    </tr>\n",
       "    <tr>\n",
       "      <td>2009-07-01 04:00:00</td>\n",
       "      <td>1.35918</td>\n",
       "      <td>ER03</td>\n",
       "      <td>0.910143</td>\n",
       "    </tr>\n",
       "    <tr>\n",
       "      <td>2009-07-01 04:00:00</td>\n",
       "      <td>1.35918</td>\n",
       "      <td>ER04</td>\n",
       "      <td>0.910143</td>\n",
       "    </tr>\n",
       "    <tr>\n",
       "      <td>2009-07-01 04:00:00</td>\n",
       "      <td>1.35918</td>\n",
       "      <td>ENOF,YWPS2,2,YWPS3,2</td>\n",
       "      <td>NaN</td>\n",
       "    </tr>\n",
       "    <tr>\n",
       "      <td>2009-07-01 04:00:00</td>\n",
       "      <td>1.35918</td>\n",
       "      <td>ER01</td>\n",
       "      <td>0.910143</td>\n",
       "    </tr>\n",
       "    <tr>\n",
       "      <td>2009-07-01 04:00:00</td>\n",
       "      <td>1.35918</td>\n",
       "      <td>YWPS2</td>\n",
       "      <td>1.315515</td>\n",
       "    </tr>\n",
       "  </tbody>\n",
       "</table>\n",
       "<p>5951707 rows × 3 columns</p>\n",
       "</div>"
      ],
      "text/plain": [
       "                        Price                  DUID  CO2E_EMISSIONS_FACTOR\n",
       "PeriodID                                                                  \n",
       "2018-07-31 23:55:00  70.70204                  ER01               0.910143\n",
       "2018-07-31 23:55:00  70.70204                  ER04               0.910143\n",
       "2018-07-31 23:55:00  70.70204                  ER03               0.910143\n",
       "2018-07-31 23:55:00  70.70204                  ER02               0.910143\n",
       "2018-07-31 23:50:00  69.24109              DEVILS_G               0.000000\n",
       "...                       ...                   ...                    ...\n",
       "2009-07-01 04:00:00   1.35918                  ER03               0.910143\n",
       "2009-07-01 04:00:00   1.35918                  ER04               0.910143\n",
       "2009-07-01 04:00:00   1.35918  ENOF,YWPS2,2,YWPS3,2                    NaN\n",
       "2009-07-01 04:00:00   1.35918                  ER01               0.910143\n",
       "2009-07-01 04:00:00   1.35918                 YWPS2               1.315515\n",
       "\n",
       "[5951707 rows x 3 columns]"
      ]
     },
     "execution_count": 102,
     "metadata": {},
     "output_type": "execute_result"
    }
   ],
   "source": [
    "df_DUID_CO2_test = df.reset_index().merge(all_DUIDs, how=\"left\", on=\"DUID\").set_index(\"PeriodID\")\n",
    "df_DUID_CO2_test = df_DUID_CO2_test.drop(columns=[\"RegionID\", \"Market\", \"DispatchedMarket\", \"Increase\"])\n",
    "print(df_DUID_CO2_test.shape)\n",
    "df_DUID_CO2_test"
   ]
  },
  {
   "cell_type": "code",
   "execution_count": null,
   "metadata": {},
   "outputs": [],
   "source": []
  },
  {
   "cell_type": "code",
   "execution_count": 114,
   "metadata": {},
   "outputs": [
    {
     "name": "stdout",
     "output_type": "stream",
     "text": [
      "(3065467, 3)\n"
     ]
    },
    {
     "data": {
      "text/html": [
       "<div>\n",
       "<style scoped>\n",
       "    .dataframe tbody tr th:only-of-type {\n",
       "        vertical-align: middle;\n",
       "    }\n",
       "\n",
       "    .dataframe tbody tr th {\n",
       "        vertical-align: top;\n",
       "    }\n",
       "\n",
       "    .dataframe thead th {\n",
       "        text-align: right;\n",
       "    }\n",
       "</style>\n",
       "<table border=\"1\" class=\"dataframe\">\n",
       "  <thead>\n",
       "    <tr style=\"text-align: right;\">\n",
       "      <th></th>\n",
       "      <th>Price</th>\n",
       "      <th>DUID</th>\n",
       "      <th>CO2E_EMISSIONS_FACTOR</th>\n",
       "    </tr>\n",
       "    <tr>\n",
       "      <th>PeriodID</th>\n",
       "      <th></th>\n",
       "      <th></th>\n",
       "      <th></th>\n",
       "    </tr>\n",
       "  </thead>\n",
       "  <tbody>\n",
       "    <tr>\n",
       "      <td>2018-07-31 22:05:00</td>\n",
       "      <td>85.00001</td>\n",
       "      <td>ENOF,TORRA2,3,TORRB4,3</td>\n",
       "      <td>NaN</td>\n",
       "    </tr>\n",
       "    <tr>\n",
       "      <td>2018-07-31 22:05:00</td>\n",
       "      <td>85.00001</td>\n",
       "      <td>ENOF,TORRA2,3,TORRB3,3</td>\n",
       "      <td>NaN</td>\n",
       "    </tr>\n",
       "    <tr>\n",
       "      <td>2018-07-31 21:55:00</td>\n",
       "      <td>79.32086</td>\n",
       "      <td>ENOF,GSTONE4,5,GSTONE5,5</td>\n",
       "      <td>NaN</td>\n",
       "    </tr>\n",
       "    <tr>\n",
       "      <td>2018-07-31 21:55:00</td>\n",
       "      <td>79.32086</td>\n",
       "      <td>ENOF,GSTONE5,5,GSTONE6,5</td>\n",
       "      <td>NaN</td>\n",
       "    </tr>\n",
       "    <tr>\n",
       "      <td>2018-07-31 21:55:00</td>\n",
       "      <td>79.32086</td>\n",
       "      <td>ENOF,GSTONE3,5,GSTONE4,5</td>\n",
       "      <td>NaN</td>\n",
       "    </tr>\n",
       "    <tr>\n",
       "      <td>2018-07-31 21:55:00</td>\n",
       "      <td>79.32086</td>\n",
       "      <td>ENOF,GSTONE2,5,GSTONE5,5</td>\n",
       "      <td>NaN</td>\n",
       "    </tr>\n",
       "    <tr>\n",
       "      <td>2018-07-31 21:55:00</td>\n",
       "      <td>79.32086</td>\n",
       "      <td>ENOF,GSTONE3,5,GSTONE6,5</td>\n",
       "      <td>NaN</td>\n",
       "    </tr>\n",
       "    <tr>\n",
       "      <td>2018-07-31 21:55:00</td>\n",
       "      <td>79.32086</td>\n",
       "      <td>ENOF,GSTONE2,5,GSTONE3,5</td>\n",
       "      <td>NaN</td>\n",
       "    </tr>\n",
       "    <tr>\n",
       "      <td>2018-07-31 21:55:00</td>\n",
       "      <td>79.32086</td>\n",
       "      <td>ENOF,GSTONE1,5,GSTONE5,5</td>\n",
       "      <td>NaN</td>\n",
       "    </tr>\n",
       "    <tr>\n",
       "      <td>2018-07-31 21:55:00</td>\n",
       "      <td>79.32086</td>\n",
       "      <td>ENOF,GSTONE1,5,GSTONE3,5</td>\n",
       "      <td>NaN</td>\n",
       "    </tr>\n",
       "    <tr>\n",
       "      <td>2018-07-31 21:30:00</td>\n",
       "      <td>85.00001</td>\n",
       "      <td>ENOF,TORRA2,3,TORRB4,3</td>\n",
       "      <td>NaN</td>\n",
       "    </tr>\n",
       "    <tr>\n",
       "      <td>2018-07-31 21:30:00</td>\n",
       "      <td>85.00001</td>\n",
       "      <td>ENOF,TORRA2,3,TORRB3,3</td>\n",
       "      <td>NaN</td>\n",
       "    </tr>\n",
       "    <tr>\n",
       "      <td>2018-07-31 21:30:00</td>\n",
       "      <td>85.00001</td>\n",
       "      <td>ENOF,TORRA2,3,TORRB2,3</td>\n",
       "      <td>NaN</td>\n",
       "    </tr>\n",
       "    <tr>\n",
       "      <td>2018-07-31 21:20:00</td>\n",
       "      <td>85.00001</td>\n",
       "      <td>ENOF,TORRA2,3,TORRB3,3</td>\n",
       "      <td>NaN</td>\n",
       "    </tr>\n",
       "    <tr>\n",
       "      <td>2018-07-31 21:20:00</td>\n",
       "      <td>85.00001</td>\n",
       "      <td>ENOF,TORRA2,3,TORRB4,3</td>\n",
       "      <td>NaN</td>\n",
       "    </tr>\n",
       "    <tr>\n",
       "      <td>2018-07-31 21:20:00</td>\n",
       "      <td>85.00001</td>\n",
       "      <td>ENOF,TORRA2,3,TORRB2,3</td>\n",
       "      <td>NaN</td>\n",
       "    </tr>\n",
       "    <tr>\n",
       "      <td>2018-07-31 21:15:00</td>\n",
       "      <td>84.99994</td>\n",
       "      <td>ENOF,TORRA2,3,TORRB4,3</td>\n",
       "      <td>NaN</td>\n",
       "    </tr>\n",
       "    <tr>\n",
       "      <td>2018-07-31 21:15:00</td>\n",
       "      <td>84.99994</td>\n",
       "      <td>ENOF,TORRB2,3,TORRB4,3</td>\n",
       "      <td>NaN</td>\n",
       "    </tr>\n",
       "    <tr>\n",
       "      <td>2018-07-31 21:15:00</td>\n",
       "      <td>84.99994</td>\n",
       "      <td>ENOF,TORRB2,3,TORRB3,3</td>\n",
       "      <td>NaN</td>\n",
       "    </tr>\n",
       "    <tr>\n",
       "      <td>2018-07-31 21:15:00</td>\n",
       "      <td>84.99994</td>\n",
       "      <td>ENOF,TORRA2,3,TORRB3,3</td>\n",
       "      <td>NaN</td>\n",
       "    </tr>\n",
       "    <tr>\n",
       "      <td>2018-07-31 21:05:00</td>\n",
       "      <td>91.34000</td>\n",
       "      <td>HPRL1</td>\n",
       "      <td>NaN</td>\n",
       "    </tr>\n",
       "    <tr>\n",
       "      <td>2018-07-31 21:00:00</td>\n",
       "      <td>85.42954</td>\n",
       "      <td>APD01</td>\n",
       "      <td>NaN</td>\n",
       "    </tr>\n",
       "    <tr>\n",
       "      <td>2018-07-31 21:00:00</td>\n",
       "      <td>85.42954</td>\n",
       "      <td>ENOF,BW02,3,BW03,3</td>\n",
       "      <td>NaN</td>\n",
       "    </tr>\n",
       "    <tr>\n",
       "      <td>2018-07-31 19:50:00</td>\n",
       "      <td>95.95992</td>\n",
       "      <td>ENOF,ER01,5,ER03,5</td>\n",
       "      <td>NaN</td>\n",
       "    </tr>\n",
       "    <tr>\n",
       "      <td>2018-07-31 19:50:00</td>\n",
       "      <td>95.95992</td>\n",
       "      <td>VENUS1</td>\n",
       "      <td>NaN</td>\n",
       "    </tr>\n",
       "  </tbody>\n",
       "</table>\n",
       "</div>"
      ],
      "text/plain": [
       "                        Price                      DUID  CO2E_EMISSIONS_FACTOR\n",
       "PeriodID                                                                      \n",
       "2018-07-31 22:05:00  85.00001    ENOF,TORRA2,3,TORRB4,3                    NaN\n",
       "2018-07-31 22:05:00  85.00001    ENOF,TORRA2,3,TORRB3,3                    NaN\n",
       "2018-07-31 21:55:00  79.32086  ENOF,GSTONE4,5,GSTONE5,5                    NaN\n",
       "2018-07-31 21:55:00  79.32086  ENOF,GSTONE5,5,GSTONE6,5                    NaN\n",
       "2018-07-31 21:55:00  79.32086  ENOF,GSTONE3,5,GSTONE4,5                    NaN\n",
       "2018-07-31 21:55:00  79.32086  ENOF,GSTONE2,5,GSTONE5,5                    NaN\n",
       "2018-07-31 21:55:00  79.32086  ENOF,GSTONE3,5,GSTONE6,5                    NaN\n",
       "2018-07-31 21:55:00  79.32086  ENOF,GSTONE2,5,GSTONE3,5                    NaN\n",
       "2018-07-31 21:55:00  79.32086  ENOF,GSTONE1,5,GSTONE5,5                    NaN\n",
       "2018-07-31 21:55:00  79.32086  ENOF,GSTONE1,5,GSTONE3,5                    NaN\n",
       "2018-07-31 21:30:00  85.00001    ENOF,TORRA2,3,TORRB4,3                    NaN\n",
       "2018-07-31 21:30:00  85.00001    ENOF,TORRA2,3,TORRB3,3                    NaN\n",
       "2018-07-31 21:30:00  85.00001    ENOF,TORRA2,3,TORRB2,3                    NaN\n",
       "2018-07-31 21:20:00  85.00001    ENOF,TORRA2,3,TORRB3,3                    NaN\n",
       "2018-07-31 21:20:00  85.00001    ENOF,TORRA2,3,TORRB4,3                    NaN\n",
       "2018-07-31 21:20:00  85.00001    ENOF,TORRA2,3,TORRB2,3                    NaN\n",
       "2018-07-31 21:15:00  84.99994    ENOF,TORRA2,3,TORRB4,3                    NaN\n",
       "2018-07-31 21:15:00  84.99994    ENOF,TORRB2,3,TORRB4,3                    NaN\n",
       "2018-07-31 21:15:00  84.99994    ENOF,TORRB2,3,TORRB3,3                    NaN\n",
       "2018-07-31 21:15:00  84.99994    ENOF,TORRA2,3,TORRB3,3                    NaN\n",
       "2018-07-31 21:05:00  91.34000                     HPRL1                    NaN\n",
       "2018-07-31 21:00:00  85.42954                     APD01                    NaN\n",
       "2018-07-31 21:00:00  85.42954        ENOF,BW02,3,BW03,3                    NaN\n",
       "2018-07-31 19:50:00  95.95992        ENOF,ER01,5,ER03,5                    NaN\n",
       "2018-07-31 19:50:00  95.95992                    VENUS1                    NaN"
      ]
     },
     "execution_count": 114,
     "metadata": {},
     "output_type": "execute_result"
    }
   ],
   "source": [
    "print(df_DUID_CO2_test[df_DUID_CO2_test.CO2E_EMISSIONS_FACTOR.isna()].shape)\n",
    "df_DUID_CO2_test[df_DUID_CO2_test.CO2E_EMISSIONS_FACTOR.isna()].iloc[50:75]"
   ]
  },
  {
   "cell_type": "code",
   "execution_count": 112,
   "metadata": {},
   "outputs": [
    {
     "data": {
      "text/html": [
       "<div>\n",
       "<style scoped>\n",
       "    .dataframe tbody tr th:only-of-type {\n",
       "        vertical-align: middle;\n",
       "    }\n",
       "\n",
       "    .dataframe tbody tr th {\n",
       "        vertical-align: top;\n",
       "    }\n",
       "\n",
       "    .dataframe thead th {\n",
       "        text-align: right;\n",
       "    }\n",
       "</style>\n",
       "<table border=\"1\" class=\"dataframe\">\n",
       "  <thead>\n",
       "    <tr style=\"text-align: right;\">\n",
       "      <th></th>\n",
       "      <th>DUID</th>\n",
       "      <th>CO2E_EMISSIONS_FACTOR</th>\n",
       "    </tr>\n",
       "  </thead>\n",
       "  <tbody>\n",
       "  </tbody>\n",
       "</table>\n",
       "</div>"
      ],
      "text/plain": [
       "Empty DataFrame\n",
       "Columns: [DUID, CO2E_EMISSIONS_FACTOR]\n",
       "Index: []"
      ]
     },
     "execution_count": 112,
     "metadata": {},
     "output_type": "execute_result"
    }
   ],
   "source": [
    "all_DUIDs[all_DUIDs.DUID == \"HPRL1\"]"
   ]
  },
  {
   "cell_type": "code",
   "execution_count": 163,
   "metadata": {},
   "outputs": [
    {
     "name": "stdout",
     "output_type": "stream",
     "text": [
      "(2886240, 3)\n",
      "(911397, 2)\n"
     ]
    },
    {
     "data": {
      "text/html": [
       "<div>\n",
       "<style scoped>\n",
       "    .dataframe tbody tr th:only-of-type {\n",
       "        vertical-align: middle;\n",
       "    }\n",
       "\n",
       "    .dataframe tbody tr th {\n",
       "        vertical-align: top;\n",
       "    }\n",
       "\n",
       "    .dataframe thead th {\n",
       "        text-align: right;\n",
       "    }\n",
       "</style>\n",
       "<table border=\"1\" class=\"dataframe\">\n",
       "  <thead>\n",
       "    <tr style=\"text-align: right;\">\n",
       "      <th></th>\n",
       "      <th>Price</th>\n",
       "      <th>CO2E_EMISSIONS_FACTOR</th>\n",
       "    </tr>\n",
       "    <tr>\n",
       "      <th>PeriodID</th>\n",
       "      <th></th>\n",
       "      <th></th>\n",
       "    </tr>\n",
       "  </thead>\n",
       "  <tbody>\n",
       "    <tr>\n",
       "      <td>2018-07-31 21:25:00</td>\n",
       "      <td>84.16021</td>\n",
       "      <td>0.000000</td>\n",
       "    </tr>\n",
       "    <tr>\n",
       "      <td>2018-07-31 21:20:00</td>\n",
       "      <td>85.00001</td>\n",
       "      <td>0.681150</td>\n",
       "    </tr>\n",
       "    <tr>\n",
       "      <td>2018-07-31 21:15:00</td>\n",
       "      <td>84.99994</td>\n",
       "      <td>0.681150</td>\n",
       "    </tr>\n",
       "    <tr>\n",
       "      <td>2018-07-31 21:10:00</td>\n",
       "      <td>84.16021</td>\n",
       "      <td>0.000000</td>\n",
       "    </tr>\n",
       "    <tr>\n",
       "      <td>2018-07-31 21:00:00</td>\n",
       "      <td>85.42954</td>\n",
       "      <td>0.914423</td>\n",
       "    </tr>\n",
       "    <tr>\n",
       "      <td>2018-07-31 20:55:00</td>\n",
       "      <td>97.07992</td>\n",
       "      <td>0.000000</td>\n",
       "    </tr>\n",
       "    <tr>\n",
       "      <td>2018-07-31 20:50:00</td>\n",
       "      <td>114.88000</td>\n",
       "      <td>0.544686</td>\n",
       "    </tr>\n",
       "    <tr>\n",
       "      <td>2018-07-31 20:45:00</td>\n",
       "      <td>114.88000</td>\n",
       "      <td>0.544686</td>\n",
       "    </tr>\n",
       "    <tr>\n",
       "      <td>2018-07-31 20:40:00</td>\n",
       "      <td>114.88000</td>\n",
       "      <td>0.544686</td>\n",
       "    </tr>\n",
       "    <tr>\n",
       "      <td>2018-07-31 20:35:00</td>\n",
       "      <td>114.88000</td>\n",
       "      <td>0.544686</td>\n",
       "    </tr>\n",
       "  </tbody>\n",
       "</table>\n",
       "</div>"
      ],
      "text/plain": [
       "                         Price  CO2E_EMISSIONS_FACTOR\n",
       "PeriodID                                             \n",
       "2018-07-31 21:25:00   84.16021               0.000000\n",
       "2018-07-31 21:20:00   85.00001               0.681150\n",
       "2018-07-31 21:15:00   84.99994               0.681150\n",
       "2018-07-31 21:10:00   84.16021               0.000000\n",
       "2018-07-31 21:00:00   85.42954               0.914423\n",
       "2018-07-31 20:55:00   97.07992               0.000000\n",
       "2018-07-31 20:50:00  114.88000               0.544686\n",
       "2018-07-31 20:45:00  114.88000               0.544686\n",
       "2018-07-31 20:40:00  114.88000               0.544686\n",
       "2018-07-31 20:35:00  114.88000               0.544686"
      ]
     },
     "execution_count": 163,
     "metadata": {},
     "output_type": "execute_result"
    }
   ],
   "source": [
    "print(df_DUID_CO2_test[~df_DUID_CO2_test.CO2E_EMISSIONS_FACTOR.isna()].shape)\n",
    "df_DUID_CO2_test = df_DUID_CO2_test[~df_DUID_CO2_test.CO2E_EMISSIONS_FACTOR.isna()]\n",
    "time_grouped = df_DUID_CO2_test.groupby(df_DUID_CO2_test.index).mean()\n",
    "print(time_grouped.shape)\n",
    "time_grouped.sort_index(ascending=False, inplace=True)\n",
    "time_grouped.iloc[30:40]"
   ]
  },
  {
   "cell_type": "code",
   "execution_count": 11,
   "metadata": {},
   "outputs": [
    {
     "ename": "NameError",
     "evalue": "name 'df_DUID_CO2_time' is not defined",
     "output_type": "error",
     "traceback": [
      "\u001b[0;31m---------------------------------------------------------------------------\u001b[0m",
      "\u001b[0;31mNameError\u001b[0m                                 Traceback (most recent call last)",
      "\u001b[0;32m<ipython-input-11-1b34673e8e22>\u001b[0m in \u001b[0;36m<module>\u001b[0;34m\u001b[0m\n\u001b[0;32m----> 1\u001b[0;31m \u001b[0mpd\u001b[0m\u001b[0;34m.\u001b[0m\u001b[0mto_pickle\u001b[0m\u001b[0;34m(\u001b[0m\u001b[0mdf_DUID_CO2_time\u001b[0m\u001b[0;34m,\u001b[0m \u001b[0;34m'{}/nem-data/nemde_clean/df_DUID_CO2_time.pkl'\u001b[0m\u001b[0;34m.\u001b[0m\u001b[0mformat\u001b[0m\u001b[0;34m(\u001b[0m\u001b[0mos\u001b[0m\u001b[0;34m.\u001b[0m\u001b[0menviron\u001b[0m\u001b[0;34m[\u001b[0m\u001b[0;34m'HOME'\u001b[0m\u001b[0;34m]\u001b[0m\u001b[0;34m)\u001b[0m\u001b[0;34m)\u001b[0m\u001b[0;34m\u001b[0m\u001b[0;34m\u001b[0m\u001b[0m\n\u001b[0m\u001b[1;32m      2\u001b[0m \u001b[0mdf_DUID_CO2_time\u001b[0m\u001b[0;34m.\u001b[0m\u001b[0mhead\u001b[0m\u001b[0;34m(\u001b[0m\u001b[0;34m)\u001b[0m\u001b[0;34m\u001b[0m\u001b[0;34m\u001b[0m\u001b[0m\n",
      "\u001b[0;31mNameError\u001b[0m: name 'df_DUID_CO2_time' is not defined"
     ]
    }
   ],
   "source": [
    "pd.to_pickle(df_DUID_CO2_time, '{}/nem-data/nemde_clean/df_DUID_CO2_time.pkl'.format(os.environ['HOME']))\n",
    "df_DUID_CO2_time.head()"
   ]
  },
  {
   "cell_type": "code",
   "execution_count": 12,
   "metadata": {},
   "outputs": [],
   "source": [
    "df_DUID_CO2_time = pd.read_pickle('{}/nem-data/nemde_clean/df_DUID_CO2_time.pkl'.format(os.environ['HOME']))"
   ]
  },
  {
   "cell_type": "code",
   "execution_count": 68,
   "metadata": {},
   "outputs": [
    {
     "data": {
      "text/plain": [
       "180"
      ]
     },
     "execution_count": 68,
     "metadata": {},
     "output_type": "execute_result"
    }
   ],
   "source": [
    "df_DUID_CO2_time.DUID.nunique()"
   ]
  },
  {
   "cell_type": "code",
   "execution_count": 91,
   "metadata": {},
   "outputs": [
    {
     "data": {
      "text/html": [
       "<div>\n",
       "<style scoped>\n",
       "    .dataframe tbody tr th:only-of-type {\n",
       "        vertical-align: middle;\n",
       "    }\n",
       "\n",
       "    .dataframe tbody tr th {\n",
       "        vertical-align: top;\n",
       "    }\n",
       "\n",
       "    .dataframe thead th {\n",
       "        text-align: right;\n",
       "    }\n",
       "</style>\n",
       "<table border=\"1\" class=\"dataframe\">\n",
       "  <thead>\n",
       "    <tr style=\"text-align: right;\">\n",
       "      <th></th>\n",
       "      <th>Price</th>\n",
       "      <th>DUID</th>\n",
       "      <th>CO2E_EMISSIONS_FACTOR</th>\n",
       "    </tr>\n",
       "    <tr>\n",
       "      <th>PeriodID</th>\n",
       "      <th></th>\n",
       "      <th></th>\n",
       "      <th></th>\n",
       "    </tr>\n",
       "  </thead>\n",
       "  <tbody>\n",
       "    <tr>\n",
       "      <td>2018-07-31 23:55:00</td>\n",
       "      <td>70.70204</td>\n",
       "      <td>ER01</td>\n",
       "      <td>0.910143</td>\n",
       "    </tr>\n",
       "    <tr>\n",
       "      <td>2018-07-31 23:50:00</td>\n",
       "      <td>69.24109</td>\n",
       "      <td>ER01</td>\n",
       "      <td>0.910143</td>\n",
       "    </tr>\n",
       "    <tr>\n",
       "      <td>2018-07-31 23:50:00</td>\n",
       "      <td>69.24109</td>\n",
       "      <td>ER01</td>\n",
       "      <td>0.910143</td>\n",
       "    </tr>\n",
       "    <tr>\n",
       "      <td>2018-07-31 23:45:00</td>\n",
       "      <td>69.94850</td>\n",
       "      <td>ER01</td>\n",
       "      <td>0.910143</td>\n",
       "    </tr>\n",
       "    <tr>\n",
       "      <td>2018-07-31 23:15:00</td>\n",
       "      <td>47.00597</td>\n",
       "      <td>ER01</td>\n",
       "      <td>0.910143</td>\n",
       "    </tr>\n",
       "  </tbody>\n",
       "</table>\n",
       "</div>"
      ],
      "text/plain": [
       "                        Price  DUID  CO2E_EMISSIONS_FACTOR\n",
       "PeriodID                                                  \n",
       "2018-07-31 23:55:00  70.70204  ER01               0.910143\n",
       "2018-07-31 23:50:00  69.24109  ER01               0.910143\n",
       "2018-07-31 23:50:00  69.24109  ER01               0.910143\n",
       "2018-07-31 23:45:00  69.94850  ER01               0.910143\n",
       "2018-07-31 23:15:00  47.00597  ER01               0.910143"
      ]
     },
     "execution_count": 91,
     "metadata": {},
     "output_type": "execute_result"
    }
   ],
   "source": [
    "df_DUID_CO2_time.head()"
   ]
  },
  {
   "cell_type": "code",
   "execution_count": 90,
   "metadata": {},
   "outputs": [
    {
     "data": {
      "text/plain": [
       "TORRB3      110041\n",
       "TORRB4      107576\n",
       "TORRB2       95203\n",
       "TORRB1       95129\n",
       "BW04         90236\n",
       "             ...  \n",
       "BBTHREE3         1\n",
       "WRWF1            1\n",
       "SMCSF1           1\n",
       "BROKENH1         1\n",
       "BLOWERNG         1\n",
       "Name: DUID, Length: 180, dtype: int64"
      ]
     },
     "execution_count": 90,
     "metadata": {},
     "output_type": "execute_result"
    }
   ],
   "source": [
    "df_DUID_CO2_time[df_DUID_CO2_time.DUID == ]"
   ]
  },
  {
   "cell_type": "code",
   "execution_count": 76,
   "metadata": {},
   "outputs": [
    {
     "data": {
      "text/plain": [
       "(2886240, 3)"
      ]
     },
     "execution_count": 76,
     "metadata": {},
     "output_type": "execute_result"
    }
   ],
   "source": [
    "df_DUID_CO2_time.shape"
   ]
  },
  {
   "cell_type": "code",
   "execution_count": 70,
   "metadata": {},
   "outputs": [],
   "source": [
    "def correct_timedelta(df, time_diff):\n",
    "    '''\n",
    "    df.index must be DateTimeIndex\n",
    "    table=table_of_interest\n",
    "    col=\"column_of_interest\"\n",
    "    time_diff=time_diff in seconds as int\n",
    "    '''\n",
    "    lst = []\n",
    "    lst_i = []\n",
    "    count = 0\n",
    "    for i in df.index:\n",
    "        count += 1\n",
    "        if count >= len(df):\n",
    "            break\n",
    "        delta = abs(df.index[count] - df.index[count-1])\n",
    "        if int(delta.total_seconds()) != int(time_diff):\n",
    "            lst.append((\"from index {} on, it has been {} s or {} h.\".format(count-1,int(delta.total_seconds()),(int(delta.total_seconds()/3600)))))\n",
    "            lst_i.append((count-1,int(delta.total_seconds())))\n",
    "    return lst, lst_i"
   ]
  },
  {
   "cell_type": "code",
   "execution_count": 137,
   "metadata": {},
   "outputs": [
    {
     "data": {
      "text/plain": [
       "955536"
      ]
     },
     "execution_count": 137,
     "metadata": {},
     "output_type": "execute_result"
    }
   ],
   "source": [
    "len(pd.date_range(start='2009-07-01 04:00:00', end='2018-07-31 23:55:00', freq='5min'))"
   ]
  },
  {
   "cell_type": "code",
   "execution_count": 138,
   "metadata": {},
   "outputs": [
    {
     "data": {
      "text/plain": [
       "(2886240, 3)"
      ]
     },
     "execution_count": 138,
     "metadata": {},
     "output_type": "execute_result"
    }
   ],
   "source": [
    "df_DUID_CO2_test.shape"
   ]
  },
  {
   "cell_type": "code",
   "execution_count": 155,
   "metadata": {},
   "outputs": [],
   "source": [
    "a,b = correct_timedelta(time_grouped, 300)"
   ]
  },
  {
   "cell_type": "code",
   "execution_count": 166,
   "metadata": {},
   "outputs": [],
   "source": [
    "#a"
   ]
  },
  {
   "cell_type": "code",
   "execution_count": 164,
   "metadata": {},
   "outputs": [
    {
     "name": "stdout",
     "output_type": "stream",
     "text": [
      "2009-07-01 04:00:00\n",
      "2018-07-31 23:55:00\n"
     ]
    }
   ],
   "source": [
    "print(df_DUID_CO2_time.index.min())\n",
    "print(df_DUID_CO2_time.index.max())"
   ]
  },
  {
   "cell_type": "code",
   "execution_count": 80,
   "metadata": {},
   "outputs": [
    {
     "data": {
      "text/plain": [
       "(2886240, 3)"
      ]
     },
     "execution_count": 80,
     "metadata": {},
     "output_type": "execute_result"
    }
   ],
   "source": [
    "df_DUID_CO2_time.shape"
   ]
  },
  {
   "cell_type": "code",
   "execution_count": 13,
   "metadata": {},
   "outputs": [],
   "source": [
    "df_DUID_CO2_test = df_DUID_CO2_test.query('Price >= -1000 and Price <= 13500')"
   ]
  },
  {
   "cell_type": "code",
   "execution_count": 14,
   "metadata": {},
   "outputs": [
    {
     "data": {
      "text/plain": [
       "660747"
      ]
     },
     "execution_count": 14,
     "metadata": {},
     "output_type": "execute_result"
    }
   ],
   "source": [
    "df_DUID_CO2_price.Price.nunique()"
   ]
  },
  {
   "cell_type": "code",
   "execution_count": 15,
   "metadata": {},
   "outputs": [
    {
     "data": {
      "text/plain": [
       "180"
      ]
     },
     "execution_count": 15,
     "metadata": {},
     "output_type": "execute_result"
    }
   ],
   "source": [
    "df_DUID_CO2_price.DUID.nunique()"
   ]
  },
  {
   "cell_type": "code",
   "execution_count": 16,
   "metadata": {},
   "outputs": [
    {
     "data": {
      "text/plain": [
       "660747"
      ]
     },
     "execution_count": 16,
     "metadata": {},
     "output_type": "execute_result"
    }
   ],
   "source": [
    "df_DUID_CO2_price.Price.nunique()"
   ]
  },
  {
   "cell_type": "code",
   "execution_count": 26,
   "metadata": {},
   "outputs": [
    {
     "name": "stderr",
     "output_type": "stream",
     "text": [
      "/home/bastian/Environment/DSR_portfolio/lib/python3.6/site-packages/pandas/core/frame.py:4102: SettingWithCopyWarning: \n",
      "A value is trying to be set on a copy of a slice from a DataFrame\n",
      "\n",
      "See the caveats in the documentation: http://pandas.pydata.org/pandas-docs/stable/user_guide/indexing.html#returning-a-view-versus-a-copy\n",
      "  errors=errors,\n"
     ]
    }
   ],
   "source": [
    "df_DUID_CO2_price.drop(columns=\"CO2_group\", inplace=True)"
   ]
  },
  {
   "cell_type": "code",
   "execution_count": 27,
   "metadata": {},
   "outputs": [
    {
     "data": {
      "text/html": [
       "<div>\n",
       "<style scoped>\n",
       "    .dataframe tbody tr th:only-of-type {\n",
       "        vertical-align: middle;\n",
       "    }\n",
       "\n",
       "    .dataframe tbody tr th {\n",
       "        vertical-align: top;\n",
       "    }\n",
       "\n",
       "    .dataframe thead th {\n",
       "        text-align: right;\n",
       "    }\n",
       "</style>\n",
       "<table border=\"1\" class=\"dataframe\">\n",
       "  <thead>\n",
       "    <tr style=\"text-align: right;\">\n",
       "      <th></th>\n",
       "      <th>Price</th>\n",
       "      <th>DUID</th>\n",
       "      <th>CO2E_EMISSIONS_FACTOR</th>\n",
       "    </tr>\n",
       "    <tr>\n",
       "      <th>PeriodID</th>\n",
       "      <th></th>\n",
       "      <th></th>\n",
       "      <th></th>\n",
       "    </tr>\n",
       "  </thead>\n",
       "  <tbody>\n",
       "    <tr>\n",
       "      <td>2018-07-31 23:55:00</td>\n",
       "      <td>70.70204</td>\n",
       "      <td>ER01</td>\n",
       "      <td>0.910143</td>\n",
       "    </tr>\n",
       "    <tr>\n",
       "      <td>2018-07-31 23:50:00</td>\n",
       "      <td>69.24109</td>\n",
       "      <td>ER01</td>\n",
       "      <td>0.910143</td>\n",
       "    </tr>\n",
       "    <tr>\n",
       "      <td>2018-07-31 23:50:00</td>\n",
       "      <td>69.24109</td>\n",
       "      <td>ER01</td>\n",
       "      <td>0.910143</td>\n",
       "    </tr>\n",
       "    <tr>\n",
       "      <td>2018-07-31 23:45:00</td>\n",
       "      <td>69.94850</td>\n",
       "      <td>ER01</td>\n",
       "      <td>0.910143</td>\n",
       "    </tr>\n",
       "    <tr>\n",
       "      <td>2018-07-31 23:15:00</td>\n",
       "      <td>47.00597</td>\n",
       "      <td>ER01</td>\n",
       "      <td>0.910143</td>\n",
       "    </tr>\n",
       "  </tbody>\n",
       "</table>\n",
       "</div>"
      ],
      "text/plain": [
       "                        Price  DUID  CO2E_EMISSIONS_FACTOR\n",
       "PeriodID                                                  \n",
       "2018-07-31 23:55:00  70.70204  ER01               0.910143\n",
       "2018-07-31 23:50:00  69.24109  ER01               0.910143\n",
       "2018-07-31 23:50:00  69.24109  ER01               0.910143\n",
       "2018-07-31 23:45:00  69.94850  ER01               0.910143\n",
       "2018-07-31 23:15:00  47.00597  ER01               0.910143"
      ]
     },
     "execution_count": 27,
     "metadata": {},
     "output_type": "execute_result"
    }
   ],
   "source": [
    "df_DUID_CO2_price.head()"
   ]
  },
  {
   "cell_type": "code",
   "execution_count": 169,
   "metadata": {},
   "outputs": [
    {
     "name": "stdout",
     "output_type": "stream",
     "text": [
      "0.0\n",
      "1.4918\n"
     ]
    }
   ],
   "source": [
    "print(df_DUID_CO2_test.CO2E_EMISSIONS_FACTOR.min())\n",
    "print(df_DUID_CO2_test.CO2E_EMISSIONS_FACTOR.max())"
   ]
  },
  {
   "cell_type": "code",
   "execution_count": 33,
   "metadata": {},
   "outputs": [
    {
     "data": {
      "text/plain": [
       "1"
      ]
     },
     "execution_count": 33,
     "metadata": {},
     "output_type": "execute_result"
    }
   ],
   "source": [
    "int(df_DUID_CO2_price.CO2E_EMISSIONS_FACTOR.max())"
   ]
  },
  {
   "cell_type": "code",
   "execution_count": 38,
   "metadata": {},
   "outputs": [
    {
     "data": {
      "text/plain": [
       "list"
      ]
     },
     "execution_count": 38,
     "metadata": {},
     "output_type": "execute_result"
    }
   ],
   "source": [
    "import numpy as np\n",
    "type(list(np.arange(0.1,1,0.1)))"
   ]
  },
  {
   "cell_type": "code",
   "execution_count": 170,
   "metadata": {},
   "outputs": [
    {
     "data": {
      "text/plain": [
       "[0.0,\n",
       " 0.14918,\n",
       " 0.29836,\n",
       " 0.44754000000000005,\n",
       " 0.59672,\n",
       " 0.7459,\n",
       " 0.8950800000000001,\n",
       " 1.04426,\n",
       " 1.19344]"
      ]
     },
     "execution_count": 170,
     "metadata": {},
     "output_type": "execute_result"
    }
   ],
   "source": [
    "bins = list(np.arange(df_DUID_CO2_test.CO2E_EMISSIONS_FACTOR.min(),\n",
    "                      df_DUID_CO2_test.CO2E_EMISSIONS_FACTOR.max(), \n",
    "                      df_DUID_CO2_test.CO2E_EMISSIONS_FACTOR.max()/10))\n",
    "type(bins)\n",
    "group_names = bins[:-1]\n",
    "group_names"
   ]
  },
  {
   "cell_type": "code",
   "execution_count": 171,
   "metadata": {},
   "outputs": [],
   "source": [
    "df_DUID_CO2_test[\"CO2_group\"] = pd.cut(df_DUID_CO2_test.CO2E_EMISSIONS_FACTOR, bins, labels=group_names)"
   ]
  },
  {
   "cell_type": "code",
   "execution_count": 172,
   "metadata": {},
   "outputs": [
    {
     "data": {
      "text/html": [
       "<div>\n",
       "<style scoped>\n",
       "    .dataframe tbody tr th:only-of-type {\n",
       "        vertical-align: middle;\n",
       "    }\n",
       "\n",
       "    .dataframe tbody tr th {\n",
       "        vertical-align: top;\n",
       "    }\n",
       "\n",
       "    .dataframe thead th {\n",
       "        text-align: right;\n",
       "    }\n",
       "</style>\n",
       "<table border=\"1\" class=\"dataframe\">\n",
       "  <thead>\n",
       "    <tr style=\"text-align: right;\">\n",
       "      <th></th>\n",
       "      <th>Price</th>\n",
       "      <th>DUID</th>\n",
       "      <th>CO2E_EMISSIONS_FACTOR</th>\n",
       "      <th>CO2_group</th>\n",
       "    </tr>\n",
       "    <tr>\n",
       "      <th>PeriodID</th>\n",
       "      <th></th>\n",
       "      <th></th>\n",
       "      <th></th>\n",
       "      <th></th>\n",
       "    </tr>\n",
       "  </thead>\n",
       "  <tbody>\n",
       "    <tr>\n",
       "      <td>2018-07-31 23:55:00</td>\n",
       "      <td>70.70204</td>\n",
       "      <td>ER01</td>\n",
       "      <td>0.910143</td>\n",
       "      <td>0.89508</td>\n",
       "    </tr>\n",
       "    <tr>\n",
       "      <td>2018-07-31 23:55:00</td>\n",
       "      <td>70.70204</td>\n",
       "      <td>ER04</td>\n",
       "      <td>0.910143</td>\n",
       "      <td>0.89508</td>\n",
       "    </tr>\n",
       "    <tr>\n",
       "      <td>2018-07-31 23:55:00</td>\n",
       "      <td>70.70204</td>\n",
       "      <td>ER03</td>\n",
       "      <td>0.910143</td>\n",
       "      <td>0.89508</td>\n",
       "    </tr>\n",
       "    <tr>\n",
       "      <td>2018-07-31 23:55:00</td>\n",
       "      <td>70.70204</td>\n",
       "      <td>ER02</td>\n",
       "      <td>0.910143</td>\n",
       "      <td>0.89508</td>\n",
       "    </tr>\n",
       "    <tr>\n",
       "      <td>2018-07-31 23:50:00</td>\n",
       "      <td>69.24109</td>\n",
       "      <td>DEVILS_G</td>\n",
       "      <td>0.000000</td>\n",
       "      <td>NaN</td>\n",
       "    </tr>\n",
       "  </tbody>\n",
       "</table>\n",
       "</div>"
      ],
      "text/plain": [
       "                        Price      DUID  CO2E_EMISSIONS_FACTOR CO2_group\n",
       "PeriodID                                                                \n",
       "2018-07-31 23:55:00  70.70204      ER01               0.910143   0.89508\n",
       "2018-07-31 23:55:00  70.70204      ER04               0.910143   0.89508\n",
       "2018-07-31 23:55:00  70.70204      ER03               0.910143   0.89508\n",
       "2018-07-31 23:55:00  70.70204      ER02               0.910143   0.89508\n",
       "2018-07-31 23:50:00  69.24109  DEVILS_G               0.000000       NaN"
      ]
     },
     "execution_count": 172,
     "metadata": {},
     "output_type": "execute_result"
    }
   ],
   "source": [
    "df_DUID_CO2_test.head()"
   ]
  },
  {
   "cell_type": "code",
   "execution_count": 178,
   "metadata": {},
   "outputs": [],
   "source": [
    "df_DUID_CO2_test = df_DUID_CO2_test.query('Price >= -1000 and Price <= 13500')"
   ]
  },
  {
   "cell_type": "code",
   "execution_count": 179,
   "metadata": {},
   "outputs": [
    {
     "data": {
      "text/plain": [
       "<Figure size 432x288 with 0 Axes>"
      ]
     },
     "execution_count": 179,
     "metadata": {},
     "output_type": "execute_result"
    },
    {
     "data": {
      "image/png": "[encoded data removed]",
      "text/plain": [
       "<Figure size 432x288 with 1 Axes>"
      ]
     },
     "metadata": {
      "needs_background": "light"
     },
     "output_type": "display_data"
    },
    {
     "data": {
      "text/plain": [
       "<Figure size 432x288 with 0 Axes>"
      ]
     },
     "metadata": {},
     "output_type": "display_data"
    }
   ],
   "source": [
    "fig = sns.barplot(df_DUID_CO2_test.CO2_group, df_DUID_CO2_test.Price)\n",
    "for i in fig.get_xticklabels():\n",
    "    i.set_rotation(90)\n",
    "plt.figure()"
   ]
  },
  {
   "cell_type": "code",
   "execution_count": 180,
   "metadata": {},
   "outputs": [
    {
     "data": {
      "text/plain": [
       "<Figure size 432x288 with 0 Axes>"
      ]
     },
     "execution_count": 180,
     "metadata": {},
     "output_type": "execute_result"
    },
    {
     "data": {
      "image/png": "[encoded data removed]",
      "text/plain": [
       "<Figure size 432x288 with 1 Axes>"
      ]
     },
     "metadata": {
      "needs_background": "light"
     },
     "output_type": "display_data"
    },
    {
     "data": {
      "text/plain": [
       "<Figure size 432x288 with 0 Axes>"
      ]
     },
     "metadata": {},
     "output_type": "display_data"
    }
   ],
   "source": [
    "fig = sns.scatterplot(df_DUID_CO2_test.CO2E_EMISSIONS_FACTOR, df_DUID_CO2_test.Price)\n",
    "plt.figure()"
   ]
  },
  {
   "cell_type": "code",
   "execution_count": null,
   "metadata": {},
   "outputs": [],
   "source": [
    "df_DUID_CO2_price.plot"
   ]
  },
  {
   "cell_type": "code",
   "execution_count": 22,
   "metadata": {},
   "outputs": [
    {
     "name": "stdout",
     "output_type": "stream",
     "text": [
      "1202903.49417\n",
      "-26801.01057\n"
     ]
    }
   ],
   "source": [
    "print(df_DUID_CO2_time.Price.max())\n",
    "print(df_DUID_CO2_time.Price.min())"
   ]
  },
  {
   "cell_type": "code",
   "execution_count": 23,
   "metadata": {},
   "outputs": [
    {
     "data": {
      "text/html": [
       "<div>\n",
       "<style scoped>\n",
       "    .dataframe tbody tr th:only-of-type {\n",
       "        vertical-align: middle;\n",
       "    }\n",
       "\n",
       "    .dataframe tbody tr th {\n",
       "        vertical-align: top;\n",
       "    }\n",
       "\n",
       "    .dataframe thead th {\n",
       "        text-align: right;\n",
       "    }\n",
       "</style>\n",
       "<table border=\"1\" class=\"dataframe\">\n",
       "  <thead>\n",
       "    <tr style=\"text-align: right;\">\n",
       "      <th></th>\n",
       "      <th>Price</th>\n",
       "      <th>DUID</th>\n",
       "      <th>CO2E_EMISSIONS_FACTOR</th>\n",
       "    </tr>\n",
       "    <tr>\n",
       "      <th>PeriodID</th>\n",
       "      <th></th>\n",
       "      <th></th>\n",
       "      <th></th>\n",
       "    </tr>\n",
       "  </thead>\n",
       "  <tbody>\n",
       "    <tr>\n",
       "      <td>2016-03-08 18:00:00</td>\n",
       "      <td>1.202903e+06</td>\n",
       "      <td>BW02</td>\n",
       "      <td>0.912643</td>\n",
       "    </tr>\n",
       "  </tbody>\n",
       "</table>\n",
       "</div>"
      ],
      "text/plain": [
       "                            Price  DUID  CO2E_EMISSIONS_FACTOR\n",
       "PeriodID                                                      \n",
       "2016-03-08 18:00:00  1.202903e+06  BW02               0.912643"
      ]
     },
     "execution_count": 23,
     "metadata": {},
     "output_type": "execute_result"
    }
   ],
   "source": [
    "df_DUID_CO2_time[df_DUID_CO2_time.Price == df_DUID_CO2_time.Price.max()]"
   ]
  },
  {
   "cell_type": "code",
   "execution_count": 24,
   "metadata": {},
   "outputs": [
    {
     "data": {
      "text/html": [
       "<div>\n",
       "<style scoped>\n",
       "    .dataframe tbody tr th:only-of-type {\n",
       "        vertical-align: middle;\n",
       "    }\n",
       "\n",
       "    .dataframe tbody tr th {\n",
       "        vertical-align: top;\n",
       "    }\n",
       "\n",
       "    .dataframe thead th {\n",
       "        text-align: right;\n",
       "    }\n",
       "</style>\n",
       "<table border=\"1\" class=\"dataframe\">\n",
       "  <thead>\n",
       "    <tr style=\"text-align: right;\">\n",
       "      <th></th>\n",
       "      <th>Price</th>\n",
       "      <th>DUID</th>\n",
       "      <th>CO2E_EMISSIONS_FACTOR</th>\n",
       "    </tr>\n",
       "    <tr>\n",
       "      <th>PeriodID</th>\n",
       "      <th></th>\n",
       "      <th></th>\n",
       "      <th></th>\n",
       "    </tr>\n",
       "  </thead>\n",
       "  <tbody>\n",
       "    <tr>\n",
       "      <td>2012-12-01 14:35:00</td>\n",
       "      <td>-26801.01057</td>\n",
       "      <td>MP2</td>\n",
       "      <td>0.908518</td>\n",
       "    </tr>\n",
       "    <tr>\n",
       "      <td>2012-12-01 14:35:00</td>\n",
       "      <td>-26801.01057</td>\n",
       "      <td>TORRB3</td>\n",
       "      <td>0.681150</td>\n",
       "    </tr>\n",
       "    <tr>\n",
       "      <td>2012-12-01 14:35:00</td>\n",
       "      <td>-26801.01057</td>\n",
       "      <td>TORRB1</td>\n",
       "      <td>0.681150</td>\n",
       "    </tr>\n",
       "    <tr>\n",
       "      <td>2012-12-01 14:35:00</td>\n",
       "      <td>-26801.01057</td>\n",
       "      <td>TORRA4</td>\n",
       "      <td>0.708560</td>\n",
       "    </tr>\n",
       "    <tr>\n",
       "      <td>2012-12-01 14:35:00</td>\n",
       "      <td>-26801.01057</td>\n",
       "      <td>TORRA4</td>\n",
       "      <td>0.708560</td>\n",
       "    </tr>\n",
       "    <tr>\n",
       "      <td>2012-12-01 14:35:00</td>\n",
       "      <td>-26801.01057</td>\n",
       "      <td>TORRA4</td>\n",
       "      <td>0.708560</td>\n",
       "    </tr>\n",
       "    <tr>\n",
       "      <td>2012-12-01 14:35:00</td>\n",
       "      <td>-26801.01057</td>\n",
       "      <td>TORRA4</td>\n",
       "      <td>0.708560</td>\n",
       "    </tr>\n",
       "    <tr>\n",
       "      <td>2012-12-01 14:35:00</td>\n",
       "      <td>-26801.01057</td>\n",
       "      <td>TORRA4</td>\n",
       "      <td>0.708560</td>\n",
       "    </tr>\n",
       "  </tbody>\n",
       "</table>\n",
       "</div>"
      ],
      "text/plain": [
       "                           Price    DUID  CO2E_EMISSIONS_FACTOR\n",
       "PeriodID                                                       \n",
       "2012-12-01 14:35:00 -26801.01057     MP2               0.908518\n",
       "2012-12-01 14:35:00 -26801.01057  TORRB3               0.681150\n",
       "2012-12-01 14:35:00 -26801.01057  TORRB1               0.681150\n",
       "2012-12-01 14:35:00 -26801.01057  TORRA4               0.708560\n",
       "2012-12-01 14:35:00 -26801.01057  TORRA4               0.708560\n",
       "2012-12-01 14:35:00 -26801.01057  TORRA4               0.708560\n",
       "2012-12-01 14:35:00 -26801.01057  TORRA4               0.708560\n",
       "2012-12-01 14:35:00 -26801.01057  TORRA4               0.708560"
      ]
     },
     "execution_count": 24,
     "metadata": {},
     "output_type": "execute_result"
    }
   ],
   "source": [
    "df_DUID_CO2_time[df_DUID_CO2_time.Price == df_DUID_CO2_time.Price.min()]"
   ]
  },
  {
   "cell_type": "code",
   "execution_count": 15,
   "metadata": {},
   "outputs": [
    {
     "name": "stdout",
     "output_type": "stream",
     "text": [
      "Price                    660881\n",
      "DUID                        180\n",
      "CO2E_EMISSIONS_FACTOR        51\n",
      "dtype: int64\n"
     ]
    },
    {
     "data": {
      "text/html": [
       "<div>\n",
       "<style scoped>\n",
       "    .dataframe tbody tr th:only-of-type {\n",
       "        vertical-align: middle;\n",
       "    }\n",
       "\n",
       "    .dataframe tbody tr th {\n",
       "        vertical-align: top;\n",
       "    }\n",
       "\n",
       "    .dataframe thead th {\n",
       "        text-align: right;\n",
       "    }\n",
       "</style>\n",
       "<table border=\"1\" class=\"dataframe\">\n",
       "  <thead>\n",
       "    <tr style=\"text-align: right;\">\n",
       "      <th></th>\n",
       "      <th>Price</th>\n",
       "      <th>DUID</th>\n",
       "      <th>CO2E_EMISSIONS_FACTOR</th>\n",
       "    </tr>\n",
       "    <tr>\n",
       "      <th>PeriodID</th>\n",
       "      <th></th>\n",
       "      <th></th>\n",
       "      <th></th>\n",
       "    </tr>\n",
       "  </thead>\n",
       "  <tbody>\n",
       "    <tr>\n",
       "      <td>2018-07-31 23:55:00</td>\n",
       "      <td>70.70204</td>\n",
       "      <td>ER01</td>\n",
       "      <td>0.910143</td>\n",
       "    </tr>\n",
       "    <tr>\n",
       "      <td>2018-07-31 23:50:00</td>\n",
       "      <td>69.24109</td>\n",
       "      <td>ER01</td>\n",
       "      <td>0.910143</td>\n",
       "    </tr>\n",
       "    <tr>\n",
       "      <td>2018-07-31 23:50:00</td>\n",
       "      <td>69.24109</td>\n",
       "      <td>ER01</td>\n",
       "      <td>0.910143</td>\n",
       "    </tr>\n",
       "    <tr>\n",
       "      <td>2018-07-31 23:45:00</td>\n",
       "      <td>69.94850</td>\n",
       "      <td>ER01</td>\n",
       "      <td>0.910143</td>\n",
       "    </tr>\n",
       "    <tr>\n",
       "      <td>2018-07-31 23:15:00</td>\n",
       "      <td>47.00597</td>\n",
       "      <td>ER01</td>\n",
       "      <td>0.910143</td>\n",
       "    </tr>\n",
       "    <tr>\n",
       "      <td>...</td>\n",
       "      <td>...</td>\n",
       "      <td>...</td>\n",
       "      <td>...</td>\n",
       "    </tr>\n",
       "    <tr>\n",
       "      <td>2009-07-24 17:35:00</td>\n",
       "      <td>43.94454</td>\n",
       "      <td>MCKAY2</td>\n",
       "      <td>0.000000</td>\n",
       "    </tr>\n",
       "    <tr>\n",
       "      <td>2009-07-19 17:55:00</td>\n",
       "      <td>42.93117</td>\n",
       "      <td>MCKAY2</td>\n",
       "      <td>0.000000</td>\n",
       "    </tr>\n",
       "    <tr>\n",
       "      <td>2009-07-11 18:55:00</td>\n",
       "      <td>44.14117</td>\n",
       "      <td>MCKAY2</td>\n",
       "      <td>0.000000</td>\n",
       "    </tr>\n",
       "    <tr>\n",
       "      <td>2009-07-09 19:10:00</td>\n",
       "      <td>44.48359</td>\n",
       "      <td>MCKAY2</td>\n",
       "      <td>0.000000</td>\n",
       "    </tr>\n",
       "    <tr>\n",
       "      <td>2009-07-02 17:00:00</td>\n",
       "      <td>-0.00000</td>\n",
       "      <td>MCKAY2</td>\n",
       "      <td>0.000000</td>\n",
       "    </tr>\n",
       "  </tbody>\n",
       "</table>\n",
       "<p>2886240 rows × 3 columns</p>\n",
       "</div>"
      ],
      "text/plain": [
       "                        Price    DUID  CO2E_EMISSIONS_FACTOR\n",
       "PeriodID                                                    \n",
       "2018-07-31 23:55:00  70.70204    ER01               0.910143\n",
       "2018-07-31 23:50:00  69.24109    ER01               0.910143\n",
       "2018-07-31 23:50:00  69.24109    ER01               0.910143\n",
       "2018-07-31 23:45:00  69.94850    ER01               0.910143\n",
       "2018-07-31 23:15:00  47.00597    ER01               0.910143\n",
       "...                       ...     ...                    ...\n",
       "2009-07-24 17:35:00  43.94454  MCKAY2               0.000000\n",
       "2009-07-19 17:55:00  42.93117  MCKAY2               0.000000\n",
       "2009-07-11 18:55:00  44.14117  MCKAY2               0.000000\n",
       "2009-07-09 19:10:00  44.48359  MCKAY2               0.000000\n",
       "2009-07-02 17:00:00  -0.00000  MCKAY2               0.000000\n",
       "\n",
       "[2886240 rows x 3 columns]"
      ]
     },
     "execution_count": 15,
     "metadata": {},
     "output_type": "execute_result"
    }
   ],
   "source": [
    "df_DUID_CO2_time = pd.read_pickle('{}/nem-data/nemde_clean/df_DUID_CO2_time.pkl'.format(os.environ['HOME']))\n",
    "print(df_DUID_CO2_time.nunique())\n",
    "df_DUID_CO2_time"
   ]
  },
  {
   "cell_type": "code",
   "execution_count": 264,
   "metadata": {},
   "outputs": [
    {
     "data": {
      "text/html": [
       "<div>\n",
       "<style scoped>\n",
       "    .dataframe tbody tr th:only-of-type {\n",
       "        vertical-align: middle;\n",
       "    }\n",
       "\n",
       "    .dataframe tbody tr th {\n",
       "        vertical-align: top;\n",
       "    }\n",
       "\n",
       "    .dataframe thead th {\n",
       "        text-align: right;\n",
       "    }\n",
       "</style>\n",
       "<table border=\"1\" class=\"dataframe\">\n",
       "  <thead>\n",
       "    <tr style=\"text-align: right;\">\n",
       "      <th></th>\n",
       "      <th>Price</th>\n",
       "      <th>DUID</th>\n",
       "      <th>CO2E_EMISSIONS_FACTOR</th>\n",
       "    </tr>\n",
       "    <tr>\n",
       "      <th>PeriodID</th>\n",
       "      <th></th>\n",
       "      <th></th>\n",
       "      <th></th>\n",
       "    </tr>\n",
       "  </thead>\n",
       "  <tbody>\n",
       "    <tr>\n",
       "      <td>2018-07-01 14:40:00</td>\n",
       "      <td>60.75376</td>\n",
       "      <td>ER01</td>\n",
       "      <td>0.910143</td>\n",
       "    </tr>\n",
       "    <tr>\n",
       "      <td>2018-07-01 13:35:00</td>\n",
       "      <td>67.21461</td>\n",
       "      <td>ER01</td>\n",
       "      <td>0.910143</td>\n",
       "    </tr>\n",
       "    <tr>\n",
       "      <td>2018-07-01 13:30:00</td>\n",
       "      <td>61.15498</td>\n",
       "      <td>ER01</td>\n",
       "      <td>0.910143</td>\n",
       "    </tr>\n",
       "    <tr>\n",
       "      <td>2018-07-01 13:25:00</td>\n",
       "      <td>60.86027</td>\n",
       "      <td>ER01</td>\n",
       "      <td>0.910143</td>\n",
       "    </tr>\n",
       "    <tr>\n",
       "      <td>2018-07-01 13:20:00</td>\n",
       "      <td>61.44358</td>\n",
       "      <td>ER01</td>\n",
       "      <td>0.910143</td>\n",
       "    </tr>\n",
       "    <tr>\n",
       "      <td>...</td>\n",
       "      <td>...</td>\n",
       "      <td>...</td>\n",
       "      <td>...</td>\n",
       "    </tr>\n",
       "    <tr>\n",
       "      <td>2011-02-01 10:50:00</td>\n",
       "      <td>155.00000</td>\n",
       "      <td>ANGAS1</td>\n",
       "      <td>1.013600</td>\n",
       "    </tr>\n",
       "    <tr>\n",
       "      <td>2010-09-01 18:25:00</td>\n",
       "      <td>12499.94000</td>\n",
       "      <td>ANGAS1</td>\n",
       "      <td>1.013600</td>\n",
       "    </tr>\n",
       "    <tr>\n",
       "      <td>2010-09-01 18:20:00</td>\n",
       "      <td>12499.94000</td>\n",
       "      <td>ANGAS1</td>\n",
       "      <td>1.013600</td>\n",
       "    </tr>\n",
       "    <tr>\n",
       "      <td>2010-09-01 18:25:00</td>\n",
       "      <td>12499.94000</td>\n",
       "      <td>ANGAS2</td>\n",
       "      <td>1.013600</td>\n",
       "    </tr>\n",
       "    <tr>\n",
       "      <td>2010-09-01 18:20:00</td>\n",
       "      <td>12499.94000</td>\n",
       "      <td>ANGAS2</td>\n",
       "      <td>1.013600</td>\n",
       "    </tr>\n",
       "  </tbody>\n",
       "</table>\n",
       "<p>98752 rows × 3 columns</p>\n",
       "</div>"
      ],
      "text/plain": [
       "                           Price    DUID  CO2E_EMISSIONS_FACTOR\n",
       "PeriodID                                                       \n",
       "2018-07-01 14:40:00     60.75376    ER01               0.910143\n",
       "2018-07-01 13:35:00     67.21461    ER01               0.910143\n",
       "2018-07-01 13:30:00     61.15498    ER01               0.910143\n",
       "2018-07-01 13:25:00     60.86027    ER01               0.910143\n",
       "2018-07-01 13:20:00     61.44358    ER01               0.910143\n",
       "...                          ...     ...                    ...\n",
       "2011-02-01 10:50:00    155.00000  ANGAS1               1.013600\n",
       "2010-09-01 18:25:00  12499.94000  ANGAS1               1.013600\n",
       "2010-09-01 18:20:00  12499.94000  ANGAS1               1.013600\n",
       "2010-09-01 18:25:00  12499.94000  ANGAS2               1.013600\n",
       "2010-09-01 18:20:00  12499.94000  ANGAS2               1.013600\n",
       "\n",
       "[98752 rows x 3 columns]"
      ]
     },
     "execution_count": 264,
     "metadata": {},
     "output_type": "execute_result"
    }
   ],
   "source": [
    "df_DUID_CO2_time[df_DUID_CO2_time.index.is_month_start]"
   ]
  },
  {
   "cell_type": "code",
   "execution_count": 245,
   "metadata": {},
   "outputs": [],
   "source": [
    "group_year = df_DUID_CO2_time.groupby(df_DUID_CO2_time.index.year).mean()\n",
    "group_quarter = df_DUID_CO2_time.groupby(df_DUID_CO2_time.index.quarter).mean()\n",
    "group_month = df_DUID_CO2_time.groupby(df_DUID_CO2_time.index.month).mean()\n",
    "group_week = df_DUID_CO2_time.groupby(df_DUID_CO2_time.index.week).mean()\n",
    "group_day = df_DUID_CO2_time.groupby(df_DUID_CO2_time.index.day).mean()\n",
    "group_hour = df_DUID_CO2_time.groupby(df_DUID_CO2_time.index.hour).mean()\n",
    "group_minute = df_DUID_CO2_time.groupby(df_DUID_CO2_time.index.minute).mean()\n",
    "\n",
    "#quarter: Quarter of the date: Jan-Mar = 1, Apr-Jun = 2, etc."
   ]
  },
  {
   "cell_type": "code",
   "execution_count": 228,
   "metadata": {},
   "outputs": [
    {
     "name": "stdout",
     "output_type": "stream",
     "text": [
      "<class 'str'>\n",
      "<class 'str'>\n",
      "<class 'str'>\n",
      "<class 'str'>\n",
      "<class 'str'>\n",
      "<class 'str'>\n",
      "<class 'str'>\n"
     ]
    }
   ],
   "source": [
    "time_periods = {\"year\":group_year,\"quarter\":group_quarter, \"month\":group_month, \"week\":group_week, \"day\":group_day, \"hour\":group_hour, \"minute\":group_minute}\n",
    "for i in time_periods:\n",
    "    print(type(i))"
   ]
  },
  {
   "cell_type": "code",
   "execution_count": null,
   "metadata": {},
   "outputs": [],
   "source": []
  },
  {
   "cell_type": "code",
   "execution_count": 246,
   "metadata": {},
   "outputs": [
    {
     "data": {
      "image/png": "[encoded data removed]",
      "text/plain": [
       "<Figure size 432x288 with 1 Axes>"
      ]
     },
     "metadata": {
      "needs_background": "light"
     },
     "output_type": "display_data"
    },
    {
     "data": {
      "image/png": "[encoded data removed]",
      "text/plain": [
       "<Figure size 432x288 with 1 Axes>"
      ]
     },
     "metadata": {
      "needs_background": "light"
     },
     "output_type": "display_data"
    },
    {
     "data": {
      "image/png": "[encoded data removed]",
      "text/plain": [
       "<Figure size 432x288 with 1 Axes>"
      ]
     },
     "metadata": {
      "needs_background": "light"
     },
     "output_type": "display_data"
    },
    {
     "data": {
      "image/png": "[encoded data removed]",
      "text/plain": [
       "<Figure size 432x288 with 1 Axes>"
      ]
     },
     "metadata": {
      "needs_background": "light"
     },
     "output_type": "display_data"
    },
    {
     "data": {
      "image/png": "[encoded data removed]",
      "text/plain": [
       "<Figure size 432x288 with 1 Axes>"
      ]
     },
     "metadata": {
      "needs_background": "light"
     },
     "output_type": "display_data"
    },
    {
     "data": {
      "image/png": "[encoded data removed]",
      "text/plain": [
       "<Figure size 432x288 with 1 Axes>"
      ]
     },
     "metadata": {
      "needs_background": "light"
     },
     "output_type": "display_data"
    },
    {
     "data": {
      "image/png": "[encoded data removed]",
      "text/plain": [
       "<Figure size 432x288 with 1 Axes>"
      ]
     },
     "metadata": {
      "needs_background": "light"
     },
     "output_type": "display_data"
    },
    {
     "data": {
      "text/plain": [
       "<Figure size 432x288 with 0 Axes>"
      ]
     },
     "metadata": {},
     "output_type": "display_data"
    }
   ],
   "source": [
    "for i in time_periods:\n",
    "    fig = sns.scatterplot(time_periods[i].index, time_periods[i].CO2E_EMISSIONS_FACTOR)\n",
    "    fig.set(xlabel = i, ylabel = \"CO2\")\n",
    "    plt.figure()"
   ]
  },
  {
   "cell_type": "code",
   "execution_count": 103,
   "metadata": {},
   "outputs": [
    {
     "data": {
      "text/html": [
       "<div>\n",
       "<style scoped>\n",
       "    .dataframe tbody tr th:only-of-type {\n",
       "        vertical-align: middle;\n",
       "    }\n",
       "\n",
       "    .dataframe tbody tr th {\n",
       "        vertical-align: top;\n",
       "    }\n",
       "\n",
       "    .dataframe thead th {\n",
       "        text-align: right;\n",
       "    }\n",
       "</style>\n",
       "<table border=\"1\" class=\"dataframe\">\n",
       "  <thead>\n",
       "    <tr style=\"text-align: right;\">\n",
       "      <th></th>\n",
       "      <th></th>\n",
       "      <th>Price</th>\n",
       "      <th>Increase</th>\n",
       "      <th>CO2E_EMISSIONS_FACTOR</th>\n",
       "    </tr>\n",
       "    <tr>\n",
       "      <th>PeriodID</th>\n",
       "      <th>PeriodID</th>\n",
       "      <th></th>\n",
       "      <th></th>\n",
       "      <th></th>\n",
       "    </tr>\n",
       "  </thead>\n",
       "  <tbody>\n",
       "    <tr>\n",
       "      <td rowspan=\"5\" valign=\"top\">2009</td>\n",
       "      <td>7</td>\n",
       "      <td>25.570960</td>\n",
       "      <td>0.330930</td>\n",
       "      <td>0.789428</td>\n",
       "    </tr>\n",
       "    <tr>\n",
       "      <td>8</td>\n",
       "      <td>21.602395</td>\n",
       "      <td>0.315041</td>\n",
       "      <td>0.818078</td>\n",
       "    </tr>\n",
       "    <tr>\n",
       "      <td>9</td>\n",
       "      <td>32.309244</td>\n",
       "      <td>0.341016</td>\n",
       "      <td>0.813400</td>\n",
       "    </tr>\n",
       "    <tr>\n",
       "      <td>10</td>\n",
       "      <td>29.431318</td>\n",
       "      <td>0.414721</td>\n",
       "      <td>0.702780</td>\n",
       "    </tr>\n",
       "    <tr>\n",
       "      <td>11</td>\n",
       "      <td>391.179499</td>\n",
       "      <td>0.392985</td>\n",
       "      <td>0.687591</td>\n",
       "    </tr>\n",
       "    <tr>\n",
       "      <td>...</td>\n",
       "      <td>...</td>\n",
       "      <td>...</td>\n",
       "      <td>...</td>\n",
       "      <td>...</td>\n",
       "    </tr>\n",
       "    <tr>\n",
       "      <td rowspan=\"5\" valign=\"top\">2018</td>\n",
       "      <td>3</td>\n",
       "      <td>80.589817</td>\n",
       "      <td>0.402954</td>\n",
       "      <td>0.720766</td>\n",
       "    </tr>\n",
       "    <tr>\n",
       "      <td>4</td>\n",
       "      <td>222.163236</td>\n",
       "      <td>0.389125</td>\n",
       "      <td>0.772393</td>\n",
       "    </tr>\n",
       "    <tr>\n",
       "      <td>5</td>\n",
       "      <td>86.006018</td>\n",
       "      <td>0.414196</td>\n",
       "      <td>0.738891</td>\n",
       "    </tr>\n",
       "    <tr>\n",
       "      <td>6</td>\n",
       "      <td>73.019333</td>\n",
       "      <td>0.452571</td>\n",
       "      <td>0.805078</td>\n",
       "    </tr>\n",
       "    <tr>\n",
       "      <td>7</td>\n",
       "      <td>81.951789</td>\n",
       "      <td>0.305535</td>\n",
       "      <td>0.680494</td>\n",
       "    </tr>\n",
       "  </tbody>\n",
       "</table>\n",
       "<p>109 rows × 3 columns</p>\n",
       "</div>"
      ],
      "text/plain": [
       "                        Price  Increase  CO2E_EMISSIONS_FACTOR\n",
       "PeriodID PeriodID                                             \n",
       "2009     7          25.570960  0.330930               0.789428\n",
       "         8          21.602395  0.315041               0.818078\n",
       "         9          32.309244  0.341016               0.813400\n",
       "         10         29.431318  0.414721               0.702780\n",
       "         11        391.179499  0.392985               0.687591\n",
       "...                       ...       ...                    ...\n",
       "2018     3          80.589817  0.402954               0.720766\n",
       "         4         222.163236  0.389125               0.772393\n",
       "         5          86.006018  0.414196               0.738891\n",
       "         6          73.019333  0.452571               0.805078\n",
       "         7          81.951789  0.305535               0.680494\n",
       "\n",
       "[109 rows x 3 columns]"
      ]
     },
     "execution_count": 103,
     "metadata": {},
     "output_type": "execute_result"
    }
   ],
   "source": [
    "group_year_month = df_DUID_CO2_time.groupby([df_DUID_CO2_time.index.year, df_DUID_CO2_time.index.month]).mean()\n",
    "group_year_month"
   ]
  },
  {
   "cell_type": "code",
   "execution_count": 206,
   "metadata": {},
   "outputs": [
    {
     "name": "stdout",
     "output_type": "stream",
     "text": [
      "Int64Index([1, 2, 3, 4, 5, 6, 7, 8, 9, 10, 11, 12], dtype='int64', name='PeriodID')\n"
     ]
    },
    {
     "data": {
      "text/plain": [
       "2012"
      ]
     },
     "execution_count": 206,
     "metadata": {},
     "output_type": "execute_result"
    }
   ],
   "source": [
    "df_unstacked = group_year_month.unstack(level=0).CO2E_EMISSIONS_FACTOR\n",
    "print(df_unstacked.index)\n",
    "df_unstacked.head()\n",
    "df_unstacked.iloc[:, 3]\n",
    "df_unstacked.columns[3]"
   ]
  },
  {
   "cell_type": "code",
   "execution_count": 171,
   "metadata": {},
   "outputs": [
    {
     "data": {
      "text/plain": [
       "array([<matplotlib.axes._subplots.AxesSubplot object at 0x7fd32e908198>,\n",
       "       <matplotlib.axes._subplots.AxesSubplot object at 0x7fd32e8a7cf8>,\n",
       "       <matplotlib.axes._subplots.AxesSubplot object at 0x7fd32e8e0240>,\n",
       "       <matplotlib.axes._subplots.AxesSubplot object at 0x7fd32e8906a0>,\n",
       "       <matplotlib.axes._subplots.AxesSubplot object at 0x7fd32e840c50>],\n",
       "      dtype=object)"
      ]
     },
     "execution_count": 171,
     "metadata": {},
     "output_type": "execute_result"
    }
   ],
   "source": [
    "axes[0]"
   ]
  },
  {
   "cell_type": "code",
   "execution_count": 158,
   "metadata": {},
   "outputs": [
    {
     "name": "stdout",
     "output_type": "stream",
     "text": [
      "AxesSubplot(0.0311806,0.544444;0.156576x0.42619)\n",
      "AxesSubplot(0.229181,0.544444;0.156576x0.42619)\n",
      "AxesSubplot(0.427181,0.544444;0.156576x0.42619)\n",
      "AxesSubplot(0.625181,0.544444;0.156576x0.42619)\n",
      "AxesSubplot(0.823181,0.544444;0.156576x0.42619)\n"
     ]
    }
   ],
   "source": [
    "count = 0\n",
    "for i in axes[count,:]:\n",
    "    count += 1\n",
    "    print(i)"
   ]
  },
  {
   "cell_type": "code",
   "execution_count": 176,
   "metadata": {},
   "outputs": [
    {
     "data": {
      "text/plain": [
       "(2, 5)"
      ]
     },
     "execution_count": 176,
     "metadata": {},
     "output_type": "execute_result"
    }
   ],
   "source": [
    "axes.shape"
   ]
  },
  {
   "cell_type": "code",
   "execution_count": 188,
   "metadata": {},
   "outputs": [
    {
     "name": "stdout",
     "output_type": "stream",
     "text": [
      "1\n",
      "2\n",
      "3\n",
      "4\n",
      "5\n",
      "1\n",
      "2\n",
      "3\n",
      "4\n",
      "5\n"
     ]
    }
   ],
   "source": [
    "for i in range(axes.shape[0]):\n",
    "    count = 0\n",
    "    for j in axes[i]:\n",
    "        count += 1\n",
    "        print(count)"
   ]
  },
  {
   "cell_type": "code",
   "execution_count": 209,
   "metadata": {},
   "outputs": [
    {
     "data": {
      "image/png": "[encoded data removed]",
      "text/plain": [
       "<Figure size 1080x504 with 10 Axes>"
      ]
     },
     "metadata": {
      "needs_background": "light"
     },
     "output_type": "display_data"
    }
   ],
   "source": [
    "fig, axes = plt.subplots(nrows=2, ncols=5, figsize=(15,7))\n",
    "plt.tight_layout()\n",
    "\n",
    "count_k = 0\n",
    "for i in range(axes.shape[0]):\n",
    "    for j in axes[i]:\n",
    "        j.set_xlim(1,12)\n",
    "        j.set_ylim(0.55,0.95)\n",
    "        j.set_xticks(list(range(2,13,2)))\n",
    "        j.set_title(df_unstacked.columns[count_k])\n",
    "        j.plot(df_unstacked.index, df_unstacked.iloc[:, count_k])\n",
    "        count_k += 1"
   ]
  },
  {
   "cell_type": "code",
   "execution_count": 216,
   "metadata": {},
   "outputs": [
    {
     "data": {
      "image/png": "[encoded data removed]",
      "text/plain": [
       "<Figure size 432x288 with 1 Axes>"
      ]
     },
     "metadata": {
      "needs_background": "light"
     },
     "output_type": "display_data"
    },
    {
     "data": {
      "image/png": "[encoded data removed]",
      "text/plain": [
       "<Figure size 432x288 with 1 Axes>"
      ]
     },
     "metadata": {
      "needs_background": "light"
     },
     "output_type": "display_data"
    },
    {
     "data": {
      "image/png": "[encoded data removed]",
      "text/plain": [
       "<Figure size 432x288 with 1 Axes>"
      ]
     },
     "metadata": {
      "needs_background": "light"
     },
     "output_type": "display_data"
    },
    {
     "data": {
      "image/png": "[encoded data removed]",
      "text/plain": [
       "<Figure size 432x288 with 1 Axes>"
      ]
     },
     "metadata": {
      "needs_background": "light"
     },
     "output_type": "display_data"
    },
    {
     "data": {
      "image/png": "[encoded data removed]",
      "text/plain": [
       "<Figure size 432x288 with 1 Axes>"
      ]
     },
     "metadata": {
      "needs_background": "light"
     },
     "output_type": "display_data"
    },
    {
     "data": {
      "image/png": "[encoded data removed]",
      "text/plain": [
       "<Figure size 432x288 with 1 Axes>"
      ]
     },
     "metadata": {
      "needs_background": "light"
     },
     "output_type": "display_data"
    },
    {
     "data": {
      "image/png": "[encoded data removed]",
      "text/plain": [
       "<Figure size 432x288 with 1 Axes>"
      ]
     },
     "metadata": {
      "needs_background": "light"
     },
     "output_type": "display_data"
    },
    {
     "data": {
      "image/png": "[encoded data removed]",
      "text/plain": [
       "<Figure size 432x288 with 1 Axes>"
      ]
     },
     "metadata": {
      "needs_background": "light"
     },
     "output_type": "display_data"
    },
    {
     "data": {
      "image/png": "[encoded data removed]",
      "text/plain": [
       "<Figure size 432x288 with 1 Axes>"
      ]
     },
     "metadata": {
      "needs_background": "light"
     },
     "output_type": "display_data"
    },
    {
     "data": {
      "image/png": "[encoded data removed]",
      "text/plain": [
       "<Figure size 432x288 with 1 Axes>"
      ]
     },
     "metadata": {
      "needs_background": "light"
     },
     "output_type": "display_data"
    },
    {
     "data": {
      "text/plain": [
       "<Figure size 432x288 with 0 Axes>"
      ]
     },
     "metadata": {},
     "output_type": "display_data"
    }
   ],
   "source": [
    "for i in df_unstacked.columns:\n",
    "    fig = sns.lineplot(df_unstacked.index, df_unstacked[i])\n",
    "    fig.set(xlabel = i, ylabel = \"CO2\")\n",
    "    fig.set_xlim(1,12)\n",
    "    fig.set_ylim(0.55,0.95)\n",
    "    fig.set_xticks(list(range(2,12,2)))\n",
    "    plt.figure()"
   ]
  },
  {
   "cell_type": "code",
   "execution_count": null,
   "metadata": {},
   "outputs": [],
   "source": []
  }
 ],
 "metadata": {
  "kernelspec": {
   "display_name": "Python 3",
   "language": "python",
   "name": "python3"
  },
  "language_info": {
   "codemirror_mode": {
    "name": "ipython",
    "version": 3
   },
   "file_extension": ".py",
   "mimetype": "text/x-python",
   "name": "python",
   "nbconvert_exporter": "python",
   "pygments_lexer": "ipython3",
   "version": "3.6.8"
  }
 },
 "nbformat": 4,
 "nbformat_minor": 4
}
