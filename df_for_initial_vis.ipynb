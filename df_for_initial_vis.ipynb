{
 "cells": [
  {
   "cell_type": "code",
   "execution_count": 51,
   "metadata": {},
   "outputs": [],
   "source": [
    "import pandas as pd\n",
    "import numpy as np\n",
    "import matplotlib.pyplot as plt\n",
    "import seaborn as sns\n",
    "import os\n",
    "\n",
    "from py_files.c_target_exploration import mod_concat_NEMDE\n",
    "from py_files.d_concat_DUID_marginal_fuelsource import *"
   ]
  },
  {
   "cell_type": "code",
   "execution_count": 2,
   "metadata": {},
   "outputs": [],
   "source": [
    "file_path = '{}/nem-data/nemde_clean/concat_for_energy_SA1.pkl'.format(os.environ['HOME'])\n",
    "df = mod_concat_NEMDE(file_path)"
   ]
  },
  {
   "cell_type": "code",
   "execution_count": 3,
   "metadata": {},
   "outputs": [
    {
     "data": {
      "text/html": [
       "<div>\n",
       "<style scoped>\n",
       "    .dataframe tbody tr th:only-of-type {\n",
       "        vertical-align: middle;\n",
       "    }\n",
       "\n",
       "    .dataframe tbody tr th {\n",
       "        vertical-align: top;\n",
       "    }\n",
       "\n",
       "    .dataframe thead th {\n",
       "        text-align: right;\n",
       "    }\n",
       "</style>\n",
       "<table border=\"1\" class=\"dataframe\">\n",
       "  <thead>\n",
       "    <tr style=\"text-align: right;\">\n",
       "      <th></th>\n",
       "      <th>RegionID</th>\n",
       "      <th>Market</th>\n",
       "      <th>Price</th>\n",
       "      <th>DUID</th>\n",
       "      <th>DispatchedMarket</th>\n",
       "      <th>Increase</th>\n",
       "    </tr>\n",
       "    <tr>\n",
       "      <th>PeriodID</th>\n",
       "      <th></th>\n",
       "      <th></th>\n",
       "      <th></th>\n",
       "      <th></th>\n",
       "      <th></th>\n",
       "      <th></th>\n",
       "    </tr>\n",
       "  </thead>\n",
       "  <tbody>\n",
       "    <tr>\n",
       "      <td>2018-07-31 23:55:00</td>\n",
       "      <td>SA1</td>\n",
       "      <td>Energy</td>\n",
       "      <td>70.70204</td>\n",
       "      <td>ER01</td>\n",
       "      <td>ENOF</td>\n",
       "      <td>0.34712</td>\n",
       "    </tr>\n",
       "    <tr>\n",
       "      <td>2018-07-31 23:55:00</td>\n",
       "      <td>SA1</td>\n",
       "      <td>Energy</td>\n",
       "      <td>70.70204</td>\n",
       "      <td>ER04</td>\n",
       "      <td>ENOF</td>\n",
       "      <td>0.31058</td>\n",
       "    </tr>\n",
       "    <tr>\n",
       "      <td>2018-07-31 23:55:00</td>\n",
       "      <td>SA1</td>\n",
       "      <td>Energy</td>\n",
       "      <td>70.70204</td>\n",
       "      <td>ER03</td>\n",
       "      <td>ENOF</td>\n",
       "      <td>0.34712</td>\n",
       "    </tr>\n",
       "    <tr>\n",
       "      <td>2018-07-31 23:55:00</td>\n",
       "      <td>SA1</td>\n",
       "      <td>Energy</td>\n",
       "      <td>70.70204</td>\n",
       "      <td>ER02</td>\n",
       "      <td>ENOF</td>\n",
       "      <td>0.31058</td>\n",
       "    </tr>\n",
       "    <tr>\n",
       "      <td>2018-07-31 23:50:00</td>\n",
       "      <td>SA1</td>\n",
       "      <td>Energy</td>\n",
       "      <td>69.24109</td>\n",
       "      <td>DEVILS_G</td>\n",
       "      <td>L5MI</td>\n",
       "      <td>-1.29132</td>\n",
       "    </tr>\n",
       "    <tr>\n",
       "      <td>...</td>\n",
       "      <td>...</td>\n",
       "      <td>...</td>\n",
       "      <td>...</td>\n",
       "      <td>...</td>\n",
       "      <td>...</td>\n",
       "      <td>...</td>\n",
       "    </tr>\n",
       "    <tr>\n",
       "      <td>2018-07-31 22:20:00</td>\n",
       "      <td>SA1</td>\n",
       "      <td>Energy</td>\n",
       "      <td>79.30359</td>\n",
       "      <td>ER03</td>\n",
       "      <td>ENOF</td>\n",
       "      <td>0.42336</td>\n",
       "    </tr>\n",
       "    <tr>\n",
       "      <td>2018-07-31 22:15:00</td>\n",
       "      <td>SA1</td>\n",
       "      <td>Energy</td>\n",
       "      <td>81.25001</td>\n",
       "      <td>TORRB3</td>\n",
       "      <td>R5MI</td>\n",
       "      <td>0.33333</td>\n",
       "    </tr>\n",
       "    <tr>\n",
       "      <td>2018-07-31 22:15:00</td>\n",
       "      <td>SA1</td>\n",
       "      <td>Energy</td>\n",
       "      <td>81.25001</td>\n",
       "      <td>TARONG#1</td>\n",
       "      <td>R5MI</td>\n",
       "      <td>-1.00000</td>\n",
       "    </tr>\n",
       "    <tr>\n",
       "      <td>2018-07-31 22:15:00</td>\n",
       "      <td>SA1</td>\n",
       "      <td>Energy</td>\n",
       "      <td>81.25001</td>\n",
       "      <td>TORRB3</td>\n",
       "      <td>ENOF</td>\n",
       "      <td>0.33333</td>\n",
       "    </tr>\n",
       "    <tr>\n",
       "      <td>2018-07-31 22:15:00</td>\n",
       "      <td>SA1</td>\n",
       "      <td>Energy</td>\n",
       "      <td>81.25001</td>\n",
       "      <td>TORRB2</td>\n",
       "      <td>ENOF</td>\n",
       "      <td>0.33333</td>\n",
       "    </tr>\n",
       "  </tbody>\n",
       "</table>\n",
       "<p>100 rows × 6 columns</p>\n",
       "</div>"
      ],
      "text/plain": [
       "                    RegionID  Market     Price      DUID DispatchedMarket  \\\n",
       "PeriodID                                                                    \n",
       "2018-07-31 23:55:00      SA1  Energy  70.70204      ER01             ENOF   \n",
       "2018-07-31 23:55:00      SA1  Energy  70.70204      ER04             ENOF   \n",
       "2018-07-31 23:55:00      SA1  Energy  70.70204      ER03             ENOF   \n",
       "2018-07-31 23:55:00      SA1  Energy  70.70204      ER02             ENOF   \n",
       "2018-07-31 23:50:00      SA1  Energy  69.24109  DEVILS_G             L5MI   \n",
       "...                      ...     ...       ...       ...              ...   \n",
       "2018-07-31 22:20:00      SA1  Energy  79.30359      ER03             ENOF   \n",
       "2018-07-31 22:15:00      SA1  Energy  81.25001    TORRB3             R5MI   \n",
       "2018-07-31 22:15:00      SA1  Energy  81.25001  TARONG#1             R5MI   \n",
       "2018-07-31 22:15:00      SA1  Energy  81.25001    TORRB3             ENOF   \n",
       "2018-07-31 22:15:00      SA1  Energy  81.25001    TORRB2             ENOF   \n",
       "\n",
       "                     Increase  \n",
       "PeriodID                       \n",
       "2018-07-31 23:55:00   0.34712  \n",
       "2018-07-31 23:55:00   0.31058  \n",
       "2018-07-31 23:55:00   0.34712  \n",
       "2018-07-31 23:55:00   0.31058  \n",
       "2018-07-31 23:50:00  -1.29132  \n",
       "...                       ...  \n",
       "2018-07-31 22:20:00   0.42336  \n",
       "2018-07-31 22:15:00   0.33333  \n",
       "2018-07-31 22:15:00  -1.00000  \n",
       "2018-07-31 22:15:00   0.33333  \n",
       "2018-07-31 22:15:00   0.33333  \n",
       "\n",
       "[100 rows x 6 columns]"
      ]
     },
     "execution_count": 3,
     "metadata": {},
     "output_type": "execute_result"
    }
   ],
   "source": [
    "df.head(100)"
   ]
  },
  {
   "cell_type": "code",
   "execution_count": 5,
   "metadata": {},
   "outputs": [
    {
     "data": {
      "text/plain": [
       "DatetimeIndex(['2018-07-31 23:55:00', '2018-07-31 23:55:00',\n",
       "               '2018-07-31 23:55:00', '2018-07-31 23:55:00',\n",
       "               '2018-07-31 23:50:00', '2018-07-31 23:50:00',\n",
       "               '2018-07-31 23:50:00', '2018-07-31 23:50:00',\n",
       "               '2018-07-31 23:50:00', '2018-07-31 23:50:00',\n",
       "               ...\n",
       "               '2009-07-01 04:10:00', '2009-07-01 04:10:00',\n",
       "               '2009-07-01 04:05:00', '2009-07-01 04:05:00',\n",
       "               '2009-07-01 04:00:00', '2009-07-01 04:00:00',\n",
       "               '2009-07-01 04:00:00', '2009-07-01 04:00:00',\n",
       "               '2009-07-01 04:00:00', '2009-07-01 04:00:00'],\n",
       "              dtype='datetime64[ns]', name='PeriodID', length=5951707, freq=None)"
      ]
     },
     "execution_count": 5,
     "metadata": {},
     "output_type": "execute_result"
    }
   ],
   "source": [
    "f = df.Price\n",
    "f.index"
   ]
  },
  {
   "cell_type": "code",
   "execution_count": 6,
   "metadata": {},
   "outputs": [
    {
     "data": {
      "text/html": [
       "<div>\n",
       "<style scoped>\n",
       "    .dataframe tbody tr th:only-of-type {\n",
       "        vertical-align: middle;\n",
       "    }\n",
       "\n",
       "    .dataframe tbody tr th {\n",
       "        vertical-align: top;\n",
       "    }\n",
       "\n",
       "    .dataframe thead th {\n",
       "        text-align: right;\n",
       "    }\n",
       "</style>\n",
       "<table border=\"1\" class=\"dataframe\">\n",
       "  <thead>\n",
       "    <tr style=\"text-align: right;\">\n",
       "      <th></th>\n",
       "      <th>RegionID</th>\n",
       "      <th>Market</th>\n",
       "      <th>Price</th>\n",
       "      <th>DUID</th>\n",
       "      <th>DispatchedMarket</th>\n",
       "      <th>Increase</th>\n",
       "    </tr>\n",
       "    <tr>\n",
       "      <th>PeriodID</th>\n",
       "      <th></th>\n",
       "      <th></th>\n",
       "      <th></th>\n",
       "      <th></th>\n",
       "      <th></th>\n",
       "      <th></th>\n",
       "    </tr>\n",
       "  </thead>\n",
       "  <tbody>\n",
       "  </tbody>\n",
       "</table>\n",
       "</div>"
      ],
      "text/plain": [
       "Empty DataFrame\n",
       "Columns: [RegionID, Market, Price, DUID, DispatchedMarket, Increase]\n",
       "Index: []"
      ]
     },
     "execution_count": 6,
     "metadata": {},
     "output_type": "execute_result"
    }
   ],
   "source": [
    "df[df.DUID == \"ENOF,YWPS1,6,YWPS2,5 \"]"
   ]
  },
  {
   "cell_type": "code",
   "execution_count": 7,
   "metadata": {},
   "outputs": [
    {
     "name": "stdout",
     "output_type": "stream",
     "text": [
      "(5951707, 6)\n",
      "<class 'pandas.core.frame.DataFrame'>\n",
      "DatetimeIndex: 5951707 entries, 2018-07-31 23:55:00 to 2009-07-01 04:00:00\n",
      "Data columns (total 6 columns):\n",
      "RegionID            object\n",
      "Market              object\n",
      "Price               float64\n",
      "DUID                object\n",
      "DispatchedMarket    object\n",
      "Increase            float64\n",
      "dtypes: float64(2), object(4)\n",
      "memory usage: 317.9+ MB\n"
     ]
    }
   ],
   "source": [
    "print(df.shape)\n",
    "df.info()"
   ]
  },
  {
   "cell_type": "code",
   "execution_count": 12,
   "metadata": {},
   "outputs": [
    {
     "name": "stdout",
     "output_type": "stream",
     "text": [
      "384\n"
     ]
    },
    {
     "data": {
      "text/html": [
       "<div>\n",
       "<style scoped>\n",
       "    .dataframe tbody tr th:only-of-type {\n",
       "        vertical-align: middle;\n",
       "    }\n",
       "\n",
       "    .dataframe tbody tr th {\n",
       "        vertical-align: top;\n",
       "    }\n",
       "\n",
       "    .dataframe thead th {\n",
       "        text-align: right;\n",
       "    }\n",
       "</style>\n",
       "<table border=\"1\" class=\"dataframe\">\n",
       "  <thead>\n",
       "    <tr style=\"text-align: right;\">\n",
       "      <th></th>\n",
       "      <th>DUID</th>\n",
       "      <th>GENSETID</th>\n",
       "      <th>REGIONID</th>\n",
       "      <th>CO2E_EMISSIONS_FACTOR</th>\n",
       "      <th>CO2E_ENERGY_SOURCE</th>\n",
       "      <th>CO2E_DATA_SOURCE</th>\n",
       "    </tr>\n",
       "  </thead>\n",
       "  <tbody>\n",
       "    <tr>\n",
       "      <td>0</td>\n",
       "      <td>AGLNOW1</td>\n",
       "      <td>AGLNOW1</td>\n",
       "      <td>NSW1</td>\n",
       "      <td>0.062</td>\n",
       "      <td>Landfill biogas methane</td>\n",
       "      <td>NGA 2018</td>\n",
       "    </tr>\n",
       "    <tr>\n",
       "      <td>1</td>\n",
       "      <td>AGLSITA1</td>\n",
       "      <td>AGLSITA1</td>\n",
       "      <td>NSW1</td>\n",
       "      <td>0.062</td>\n",
       "      <td>Landfill biogas methane</td>\n",
       "      <td>NGA 2018</td>\n",
       "    </tr>\n",
       "    <tr>\n",
       "      <td>2</td>\n",
       "      <td>APPIN</td>\n",
       "      <td>APPIN</td>\n",
       "      <td>NSW1</td>\n",
       "      <td>0.765</td>\n",
       "      <td>Coal seam methane</td>\n",
       "      <td>NGA 2018</td>\n",
       "    </tr>\n",
       "    <tr>\n",
       "      <td>3</td>\n",
       "      <td>BDONGHYD</td>\n",
       "      <td>BDONGHYD</td>\n",
       "      <td>NSW1</td>\n",
       "      <td>0.000</td>\n",
       "      <td>Hydro</td>\n",
       "      <td>ISP 2018</td>\n",
       "    </tr>\n",
       "    <tr>\n",
       "      <td>4</td>\n",
       "      <td>BERYLSF1</td>\n",
       "      <td>BERYLSF1</td>\n",
       "      <td>NSW1</td>\n",
       "      <td>0.000</td>\n",
       "      <td>Solar</td>\n",
       "      <td>ISP 2018</td>\n",
       "    </tr>\n",
       "  </tbody>\n",
       "</table>\n",
       "</div>"
      ],
      "text/plain": [
       "       DUID  GENSETID REGIONID  CO2E_EMISSIONS_FACTOR  \\\n",
       "0   AGLNOW1   AGLNOW1     NSW1                  0.062   \n",
       "1  AGLSITA1  AGLSITA1     NSW1                  0.062   \n",
       "2     APPIN     APPIN     NSW1                  0.765   \n",
       "3  BDONGHYD  BDONGHYD     NSW1                  0.000   \n",
       "4  BERYLSF1  BERYLSF1     NSW1                  0.000   \n",
       "\n",
       "        CO2E_ENERGY_SOURCE CO2E_DATA_SOURCE  \n",
       "0  Landfill biogas methane         NGA 2018  \n",
       "1  Landfill biogas methane         NGA 2018  \n",
       "2        Coal seam methane         NGA 2018  \n",
       "3                    Hydro         ISP 2018  \n",
       "4                    Solar         ISP 2018  "
      ]
     },
     "execution_count": 12,
     "metadata": {},
     "output_type": "execute_result"
    }
   ],
   "source": [
    "file_path = '{}/Desktop/Portfolio_project/DUID_CO2.csv'.format(os.environ['HOME'])\n",
    "CO2_generators = pd.read_csv(file_path)\n",
    "print(CO2_generators.DUID.nunique())\n",
    "CO2_generators.head()"
   ]
  },
  {
   "cell_type": "code",
   "execution_count": 9,
   "metadata": {},
   "outputs": [
    {
     "name": "stdout",
     "output_type": "stream",
     "text": [
      "The NEMDE_market_table uses 177 DUID items from the DUID CO2_generator column.\n",
      "The NEMDE_market_table uses 163 DUID items from the GENSETID CO2_generator column.\n",
      "The items ['ANGAS2', 'ANGAS1', 'MCKAY2'] from the GENSETID column should be added to the DUID column.\n"
     ]
    }
   ],
   "source": [
    "lst_diff = DUID_items(df, CO2_generators)"
   ]
  },
  {
   "cell_type": "code",
   "execution_count": 14,
   "metadata": {},
   "outputs": [
    {
     "name": "stdout",
     "output_type": "stream",
     "text": [
      "387\n"
     ]
    },
    {
     "data": {
      "text/html": [
       "<div>\n",
       "<style scoped>\n",
       "    .dataframe tbody tr th:only-of-type {\n",
       "        vertical-align: middle;\n",
       "    }\n",
       "\n",
       "    .dataframe tbody tr th {\n",
       "        vertical-align: top;\n",
       "    }\n",
       "\n",
       "    .dataframe thead th {\n",
       "        text-align: right;\n",
       "    }\n",
       "</style>\n",
       "<table border=\"1\" class=\"dataframe\">\n",
       "  <thead>\n",
       "    <tr style=\"text-align: right;\">\n",
       "      <th></th>\n",
       "      <th>DUID</th>\n",
       "      <th>CO2E_EMISSIONS_FACTOR</th>\n",
       "    </tr>\n",
       "  </thead>\n",
       "  <tbody>\n",
       "    <tr>\n",
       "      <td>0</td>\n",
       "      <td>AGLHAL</td>\n",
       "      <td>1.174440</td>\n",
       "    </tr>\n",
       "    <tr>\n",
       "      <td>1</td>\n",
       "      <td>AGLNOW1</td>\n",
       "      <td>0.062000</td>\n",
       "    </tr>\n",
       "    <tr>\n",
       "      <td>2</td>\n",
       "      <td>AGLSITA1</td>\n",
       "      <td>0.062000</td>\n",
       "    </tr>\n",
       "    <tr>\n",
       "      <td>3</td>\n",
       "      <td>AGLSOM</td>\n",
       "      <td>0.817915</td>\n",
       "    </tr>\n",
       "    <tr>\n",
       "      <td>4</td>\n",
       "      <td>ANGAS1</td>\n",
       "      <td>1.013600</td>\n",
       "    </tr>\n",
       "  </tbody>\n",
       "</table>\n",
       "</div>"
      ],
      "text/plain": [
       "       DUID  CO2E_EMISSIONS_FACTOR\n",
       "0    AGLHAL               1.174440\n",
       "1   AGLNOW1               0.062000\n",
       "2  AGLSITA1               0.062000\n",
       "3    AGLSOM               0.817915\n",
       "4    ANGAS1               1.013600"
      ]
     },
     "execution_count": 14,
     "metadata": {},
     "output_type": "execute_result"
    }
   ],
   "source": [
    "all_DUIDs = merge_DUID_GENSETID(CO2_generators, lst_diff)\n",
    "print(all_DUIDs.DUID.nunique())\n",
    "all_DUIDs.head()"
   ]
  },
  {
   "cell_type": "code",
   "execution_count": 15,
   "metadata": {},
   "outputs": [],
   "source": [
    "file_path = '{}/nem-data/nemde_clean/all_DUIDs.pkl'.format(os.environ['HOME'])\n",
    "pd.to_pickle(all_DUIDs, file_path)"
   ]
  },
  {
   "cell_type": "code",
   "execution_count": 17,
   "metadata": {},
   "outputs": [
    {
     "name": "stdout",
     "output_type": "stream",
     "text": [
      "(5951707, 3)\n"
     ]
    },
    {
     "data": {
      "text/html": [
       "<div>\n",
       "<style scoped>\n",
       "    .dataframe tbody tr th:only-of-type {\n",
       "        vertical-align: middle;\n",
       "    }\n",
       "\n",
       "    .dataframe tbody tr th {\n",
       "        vertical-align: top;\n",
       "    }\n",
       "\n",
       "    .dataframe thead th {\n",
       "        text-align: right;\n",
       "    }\n",
       "</style>\n",
       "<table border=\"1\" class=\"dataframe\">\n",
       "  <thead>\n",
       "    <tr style=\"text-align: right;\">\n",
       "      <th></th>\n",
       "      <th>Price</th>\n",
       "      <th>DUID</th>\n",
       "      <th>CO2E_EMISSIONS_FACTOR</th>\n",
       "    </tr>\n",
       "    <tr>\n",
       "      <th>PeriodID</th>\n",
       "      <th></th>\n",
       "      <th></th>\n",
       "      <th></th>\n",
       "    </tr>\n",
       "  </thead>\n",
       "  <tbody>\n",
       "    <tr>\n",
       "      <td>2018-07-31 23:55:00</td>\n",
       "      <td>70.70204</td>\n",
       "      <td>ER01</td>\n",
       "      <td>0.910143</td>\n",
       "    </tr>\n",
       "    <tr>\n",
       "      <td>2018-07-31 23:55:00</td>\n",
       "      <td>70.70204</td>\n",
       "      <td>ER04</td>\n",
       "      <td>0.910143</td>\n",
       "    </tr>\n",
       "    <tr>\n",
       "      <td>2018-07-31 23:55:00</td>\n",
       "      <td>70.70204</td>\n",
       "      <td>ER03</td>\n",
       "      <td>0.910143</td>\n",
       "    </tr>\n",
       "    <tr>\n",
       "      <td>2018-07-31 23:55:00</td>\n",
       "      <td>70.70204</td>\n",
       "      <td>ER02</td>\n",
       "      <td>0.910143</td>\n",
       "    </tr>\n",
       "    <tr>\n",
       "      <td>2018-07-31 23:50:00</td>\n",
       "      <td>69.24109</td>\n",
       "      <td>DEVILS_G</td>\n",
       "      <td>0.000000</td>\n",
       "    </tr>\n",
       "    <tr>\n",
       "      <td>...</td>\n",
       "      <td>...</td>\n",
       "      <td>...</td>\n",
       "      <td>...</td>\n",
       "    </tr>\n",
       "    <tr>\n",
       "      <td>2009-07-01 04:00:00</td>\n",
       "      <td>1.35918</td>\n",
       "      <td>ER03</td>\n",
       "      <td>0.910143</td>\n",
       "    </tr>\n",
       "    <tr>\n",
       "      <td>2009-07-01 04:00:00</td>\n",
       "      <td>1.35918</td>\n",
       "      <td>ER04</td>\n",
       "      <td>0.910143</td>\n",
       "    </tr>\n",
       "    <tr>\n",
       "      <td>2009-07-01 04:00:00</td>\n",
       "      <td>1.35918</td>\n",
       "      <td>ENOF,YWPS2,2,YWPS3,2</td>\n",
       "      <td>NaN</td>\n",
       "    </tr>\n",
       "    <tr>\n",
       "      <td>2009-07-01 04:00:00</td>\n",
       "      <td>1.35918</td>\n",
       "      <td>ER01</td>\n",
       "      <td>0.910143</td>\n",
       "    </tr>\n",
       "    <tr>\n",
       "      <td>2009-07-01 04:00:00</td>\n",
       "      <td>1.35918</td>\n",
       "      <td>YWPS2</td>\n",
       "      <td>1.315515</td>\n",
       "    </tr>\n",
       "  </tbody>\n",
       "</table>\n",
       "<p>5951707 rows × 3 columns</p>\n",
       "</div>"
      ],
      "text/plain": [
       "                        Price                  DUID  CO2E_EMISSIONS_FACTOR\n",
       "PeriodID                                                                  \n",
       "2018-07-31 23:55:00  70.70204                  ER01               0.910143\n",
       "2018-07-31 23:55:00  70.70204                  ER04               0.910143\n",
       "2018-07-31 23:55:00  70.70204                  ER03               0.910143\n",
       "2018-07-31 23:55:00  70.70204                  ER02               0.910143\n",
       "2018-07-31 23:50:00  69.24109              DEVILS_G               0.000000\n",
       "...                       ...                   ...                    ...\n",
       "2009-07-01 04:00:00   1.35918                  ER03               0.910143\n",
       "2009-07-01 04:00:00   1.35918                  ER04               0.910143\n",
       "2009-07-01 04:00:00   1.35918  ENOF,YWPS2,2,YWPS3,2                    NaN\n",
       "2009-07-01 04:00:00   1.35918                  ER01               0.910143\n",
       "2009-07-01 04:00:00   1.35918                 YWPS2               1.315515\n",
       "\n",
       "[5951707 rows x 3 columns]"
      ]
     },
     "execution_count": 17,
     "metadata": {},
     "output_type": "execute_result"
    }
   ],
   "source": [
    "df_DUID_CO2 = df.reset_index().merge(all_DUIDs, how=\"left\", on=\"DUID\").set_index(\"PeriodID\")\n",
    "df_DUID_CO2 = df_DUID_CO2.drop(columns=[\"RegionID\", \"Market\", \"DispatchedMarket\", \"Increase\"])\n",
    "print(df_DUID_CO2.shape)\n",
    "df_DUID_CO2"
   ]
  },
  {
   "cell_type": "code",
   "execution_count": 19,
   "metadata": {},
   "outputs": [
    {
     "name": "stdout",
     "output_type": "stream",
     "text": [
      "(2886240, 3)\n"
     ]
    },
    {
     "data": {
      "text/html": [
       "<div>\n",
       "<style scoped>\n",
       "    .dataframe tbody tr th:only-of-type {\n",
       "        vertical-align: middle;\n",
       "    }\n",
       "\n",
       "    .dataframe tbody tr th {\n",
       "        vertical-align: top;\n",
       "    }\n",
       "\n",
       "    .dataframe thead th {\n",
       "        text-align: right;\n",
       "    }\n",
       "</style>\n",
       "<table border=\"1\" class=\"dataframe\">\n",
       "  <thead>\n",
       "    <tr style=\"text-align: right;\">\n",
       "      <th></th>\n",
       "      <th>Price</th>\n",
       "      <th>DUID</th>\n",
       "      <th>CO2E_EMISSIONS_FACTOR</th>\n",
       "    </tr>\n",
       "    <tr>\n",
       "      <th>PeriodID</th>\n",
       "      <th></th>\n",
       "      <th></th>\n",
       "      <th></th>\n",
       "    </tr>\n",
       "  </thead>\n",
       "  <tbody>\n",
       "    <tr>\n",
       "      <td>2018-07-31 23:55:00</td>\n",
       "      <td>70.70204</td>\n",
       "      <td>ER01</td>\n",
       "      <td>0.910143</td>\n",
       "    </tr>\n",
       "    <tr>\n",
       "      <td>2018-07-31 23:55:00</td>\n",
       "      <td>70.70204</td>\n",
       "      <td>ER04</td>\n",
       "      <td>0.910143</td>\n",
       "    </tr>\n",
       "    <tr>\n",
       "      <td>2018-07-31 23:55:00</td>\n",
       "      <td>70.70204</td>\n",
       "      <td>ER03</td>\n",
       "      <td>0.910143</td>\n",
       "    </tr>\n",
       "    <tr>\n",
       "      <td>2018-07-31 23:55:00</td>\n",
       "      <td>70.70204</td>\n",
       "      <td>ER02</td>\n",
       "      <td>0.910143</td>\n",
       "    </tr>\n",
       "    <tr>\n",
       "      <td>2018-07-31 23:50:00</td>\n",
       "      <td>69.24109</td>\n",
       "      <td>DEVILS_G</td>\n",
       "      <td>0.000000</td>\n",
       "    </tr>\n",
       "    <tr>\n",
       "      <td>...</td>\n",
       "      <td>...</td>\n",
       "      <td>...</td>\n",
       "      <td>...</td>\n",
       "    </tr>\n",
       "    <tr>\n",
       "      <td>2009-07-01 04:00:00</td>\n",
       "      <td>1.35918</td>\n",
       "      <td>ER02</td>\n",
       "      <td>0.910143</td>\n",
       "    </tr>\n",
       "    <tr>\n",
       "      <td>2009-07-01 04:00:00</td>\n",
       "      <td>1.35918</td>\n",
       "      <td>ER03</td>\n",
       "      <td>0.910143</td>\n",
       "    </tr>\n",
       "    <tr>\n",
       "      <td>2009-07-01 04:00:00</td>\n",
       "      <td>1.35918</td>\n",
       "      <td>ER04</td>\n",
       "      <td>0.910143</td>\n",
       "    </tr>\n",
       "    <tr>\n",
       "      <td>2009-07-01 04:00:00</td>\n",
       "      <td>1.35918</td>\n",
       "      <td>ER01</td>\n",
       "      <td>0.910143</td>\n",
       "    </tr>\n",
       "    <tr>\n",
       "      <td>2009-07-01 04:00:00</td>\n",
       "      <td>1.35918</td>\n",
       "      <td>YWPS2</td>\n",
       "      <td>1.315515</td>\n",
       "    </tr>\n",
       "  </tbody>\n",
       "</table>\n",
       "<p>2886240 rows × 3 columns</p>\n",
       "</div>"
      ],
      "text/plain": [
       "                        Price      DUID  CO2E_EMISSIONS_FACTOR\n",
       "PeriodID                                                      \n",
       "2018-07-31 23:55:00  70.70204      ER01               0.910143\n",
       "2018-07-31 23:55:00  70.70204      ER04               0.910143\n",
       "2018-07-31 23:55:00  70.70204      ER03               0.910143\n",
       "2018-07-31 23:55:00  70.70204      ER02               0.910143\n",
       "2018-07-31 23:50:00  69.24109  DEVILS_G               0.000000\n",
       "...                       ...       ...                    ...\n",
       "2009-07-01 04:00:00   1.35918      ER02               0.910143\n",
       "2009-07-01 04:00:00   1.35918      ER03               0.910143\n",
       "2009-07-01 04:00:00   1.35918      ER04               0.910143\n",
       "2009-07-01 04:00:00   1.35918      ER01               0.910143\n",
       "2009-07-01 04:00:00   1.35918     YWPS2               1.315515\n",
       "\n",
       "[2886240 rows x 3 columns]"
      ]
     },
     "execution_count": 19,
     "metadata": {},
     "output_type": "execute_result"
    }
   ],
   "source": [
    "print(df_DUID_CO2[~df_DUID_CO2.CO2E_EMISSIONS_FACTOR.isna()].shape)\n",
    "df_DUID_CO2 = df_DUID_CO2[~df_DUID_CO2.CO2E_EMISSIONS_FACTOR.isna()]\n",
    "df_DUID_CO2"
   ]
  },
  {
   "cell_type": "code",
   "execution_count": 36,
   "metadata": {},
   "outputs": [
    {
     "name": "stdout",
     "output_type": "stream",
     "text": [
      "(911397, 2)\n"
     ]
    },
    {
     "data": {
      "text/html": [
       "<div>\n",
       "<style scoped>\n",
       "    .dataframe tbody tr th:only-of-type {\n",
       "        vertical-align: middle;\n",
       "    }\n",
       "\n",
       "    .dataframe tbody tr th {\n",
       "        vertical-align: top;\n",
       "    }\n",
       "\n",
       "    .dataframe thead th {\n",
       "        text-align: right;\n",
       "    }\n",
       "</style>\n",
       "<table border=\"1\" class=\"dataframe\">\n",
       "  <thead>\n",
       "    <tr style=\"text-align: right;\">\n",
       "      <th></th>\n",
       "      <th>Price</th>\n",
       "      <th>CO2E_EMISSIONS_FACTOR</th>\n",
       "    </tr>\n",
       "    <tr>\n",
       "      <th>PeriodID</th>\n",
       "      <th></th>\n",
       "      <th></th>\n",
       "    </tr>\n",
       "  </thead>\n",
       "  <tbody>\n",
       "    <tr>\n",
       "      <td>2018-07-31 23:55:00</td>\n",
       "      <td>70.70204</td>\n",
       "      <td>0.910143</td>\n",
       "    </tr>\n",
       "    <tr>\n",
       "      <td>2018-07-31 23:50:00</td>\n",
       "      <td>69.24109</td>\n",
       "      <td>0.728114</td>\n",
       "    </tr>\n",
       "    <tr>\n",
       "      <td>2018-07-31 23:45:00</td>\n",
       "      <td>69.94850</td>\n",
       "      <td>0.910143</td>\n",
       "    </tr>\n",
       "    <tr>\n",
       "      <td>2018-07-31 23:40:00</td>\n",
       "      <td>74.04497</td>\n",
       "      <td>0.908305</td>\n",
       "    </tr>\n",
       "    <tr>\n",
       "      <td>2018-07-31 23:35:00</td>\n",
       "      <td>76.44245</td>\n",
       "      <td>0.971761</td>\n",
       "    </tr>\n",
       "  </tbody>\n",
       "</table>\n",
       "</div>"
      ],
      "text/plain": [
       "                        Price  CO2E_EMISSIONS_FACTOR\n",
       "PeriodID                                            \n",
       "2018-07-31 23:55:00  70.70204               0.910143\n",
       "2018-07-31 23:50:00  69.24109               0.728114\n",
       "2018-07-31 23:45:00  69.94850               0.910143\n",
       "2018-07-31 23:40:00  74.04497               0.908305\n",
       "2018-07-31 23:35:00  76.44245               0.971761"
      ]
     },
     "execution_count": 36,
     "metadata": {},
     "output_type": "execute_result"
    }
   ],
   "source": [
    "df_DUID_CO2_CO2 = df_DUID_CO2.groupby(df_DUID_CO2.index).mean().sort_index(ascending=False)\n",
    "print(df_DUID_CO2_CO2.shape)\n",
    "df_DUID_CO2_CO2.head()"
   ]
  },
  {
   "cell_type": "code",
   "execution_count": 37,
   "metadata": {},
   "outputs": [
    {
     "name": "stdout",
     "output_type": "stream",
     "text": [
      "1202903.49417\n",
      "-26801.01056999999\n",
      "156\n",
      "65\n"
     ]
    }
   ],
   "source": [
    "print(df_DUID_CO2_CO2.Price.max())\n",
    "print(df_DUID_CO2_CO2.Price.min())\n",
    "print(sum(df_DUID_CO2_CO2.Price > 13500))\n",
    "print(sum(df_DUID_CO2_CO2.Price < -1000))"
   ]
  },
  {
   "cell_type": "code",
   "execution_count": 38,
   "metadata": {},
   "outputs": [
    {
     "name": "stdout",
     "output_type": "stream",
     "text": [
      "0\n",
      "0\n"
     ]
    }
   ],
   "source": [
    "df_DUID_CO2_price = df_DUID_CO2_time.query('Price > -1000 and Price < 13500')\n",
    "print(sum(df_DUID_CO2_price.Price > 13500))\n",
    "print(sum(df_DUID_CO2_price.Price < -1000))"
   ]
  },
  {
   "cell_type": "code",
   "execution_count": 40,
   "metadata": {},
   "outputs": [
    {
     "data": {
      "text/plain": [
       "955536"
      ]
     },
     "execution_count": 40,
     "metadata": {},
     "output_type": "execute_result"
    }
   ],
   "source": [
    "len(pd.date_range(start='2009-07-01 04:00:00', end='2018-07-31 23:55:00', freq='5min'))"
   ]
  },
  {
   "cell_type": "code",
   "execution_count": 41,
   "metadata": {},
   "outputs": [],
   "source": [
    "def correct_timedelta(df, time_diff):\n",
    "    '''\n",
    "    df.index must be DateTimeIndex\n",
    "    table=table_of_interest\n",
    "    col=\"column_of_interest\"\n",
    "    time_diff=time_diff in seconds as int\n",
    "    '''\n",
    "    lst = []\n",
    "    lst_i = []\n",
    "    count = 0\n",
    "    for i in df.index:\n",
    "        count += 1\n",
    "        if count >= len(df):\n",
    "            break\n",
    "        delta = abs(df.index[count] - df.index[count-1])\n",
    "        if int(delta.total_seconds()) != int(time_diff):\n",
    "            lst.append((\"from index {} on, it has been {} s or {} h.\".format(count-1,int(delta.total_seconds()),(int(delta.total_seconds()/3600)))))\n",
    "            lst_i.append((count-1,int(delta.total_seconds())))\n",
    "    return lst, lst_i"
   ]
  },
  {
   "cell_type": "code",
   "execution_count": 45,
   "metadata": {},
   "outputs": [],
   "source": [
    "a1,b1 = correct_timedelta(df_DUID_CO2_CO2, 300)"
   ]
  },
  {
   "cell_type": "code",
   "execution_count": 46,
   "metadata": {},
   "outputs": [
    {
     "data": {
      "text/plain": [
       "24983"
      ]
     },
     "execution_count": 46,
     "metadata": {},
     "output_type": "execute_result"
    }
   ],
   "source": [
    "len(a1)"
   ]
  },
  {
   "cell_type": "code",
   "execution_count": 47,
   "metadata": {},
   "outputs": [],
   "source": [
    "a2,b2 = correct_timedelta(df_DUID_CO2_price, 300)"
   ]
  },
  {
   "cell_type": "code",
   "execution_count": 48,
   "metadata": {},
   "outputs": [
    {
     "data": {
      "text/plain": [
       "25131"
      ]
     },
     "execution_count": 48,
     "metadata": {},
     "output_type": "execute_result"
    }
   ],
   "source": [
    "len(a2)"
   ]
  },
  {
   "cell_type": "code",
   "execution_count": 50,
   "metadata": {},
   "outputs": [
    {
     "name": "stdout",
     "output_type": "stream",
     "text": [
      "0.0\n",
      "1.4918\n"
     ]
    }
   ],
   "source": [
    "print(df_DUID_CO2_price.CO2E_EMISSIONS_FACTOR.min())\n",
    "print(df_DUID_CO2_price.CO2E_EMISSIONS_FACTOR.max())"
   ]
  },
  {
   "cell_type": "code",
   "execution_count": 53,
   "metadata": {},
   "outputs": [
    {
     "data": {
      "text/plain": [
       "[0.0,\n",
       " 0.14918,\n",
       " 0.29836,\n",
       " 0.44754000000000005,\n",
       " 0.59672,\n",
       " 0.7459,\n",
       " 0.8950800000000001,\n",
       " 1.04426,\n",
       " 1.19344]"
      ]
     },
     "execution_count": 53,
     "metadata": {},
     "output_type": "execute_result"
    }
   ],
   "source": [
    "bins = list(np.arange(df_DUID_CO2_price.CO2E_EMISSIONS_FACTOR.min(),\n",
    "                      df_DUID_CO2_price.CO2E_EMISSIONS_FACTOR.max(), \n",
    "                      df_DUID_CO2_price.CO2E_EMISSIONS_FACTOR.max()/10))\n",
    "type(bins)\n",
    "group_names = bins[:-1]\n",
    "group_names"
   ]
  },
  {
   "cell_type": "code",
   "execution_count": 57,
   "metadata": {},
   "outputs": [],
   "source": [
    "df_DUID_CO2_price[\"CO2_group\"] = pd.cut(df_DUID_CO2_price.CO2E_EMISSIONS_FACTOR, bins, labels=group_names)"
   ]
  },
  {
   "cell_type": "code",
   "execution_count": 58,
   "metadata": {},
   "outputs": [
    {
     "data": {
      "text/html": [
       "<div>\n",
       "<style scoped>\n",
       "    .dataframe tbody tr th:only-of-type {\n",
       "        vertical-align: middle;\n",
       "    }\n",
       "\n",
       "    .dataframe tbody tr th {\n",
       "        vertical-align: top;\n",
       "    }\n",
       "\n",
       "    .dataframe thead th {\n",
       "        text-align: right;\n",
       "    }\n",
       "</style>\n",
       "<table border=\"1\" class=\"dataframe\">\n",
       "  <thead>\n",
       "    <tr style=\"text-align: right;\">\n",
       "      <th></th>\n",
       "      <th>Price</th>\n",
       "      <th>CO2E_EMISSIONS_FACTOR</th>\n",
       "      <th>CO2_group</th>\n",
       "    </tr>\n",
       "    <tr>\n",
       "      <th>PeriodID</th>\n",
       "      <th></th>\n",
       "      <th></th>\n",
       "      <th></th>\n",
       "    </tr>\n",
       "  </thead>\n",
       "  <tbody>\n",
       "    <tr>\n",
       "      <td>2018-07-31 23:55:00</td>\n",
       "      <td>70.70204</td>\n",
       "      <td>0.910143</td>\n",
       "      <td>0.89508</td>\n",
       "    </tr>\n",
       "    <tr>\n",
       "      <td>2018-07-31 23:50:00</td>\n",
       "      <td>69.24109</td>\n",
       "      <td>0.728114</td>\n",
       "      <td>0.59672</td>\n",
       "    </tr>\n",
       "    <tr>\n",
       "      <td>2018-07-31 23:45:00</td>\n",
       "      <td>69.94850</td>\n",
       "      <td>0.910143</td>\n",
       "      <td>0.89508</td>\n",
       "    </tr>\n",
       "    <tr>\n",
       "      <td>2018-07-31 23:40:00</td>\n",
       "      <td>74.04497</td>\n",
       "      <td>0.908305</td>\n",
       "      <td>0.89508</td>\n",
       "    </tr>\n",
       "    <tr>\n",
       "      <td>2018-07-31 23:35:00</td>\n",
       "      <td>76.44245</td>\n",
       "      <td>0.971761</td>\n",
       "      <td>0.89508</td>\n",
       "    </tr>\n",
       "  </tbody>\n",
       "</table>\n",
       "</div>"
      ],
      "text/plain": [
       "                        Price  CO2E_EMISSIONS_FACTOR CO2_group\n",
       "PeriodID                                                      \n",
       "2018-07-31 23:55:00  70.70204               0.910143   0.89508\n",
       "2018-07-31 23:50:00  69.24109               0.728114   0.59672\n",
       "2018-07-31 23:45:00  69.94850               0.910143   0.89508\n",
       "2018-07-31 23:40:00  74.04497               0.908305   0.89508\n",
       "2018-07-31 23:35:00  76.44245               0.971761   0.89508"
      ]
     },
     "execution_count": 58,
     "metadata": {},
     "output_type": "execute_result"
    }
   ],
   "source": [
    "df_DUID_CO2_price.head()"
   ]
  },
  {
   "cell_type": "code",
   "execution_count": 61,
   "metadata": {},
   "outputs": [
    {
     "data": {
      "text/html": [
       "<div>\n",
       "<style scoped>\n",
       "    .dataframe tbody tr th:only-of-type {\n",
       "        vertical-align: middle;\n",
       "    }\n",
       "\n",
       "    .dataframe tbody tr th {\n",
       "        vertical-align: top;\n",
       "    }\n",
       "\n",
       "    .dataframe thead th {\n",
       "        text-align: right;\n",
       "    }\n",
       "</style>\n",
       "<table border=\"1\" class=\"dataframe\">\n",
       "  <thead>\n",
       "    <tr style=\"text-align: right;\">\n",
       "      <th></th>\n",
       "      <th>Price</th>\n",
       "      <th>CO2E_EMISSIONS_FACTOR</th>\n",
       "    </tr>\n",
       "    <tr>\n",
       "      <th>CO2_group</th>\n",
       "      <th></th>\n",
       "      <th></th>\n",
       "    </tr>\n",
       "  </thead>\n",
       "  <tbody>\n",
       "    <tr>\n",
       "      <td>0.00000</td>\n",
       "      <td>-113.974696</td>\n",
       "      <td>0.117165</td>\n",
       "    </tr>\n",
       "    <tr>\n",
       "      <td>0.14918</td>\n",
       "      <td>39.850092</td>\n",
       "      <td>0.232275</td>\n",
       "    </tr>\n",
       "    <tr>\n",
       "      <td>0.29836</td>\n",
       "      <td>53.177382</td>\n",
       "      <td>0.381765</td>\n",
       "    </tr>\n",
       "    <tr>\n",
       "      <td>0.44754</td>\n",
       "      <td>58.867481</td>\n",
       "      <td>0.508666</td>\n",
       "    </tr>\n",
       "    <tr>\n",
       "      <td>0.59672</td>\n",
       "      <td>85.598736</td>\n",
       "      <td>0.683207</td>\n",
       "    </tr>\n",
       "    <tr>\n",
       "      <td>0.74590</td>\n",
       "      <td>66.327211</td>\n",
       "      <td>0.835431</td>\n",
       "    </tr>\n",
       "    <tr>\n",
       "      <td>0.89508</td>\n",
       "      <td>41.213792</td>\n",
       "      <td>0.937934</td>\n",
       "    </tr>\n",
       "    <tr>\n",
       "      <td>1.04426</td>\n",
       "      <td>44.395009</td>\n",
       "      <td>1.122903</td>\n",
       "    </tr>\n",
       "    <tr>\n",
       "      <td>1.19344</td>\n",
       "      <td>224.947067</td>\n",
       "      <td>1.308523</td>\n",
       "    </tr>\n",
       "  </tbody>\n",
       "</table>\n",
       "</div>"
      ],
      "text/plain": [
       "                Price  CO2E_EMISSIONS_FACTOR\n",
       "CO2_group                                   \n",
       "0.00000   -113.974696               0.117165\n",
       "0.14918     39.850092               0.232275\n",
       "0.29836     53.177382               0.381765\n",
       "0.44754     58.867481               0.508666\n",
       "0.59672     85.598736               0.683207\n",
       "0.74590     66.327211               0.835431\n",
       "0.89508     41.213792               0.937934\n",
       "1.04426     44.395009               1.122903\n",
       "1.19344    224.947067               1.308523"
      ]
     },
     "execution_count": 61,
     "metadata": {},
     "output_type": "execute_result"
    }
   ],
   "source": [
    "df_DUID_CO2_price.groupby(\"CO2_group\").mean()"
   ]
  },
  {
   "cell_type": "code",
   "execution_count": null,
   "metadata": {},
   "outputs": [],
   "source": [
    "file_path = '{}/nem-data/nemde_clean/df_DUID_CO2_price.pkl'.format(os.environ['HOME'])\n",
    "df_DUID_CO2_price = pd.to_pickle(df_DUID_CO2_price, file_path)"
   ]
  }
 ],
 "metadata": {
  "kernelspec": {
   "display_name": "Python 3",
   "language": "python",
   "name": "python3"
  },
  "language_info": {
   "codemirror_mode": {
    "name": "ipython",
    "version": 3
   },
   "file_extension": ".py",
   "mimetype": "text/x-python",
   "name": "python",
   "nbconvert_exporter": "python",
   "pygments_lexer": "ipython3",
   "version": "3.6.8"
  }
 },
 "nbformat": 4,
 "nbformat_minor": 4
}
